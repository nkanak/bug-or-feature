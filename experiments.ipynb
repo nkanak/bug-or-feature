{
 "cells": [
  {
   "cell_type": "code",
   "execution_count": 1,
   "metadata": {},
   "outputs": [],
   "source": [
    "import pandas as pd\n",
    "import seaborn as sns\n",
    "import matplotlib.pyplot as plt\n",
    "from gensim.parsing.preprocessing import remove_stopwords\n",
    "import contractions\n",
    "from sklearn.linear_model import LogisticRegression\n",
    "from sklearn.model_selection import train_test_split\n",
    "from sklearn.feature_extraction.text import TfidfVectorizer\n",
    "from sklearn.preprocessing import MaxAbsScaler\n",
    "import numpy as np\n",
    "import fasttext\n",
    "from sklearn.metrics import accuracy_score\n",
    "from sklearn.metrics import recall_score\n",
    "from sklearn.metrics import precision_score\n",
    "\n",
    "import torch.nn.functional as F\n",
    "import torch\n",
    "\n",
    "import networkx as nx\n",
    "from torch_geometric.nn import GCNConv\n",
    "from torch_geometric.utils.convert import from_networkx\n",
    "from torch_geometric.nn import norm\n",
    "from torch_geometric.data import Data, DataLoader\n",
    "from torch_geometric.nn import global_mean_pool\n",
    "\n",
    "from gensim.models import KeyedVectors\n",
    "from gensim.scripts.glove2word2vec import glove2word2vec\n",
    "\n",
    "from torch_geometric.nn import GraphConv\n",
    "from torch_geometric.nn import GATConv\n",
    "from torch_geometric.nn import GCNConv\n",
    "from torch_geometric.nn import SAGEConv\n",
    "\n",
    "from tqdm import tqdm\n",
    "\n",
    "import random\n",
    "\n",
    "sns.set_theme()\n",
    "\n",
    "# Set fixed random number seed\n",
    "#torch.manual_seed(42)\n",
    "\n",
    "%matplotlib inline"
   ]
  },
  {
   "cell_type": "code",
   "execution_count": 2,
   "metadata": {},
   "outputs": [],
   "source": [
    "def calculate_accuracy_precision_recall(true_labels, predicted_labels):\n",
    "    return (accuracy_score(true_labels, predicted_labels),\n",
    "           precision_score(true_labels, predicted_labels),\n",
    "           recall_score(true_labels, predicted_labels))\n",
    "\n",
    "def print_evaluation_results(results):\n",
    "    print('Avg accuracy | Avg precision | Avg recall')\n",
    "    avg_accuracy, avg_precision, avg_recall = np.mean(results, axis=0)\n",
    "    std_accuracy, std_precision, std_recall = np.std(results, axis=0)\n",
    "    print(f'{avg_accuracy:.4f}+-{std_accuracy:.4f}, {avg_precision:.4f}+-{std_precision:.4f}, {avg_recall:.4f}+-{std_recall:.4f}')\n",
    "\n",
    "def get_random_number():\n",
    "    return random.randint(0, 10000)\n",
    "\n",
    "global_random_number = get_random_number()\n",
    "global_random_numbers = [get_random_number() for _ in range(10)]"
   ]
  },
  {
   "cell_type": "markdown",
   "metadata": {},
   "source": [
    "## Load dataset"
   ]
  },
  {
   "cell_type": "code",
   "execution_count": 3,
   "metadata": {},
   "outputs": [
    {
     "data": {
      "text/plain": [
       "407799"
      ]
     },
     "execution_count": 3,
     "metadata": {},
     "output_type": "execute_result"
    }
   ],
   "source": [
    "df = pd.read_csv('samples.csv')\n",
    "# bug == 0 and feature == 1\n",
    "df = df[(df['label'] == 0) | (df['label'] == 1)]\n",
    "#df = df[:500]\n",
    "len(df)"
   ]
  },
  {
   "cell_type": "markdown",
   "metadata": {},
   "source": [
    "## Preprocess dataset"
   ]
  },
  {
   "cell_type": "code",
   "execution_count": 4,
   "metadata": {},
   "outputs": [],
   "source": [
    "contractions.add('__label__', 'REMOVED_TOKEN')"
   ]
  },
  {
   "cell_type": "code",
   "execution_count": 5,
   "metadata": {},
   "outputs": [],
   "source": [
    "# fix contractions\n",
    "df['title'] = df['title'].apply(contractions.fix)\n",
    "df['body'] = df['body'].apply(contractions.fix)"
   ]
  },
  {
   "cell_type": "code",
   "execution_count": 6,
   "metadata": {},
   "outputs": [],
   "source": [
    "# removal of stopwords\n",
    "df['title'] = df['title'].apply(remove_stopwords)\n",
    "df['body'] = df['body'].apply(remove_stopwords)"
   ]
  },
  {
   "cell_type": "markdown",
   "metadata": {},
   "source": [
    "## Generate statistics"
   ]
  },
  {
   "cell_type": "code",
   "execution_count": 7,
   "metadata": {},
   "outputs": [],
   "source": [
    "df['number_of_words_of_title'] = df['title'].str.split().str.len()\n",
    "df['number_of_words_of_body'] = df['body'].str.split().str.len()"
   ]
  },
  {
   "cell_type": "code",
   "execution_count": 8,
   "metadata": {},
   "outputs": [],
   "source": [
    "x = df['number_of_words_of_title']"
   ]
  },
  {
   "cell_type": "code",
   "execution_count": 9,
   "metadata": {},
   "outputs": [
    {
     "data": {
      "text/plain": [
       "count    407799.000000\n",
       "mean          4.966165\n",
       "std           2.007483\n",
       "min           0.000000\n",
       "25%           3.000000\n",
       "50%           5.000000\n",
       "75%           6.000000\n",
       "max          43.000000\n",
       "Name: number_of_words_of_title, dtype: float64"
      ]
     },
     "execution_count": 9,
     "metadata": {},
     "output_type": "execute_result"
    }
   ],
   "source": [
    "x.describe()"
   ]
  },
  {
   "cell_type": "code",
   "execution_count": 10,
   "metadata": {},
   "outputs": [
    {
     "data": {
      "text/plain": [
       "Text(0.5, 0, 'Number of words of title')"
      ]
     },
     "execution_count": 10,
     "metadata": {},
     "output_type": "execute_result"
    },
    {
     "data": {
      "image/png": "[encoded data removed]",
      "text/plain": [
       "<Figure size 432x288 with 1 Axes>"
      ]
     },
     "metadata": {
      "needs_background": "light"
     },
     "output_type": "display_data"
    }
   ],
   "source": [
    "fig = sns.histplot(data=df, x='number_of_words_of_title', kde=False, stat='count', binwidth=1)\n",
    "fig.set_xlabel('Number of words of title')\n",
    "#fig.get_figure().savefig('figures/price_kde_histogram.jpg', dpi=500)"
   ]
  },
  {
   "cell_type": "code",
   "execution_count": 11,
   "metadata": {},
   "outputs": [
    {
     "data": {
      "text/plain": [
       "Text(0.5, 0, 'Number of words of body')"
      ]
     },
     "execution_count": 11,
     "metadata": {},
     "output_type": "execute_result"
    },
    {
     "data": {
      "image/png": "[encoded data removed]",
      "text/plain": [
       "<Figure size 432x288 with 1 Axes>"
      ]
     },
     "metadata": {
      "needs_background": "light"
     },
     "output_type": "display_data"
    }
   ],
   "source": [
    "fig = sns.histplot(data=df, x='number_of_words_of_body', kde=False, stat='count', binwidth=15)\n",
    "fig.set_xlabel('Number of words of body')\n",
    "#fig.get_figure().savefig('figures/price_kde_histogram.jpg', dpi=500)"
   ]
  },
  {
   "cell_type": "code",
   "execution_count": 12,
   "metadata": {},
   "outputs": [
    {
     "data": {
      "text/plain": [
       "count    407799.000000\n",
       "mean          4.966165\n",
       "std           2.007483\n",
       "min           0.000000\n",
       "25%           3.000000\n",
       "50%           5.000000\n",
       "75%           6.000000\n",
       "max          43.000000\n",
       "Name: number_of_words_of_title, dtype: float64"
      ]
     },
     "execution_count": 12,
     "metadata": {},
     "output_type": "execute_result"
    }
   ],
   "source": [
    "df['number_of_words_of_title'].describe()"
   ]
  },
  {
   "cell_type": "code",
   "execution_count": 13,
   "metadata": {},
   "outputs": [
    {
     "data": {
      "text/plain": [
       "count    407799.000000\n",
       "mean         45.938685\n",
       "std          63.545595\n",
       "min           0.000000\n",
       "25%          12.000000\n",
       "50%          24.000000\n",
       "75%          52.000000\n",
       "max         977.000000\n",
       "Name: number_of_words_of_body, dtype: float64"
      ]
     },
     "execution_count": 13,
     "metadata": {},
     "output_type": "execute_result"
    }
   ],
   "source": [
    "df['number_of_words_of_body'].describe()"
   ]
  },
  {
   "cell_type": "code",
   "execution_count": 14,
   "metadata": {},
   "outputs": [
    {
     "data": {
      "text/plain": [
       "1    207318\n",
       "0    200481\n",
       "Name: label, dtype: int64"
      ]
     },
     "execution_count": 14,
     "metadata": {},
     "output_type": "execute_result"
    }
   ],
   "source": [
    "# bugs == 0\n",
    "# feature == 1\n",
    "df['label'].value_counts()"
   ]
  },
  {
   "cell_type": "code",
   "execution_count": 15,
   "metadata": {},
   "outputs": [
    {
     "name": "stdout",
     "output_type": "stream",
     "text": [
      "Train size 273225\n",
      "Test size 134574\n"
     ]
    }
   ],
   "source": [
    "x_train, x_test = train_test_split(df.body, test_size=0.33, random_state=42)\n",
    "print('Train size', len(x_train))\n",
    "print('Test size', len(x_test))"
   ]
  },
  {
   "cell_type": "code",
   "execution_count": 16,
   "metadata": {},
   "outputs": [
    {
     "data": {
      "image/png": "[encoded data removed]",
      "text/plain": [
       "<Figure size 432x288 with 1 Axes>"
      ]
     },
     "metadata": {
      "needs_background": "light"
     },
     "output_type": "display_data"
    }
   ],
   "source": [
    "fig = sns.histplot(data=df[df['number_of_words_of_title'] < 15], x='number_of_words_of_title', kde=False, stat='count', binwidth=1)\n",
    "fig.set_xlabel('number of words of title')\n",
    "fig.get_figure().savefig('figures/number_of_words_of_title_less_than_15.pdf', dpi=500)"
   ]
  },
  {
   "cell_type": "code",
   "execution_count": 17,
   "metadata": {},
   "outputs": [
    {
     "data": {
      "image/png": "[encoded data removed]",
      "text/plain": [
       "<Figure size 432x288 with 1 Axes>"
      ]
     },
     "metadata": {
      "needs_background": "light"
     },
     "output_type": "display_data"
    }
   ],
   "source": [
    "fig = sns.histplot(data=df[df['number_of_words_of_body'] < 70], x='number_of_words_of_body', kde=False, stat='count', binwidth=4)\n",
    "fig.set_xlabel('number of words of body')\n",
    "fig.get_figure().savefig('figures/number_of_words_of_body_less_than_70.pdf', dpi=500)"
   ]
  },
  {
   "cell_type": "code",
   "execution_count": 18,
   "metadata": {},
   "outputs": [
    {
     "data": {
      "image/png": "[encoded data removed]",
      "text/plain": [
       "<Figure size 864x288 with 2 Axes>"
      ]
     },
     "metadata": {
      "needs_background": "light"
     },
     "output_type": "display_data"
    }
   ],
   "source": [
    "# print altogether\n",
    "fig, ax = plt.subplots(1,2)\n",
    "fig.set_figwidth(12)\n",
    "ax[0].set_xlabel('number of words of title')\n",
    "ax[1].set_xlabel('number of words of body')\n",
    "sns.histplot(data=df[df['number_of_words_of_title'] < 15], x='number_of_words_of_title', kde=False, stat='count', binwidth=1, ax=ax[0])\n",
    "sns.histplot(data=df[df['number_of_words_of_body'] < 70], x='number_of_words_of_body', kde=False, stat='count', binwidth=4, ax=ax[1])\n",
    "fig.savefig('figures/title_words_less_than_15_body_words_less_than_70.pdf', dpi=500)"
   ]
  },
  {
   "cell_type": "markdown",
   "metadata": {},
   "source": [
    "## Load glove embeddings 100"
   ]
  },
  {
   "cell_type": "code",
   "execution_count": 19,
   "metadata": {},
   "outputs": [],
   "source": [
    "glove2word2vec('glove.6B/glove.6B.100d.txt', 'tmpfile_glove')\n",
    "glove_embeddings_model = KeyedVectors.load_word2vec_format('tmpfile_glove')"
   ]
  },
  {
   "cell_type": "code",
   "execution_count": 20,
   "metadata": {},
   "outputs": [],
   "source": [
    "def get_word_glove_embedding(word):\n",
    "    if word not in glove_embeddings_model:\n",
    "        return np.zeros(100, dtype='float32')\n",
    "    return glove_embeddings_model.get_vector(word)"
   ]
  },
  {
   "cell_type": "code",
   "execution_count": 21,
   "metadata": {},
   "outputs": [],
   "source": [
    "def get_sentence_glove_embedding(sentence):\n",
    "    word_embeddings = [glove_embeddings_model.get_vector(word) if word in glove_embeddings_model else np.zeros(100, dtype='float32') for word in sentence.split()]\n",
    "    if len(word_embeddings) == 0:\n",
    "        return np.zeros(100, dtype='float32')\n",
    "    return np.mean(word_embeddings, axis=0)"
   ]
  },
  {
   "cell_type": "markdown",
   "metadata": {},
   "source": [
    "## Train fasttext embeddings"
   ]
  },
  {
   "cell_type": "code",
   "execution_count": 22,
   "metadata": {},
   "outputs": [],
   "source": [
    "df['fasttext_input'] = '__label__' + df['label'].map(str) + ' ' + df['title'] + ' ' + df['body']\n",
    "train_input, test_input = train_test_split(df.fasttext_input.values, test_size=0.33, random_state=42)\n",
    "np.savetxt('train.txt', train_input, fmt='%s')\n",
    "np.savetxt('test.txt', test_input, fmt='%s')\n",
    "fasttext_model = fasttext.train_supervised('train.txt', dim=100, epoch=5)\n",
    "fasttext_model.test('test.txt')\n",
    "df.drop('fasttext_input', axis=1, inplace=True)\n",
    "embeddings_lookup = {word: fasttext_model.get_word_vector(word) for word in fasttext_model.get_words()}"
   ]
  },
  {
   "cell_type": "markdown",
   "metadata": {},
   "source": [
    "## Train baseline models"
   ]
  },
  {
   "cell_type": "markdown",
   "metadata": {},
   "source": [
    "## GloVe + logistic regression classification"
   ]
  },
  {
   "cell_type": "code",
   "execution_count": 23,
   "metadata": {},
   "outputs": [],
   "source": [
    "X_train, X_test, y_train, y_test = train_test_split(df.body, df.label, test_size=0.33, random_state=42)\n",
    "X_train = [get_sentence_glove_embedding(s) for s in X_train.values]\n",
    "X_test = [get_sentence_glove_embedding(s) for s in X_test.values]"
   ]
  },
  {
   "cell_type": "code",
   "execution_count": 24,
   "metadata": {},
   "outputs": [],
   "source": [
    "def run_logistic_regression_classifier(use_global_random_number=True):\n",
    "    if use_global_random_number:\n",
    "        random_state = global_random_number\n",
    "    else:\n",
    "        random_state = get_random_number()\n",
    "    logit_clf = LogisticRegression(random_state=random_state, solver='liblinear').fit(X_train, y_train)\n",
    "    predicted_labels = logit_clf.predict(X_test)\n",
    "    true_labels = y_test\n",
    "    \n",
    "    results = calculate_accuracy_precision_recall(true_labels, predicted_labels)\n",
    "    print(results)\n",
    "    return results"
   ]
  },
  {
   "cell_type": "code",
   "execution_count": 25,
   "metadata": {},
   "outputs": [
    {
     "name": "stdout",
     "output_type": "stream",
     "text": [
      "(0.722695320046963, 0.7408314087759815, 0.7013935453776858)\n"
     ]
    }
   ],
   "source": [
    "logit_evaluation_results = [run_logistic_regression_classifier()]"
   ]
  },
  {
   "cell_type": "markdown",
   "metadata": {},
   "source": [
    "## <font color='red'>GloVe + logistic regression results</font>"
   ]
  },
  {
   "cell_type": "code",
   "execution_count": 26,
   "metadata": {},
   "outputs": [
    {
     "name": "stdout",
     "output_type": "stream",
     "text": [
      "Avg accuracy | Avg precision | Avg recall\n",
      "0.7227+-0.0000, 0.7408+-0.0000, 0.7014+-0.0000\n"
     ]
    }
   ],
   "source": [
    "print_evaluation_results(logit_evaluation_results)"
   ]
  },
  {
   "cell_type": "markdown",
   "metadata": {},
   "source": [
    "## GloVe + knn"
   ]
  },
  {
   "cell_type": "code",
   "execution_count": 27,
   "metadata": {},
   "outputs": [],
   "source": [
    "from sklearn.neighbors import KNeighborsClassifier"
   ]
  },
  {
   "cell_type": "code",
   "execution_count": 28,
   "metadata": {},
   "outputs": [],
   "source": [
    "def run_knn_regression_classifier():\n",
    "    knn_clf = KNeighborsClassifier(n_neighbors=10).fit(X_train, y_train)\n",
    "    predicted_labels = knn_clf.predict(X_test)\n",
    "    true_labels = y_test\n",
    "    \n",
    "    results = calculate_accuracy_precision_recall(true_labels, predicted_labels)\n",
    "    print(results)\n",
    "    return results"
   ]
  },
  {
   "cell_type": "code",
   "execution_count": 29,
   "metadata": {
    "scrolled": true
   },
   "outputs": [
    {
     "name": "stdout",
     "output_type": "stream",
     "text": [
      "(0.6918052521289402, 0.7341481519843942, 0.6199090405527535)\n"
     ]
    }
   ],
   "source": [
    "knn_evaluation_results = [run_knn_regression_classifier()]"
   ]
  },
  {
   "cell_type": "markdown",
   "metadata": {},
   "source": [
    "## <font color='red'>GloVe + knn results</font>"
   ]
  },
  {
   "cell_type": "code",
   "execution_count": 30,
   "metadata": {
    "scrolled": true
   },
   "outputs": [
    {
     "name": "stdout",
     "output_type": "stream",
     "text": [
      "Avg accuracy | Avg precision | Avg recall\n",
      "0.6918+-0.0000, 0.7341+-0.0000, 0.6199+-0.0000\n"
     ]
    }
   ],
   "source": [
    "print_evaluation_results(knn_evaluation_results)"
   ]
  },
  {
   "cell_type": "markdown",
   "metadata": {},
   "source": [
    "## Fasttext classification"
   ]
  },
  {
   "cell_type": "code",
   "execution_count": 31,
   "metadata": {},
   "outputs": [],
   "source": [
    "def run_fasttext_classifier():\n",
    "    df['fasttext_input'] = '__label__' + df['label'].map(str) + ' ' + df['title'] + ' ' + df['body']\n",
    "    train_input, test_input = train_test_split(df.fasttext_input.values, test_size=0.33, random_state=42)\n",
    "    np.savetxt('train.txt', train_input, fmt='%s')\n",
    "    np.savetxt('test.txt', test_input, fmt='%s')\n",
    "    fasttext_model = fasttext.train_supervised('train.txt', dim=100, epoch=5)\n",
    "    fasttext_model.test('test.txt')\n",
    "    df.drop('fasttext_input', axis=1, inplace=True)\n",
    "    embeddings_lookup = {word: fasttext_model.get_word_vector(word) for word in fasttext_model.get_words()}\n",
    "\n",
    "    _, test_df = train_test_split(df, test_size=0.33, random_state=42)\n",
    "    predicted_labels = [int(res[0].split('__label__')[1]) for res in fasttext_model.predict(test_df['body'].values.tolist())[0]]\n",
    "    true_labels = test_df['label'].values\n",
    "    \n",
    "    results = calculate_accuracy_precision_recall(true_labels, predicted_labels)\n",
    "    print(results)\n",
    "    return results"
   ]
  },
  {
   "cell_type": "code",
   "execution_count": 32,
   "metadata": {},
   "outputs": [
    {
     "name": "stdout",
     "output_type": "stream",
     "text": [
      "(0.7970038789067725, 0.8099678649728204, 0.7862598758053702)\n",
      "(0.796795814941965, 0.8104102085653234, 0.7850354217078219)\n",
      "(0.7965208732741837, 0.8102952468420181, 0.7845106556660155)\n",
      "(0.7967735223743071, 0.8103642847469869, 0.7850499985423165)\n",
      "(0.7968849852125968, 0.8102670516059184, 0.7854873035771552)\n",
      "(0.7967215063831052, 0.8104564340338412, 0.7847730386869187)\n",
      "(0.7970113097626584, 0.8108014514356264, 0.7849771143698434)\n",
      "(0.796766091518421, 0.8106044634520977, 0.7846564240109618)\n",
      "(0.7966323361124734, 0.8107684423140695, 0.7840587737966823)\n",
      "(0.7963945487241221, 0.8131802979629067, 0.7797294539517798)\n"
     ]
    }
   ],
   "source": [
    "fasttext_evaluation_results = []\n",
    "for num in global_random_numbers:\n",
    "    fasttext_evaluation_results.append(run_fasttext_classifier())"
   ]
  },
  {
   "cell_type": "markdown",
   "metadata": {},
   "source": [
    "## <font color='red'>Fasttext results</font>"
   ]
  },
  {
   "cell_type": "code",
   "execution_count": 33,
   "metadata": {
    "scrolled": false
   },
   "outputs": [
    {
     "name": "stdout",
     "output_type": "stream",
     "text": [
      "Avg accuracy | Avg precision | Avg recall\n",
      "0.7968+-0.0002, 0.8107+-0.0009, 0.7845+-0.0017\n"
     ]
    }
   ],
   "source": [
    "print_evaluation_results(fasttext_evaluation_results)"
   ]
  },
  {
   "cell_type": "markdown",
   "metadata": {},
   "source": [
    "## MLP"
   ]
  },
  {
   "cell_type": "code",
   "execution_count": 34,
   "metadata": {},
   "outputs": [
    {
     "name": "stdout",
     "output_type": "stream",
     "text": [
      "cuda\n"
     ]
    }
   ],
   "source": [
    "device = torch.device('cuda' if torch.cuda.is_available() else 'cpu')\n",
    "print(device)\n",
    "\n",
    "x_train, x_test, y_train, y_test = train_test_split(df.body, df.label, test_size=0.33, random_state=42)\n",
    "x_train = [get_sentence_glove_embedding(s) for s in x_train.values]\n",
    "x_test = [get_sentence_glove_embedding(s) for s in x_test.values]\n",
    "\n",
    "x_train = torch.tensor(x_train).float()\n",
    "y_train = torch.tensor(y_train.values).float()\n",
    "\n",
    "x_test = torch.tensor(x_test).float()\n",
    "y_test = torch.tensor(y_test.values).float()\n",
    "\n",
    "x_train = x_train.to(device)\n",
    "y_train = y_train.to(device)\n",
    "x_test = x_test.to(device)\n",
    "y_test = y_test.to(device)\n",
    "\n",
    "BATCH_SIZE = 255\n",
    "\n",
    "# generate train dataset and train dataloader\n",
    "train_dataset = torch.utils.data.TensorDataset(x_train, y_train)\n",
    "train_dataloader = torch.utils.data.DataLoader(train_dataset, batch_size=BATCH_SIZE, shuffle=False)\n",
    "\n",
    "# generate test dataset\n",
    "test_dataset = torch.utils.data.TensorDataset(x_test, y_test)"
   ]
  },
  {
   "cell_type": "code",
   "execution_count": 35,
   "metadata": {},
   "outputs": [],
   "source": [
    "class MLP(torch.nn.Module):\n",
    "    def __init__(self) : \n",
    "        super(MLP, self).__init__()\n",
    "        self.linear1 = torch.nn.Linear(100 , 250)\n",
    "        self.linear2 = torch.nn.Linear(250, 1)\n",
    "        self.sigmoid = torch.nn.Sigmoid()\n",
    "\n",
    "    def forward(self, x):\n",
    "        out = self.linear1(x)\n",
    "        out = F.relu(out)\n",
    "        out = F.dropout(out, p=0.5, training=self.training)\n",
    "        out = self.linear2(out)\n",
    "        out = self.sigmoid(out)\n",
    "        return out"
   ]
  },
  {
   "cell_type": "code",
   "execution_count": 36,
   "metadata": {},
   "outputs": [],
   "source": [
    "def run_mlp_classifier():\n",
    "    # Initialize the MLP\n",
    "    mlp = MLP().to(device)\n",
    "\n",
    "    # Define the loss function and optimizer\n",
    "    loss_function = F.binary_cross_entropy\n",
    "    optimizer = torch.optim.Adam(mlp.parameters(), lr=1e-4)\n",
    "\n",
    "    mlp.train()\n",
    "    # Run the training loop\n",
    "    for epoch in range(0, 50):\n",
    "        # Iterate over the DataLoader for training data\n",
    "        for i, (inputs, targets) in enumerate(train_dataloader):\n",
    "            # Get inputs\n",
    "            targets = targets.squeeze()\n",
    "\n",
    "            # Perform forward pass\n",
    "            outputs = mlp(inputs)\n",
    "            outputs = outputs.squeeze()\n",
    "\n",
    "            # Compute loss\n",
    "            loss = loss_function(outputs, targets)\n",
    "\n",
    "\n",
    "            # Perform backward pass\n",
    "            loss.backward()\n",
    "            # Perform optimization\n",
    "            optimizer.step()\n",
    "            # Zero the gradients\n",
    "            optimizer.zero_grad()\n",
    "\n",
    "        print(f'Epoch: {epoch}, Epoch loss {loss.item()}')\n",
    "    # Process is complete.\n",
    "    print('Training process has finished.')\n",
    "    print('Final loss', loss.item())\n",
    "    \n",
    "    with torch.no_grad():\n",
    "        mlp.eval()\n",
    "        pred = mlp(test_dataset.tensors[0].to(device))\n",
    "        y_true = test_dataset.tensors[1].tolist()\n",
    "        y_pred = torch.round(torch.tensor(pred.tolist()).squeeze())\n",
    "        results = calculate_accuracy_precision_recall(y_true, y_pred)\n",
    "\n",
    "    print(results)\n",
    "    return results"
   ]
  },
  {
   "cell_type": "code",
   "execution_count": 37,
   "metadata": {},
   "outputs": [
    {
     "name": "stdout",
     "output_type": "stream",
     "text": [
      "Epoch: 0, Epoch loss 0.5425767302513123\n",
      "Epoch: 1, Epoch loss 0.5169662237167358\n",
      "Epoch: 2, Epoch loss 0.518658459186554\n",
      "Epoch: 3, Epoch loss 0.5014069676399231\n",
      "Epoch: 4, Epoch loss 0.5177818536758423\n",
      "Epoch: 5, Epoch loss 0.49739736318588257\n",
      "Epoch: 6, Epoch loss 0.49598562717437744\n",
      "Epoch: 7, Epoch loss 0.48850423097610474\n",
      "Epoch: 8, Epoch loss 0.4839492738246918\n",
      "Epoch: 9, Epoch loss 0.49732571840286255\n",
      "Epoch: 10, Epoch loss 0.47213849425315857\n",
      "Epoch: 11, Epoch loss 0.479128360748291\n",
      "Epoch: 12, Epoch loss 0.47558727860450745\n",
      "Epoch: 13, Epoch loss 0.46878767013549805\n",
      "Epoch: 14, Epoch loss 0.4721163809299469\n",
      "Epoch: 15, Epoch loss 0.47493794560432434\n",
      "Epoch: 16, Epoch loss 0.46507397294044495\n",
      "Epoch: 17, Epoch loss 0.47199124097824097\n",
      "Epoch: 18, Epoch loss 0.47822514176368713\n",
      "Epoch: 19, Epoch loss 0.47574159502983093\n",
      "Epoch: 20, Epoch loss 0.4753439128398895\n",
      "Epoch: 21, Epoch loss 0.4719352722167969\n",
      "Epoch: 22, Epoch loss 0.468707799911499\n",
      "Epoch: 23, Epoch loss 0.45837756991386414\n",
      "Epoch: 24, Epoch loss 0.46298182010650635\n",
      "Epoch: 25, Epoch loss 0.46310871839523315\n",
      "Epoch: 26, Epoch loss 0.4723634421825409\n",
      "Epoch: 27, Epoch loss 0.4706324636936188\n",
      "Epoch: 28, Epoch loss 0.442126601934433\n",
      "Epoch: 29, Epoch loss 0.4593181014060974\n",
      "Epoch: 30, Epoch loss 0.4535073935985565\n",
      "Epoch: 31, Epoch loss 0.44344618916511536\n",
      "Epoch: 32, Epoch loss 0.45285478234291077\n",
      "Epoch: 33, Epoch loss 0.4458056688308716\n",
      "Epoch: 34, Epoch loss 0.4461611807346344\n",
      "Epoch: 35, Epoch loss 0.4436149001121521\n",
      "Epoch: 36, Epoch loss 0.46048498153686523\n",
      "Epoch: 37, Epoch loss 0.458179235458374\n",
      "Epoch: 38, Epoch loss 0.4531070291996002\n",
      "Epoch: 39, Epoch loss 0.4341111183166504\n",
      "Epoch: 40, Epoch loss 0.43215107917785645\n",
      "Epoch: 41, Epoch loss 0.437397837638855\n",
      "Epoch: 42, Epoch loss 0.4188881814479828\n",
      "Epoch: 43, Epoch loss 0.4412195086479187\n",
      "Epoch: 44, Epoch loss 0.438715398311615\n",
      "Epoch: 45, Epoch loss 0.4324169456958771\n",
      "Epoch: 46, Epoch loss 0.4400736689567566\n",
      "Epoch: 47, Epoch loss 0.4345397353172302\n",
      "Epoch: 48, Epoch loss 0.4489757716655731\n",
      "Epoch: 49, Epoch loss 0.4395521581172943\n",
      "Training process has finished.\n",
      "Final loss 0.4395521581172943\n",
      "(0.7405590975968612, 0.7548106014764613, 0.7273257339436168)\n",
      "Epoch: 0, Epoch loss 0.5363162159919739\n",
      "Epoch: 1, Epoch loss 0.5274565815925598\n",
      "Epoch: 2, Epoch loss 0.5221071839332581\n",
      "Epoch: 3, Epoch loss 0.5001106262207031\n",
      "Epoch: 4, Epoch loss 0.5011385083198547\n",
      "Epoch: 5, Epoch loss 0.4892626106739044\n",
      "Epoch: 6, Epoch loss 0.4826158285140991\n",
      "Epoch: 7, Epoch loss 0.49397584795951843\n",
      "Epoch: 8, Epoch loss 0.48141902685165405\n",
      "Epoch: 9, Epoch loss 0.48617568612098694\n",
      "Epoch: 10, Epoch loss 0.4851827025413513\n",
      "Epoch: 11, Epoch loss 0.49459320306777954\n",
      "Epoch: 12, Epoch loss 0.48783260583877563\n",
      "Epoch: 13, Epoch loss 0.4724002182483673\n",
      "Epoch: 14, Epoch loss 0.46299344301223755\n",
      "Epoch: 15, Epoch loss 0.46894147992134094\n",
      "Epoch: 16, Epoch loss 0.4695116877555847\n",
      "Epoch: 17, Epoch loss 0.469234436750412\n",
      "Epoch: 18, Epoch loss 0.47015878558158875\n",
      "Epoch: 19, Epoch loss 0.4822414219379425\n",
      "Epoch: 20, Epoch loss 0.46120715141296387\n",
      "Epoch: 21, Epoch loss 0.47533732652664185\n",
      "Epoch: 22, Epoch loss 0.4672974646091461\n",
      "Epoch: 23, Epoch loss 0.4628130793571472\n",
      "Epoch: 24, Epoch loss 0.46266859769821167\n",
      "Epoch: 25, Epoch loss 0.4697178304195404\n",
      "Epoch: 26, Epoch loss 0.45674142241477966\n",
      "Epoch: 27, Epoch loss 0.4586867392063141\n",
      "Epoch: 28, Epoch loss 0.4529699683189392\n",
      "Epoch: 29, Epoch loss 0.44147738814353943\n",
      "Epoch: 30, Epoch loss 0.4639347493648529\n",
      "Epoch: 31, Epoch loss 0.4553592801094055\n",
      "Epoch: 32, Epoch loss 0.44740843772888184\n",
      "Epoch: 33, Epoch loss 0.45790961384773254\n",
      "Epoch: 34, Epoch loss 0.44512224197387695\n",
      "Epoch: 35, Epoch loss 0.45789942145347595\n",
      "Epoch: 36, Epoch loss 0.4444657862186432\n",
      "Epoch: 37, Epoch loss 0.4500839412212372\n",
      "Epoch: 38, Epoch loss 0.44763368368148804\n",
      "Epoch: 39, Epoch loss 0.4481019079685211\n",
      "Epoch: 40, Epoch loss 0.4375731348991394\n",
      "Epoch: 41, Epoch loss 0.4370833933353424\n",
      "Epoch: 42, Epoch loss 0.4474099576473236\n",
      "Epoch: 43, Epoch loss 0.4483889043331146\n",
      "Epoch: 44, Epoch loss 0.4563039243221283\n",
      "Epoch: 45, Epoch loss 0.44608569145202637\n",
      "Epoch: 46, Epoch loss 0.4562288522720337\n",
      "Epoch: 47, Epoch loss 0.4387388825416565\n",
      "Epoch: 48, Epoch loss 0.44694948196411133\n",
      "Epoch: 49, Epoch loss 0.4329967498779297\n",
      "Training process has finished.\n",
      "Final loss 0.4329967498779297\n",
      "(0.7401206770995883, 0.7535320637505466, 0.7284773038686919)\n",
      "Epoch: 0, Epoch loss 0.5525603294372559\n",
      "Epoch: 1, Epoch loss 0.5328068137168884\n",
      "Epoch: 2, Epoch loss 0.5208834409713745\n",
      "Epoch: 3, Epoch loss 0.5016185641288757\n",
      "Epoch: 4, Epoch loss 0.5015590786933899\n",
      "Epoch: 5, Epoch loss 0.4920405447483063\n",
      "Epoch: 6, Epoch loss 0.4809454083442688\n",
      "Epoch: 7, Epoch loss 0.47611525654792786\n",
      "Epoch: 8, Epoch loss 0.4812617897987366\n",
      "Epoch: 9, Epoch loss 0.48158419132232666\n",
      "Epoch: 10, Epoch loss 0.4724308252334595\n",
      "Epoch: 11, Epoch loss 0.4721657633781433\n",
      "Epoch: 12, Epoch loss 0.47923141717910767\n",
      "Epoch: 13, Epoch loss 0.47604402899742126\n",
      "Epoch: 14, Epoch loss 0.47011205554008484\n",
      "Epoch: 15, Epoch loss 0.4829571843147278\n",
      "Epoch: 16, Epoch loss 0.46928340196609497\n",
      "Epoch: 17, Epoch loss 0.4777580499649048\n",
      "Epoch: 18, Epoch loss 0.4678521752357483\n",
      "Epoch: 19, Epoch loss 0.48126518726348877\n",
      "Epoch: 20, Epoch loss 0.4631611108779907\n",
      "Epoch: 21, Epoch loss 0.4763885736465454\n",
      "Epoch: 22, Epoch loss 0.4661511778831482\n",
      "Epoch: 23, Epoch loss 0.46217799186706543\n",
      "Epoch: 24, Epoch loss 0.45509156584739685\n",
      "Epoch: 25, Epoch loss 0.4613970220088959\n",
      "Epoch: 26, Epoch loss 0.4323331415653229\n",
      "Epoch: 27, Epoch loss 0.4419113099575043\n",
      "Epoch: 28, Epoch loss 0.46240630745887756\n",
      "Epoch: 29, Epoch loss 0.44411501288414\n",
      "Epoch: 30, Epoch loss 0.4513607323169708\n",
      "Epoch: 31, Epoch loss 0.4523697793483734\n",
      "Epoch: 32, Epoch loss 0.4374197721481323\n",
      "Epoch: 33, Epoch loss 0.4502216875553131\n",
      "Epoch: 34, Epoch loss 0.45495009422302246\n",
      "Epoch: 35, Epoch loss 0.43870291113853455\n",
      "Epoch: 36, Epoch loss 0.44533365964889526\n",
      "Epoch: 37, Epoch loss 0.44183027744293213\n",
      "Epoch: 38, Epoch loss 0.4483487010002136\n",
      "Epoch: 39, Epoch loss 0.44574683904647827\n",
      "Epoch: 40, Epoch loss 0.4337771236896515\n",
      "Epoch: 41, Epoch loss 0.43015843629837036\n",
      "Epoch: 42, Epoch loss 0.436909943819046\n",
      "Epoch: 43, Epoch loss 0.45902425050735474\n",
      "Epoch: 44, Epoch loss 0.4401651620864868\n",
      "Epoch: 45, Epoch loss 0.43539270758628845\n",
      "Epoch: 46, Epoch loss 0.43792346119880676\n",
      "Epoch: 47, Epoch loss 0.42849200963974\n",
      "Epoch: 48, Epoch loss 0.456055611371994\n",
      "Epoch: 49, Epoch loss 0.4563780128955841\n",
      "Training process has finished.\n",
      "Final loss 0.4563780128955841\n",
      "(0.7401132462437023, 0.7542567669741418, 0.7270779277572083)\n",
      "Epoch: 0, Epoch loss 0.5472626090049744\n",
      "Epoch: 1, Epoch loss 0.5280207991600037\n",
      "Epoch: 2, Epoch loss 0.5113219618797302\n",
      "Epoch: 3, Epoch loss 0.5059410929679871\n",
      "Epoch: 4, Epoch loss 0.5011348724365234\n",
      "Epoch: 5, Epoch loss 0.49444684386253357\n",
      "Epoch: 6, Epoch loss 0.48683393001556396\n",
      "Epoch: 7, Epoch loss 0.487871915102005\n",
      "Epoch: 8, Epoch loss 0.4776284396648407\n",
      "Epoch: 9, Epoch loss 0.48825520277023315\n",
      "Epoch: 10, Epoch loss 0.4787125289440155\n",
      "Epoch: 11, Epoch loss 0.4652148187160492\n",
      "Epoch: 12, Epoch loss 0.46977517008781433\n",
      "Epoch: 13, Epoch loss 0.46823808550834656\n",
      "Epoch: 14, Epoch loss 0.4676823616027832\n",
      "Epoch: 15, Epoch loss 0.46601930260658264\n",
      "Epoch: 16, Epoch loss 0.46347200870513916\n",
      "Epoch: 17, Epoch loss 0.44218695163726807\n",
      "Epoch: 18, Epoch loss 0.4581088125705719\n",
      "Epoch: 19, Epoch loss 0.4716654121875763\n",
      "Epoch: 20, Epoch loss 0.460886150598526\n",
      "Epoch: 21, Epoch loss 0.4734455347061157\n",
      "Epoch: 22, Epoch loss 0.4587230086326599\n",
      "Epoch: 23, Epoch loss 0.45119649171829224\n",
      "Epoch: 24, Epoch loss 0.4691697657108307\n",
      "Epoch: 25, Epoch loss 0.457231342792511\n",
      "Epoch: 26, Epoch loss 0.4705014228820801\n",
      "Epoch: 27, Epoch loss 0.45420101284980774\n",
      "Epoch: 28, Epoch loss 0.45766469836235046\n",
      "Epoch: 29, Epoch loss 0.4566536843776703\n",
      "Epoch: 30, Epoch loss 0.45942237973213196\n",
      "Epoch: 31, Epoch loss 0.4348395764827728\n",
      "Epoch: 32, Epoch loss 0.4429665505886078\n",
      "Epoch: 33, Epoch loss 0.4382803440093994\n",
      "Epoch: 34, Epoch loss 0.4455430209636688\n",
      "Epoch: 35, Epoch loss 0.4277377426624298\n",
      "Epoch: 36, Epoch loss 0.4380027651786804\n",
      "Epoch: 37, Epoch loss 0.4356045722961426\n",
      "Epoch: 38, Epoch loss 0.4556340277194977\n",
      "Epoch: 39, Epoch loss 0.445970356464386\n",
      "Epoch: 40, Epoch loss 0.45214134454727173\n"
     ]
    },
    {
     "name": "stdout",
     "output_type": "stream",
     "text": [
      "Epoch: 41, Epoch loss 0.4371396601200104\n",
      "Epoch: 42, Epoch loss 0.44147786498069763\n",
      "Epoch: 43, Epoch loss 0.4493248760700226\n",
      "Epoch: 44, Epoch loss 0.42611163854599\n",
      "Epoch: 45, Epoch loss 0.4553895592689514\n",
      "Epoch: 46, Epoch loss 0.43687373399734497\n",
      "Epoch: 47, Epoch loss 0.45558905601501465\n",
      "Epoch: 48, Epoch loss 0.43300411105155945\n",
      "Epoch: 49, Epoch loss 0.4346105456352234\n",
      "Training process has finished.\n",
      "Final loss 0.4346105456352234\n",
      "(0.7400909536760444, 0.7535554315532297, 0.7283461123582403)\n",
      "Epoch: 0, Epoch loss 0.5399306416511536\n",
      "Epoch: 1, Epoch loss 0.5156222581863403\n",
      "Epoch: 2, Epoch loss 0.5187715291976929\n",
      "Epoch: 3, Epoch loss 0.5158010721206665\n",
      "Epoch: 4, Epoch loss 0.5025883316993713\n",
      "Epoch: 5, Epoch loss 0.503743052482605\n",
      "Epoch: 6, Epoch loss 0.4855218231678009\n",
      "Epoch: 7, Epoch loss 0.4885229170322418\n",
      "Epoch: 8, Epoch loss 0.48486465215682983\n",
      "Epoch: 9, Epoch loss 0.483433336019516\n",
      "Epoch: 10, Epoch loss 0.48306092619895935\n",
      "Epoch: 11, Epoch loss 0.46998682618141174\n",
      "Epoch: 12, Epoch loss 0.4664888083934784\n",
      "Epoch: 13, Epoch loss 0.47291478514671326\n",
      "Epoch: 14, Epoch loss 0.4712150990962982\n",
      "Epoch: 15, Epoch loss 0.4753842353820801\n",
      "Epoch: 16, Epoch loss 0.4590857923030853\n",
      "Epoch: 17, Epoch loss 0.44709399342536926\n",
      "Epoch: 18, Epoch loss 0.4585992395877838\n",
      "Epoch: 19, Epoch loss 0.4655997157096863\n",
      "Epoch: 20, Epoch loss 0.45776236057281494\n",
      "Epoch: 21, Epoch loss 0.45859232544898987\n",
      "Epoch: 22, Epoch loss 0.4599285423755646\n",
      "Epoch: 23, Epoch loss 0.4567457437515259\n",
      "Epoch: 24, Epoch loss 0.4370498061180115\n",
      "Epoch: 25, Epoch loss 0.4841291308403015\n",
      "Epoch: 26, Epoch loss 0.46265655755996704\n",
      "Epoch: 27, Epoch loss 0.4546612799167633\n",
      "Epoch: 28, Epoch loss 0.4546005129814148\n",
      "Epoch: 29, Epoch loss 0.4527236521244049\n",
      "Epoch: 30, Epoch loss 0.45731768012046814\n",
      "Epoch: 31, Epoch loss 0.44910648465156555\n",
      "Epoch: 32, Epoch loss 0.4419557750225067\n",
      "Epoch: 33, Epoch loss 0.4514243006706238\n",
      "Epoch: 34, Epoch loss 0.4429393708705902\n",
      "Epoch: 35, Epoch loss 0.45503878593444824\n",
      "Epoch: 36, Epoch loss 0.451602578163147\n",
      "Epoch: 37, Epoch loss 0.4695344567298889\n",
      "Epoch: 38, Epoch loss 0.42603951692581177\n",
      "Epoch: 39, Epoch loss 0.43935227394104004\n",
      "Epoch: 40, Epoch loss 0.4707986116409302\n",
      "Epoch: 41, Epoch loss 0.44800910353660583\n",
      "Epoch: 42, Epoch loss 0.4664216637611389\n",
      "Epoch: 43, Epoch loss 0.4491645097732544\n",
      "Epoch: 44, Epoch loss 0.4449926018714905\n",
      "Epoch: 45, Epoch loss 0.4432523846626282\n",
      "Epoch: 46, Epoch loss 0.4337470829486847\n",
      "Epoch: 47, Epoch loss 0.42693236470222473\n",
      "Epoch: 48, Epoch loss 0.4451840817928314\n",
      "Epoch: 49, Epoch loss 0.42968636751174927\n",
      "Training process has finished.\n",
      "Final loss 0.42968636751174927\n",
      "(0.7401652622349042, 0.754221274923284, 0.7272965802746275)\n",
      "Epoch: 0, Epoch loss 0.5452311038970947\n",
      "Epoch: 1, Epoch loss 0.5178265571594238\n",
      "Epoch: 2, Epoch loss 0.5073535442352295\n",
      "Epoch: 3, Epoch loss 0.5026318430900574\n",
      "Epoch: 4, Epoch loss 0.5046563744544983\n",
      "Epoch: 5, Epoch loss 0.4933885931968689\n",
      "Epoch: 6, Epoch loss 0.496039479970932\n",
      "Epoch: 7, Epoch loss 0.49483567476272583\n",
      "Epoch: 8, Epoch loss 0.4784180223941803\n",
      "Epoch: 9, Epoch loss 0.4741148054599762\n",
      "Epoch: 10, Epoch loss 0.48538750410079956\n",
      "Epoch: 11, Epoch loss 0.47523367404937744\n",
      "Epoch: 12, Epoch loss 0.4689785838127136\n",
      "Epoch: 13, Epoch loss 0.4609404504299164\n",
      "Epoch: 14, Epoch loss 0.47232338786125183\n",
      "Epoch: 15, Epoch loss 0.46106570959091187\n",
      "Epoch: 16, Epoch loss 0.46804308891296387\n",
      "Epoch: 17, Epoch loss 0.4579986035823822\n",
      "Epoch: 18, Epoch loss 0.4656345844268799\n",
      "Epoch: 19, Epoch loss 0.4708806872367859\n",
      "Epoch: 20, Epoch loss 0.449424684047699\n",
      "Epoch: 21, Epoch loss 0.46500495076179504\n",
      "Epoch: 22, Epoch loss 0.4569636881351471\n",
      "Epoch: 23, Epoch loss 0.4805435538291931\n",
      "Epoch: 24, Epoch loss 0.4743252396583557\n",
      "Epoch: 25, Epoch loss 0.441412091255188\n",
      "Epoch: 26, Epoch loss 0.45398059487342834\n",
      "Epoch: 27, Epoch loss 0.4473338723182678\n",
      "Epoch: 28, Epoch loss 0.46350088715553284\n",
      "Epoch: 29, Epoch loss 0.4675852954387665\n",
      "Epoch: 30, Epoch loss 0.46214714646339417\n",
      "Epoch: 31, Epoch loss 0.46387410163879395\n",
      "Epoch: 32, Epoch loss 0.46296077966690063\n",
      "Epoch: 33, Epoch loss 0.4534434676170349\n",
      "Epoch: 34, Epoch loss 0.45955514907836914\n",
      "Epoch: 35, Epoch loss 0.4511668086051941\n",
      "Epoch: 36, Epoch loss 0.44266432523727417\n",
      "Epoch: 37, Epoch loss 0.4510676860809326\n",
      "Epoch: 38, Epoch loss 0.4576015770435333\n",
      "Epoch: 39, Epoch loss 0.44162416458129883\n",
      "Epoch: 40, Epoch loss 0.4494546353816986\n",
      "Epoch: 41, Epoch loss 0.44158288836479187\n",
      "Epoch: 42, Epoch loss 0.4548068046569824\n",
      "Epoch: 43, Epoch loss 0.4465600550174713\n",
      "Epoch: 44, Epoch loss 0.43822425603866577\n",
      "Epoch: 45, Epoch loss 0.44345226883888245\n",
      "Epoch: 46, Epoch loss 0.4232542812824249\n",
      "Epoch: 47, Epoch loss 0.446280300617218\n",
      "Epoch: 48, Epoch loss 0.4472915530204773\n",
      "Epoch: 49, Epoch loss 0.41694483160972595\n",
      "Training process has finished.\n",
      "Final loss 0.41694483160972595\n",
      "(0.7404104804791416, 0.7555174402720014, 0.7255619369697677)\n",
      "Epoch: 0, Epoch loss 0.5498861074447632\n",
      "Epoch: 1, Epoch loss 0.5093519687652588\n",
      "Epoch: 2, Epoch loss 0.5013394951820374\n",
      "Epoch: 3, Epoch loss 0.5043163895606995\n",
      "Epoch: 4, Epoch loss 0.4903738498687744\n",
      "Epoch: 5, Epoch loss 0.49606722593307495\n",
      "Epoch: 6, Epoch loss 0.4951004683971405\n",
      "Epoch: 7, Epoch loss 0.4920417368412018\n",
      "Epoch: 8, Epoch loss 0.4811440110206604\n",
      "Epoch: 9, Epoch loss 0.48015928268432617\n",
      "Epoch: 10, Epoch loss 0.47378313541412354\n",
      "Epoch: 11, Epoch loss 0.4750498831272125\n",
      "Epoch: 12, Epoch loss 0.4855218827724457\n",
      "Epoch: 13, Epoch loss 0.46489641070365906\n",
      "Epoch: 14, Epoch loss 0.4800384044647217\n",
      "Epoch: 15, Epoch loss 0.4556742012500763\n",
      "Epoch: 16, Epoch loss 0.4699016511440277\n",
      "Epoch: 17, Epoch loss 0.4722345769405365\n",
      "Epoch: 18, Epoch loss 0.4624190926551819\n",
      "Epoch: 19, Epoch loss 0.46993160247802734\n",
      "Epoch: 20, Epoch loss 0.4674331843852997\n",
      "Epoch: 21, Epoch loss 0.4647526443004608\n",
      "Epoch: 22, Epoch loss 0.47905492782592773\n",
      "Epoch: 23, Epoch loss 0.4735107719898224\n",
      "Epoch: 24, Epoch loss 0.4420493543148041\n",
      "Epoch: 25, Epoch loss 0.47776728868484497\n",
      "Epoch: 26, Epoch loss 0.45822685956954956\n",
      "Epoch: 27, Epoch loss 0.44658440351486206\n",
      "Epoch: 28, Epoch loss 0.4571036398410797\n",
      "Epoch: 29, Epoch loss 0.46118664741516113\n",
      "Epoch: 30, Epoch loss 0.46262603998184204\n",
      "Epoch: 31, Epoch loss 0.45030906796455383\n",
      "Epoch: 32, Epoch loss 0.453082412481308\n",
      "Epoch: 33, Epoch loss 0.46062830090522766\n",
      "Epoch: 34, Epoch loss 0.44777804613113403\n",
      "Epoch: 35, Epoch loss 0.4516230821609497\n",
      "Epoch: 36, Epoch loss 0.4493117928504944\n",
      "Epoch: 37, Epoch loss 0.44724467396736145\n",
      "Epoch: 38, Epoch loss 0.44367703795433044\n",
      "Epoch: 39, Epoch loss 0.4452913701534271\n",
      "Epoch: 40, Epoch loss 0.462113618850708\n",
      "Epoch: 41, Epoch loss 0.44062668085098267\n",
      "Epoch: 42, Epoch loss 0.4478795528411865\n",
      "Epoch: 43, Epoch loss 0.46331894397735596\n",
      "Epoch: 44, Epoch loss 0.4504367411136627\n",
      "Epoch: 45, Epoch loss 0.4179355204105377\n",
      "Epoch: 46, Epoch loss 0.4355495274066925\n",
      "Epoch: 47, Epoch loss 0.44290921092033386\n",
      "Epoch: 48, Epoch loss 0.46558019518852234\n",
      "Epoch: 49, Epoch loss 0.43362027406692505\n",
      "Training process has finished.\n",
      "Final loss 0.43362027406692505\n",
      "(0.7398085811523771, 0.755278558942008, 0.7242645986997464)\n",
      "Epoch: 0, Epoch loss 0.5406428575515747\n",
      "Epoch: 1, Epoch loss 0.5196899771690369\n",
      "Epoch: 2, Epoch loss 0.5191938281059265\n",
      "Epoch: 3, Epoch loss 0.5164039134979248\n",
      "Epoch: 4, Epoch loss 0.5135880708694458\n",
      "Epoch: 5, Epoch loss 0.48928672075271606\n",
      "Epoch: 6, Epoch loss 0.500299870967865\n",
      "Epoch: 7, Epoch loss 0.485725998878479\n",
      "Epoch: 8, Epoch loss 0.49570024013519287\n",
      "Epoch: 9, Epoch loss 0.4846859872341156\n",
      "Epoch: 10, Epoch loss 0.49164918065071106\n",
      "Epoch: 11, Epoch loss 0.480026513338089\n",
      "Epoch: 12, Epoch loss 0.4847935438156128\n",
      "Epoch: 13, Epoch loss 0.48212218284606934\n",
      "Epoch: 14, Epoch loss 0.49044540524482727\n",
      "Epoch: 15, Epoch loss 0.4776214361190796\n",
      "Epoch: 16, Epoch loss 0.4666628837585449\n",
      "Epoch: 17, Epoch loss 0.4747336804866791\n",
      "Epoch: 18, Epoch loss 0.45768973231315613\n",
      "Epoch: 19, Epoch loss 0.4673629105091095\n",
      "Epoch: 20, Epoch loss 0.4713401198387146\n",
      "Epoch: 21, Epoch loss 0.46856608986854553\n",
      "Epoch: 22, Epoch loss 0.464237242937088\n",
      "Epoch: 23, Epoch loss 0.46622729301452637\n",
      "Epoch: 24, Epoch loss 0.4656420052051544\n",
      "Epoch: 25, Epoch loss 0.4663671553134918\n",
      "Epoch: 26, Epoch loss 0.4578469395637512\n",
      "Epoch: 27, Epoch loss 0.48463478684425354\n",
      "Epoch: 28, Epoch loss 0.45253828167915344\n"
     ]
    },
    {
     "name": "stdout",
     "output_type": "stream",
     "text": [
      "Epoch: 29, Epoch loss 0.4703826606273651\n",
      "Epoch: 30, Epoch loss 0.449556827545166\n",
      "Epoch: 31, Epoch loss 0.4553355872631073\n",
      "Epoch: 32, Epoch loss 0.46769723296165466\n",
      "Epoch: 33, Epoch loss 0.44187095761299133\n",
      "Epoch: 34, Epoch loss 0.45052918791770935\n",
      "Epoch: 35, Epoch loss 0.4474179148674011\n",
      "Epoch: 36, Epoch loss 0.45516371726989746\n",
      "Epoch: 37, Epoch loss 0.4464223086833954\n",
      "Epoch: 38, Epoch loss 0.4592067301273346\n",
      "Epoch: 39, Epoch loss 0.44575953483581543\n",
      "Epoch: 40, Epoch loss 0.44845032691955566\n",
      "Epoch: 41, Epoch loss 0.45768865942955017\n",
      "Epoch: 42, Epoch loss 0.46398302912712097\n",
      "Epoch: 43, Epoch loss 0.43874767422676086\n",
      "Epoch: 44, Epoch loss 0.42483699321746826\n",
      "Epoch: 45, Epoch loss 0.4493561089038849\n",
      "Epoch: 46, Epoch loss 0.4376632273197174\n",
      "Epoch: 47, Epoch loss 0.44376763701438904\n",
      "Epoch: 48, Epoch loss 0.4349769353866577\n",
      "Epoch: 49, Epoch loss 0.4476027488708496\n",
      "Training process has finished.\n",
      "Final loss 0.4476027488708496\n",
      "(0.7397565651611753, 0.7543939393939394, 0.7257805894871869)\n",
      "Epoch: 0, Epoch loss 0.5493491888046265\n",
      "Epoch: 1, Epoch loss 0.5200875997543335\n",
      "Epoch: 2, Epoch loss 0.5173420310020447\n",
      "Epoch: 3, Epoch loss 0.49956846237182617\n",
      "Epoch: 4, Epoch loss 0.5066756010055542\n",
      "Epoch: 5, Epoch loss 0.49864721298217773\n",
      "Epoch: 6, Epoch loss 0.5002236366271973\n",
      "Epoch: 7, Epoch loss 0.49252086877822876\n",
      "Epoch: 8, Epoch loss 0.488351970911026\n",
      "Epoch: 9, Epoch loss 0.4774134159088135\n",
      "Epoch: 10, Epoch loss 0.48575231432914734\n",
      "Epoch: 11, Epoch loss 0.48374229669570923\n",
      "Epoch: 12, Epoch loss 0.4785269498825073\n",
      "Epoch: 13, Epoch loss 0.4816417396068573\n",
      "Epoch: 14, Epoch loss 0.48325443267822266\n",
      "Epoch: 15, Epoch loss 0.46734851598739624\n",
      "Epoch: 16, Epoch loss 0.47922900319099426\n",
      "Epoch: 17, Epoch loss 0.4788728952407837\n",
      "Epoch: 18, Epoch loss 0.46079105138778687\n",
      "Epoch: 19, Epoch loss 0.4661937654018402\n",
      "Epoch: 20, Epoch loss 0.4619896113872528\n",
      "Epoch: 21, Epoch loss 0.46747279167175293\n",
      "Epoch: 22, Epoch loss 0.45275619626045227\n",
      "Epoch: 23, Epoch loss 0.4796968698501587\n",
      "Epoch: 24, Epoch loss 0.4490276873111725\n",
      "Epoch: 25, Epoch loss 0.4517466723918915\n",
      "Epoch: 26, Epoch loss 0.4665668308734894\n",
      "Epoch: 27, Epoch loss 0.4609408676624298\n",
      "Epoch: 28, Epoch loss 0.474161297082901\n",
      "Epoch: 29, Epoch loss 0.4592949450016022\n",
      "Epoch: 30, Epoch loss 0.4491368234157562\n",
      "Epoch: 31, Epoch loss 0.4425998330116272\n",
      "Epoch: 32, Epoch loss 0.45341169834136963\n",
      "Epoch: 33, Epoch loss 0.459440141916275\n",
      "Epoch: 34, Epoch loss 0.460784375667572\n",
      "Epoch: 35, Epoch loss 0.4410359263420105\n",
      "Epoch: 36, Epoch loss 0.44096484780311584\n",
      "Epoch: 37, Epoch loss 0.4396379292011261\n",
      "Epoch: 38, Epoch loss 0.43434756994247437\n",
      "Epoch: 39, Epoch loss 0.44117632508277893\n",
      "Epoch: 40, Epoch loss 0.4516034424304962\n",
      "Epoch: 41, Epoch loss 0.4647245705127716\n",
      "Epoch: 42, Epoch loss 0.44631192088127136\n",
      "Epoch: 43, Epoch loss 0.4511753022670746\n",
      "Epoch: 44, Epoch loss 0.4331420063972473\n",
      "Epoch: 45, Epoch loss 0.4445231258869171\n",
      "Epoch: 46, Epoch loss 0.44851478934288025\n",
      "Epoch: 47, Epoch loss 0.4221923351287842\n",
      "Epoch: 48, Epoch loss 0.440470814704895\n",
      "Epoch: 49, Epoch loss 0.4448823928833008\n",
      "Training process has finished.\n",
      "Final loss 0.4448823928833008\n",
      "(0.7401801239466762, 0.7539293101626078, 0.727894230488907)\n",
      "Epoch: 0, Epoch loss 0.5507910847663879\n",
      "Epoch: 1, Epoch loss 0.5263737440109253\n",
      "Epoch: 2, Epoch loss 0.5117066502571106\n",
      "Epoch: 3, Epoch loss 0.5158082246780396\n",
      "Epoch: 4, Epoch loss 0.5024093985557556\n",
      "Epoch: 5, Epoch loss 0.5032495856285095\n",
      "Epoch: 6, Epoch loss 0.49298232793807983\n",
      "Epoch: 7, Epoch loss 0.4926787316799164\n",
      "Epoch: 8, Epoch loss 0.4751392602920532\n",
      "Epoch: 9, Epoch loss 0.48339197039604187\n",
      "Epoch: 10, Epoch loss 0.4725850522518158\n",
      "Epoch: 11, Epoch loss 0.47838667035102844\n",
      "Epoch: 12, Epoch loss 0.4679822027683258\n",
      "Epoch: 13, Epoch loss 0.4798174202442169\n",
      "Epoch: 14, Epoch loss 0.4761538505554199\n",
      "Epoch: 15, Epoch loss 0.4531882405281067\n",
      "Epoch: 16, Epoch loss 0.47322601079940796\n",
      "Epoch: 17, Epoch loss 0.4712424874305725\n",
      "Epoch: 18, Epoch loss 0.46931663155555725\n",
      "Epoch: 19, Epoch loss 0.48552170395851135\n",
      "Epoch: 20, Epoch loss 0.4614999294281006\n",
      "Epoch: 21, Epoch loss 0.4744425415992737\n",
      "Epoch: 22, Epoch loss 0.48183751106262207\n",
      "Epoch: 23, Epoch loss 0.4508892893791199\n",
      "Epoch: 24, Epoch loss 0.44393470883369446\n",
      "Epoch: 25, Epoch loss 0.460416704416275\n",
      "Epoch: 26, Epoch loss 0.4528109133243561\n",
      "Epoch: 27, Epoch loss 0.45997220277786255\n",
      "Epoch: 28, Epoch loss 0.4467643201351166\n",
      "Epoch: 29, Epoch loss 0.45137184858322144\n",
      "Epoch: 30, Epoch loss 0.45535406470298767\n",
      "Epoch: 31, Epoch loss 0.4579840302467346\n",
      "Epoch: 32, Epoch loss 0.4585431218147278\n",
      "Epoch: 33, Epoch loss 0.45195239782333374\n",
      "Epoch: 34, Epoch loss 0.4444330334663391\n",
      "Epoch: 35, Epoch loss 0.4394834041595459\n",
      "Epoch: 36, Epoch loss 0.47822335362434387\n",
      "Epoch: 37, Epoch loss 0.4635874629020691\n",
      "Epoch: 38, Epoch loss 0.4512333571910858\n",
      "Epoch: 39, Epoch loss 0.43684643507003784\n",
      "Epoch: 40, Epoch loss 0.4458232820034027\n",
      "Epoch: 41, Epoch loss 0.4552224576473236\n",
      "Epoch: 42, Epoch loss 0.43018919229507446\n",
      "Epoch: 43, Epoch loss 0.43348535895347595\n",
      "Epoch: 44, Epoch loss 0.43570470809936523\n",
      "Epoch: 45, Epoch loss 0.43852999806404114\n",
      "Epoch: 46, Epoch loss 0.44629907608032227\n",
      "Epoch: 47, Epoch loss 0.4277242124080658\n",
      "Epoch: 48, Epoch loss 0.43869736790657043\n",
      "Epoch: 49, Epoch loss 0.4324660897254944\n",
      "Training process has finished.\n",
      "Final loss 0.4324660897254944\n",
      "(0.7398680279994649, 0.7543572737321885, 0.7261741640185417)\n"
     ]
    }
   ],
   "source": [
    "mlp_evaluation_results = []\n",
    "for num in global_random_numbers:\n",
    "    torch.manual_seed(num)\n",
    "    mlp_evaluation_results.append(run_mlp_classifier())"
   ]
  },
  {
   "cell_type": "markdown",
   "metadata": {},
   "source": [
    "## <font color='red'>GloVe + MLP results</font>"
   ]
  },
  {
   "cell_type": "code",
   "execution_count": 38,
   "metadata": {
    "scrolled": true
   },
   "outputs": [
    {
     "name": "stdout",
     "output_type": "stream",
     "text": [
      "Avg accuracy | Avg precision | Avg recall\n",
      "0.7401+-0.0002, 0.7544+-0.0006, 0.7268+-0.0013\n"
     ]
    }
   ],
   "source": [
    "print_evaluation_results(mlp_evaluation_results)"
   ]
  },
  {
   "cell_type": "markdown",
   "metadata": {},
   "source": [
    "## Train our model"
   ]
  },
  {
   "cell_type": "code",
   "execution_count": 39,
   "metadata": {},
   "outputs": [],
   "source": [
    "def create_graph_of_words(text, window_size):\n",
    "    text = text.split()\n",
    "    G = nx.Graph()\n",
    "    for i, word in enumerate(text):\n",
    "        #embedding = fasttext_model.get_word_vector(word)\n",
    "        embedding = embeddings_lookup.get(word, np.zeros(100, dtype='float32'))\n",
    "        G.add_node(word, x=embedding)\n",
    "        for j in range(i + 1, i + window_size):\n",
    "            if j < len(text):\n",
    "                G.add_edge(word, text[j])\n",
    "    return G\n",
    "\n",
    "def create_graph_of_words_for_pytorch(text, window_size):\n",
    "    return from_networkx(create_graph_of_words(text, window_size))\n",
    "\n",
    "def generate_pytorch_geometric_graphs(window_size):\n",
    "    pyg_graphs = []\n",
    "    for s in tqdm(df['body'].values):\n",
    "        pyg_graphs.append(create_graph_of_words_for_pytorch(s, window_size))\n",
    "    print('finished...')\n",
    "    for i, label in enumerate(df['label'].values):\n",
    "        pyg_graphs[i].y = torch.tensor(label).float()\n",
    "    \n",
    "    pyg_graphs = [g for g in pyg_graphs if g.num_nodes != 0]\n",
    "    return pyg_graphs\n",
    "\n",
    "class GATClassifier(torch.nn.Module):\n",
    "    def __init__(self):\n",
    "        super().__init__()\n",
    "        #torch.manual_seed(12345)\n",
    "        \n",
    "        self.conv1 = GATConv(100, 10, heads=3)\n",
    "        self.linear1 = torch.nn.Linear(10*3, 1)\n",
    "        \n",
    "        self.sigmoid = torch.nn.Sigmoid()\n",
    "\n",
    "    def forward(self, data, batch):\n",
    "        x, edge_index = data.x, data.edge_index\n",
    "        \n",
    "        x = F.elu(self.conv1(x, edge_index))\n",
    "        x = global_mean_pool(x, batch)\n",
    "        x = F.dropout(x, p=0.5, training=self.training)\n",
    "        x = self.linear1(x)\n",
    "        x = self.sigmoid(x)\n",
    "        \n",
    "        return x"
   ]
  },
  {
   "cell_type": "code",
   "execution_count": 40,
   "metadata": {},
   "outputs": [
    {
     "name": "stderr",
     "output_type": "stream",
     "text": [
      "100%|██████████████████████████████████████████████████████████████████████████████████████████████████████████████████████████████| 407799/407799 [15:56<00:00, 426.54it/s]\n"
     ]
    },
    {
     "name": "stdout",
     "output_type": "stream",
     "text": [
      "finished...\n"
     ]
    }
   ],
   "source": [
    "pytorch_geometric_graphs = generate_pytorch_geometric_graphs(window_size=7)"
   ]
  },
  {
   "cell_type": "code",
   "execution_count": 41,
   "metadata": {},
   "outputs": [],
   "source": [
    "train_pyg_graphs, test_pyg_graphs = train_test_split(pytorch_geometric_graphs, test_size=0.33, random_state=42)"
   ]
  },
  {
   "cell_type": "code",
   "execution_count": 42,
   "metadata": {},
   "outputs": [],
   "source": [
    "def run_gat_classifier(train_pyg_graphs, test_pyg_graphs, train_batch_size=300, learning_rate=0.001, num_epoch=10):\n",
    "    train_loader = DataLoader(train_pyg_graphs, batch_size=train_batch_size, shuffle=False)\n",
    "    test_loader = DataLoader(test_pyg_graphs, batch_size=200, shuffle=False)\n",
    "    \n",
    "    gat_model = GATClassifier().to(device)\n",
    "    print(gat_model)\n",
    "    # Define the loss function and optimizer\n",
    "    loss_function = F.binary_cross_entropy\n",
    "    optimizer = torch.optim.Adam(gat_model.parameters(), lr=learning_rate)\n",
    "\n",
    "    gat_model.train()\n",
    "    for epoch in range(0, num_epoch):\n",
    "        for i, data in enumerate(train_loader):  # Iterate in batches over the training dataset.\n",
    "            data = data.to(device)\n",
    "            try:\n",
    "                out = gat_model(data, data.batch)  # Perform a single forward pass.\n",
    "            except Exception as e:\n",
    "                print(data)\n",
    "                print(data.x)\n",
    "                print(data.y)\n",
    "            out = out.squeeze()\n",
    "            y = data.y.squeeze()\n",
    "            loss = loss_function(out, y)  # Compute the loss.\n",
    "            loss.backward()  # Derive gradients.\n",
    "            optimizer.step()  # Update parameters based on gradients.\n",
    "            optimizer.zero_grad()  # Clear gradients.\n",
    "        print(f'Epoch: {epoch}, Epoch loss {loss.item()}')\n",
    "\n",
    "    print('Training process has finished.')\n",
    "    print('Final loss', loss.item())\n",
    "    \n",
    "    true_labels = []\n",
    "    pred_labels = []\n",
    "    with torch.no_grad():\n",
    "        gat_model.eval()\n",
    "        for i, data in enumerate(test_loader):\n",
    "            data = data.to(device)\n",
    "            out = gat_model(data, data.batch)\n",
    "            pred_labels.extend(torch.round(out.squeeze()).tolist())\n",
    "            true_labels.extend(data.y.tolist())\n",
    "    \n",
    "    results = calculate_accuracy_precision_recall(true_labels, pred_labels)\n",
    "    \n",
    "    print(results)\n",
    "    return results"
   ]
  },
  {
   "cell_type": "code",
   "execution_count": 43,
   "metadata": {},
   "outputs": [
    {
     "name": "stdout",
     "output_type": "stream",
     "text": [
      "GATClassifier(\n",
      "  (conv1): GATConv(100, 10, heads=3)\n",
      "  (linear1): Linear(in_features=30, out_features=1, bias=True)\n",
      "  (sigmoid): Sigmoid()\n",
      ")\n",
      "Epoch: 0, Epoch loss 0.34297236800193787\n",
      "Epoch: 1, Epoch loss 0.3586287200450897\n",
      "Epoch: 2, Epoch loss 0.3365243673324585\n",
      "Epoch: 3, Epoch loss 0.3382684886455536\n",
      "Epoch: 4, Epoch loss 0.3431403934955597\n",
      "Epoch: 5, Epoch loss 0.3433286249637604\n",
      "Epoch: 6, Epoch loss 0.35072964429855347\n",
      "Epoch: 7, Epoch loss 0.3392132520675659\n",
      "Epoch: 8, Epoch loss 0.3323723077774048\n",
      "Epoch: 9, Epoch loss 0.3296910524368286\n",
      "Training process has finished.\n",
      "Final loss 0.3296910524368286\n",
      "(0.802257494018161, 0.8154955933840397, 0.7897636759569151)\n",
      "GATClassifier(\n",
      "  (conv1): GATConv(100, 10, heads=3)\n",
      "  (linear1): Linear(in_features=30, out_features=1, bias=True)\n",
      "  (sigmoid): Sigmoid()\n",
      ")\n",
      "Epoch: 0, Epoch loss 0.34482577443122864\n",
      "Epoch: 1, Epoch loss 0.3521638512611389\n",
      "Epoch: 2, Epoch loss 0.33709436655044556\n",
      "Epoch: 3, Epoch loss 0.3504785895347595\n",
      "Epoch: 4, Epoch loss 0.32892560958862305\n",
      "Epoch: 5, Epoch loss 0.33344215154647827\n",
      "Epoch: 6, Epoch loss 0.34017592668533325\n",
      "Epoch: 7, Epoch loss 0.35320040583610535\n",
      "Epoch: 8, Epoch loss 0.33242732286453247\n",
      "Epoch: 9, Epoch loss 0.3427466154098511\n",
      "Training process has finished.\n",
      "Final loss 0.3427466154098511\n",
      "(0.8023243717211348, 0.814448337568986, 0.7915467021323239)\n",
      "GATClassifier(\n",
      "  (conv1): GATConv(100, 10, heads=3)\n",
      "  (linear1): Linear(in_features=30, out_features=1, bias=True)\n",
      "  (sigmoid): Sigmoid()\n",
      ")\n",
      "Epoch: 0, Epoch loss 0.3458064794540405\n",
      "Epoch: 1, Epoch loss 0.3383018672466278\n",
      "Epoch: 2, Epoch loss 0.3496930003166199\n",
      "Epoch: 3, Epoch loss 0.34029620885849\n",
      "Epoch: 4, Epoch loss 0.32101553678512573\n",
      "Epoch: 5, Epoch loss 0.33139610290527344\n",
      "Epoch: 6, Epoch loss 0.3346922993659973\n",
      "Epoch: 7, Epoch loss 0.3426087498664856\n",
      "Epoch: 8, Epoch loss 0.3242246210575104\n",
      "Epoch: 9, Epoch loss 0.3245953321456909\n",
      "Training process has finished.\n",
      "Final loss 0.3245953321456909\n",
      "(0.8021237386122133, 0.8117931425502074, 0.7951712143577452)\n",
      "GATClassifier(\n",
      "  (conv1): GATConv(100, 10, heads=3)\n",
      "  (linear1): Linear(in_features=30, out_features=1, bias=True)\n",
      "  (sigmoid): Sigmoid()\n",
      ")\n",
      "Epoch: 0, Epoch loss 0.34792667627334595\n",
      "Epoch: 1, Epoch loss 0.3489666283130646\n",
      "Epoch: 2, Epoch loss 0.35362157225608826\n",
      "Epoch: 3, Epoch loss 0.3374914526939392\n",
      "Epoch: 4, Epoch loss 0.33427873253822327\n",
      "Epoch: 5, Epoch loss 0.3295803964138031\n",
      "Epoch: 6, Epoch loss 0.33056920766830444\n",
      "Epoch: 7, Epoch loss 0.3188264071941376\n",
      "Epoch: 8, Epoch loss 0.32718393206596375\n",
      "Epoch: 9, Epoch loss 0.3284343481063843\n",
      "Training process has finished.\n",
      "Final loss 0.3284343481063843\n",
      "(0.8023169408652489, 0.8121827411167513, 0.795054294608538)\n",
      "GATClassifier(\n",
      "  (conv1): GATConv(100, 10, heads=3)\n",
      "  (linear1): Linear(in_features=30, out_features=1, bias=True)\n",
      "  (sigmoid): Sigmoid()\n",
      ")\n",
      "Epoch: 0, Epoch loss 0.3471277356147766\n",
      "Epoch: 1, Epoch loss 0.3384402394294739\n",
      "Epoch: 2, Epoch loss 0.36216893792152405\n",
      "Epoch: 3, Epoch loss 0.3548901677131653\n",
      "Epoch: 4, Epoch loss 0.345342755317688\n",
      "Epoch: 5, Epoch loss 0.3528374135494232\n",
      "Epoch: 6, Epoch loss 0.34141072630882263\n",
      "Epoch: 7, Epoch loss 0.3540554344654083\n",
      "Epoch: 8, Epoch loss 0.3517204225063324\n",
      "Epoch: 9, Epoch loss 0.3429030179977417\n",
      "Training process has finished.\n",
      "Final loss 0.3429030179977417\n",
      "(0.8017967809532301, 0.8082727863429617, 0.7999210791692852)\n",
      "GATClassifier(\n",
      "  (conv1): GATConv(100, 10, heads=3)\n",
      "  (linear1): Linear(in_features=30, out_features=1, bias=True)\n",
      "  (sigmoid): Sigmoid()\n",
      ")\n",
      "Epoch: 0, Epoch loss 0.34871941804885864\n",
      "Epoch: 1, Epoch loss 0.34769406914711\n",
      "Epoch: 2, Epoch loss 0.3528060019016266\n",
      "Epoch: 3, Epoch loss 0.3388167917728424\n",
      "Epoch: 4, Epoch loss 0.346770316362381\n",
      "Epoch: 5, Epoch loss 0.33081528544425964\n",
      "Epoch: 6, Epoch loss 0.3365701735019684\n",
      "Epoch: 7, Epoch loss 0.34050217270851135\n",
      "Epoch: 8, Epoch loss 0.33276575803756714\n",
      "Epoch: 9, Epoch loss 0.3452381491661072\n",
      "Training process has finished.\n",
      "Final loss 0.3452381491661072\n",
      "(0.8022203397387311, 0.8111982849741703, 0.7963550268184675)\n",
      "GATClassifier(\n",
      "  (conv1): GATConv(100, 10, heads=3)\n",
      "  (linear1): Linear(in_features=30, out_features=1, bias=True)\n",
      "  (sigmoid): Sigmoid()\n",
      ")\n",
      "Epoch: 0, Epoch loss 0.3523397147655487\n",
      "Epoch: 1, Epoch loss 0.3471616506576538\n",
      "Epoch: 2, Epoch loss 0.3319713771343231\n",
      "Epoch: 3, Epoch loss 0.344611793756485\n",
      "Epoch: 4, Epoch loss 0.33768901228904724\n",
      "Epoch: 5, Epoch loss 0.33945903182029724\n",
      "Epoch: 6, Epoch loss 0.3209136128425598\n",
      "Epoch: 7, Epoch loss 0.34778836369514465\n",
      "Epoch: 8, Epoch loss 0.3390345871448517\n",
      "Epoch: 9, Epoch loss 0.3394044041633606\n",
      "Training process has finished.\n",
      "Final loss 0.3394044041633606\n",
      "(0.8021088769004414, 0.8150879097680871, 0.7900121304239802)\n",
      "GATClassifier(\n",
      "  (conv1): GATConv(100, 10, heads=3)\n",
      "  (linear1): Linear(in_features=30, out_features=1, bias=True)\n",
      "  (sigmoid): Sigmoid()\n",
      ")\n",
      "Epoch: 0, Epoch loss 0.349740207195282\n",
      "Epoch: 1, Epoch loss 0.34889617562294006\n",
      "Epoch: 2, Epoch loss 0.33904698491096497\n",
      "Epoch: 3, Epoch loss 0.32974860072135925\n",
      "Epoch: 4, Epoch loss 0.35079777240753174\n",
      "Epoch: 5, Epoch loss 0.36487314105033875\n",
      "Epoch: 6, Epoch loss 0.33868977427482605\n",
      "Epoch: 7, Epoch loss 0.3470997214317322\n",
      "Epoch: 8, Epoch loss 0.33950984477996826\n",
      "Epoch: 9, Epoch loss 0.34520334005355835\n",
      "Training process has finished.\n",
      "Final loss 0.34520334005355835\n",
      "(0.8024135419917666, 0.8155064484501093, 0.7901436651418383)\n",
      "GATClassifier(\n",
      "  (conv1): GATConv(100, 10, heads=3)\n",
      "  (linear1): Linear(in_features=30, out_features=1, bias=True)\n",
      "  (sigmoid): Sigmoid()\n",
      ")\n",
      "Epoch: 0, Epoch loss 0.34167757630348206\n",
      "Epoch: 1, Epoch loss 0.33224305510520935\n",
      "Epoch: 2, Epoch loss 0.34773120284080505\n",
      "Epoch: 3, Epoch loss 0.3473232090473175\n",
      "Epoch: 4, Epoch loss 0.3378155529499054\n",
      "Epoch: 5, Epoch loss 0.34322330355644226\n",
      "Epoch: 6, Epoch loss 0.3331378698348999\n",
      "Epoch: 7, Epoch loss 0.32469892501831055\n",
      "Epoch: 8, Epoch loss 0.3447129428386688\n",
      "Epoch: 9, Epoch loss 0.3329964578151703\n",
      "Training process has finished.\n",
      "Final loss 0.3329964578151703\n",
      "(0.8020345683415816, 0.8117129215159654, 0.795068909577189)\n",
      "GATClassifier(\n",
      "  (conv1): GATConv(100, 10, heads=3)\n",
      "  (linear1): Linear(in_features=30, out_features=1, bias=True)\n",
      "  (sigmoid): Sigmoid()\n",
      ")\n",
      "Epoch: 0, Epoch loss 0.345986932516098\n",
      "Epoch: 1, Epoch loss 0.34480002522468567\n",
      "Epoch: 2, Epoch loss 0.3318776488304138\n",
      "Epoch: 3, Epoch loss 0.33455607295036316\n",
      "Epoch: 4, Epoch loss 0.3393767178058624\n",
      "Epoch: 5, Epoch loss 0.3668909966945648\n",
      "Epoch: 6, Epoch loss 0.3423483669757843\n",
      "Epoch: 7, Epoch loss 0.32765111327171326\n",
      "Epoch: 8, Epoch loss 0.3287990987300873\n",
      "Epoch: 9, Epoch loss 0.32654911279678345\n",
      "Training process has finished.\n",
      "Final loss 0.32654911279678345\n",
      "(0.8022723557299329, 0.8092568487071771, 0.7995703199216637)\n"
     ]
    }
   ],
   "source": [
    "gat_evaluation_results = []\n",
    "for num in global_random_numbers:\n",
    "    torch.manual_seed(num)\n",
    "    gat_evaluation_results.append(run_gat_classifier(train_pyg_graphs, test_pyg_graphs))"
   ]
  },
  {
   "cell_type": "markdown",
   "metadata": {},
   "source": [
    "## <font color='red'>Our approach results</font>"
   ]
  },
  {
   "cell_type": "code",
   "execution_count": 44,
   "metadata": {
    "scrolled": false
   },
   "outputs": [
    {
     "name": "stdout",
     "output_type": "stream",
     "text": [
      "Avg accuracy | Avg precision | Avg recall\n",
      "0.8022+-0.0002, 0.8125+-0.0024, 0.7943+-0.0036\n"
     ]
    }
   ],
   "source": [
    "print_evaluation_results(gat_evaluation_results)"
   ]
  },
  {
   "cell_type": "markdown",
   "metadata": {},
   "source": [
    "## Glove + GATConv"
   ]
  },
  {
   "cell_type": "code",
   "execution_count": 45,
   "metadata": {},
   "outputs": [],
   "source": [
    "def create_graph_of_words_glove(text, window_size):\n",
    "    text = text.split()\n",
    "    G = nx.Graph()\n",
    "    for i, word in enumerate(text):\n",
    "        #embedding = fasttext_model.get_word_vector(word)\n",
    "        embedding = get_word_glove_embedding(word)\n",
    "        G.add_node(word, x=embedding)\n",
    "        for j in range(i + 1, i + window_size):\n",
    "            if j < len(text):\n",
    "                G.add_edge(word, text[j])\n",
    "    return G\n",
    "\n",
    "def create_graph_of_words_for_pytorch_glove(text, window_size):\n",
    "    return from_networkx(create_graph_of_words_glove(text, window_size))\n",
    "\n",
    "def generate_pytorch_geometric_graphs_glove(window_size):\n",
    "    pyg_graphs = []\n",
    "    for s in tqdm(df['body'].values):\n",
    "        pyg_graphs.append(create_graph_of_words_for_pytorch_glove(s, window_size))\n",
    "    print('finished...')\n",
    "    for i, label in enumerate(df['label'].values):\n",
    "        pyg_graphs[i].y = torch.tensor(label).float()\n",
    "    \n",
    "    pyg_graphs = [g for g in pyg_graphs if g.num_nodes != 0]\n",
    "    return pyg_graphs\n",
    "\n",
    "class GATGloveClassifier(torch.nn.Module):\n",
    "    def __init__(self):\n",
    "        super().__init__()\n",
    "        #torch.manual_seed(12345)\n",
    "        \n",
    "        self.conv1 = GATConv(100, 10, heads=3)\n",
    "        self.linear1 = torch.nn.Linear(10*3, 1)\n",
    "        \n",
    "        self.sigmoid = torch.nn.Sigmoid()\n",
    "\n",
    "    def forward(self, data, batch):\n",
    "        x, edge_index = data.x, data.edge_index\n",
    "        \n",
    "        x = F.elu(self.conv1(x, edge_index))\n",
    "        x = global_mean_pool(x, batch)\n",
    "        x = F.dropout(x, p=0.5, training=self.training)\n",
    "        x = self.linear1(x)\n",
    "        x = self.sigmoid(x)\n",
    "        \n",
    "        return x"
   ]
  },
  {
   "cell_type": "code",
   "execution_count": 46,
   "metadata": {},
   "outputs": [
    {
     "name": "stderr",
     "output_type": "stream",
     "text": [
      "100%|██████████████████████████████████████████████████████████████████████████████████████████████████████████████████████████████| 407799/407799 [16:04<00:00, 422.77it/s]\n"
     ]
    },
    {
     "name": "stdout",
     "output_type": "stream",
     "text": [
      "finished...\n"
     ]
    }
   ],
   "source": [
    "pytorch_geometric_graphs_glove = generate_pytorch_geometric_graphs_glove(window_size=7)"
   ]
  },
  {
   "cell_type": "code",
   "execution_count": 47,
   "metadata": {},
   "outputs": [],
   "source": [
    "train_pyg_graphs_glove, test_pyg_graphs_glove = train_test_split(pytorch_geometric_graphs_glove, test_size=0.33, random_state=42)"
   ]
  },
  {
   "cell_type": "code",
   "execution_count": 48,
   "metadata": {},
   "outputs": [],
   "source": [
    "def run_gat_glove_classifier(train_batch_size=300, learning_rate=0.001, num_epoch=10):\n",
    "    train_loader = DataLoader(train_pyg_graphs_glove, batch_size=train_batch_size, shuffle=False)\n",
    "    test_loader = DataLoader(test_pyg_graphs_glove, batch_size=200, shuffle=False)\n",
    "    \n",
    "    gat_model = GATGloveClassifier().to(device)\n",
    "    print(gat_model)\n",
    "    # Define the loss function and optimizer\n",
    "    loss_function = F.binary_cross_entropy\n",
    "    optimizer = torch.optim.Adam(gat_model.parameters(), lr=learning_rate)\n",
    "\n",
    "    gat_model.train()\n",
    "    for epoch in range(0, num_epoch):\n",
    "        for i, data in enumerate(train_loader):  # Iterate in batches over the training dataset.\n",
    "            data = data.to(device)\n",
    "            try:\n",
    "                out = gat_model(data, data.batch)  # Perform a single forward pass.\n",
    "            except Exception as e:\n",
    "                print(data)\n",
    "                print(data.x)\n",
    "                print(data.y)\n",
    "            out = out.squeeze()\n",
    "            y = data.y.squeeze()\n",
    "            loss = loss_function(out, y)  # Compute the loss.\n",
    "            loss.backward()  # Derive gradients.\n",
    "            optimizer.step()  # Update parameters based on gradients.\n",
    "            optimizer.zero_grad()  # Clear gradients.\n",
    "        print(f'Epoch: {epoch}, Epoch loss {loss.item()}')\n",
    "\n",
    "    print('Training process has finished.')\n",
    "    print('Final loss', loss.item())\n",
    "    \n",
    "    true_labels = []\n",
    "    pred_labels = []\n",
    "    with torch.no_grad():\n",
    "        gat_model.eval()\n",
    "        for i, data in enumerate(test_loader):\n",
    "            data = data.to(device)\n",
    "            out = gat_model(data, data.batch)\n",
    "            pred_labels.extend(torch.round(out.squeeze()).tolist())\n",
    "            true_labels.extend(data.y.tolist())\n",
    "    \n",
    "    results = calculate_accuracy_precision_recall(true_labels, pred_labels)\n",
    "    \n",
    "    print(results)\n",
    "    return results"
   ]
  },
  {
   "cell_type": "code",
   "execution_count": 49,
   "metadata": {},
   "outputs": [
    {
     "name": "stdout",
     "output_type": "stream",
     "text": [
      "GATGloveClassifier(\n",
      "  (conv1): GATConv(100, 10, heads=3)\n",
      "  (linear1): Linear(in_features=30, out_features=1, bias=True)\n",
      "  (sigmoid): Sigmoid()\n",
      ")\n",
      "Epoch: 0, Epoch loss 0.5408297777175903\n",
      "Epoch: 1, Epoch loss 0.5366239547729492\n",
      "Epoch: 2, Epoch loss 0.5173269510269165\n",
      "Epoch: 3, Epoch loss 0.5082159042358398\n",
      "Epoch: 4, Epoch loss 0.5210191607475281\n",
      "Epoch: 5, Epoch loss 0.5007474422454834\n",
      "Epoch: 6, Epoch loss 0.5049952268600464\n",
      "Epoch: 7, Epoch loss 0.5132017135620117\n",
      "Epoch: 8, Epoch loss 0.5232371091842651\n",
      "Epoch: 9, Epoch loss 0.497927725315094\n",
      "Training process has finished.\n",
      "Final loss 0.497927725315094\n",
      "(0.765615943644389, 0.7786542152107228, 0.7530947196118264)\n",
      "GATGloveClassifier(\n",
      "  (conv1): GATConv(100, 10, heads=3)\n",
      "  (linear1): Linear(in_features=30, out_features=1, bias=True)\n",
      "  (sigmoid): Sigmoid()\n",
      ")\n",
      "Epoch: 0, Epoch loss 0.522725522518158\n",
      "Epoch: 1, Epoch loss 0.5212802886962891\n",
      "Epoch: 2, Epoch loss 0.5107335448265076\n",
      "Epoch: 3, Epoch loss 0.5224583148956299\n",
      "Epoch: 4, Epoch loss 0.5096346735954285\n",
      "Epoch: 5, Epoch loss 0.5269849300384521\n",
      "Epoch: 6, Epoch loss 0.5036539435386658\n",
      "Epoch: 7, Epoch loss 0.5328296422958374\n",
      "Epoch: 8, Epoch loss 0.5113282203674316\n",
      "Epoch: 9, Epoch loss 0.5116853713989258\n",
      "Training process has finished.\n",
      "Final loss 0.5116853713989258\n",
      "(0.7650957837323703, 0.7758328712515173, 0.7566023120880405)\n",
      "GATGloveClassifier(\n",
      "  (conv1): GATConv(100, 10, heads=3)\n",
      "  (linear1): Linear(in_features=30, out_features=1, bias=True)\n",
      "  (sigmoid): Sigmoid()\n",
      ")\n",
      "Epoch: 0, Epoch loss 0.5265851020812988\n",
      "Epoch: 1, Epoch loss 0.5128239989280701\n",
      "Epoch: 2, Epoch loss 0.5163149833679199\n",
      "Epoch: 3, Epoch loss 0.5073258876800537\n",
      "Epoch: 4, Epoch loss 0.4929894804954529\n",
      "Epoch: 5, Epoch loss 0.5083795189857483\n",
      "Epoch: 6, Epoch loss 0.5056598782539368\n",
      "Epoch: 7, Epoch loss 0.4929403066635132\n",
      "Epoch: 8, Epoch loss 0.4792059063911438\n",
      "Epoch: 9, Epoch loss 0.50299072265625\n",
      "Training process has finished.\n",
      "Final loss 0.50299072265625\n",
      "(0.7658834544562843, 0.7808615206707141, 0.7500255761951391)\n",
      "GATGloveClassifier(\n",
      "  (conv1): GATConv(100, 10, heads=3)\n",
      "  (linear1): Linear(in_features=30, out_features=1, bias=True)\n",
      "  (sigmoid): Sigmoid()\n",
      ")\n",
      "Epoch: 0, Epoch loss 0.5405411124229431\n",
      "Epoch: 1, Epoch loss 0.5084952712059021\n",
      "Epoch: 2, Epoch loss 0.4988650381565094\n",
      "Epoch: 3, Epoch loss 0.4967416226863861\n",
      "Epoch: 4, Epoch loss 0.5072296857833862\n",
      "Epoch: 5, Epoch loss 0.49941256642341614\n",
      "Epoch: 6, Epoch loss 0.48951512575149536\n",
      "Epoch: 7, Epoch loss 0.5130435824394226\n",
      "Epoch: 8, Epoch loss 0.4905913472175598\n",
      "Epoch: 9, Epoch loss 0.4824603199958801\n",
      "Training process has finished.\n",
      "Final loss 0.4824603199958801\n",
      "(0.765593651076731, 0.7770948545323395, 0.7557546439062888)\n",
      "GATGloveClassifier(\n",
      "  (conv1): GATConv(100, 10, heads=3)\n",
      "  (linear1): Linear(in_features=30, out_features=1, bias=True)\n",
      "  (sigmoid): Sigmoid()\n",
      ")\n",
      "Epoch: 0, Epoch loss 0.5529526472091675\n",
      "Epoch: 1, Epoch loss 0.5216625928878784\n",
      "Epoch: 2, Epoch loss 0.5268601775169373\n",
      "Epoch: 3, Epoch loss 0.5120769143104553\n",
      "Epoch: 4, Epoch loss 0.48453250527381897\n",
      "Epoch: 5, Epoch loss 0.5200123190879822\n",
      "Epoch: 6, Epoch loss 0.5114878416061401\n",
      "Epoch: 7, Epoch loss 0.5055612921714783\n",
      "Epoch: 8, Epoch loss 0.5035802125930786\n",
      "Epoch: 9, Epoch loss 0.4932641386985779\n",
      "Training process has finished.\n",
      "Final loss 0.4932641386985779\n",
      "(0.7649174431911068, 0.7734970930664803, 0.7602706692194146)\n",
      "GATGloveClassifier(\n",
      "  (conv1): GATConv(100, 10, heads=3)\n",
      "  (linear1): Linear(in_features=30, out_features=1, bias=True)\n",
      "  (sigmoid): Sigmoid()\n",
      ")\n",
      "Epoch: 0, Epoch loss 0.5381864309310913\n",
      "Epoch: 1, Epoch loss 0.5006369948387146\n",
      "Epoch: 2, Epoch loss 0.5072870254516602\n",
      "Epoch: 3, Epoch loss 0.5129708051681519\n",
      "Epoch: 4, Epoch loss 0.4842453598976135\n",
      "Epoch: 5, Epoch loss 0.5093247294425964\n",
      "Epoch: 6, Epoch loss 0.4965725839138031\n",
      "Epoch: 7, Epoch loss 0.4982699155807495\n",
      "Epoch: 8, Epoch loss 0.49694132804870605\n",
      "Epoch: 9, Epoch loss 0.5011793375015259\n",
      "Training process has finished.\n",
      "Final loss 0.5011793375015259\n",
      "(0.7660469332857759, 0.7792527857996039, 0.7532408692983353)\n",
      "GATGloveClassifier(\n",
      "  (conv1): GATConv(100, 10, heads=3)\n",
      "  (linear1): Linear(in_features=30, out_features=1, bias=True)\n",
      "  (sigmoid): Sigmoid()\n",
      ")\n",
      "Epoch: 0, Epoch loss 0.5310866832733154\n",
      "Epoch: 1, Epoch loss 0.5152487754821777\n",
      "Epoch: 2, Epoch loss 0.5001064538955688\n",
      "Epoch: 3, Epoch loss 0.5093297958374023\n",
      "Epoch: 4, Epoch loss 0.49890780448913574\n",
      "Epoch: 5, Epoch loss 0.4925318956375122\n",
      "Epoch: 6, Epoch loss 0.4806200861930847\n",
      "Epoch: 7, Epoch loss 0.48590004444122314\n",
      "Epoch: 8, Epoch loss 0.48938849568367004\n",
      "Epoch: 9, Epoch loss 0.5088534951210022\n",
      "Training process has finished.\n",
      "Final loss 0.5088534951210022\n",
      "(0.7645236078291497, 0.7765781231176967, 0.7537085482951639)\n",
      "GATGloveClassifier(\n",
      "  (conv1): GATConv(100, 10, heads=3)\n",
      "  (linear1): Linear(in_features=30, out_features=1, bias=True)\n",
      "  (sigmoid): Sigmoid()\n",
      ")\n",
      "Epoch: 0, Epoch loss 0.5388976335525513\n",
      "Epoch: 1, Epoch loss 0.5238843560218811\n",
      "Epoch: 2, Epoch loss 0.5116000175476074\n",
      "Epoch: 3, Epoch loss 0.5152425169944763\n",
      "Epoch: 4, Epoch loss 0.498734712600708\n",
      "Epoch: 5, Epoch loss 0.5064200758934021\n",
      "Epoch: 6, Epoch loss 0.5021969676017761\n",
      "Epoch: 7, Epoch loss 0.5093769431114197\n",
      "Epoch: 8, Epoch loss 0.495602011680603\n",
      "Epoch: 9, Epoch loss 0.49290454387664795\n",
      "Training process has finished.\n",
      "Final loss 0.49290454387664795\n",
      "(0.764404714134974, 0.7749917617806537, 0.7561784779971646)\n",
      "GATGloveClassifier(\n",
      "  (conv1): GATConv(100, 10, heads=3)\n",
      "  (linear1): Linear(in_features=30, out_features=1, bias=True)\n",
      "  (sigmoid): Sigmoid()\n",
      ")\n",
      "Epoch: 0, Epoch loss 0.5313870310783386\n",
      "Epoch: 1, Epoch loss 0.5150262713432312\n",
      "Epoch: 2, Epoch loss 0.5277861952781677\n",
      "Epoch: 3, Epoch loss 0.5229625701904297\n",
      "Epoch: 4, Epoch loss 0.5232484936714172\n",
      "Epoch: 5, Epoch loss 0.5210741758346558\n",
      "Epoch: 6, Epoch loss 0.5078920125961304\n",
      "Epoch: 7, Epoch loss 0.5009605884552002\n",
      "Epoch: 8, Epoch loss 0.4971052408218384\n",
      "Epoch: 9, Epoch loss 0.49272578954696655\n",
      "Training process has finished.\n",
      "Final loss 0.49272578954696655\n",
      "(0.7648579963440189, 0.7797265024870325, 0.7491632930447364)\n",
      "GATGloveClassifier(\n",
      "  (conv1): GATConv(100, 10, heads=3)\n",
      "  (linear1): Linear(in_features=30, out_features=1, bias=True)\n",
      "  (sigmoid): Sigmoid()\n",
      ")\n",
      "Epoch: 0, Epoch loss 0.5437111854553223\n",
      "Epoch: 1, Epoch loss 0.5366017818450928\n",
      "Epoch: 2, Epoch loss 0.5374178290367126\n",
      "Epoch: 3, Epoch loss 0.527222216129303\n",
      "Epoch: 4, Epoch loss 0.5397053360939026\n",
      "Epoch: 5, Epoch loss 0.5371185541152954\n",
      "Epoch: 6, Epoch loss 0.5142993330955505\n",
      "Epoch: 7, Epoch loss 0.5236842632293701\n",
      "Epoch: 8, Epoch loss 0.5306733250617981\n",
      "Epoch: 9, Epoch loss 0.5207007527351379\n",
      "Training process has finished.\n",
      "Final loss 0.5207007527351379\n",
      "(0.764434437558518, 0.779152856751908, 0.7489879134209257)\n"
     ]
    }
   ],
   "source": [
    "gat_glove_evaluation_results = []\n",
    "for num in global_random_numbers:\n",
    "    torch.manual_seed(num)\n",
    "    gat_glove_evaluation_results.append(run_gat_glove_classifier())"
   ]
  },
  {
   "cell_type": "markdown",
   "metadata": {},
   "source": [
    "## <font color='red'>GloVe + GATConv results</font>"
   ]
  },
  {
   "cell_type": "code",
   "execution_count": 50,
   "metadata": {
    "scrolled": true
   },
   "outputs": [
    {
     "name": "stdout",
     "output_type": "stream",
     "text": [
      "Avg accuracy | Avg precision | Avg recall\n",
      "0.7651+-0.0006, 0.7776+-0.0022, 0.7537+-0.0034\n"
     ]
    }
   ],
   "source": [
    "print_evaluation_results(gat_glove_evaluation_results)"
   ]
  },
  {
   "cell_type": "markdown",
   "metadata": {},
   "source": [
    "## Glove + GCNonv"
   ]
  },
  {
   "cell_type": "code",
   "execution_count": 51,
   "metadata": {},
   "outputs": [],
   "source": [
    "class GCNGloveClassifier(torch.nn.Module):\n",
    "    def __init__(self):\n",
    "        super().__init__()\n",
    "        #torch.manual_seed(12345)\n",
    "        \n",
    "        self.conv1 = GCNConv(100, 10)\n",
    "        self.linear1 = torch.nn.Linear(10, 1)\n",
    "        \n",
    "        self.sigmoid = torch.nn.Sigmoid()\n",
    "\n",
    "    def forward(self, data, batch):\n",
    "        x, edge_index = data.x, data.edge_index\n",
    "        \n",
    "        x = F.elu(self.conv1(x, edge_index))\n",
    "        x = global_mean_pool(x, batch)\n",
    "        x = F.dropout(x, p=0.5, training=self.training)\n",
    "        x = self.linear1(x)\n",
    "        x = self.sigmoid(x)\n",
    "        \n",
    "        return x"
   ]
  },
  {
   "cell_type": "code",
   "execution_count": 52,
   "metadata": {},
   "outputs": [],
   "source": [
    "def run_gcn_glove_classifier(train_batch_size=300, learning_rate=0.001, num_epoch=10):\n",
    "    train_loader = DataLoader(train_pyg_graphs_glove, batch_size=train_batch_size, shuffle=False)\n",
    "    test_loader = DataLoader(test_pyg_graphs_glove, batch_size=200, shuffle=False)\n",
    "    \n",
    "    model = GCNGloveClassifier().to(device)\n",
    "    print(model)\n",
    "    # Define the loss function and optimizer\n",
    "    loss_function = F.binary_cross_entropy\n",
    "    optimizer = torch.optim.Adam(model.parameters(), lr=learning_rate)\n",
    "\n",
    "    model.train()\n",
    "    for epoch in range(0, num_epoch):\n",
    "        for i, data in enumerate(train_loader):  # Iterate in batches over the training dataset.\n",
    "            data = data.to(device)\n",
    "            try:\n",
    "                out = model(data, data.batch)  # Perform a single forward pass.\n",
    "            except Exception as e:\n",
    "                print(data)\n",
    "                print(data.x)\n",
    "                print(data.y)\n",
    "            out = out.squeeze()\n",
    "            y = data.y.squeeze()\n",
    "            loss = loss_function(out, y)  # Compute the loss.\n",
    "            loss.backward()  # Derive gradients.\n",
    "            optimizer.step()  # Update parameters based on gradients.\n",
    "            optimizer.zero_grad()  # Clear gradients.\n",
    "        print(f'Epoch: {epoch}, Epoch loss {loss.item()}')\n",
    "\n",
    "    print('Training process has finished.')\n",
    "    print('Final loss', loss.item())\n",
    "    \n",
    "    true_labels = []\n",
    "    pred_labels = []\n",
    "    with torch.no_grad():\n",
    "        model.eval()\n",
    "        for i, data in enumerate(test_loader):\n",
    "            data = data.to(device)\n",
    "            out = model(data, data.batch)\n",
    "            pred_labels.extend(torch.round(out.squeeze()).tolist())\n",
    "            true_labels.extend(data.y.tolist())\n",
    "    \n",
    "    results = calculate_accuracy_precision_recall(true_labels, pred_labels)\n",
    "    \n",
    "    print(results)\n",
    "    return results"
   ]
  },
  {
   "cell_type": "code",
   "execution_count": 53,
   "metadata": {},
   "outputs": [
    {
     "name": "stdout",
     "output_type": "stream",
     "text": [
      "GCNGloveClassifier(\n",
      "  (conv1): GCNConv(100, 10)\n",
      "  (linear1): Linear(in_features=10, out_features=1, bias=True)\n",
      "  (sigmoid): Sigmoid()\n",
      ")\n",
      "Epoch: 0, Epoch loss 0.5825007557868958\n",
      "Epoch: 1, Epoch loss 0.5618257522583008\n",
      "Epoch: 2, Epoch loss 0.5575379133224487\n",
      "Epoch: 3, Epoch loss 0.5626052618026733\n",
      "Epoch: 4, Epoch loss 0.5557960271835327\n",
      "Epoch: 5, Epoch loss 0.5693235993385315\n",
      "Epoch: 6, Epoch loss 0.5492316484451294\n",
      "Epoch: 7, Epoch loss 0.5743678212165833\n",
      "Epoch: 8, Epoch loss 0.5640936493873596\n",
      "Epoch: 9, Epoch loss 0.5672258138656616\n",
      "Training process has finished.\n",
      "Final loss 0.5672258138656616\n",
      "(0.7297769257063028, 0.7493699243909269, 0.7039738099761776)\n",
      "GCNGloveClassifier(\n",
      "  (conv1): GCNConv(100, 10)\n",
      "  (linear1): Linear(in_features=10, out_features=1, bias=True)\n",
      "  (sigmoid): Sigmoid()\n",
      ")\n",
      "Epoch: 0, Epoch loss 0.5679458975791931\n",
      "Epoch: 1, Epoch loss 0.5974653959274292\n",
      "Epoch: 2, Epoch loss 0.5679051876068115\n",
      "Epoch: 3, Epoch loss 0.55149906873703\n",
      "Epoch: 4, Epoch loss 0.5719053149223328\n",
      "Epoch: 5, Epoch loss 0.5561631321907043\n",
      "Epoch: 6, Epoch loss 0.5737497806549072\n",
      "Epoch: 7, Epoch loss 0.5706796646118164\n",
      "Epoch: 8, Epoch loss 0.5522856116294861\n",
      "Epoch: 9, Epoch loss 0.5580753684043884\n",
      "Training process has finished.\n",
      "Final loss 0.5580753684043884\n",
      "(0.7294573989032057, 0.744811659810054, 0.7117635882671032)\n",
      "GCNGloveClassifier(\n",
      "  (conv1): GCNConv(100, 10)\n",
      "  (linear1): Linear(in_features=10, out_features=1, bias=True)\n",
      "  (sigmoid): Sigmoid()\n",
      ")\n",
      "Epoch: 0, Epoch loss 0.5718435645103455\n",
      "Epoch: 1, Epoch loss 0.569383978843689\n",
      "Epoch: 2, Epoch loss 0.5557383894920349\n",
      "Epoch: 3, Epoch loss 0.5732595324516296\n",
      "Epoch: 4, Epoch loss 0.5689646601676941\n",
      "Epoch: 5, Epoch loss 0.5481642484664917\n",
      "Epoch: 6, Epoch loss 0.566513180732727\n",
      "Epoch: 7, Epoch loss 0.5481492877006531\n",
      "Epoch: 8, Epoch loss 0.551557719707489\n",
      "Epoch: 9, Epoch loss 0.562164306640625\n",
      "Training process has finished.\n",
      "Final loss 0.562164306640625\n",
      "(0.7294128137678898, 0.7492330452386514, 0.7031553717317276)\n",
      "GCNGloveClassifier(\n",
      "  (conv1): GCNConv(100, 10)\n",
      "  (linear1): Linear(in_features=10, out_features=1, bias=True)\n",
      "  (sigmoid): Sigmoid()\n",
      ")\n",
      "Epoch: 0, Epoch loss 0.5771922469139099\n",
      "Epoch: 1, Epoch loss 0.5728490352630615\n",
      "Epoch: 2, Epoch loss 0.5482375025749207\n",
      "Epoch: 3, Epoch loss 0.5696969032287598\n",
      "Epoch: 4, Epoch loss 0.569542407989502\n",
      "Epoch: 5, Epoch loss 0.5574950575828552\n",
      "Epoch: 6, Epoch loss 0.5571616888046265\n",
      "Epoch: 7, Epoch loss 0.5593474507331848\n",
      "Epoch: 8, Epoch loss 0.5644310116767883\n",
      "Epoch: 9, Epoch loss 0.5539674162864685\n",
      "Training process has finished.\n",
      "Final loss 0.5539674162864685\n",
      "(0.7294351063355478, 0.7490896075196862, 0.7034915160106981)\n",
      "GCNGloveClassifier(\n",
      "  (conv1): GCNConv(100, 10)\n",
      "  (linear1): Linear(in_features=10, out_features=1, bias=True)\n",
      "  (sigmoid): Sigmoid()\n",
      ")\n",
      "Epoch: 0, Epoch loss 0.589870274066925\n",
      "Epoch: 1, Epoch loss 0.5530819892883301\n",
      "Epoch: 2, Epoch loss 0.5589041113853455\n",
      "Epoch: 3, Epoch loss 0.561726450920105\n",
      "Epoch: 4, Epoch loss 0.5470359325408936\n",
      "Epoch: 5, Epoch loss 0.5573920011520386\n",
      "Epoch: 6, Epoch loss 0.560023307800293\n",
      "Epoch: 7, Epoch loss 0.5558284521102905\n",
      "Epoch: 8, Epoch loss 0.5699475407600403\n",
      "Epoch: 9, Epoch loss 0.5552245378494263\n",
      "Training process has finished.\n",
      "Final loss 0.5552245378494263\n",
      "(0.7296134468768113, 0.746582512315271, 0.7087967496309721)\n",
      "GCNGloveClassifier(\n",
      "  (conv1): GCNConv(100, 10)\n",
      "  (linear1): Linear(in_features=10, out_features=1, bias=True)\n",
      "  (sigmoid): Sigmoid()\n",
      ")\n",
      "Epoch: 0, Epoch loss 0.5562564134597778\n",
      "Epoch: 1, Epoch loss 0.5631555318832397\n",
      "Epoch: 2, Epoch loss 0.5663801431655884\n",
      "Epoch: 3, Epoch loss 0.5623551607131958\n",
      "Epoch: 4, Epoch loss 0.5716364979743958\n",
      "Epoch: 5, Epoch loss 0.5509902834892273\n",
      "Epoch: 6, Epoch loss 0.5512821674346924\n",
      "Epoch: 7, Epoch loss 0.5511237978935242\n",
      "Epoch: 8, Epoch loss 0.5607532858848572\n",
      "Epoch: 9, Epoch loss 0.5598983764648438\n",
      "Training process has finished.\n",
      "Final loss 0.5598983764648438\n",
      "(0.7294573989032057, 0.7474608499389367, 0.7066483492392909)\n",
      "GCNGloveClassifier(\n",
      "  (conv1): GCNConv(100, 10)\n",
      "  (linear1): Linear(in_features=10, out_features=1, bias=True)\n",
      "  (sigmoid): Sigmoid()\n",
      ")\n",
      "Epoch: 0, Epoch loss 0.5715199708938599\n",
      "Epoch: 1, Epoch loss 0.5546280145645142\n",
      "Epoch: 2, Epoch loss 0.5460230708122253\n",
      "Epoch: 3, Epoch loss 0.5607137680053711\n",
      "Epoch: 4, Epoch loss 0.5698585510253906\n",
      "Epoch: 5, Epoch loss 0.5556991100311279\n",
      "Epoch: 6, Epoch loss 0.559998095035553\n",
      "Epoch: 7, Epoch loss 0.5738489627838135\n",
      "Epoch: 8, Epoch loss 0.5700488090515137\n",
      "Epoch: 9, Epoch loss 0.5441575050354004\n",
      "Training process has finished.\n",
      "Final loss 0.5441575050354004\n",
      "(0.7293459360649159, 0.7467308166790032, 0.707715241950806)\n",
      "GCNGloveClassifier(\n",
      "  (conv1): GCNConv(100, 10)\n",
      "  (linear1): Linear(in_features=10, out_features=1, bias=True)\n",
      "  (sigmoid): Sigmoid()\n",
      ")\n",
      "Epoch: 0, Epoch loss 0.5732747912406921\n",
      "Epoch: 1, Epoch loss 0.5773815512657166\n",
      "Epoch: 2, Epoch loss 0.5647473335266113\n",
      "Epoch: 3, Epoch loss 0.5419802665710449\n",
      "Epoch: 4, Epoch loss 0.5588201284408569\n",
      "Epoch: 5, Epoch loss 0.5650999546051025\n",
      "Epoch: 6, Epoch loss 0.5691207647323608\n",
      "Epoch: 7, Epoch loss 0.561012327671051\n",
      "Epoch: 8, Epoch loss 0.576446533203125\n",
      "Epoch: 9, Epoch loss 0.5602988600730896\n",
      "Training process has finished.\n",
      "Final loss 0.5602988600730896\n",
      "(0.7295094148944076, 0.7520544063474072, 0.6981862823904242)\n",
      "GCNGloveClassifier(\n",
      "  (conv1): GCNConv(100, 10)\n",
      "  (linear1): Linear(in_features=10, out_features=1, bias=True)\n",
      "  (sigmoid): Sigmoid()\n",
      ")\n",
      "Epoch: 0, Epoch loss 0.5678386092185974\n",
      "Epoch: 1, Epoch loss 0.5671668648719788\n",
      "Epoch: 2, Epoch loss 0.5496366620063782\n",
      "Epoch: 3, Epoch loss 0.5722841024398804\n",
      "Epoch: 4, Epoch loss 0.5657440423965454\n",
      "Epoch: 5, Epoch loss 0.5583011507987976\n",
      "Epoch: 6, Epoch loss 0.5690597295761108\n",
      "Epoch: 7, Epoch loss 0.566727876663208\n",
      "Epoch: 8, Epoch loss 0.5570666790008545\n",
      "Epoch: 9, Epoch loss 0.5685038566589355\n",
      "Training process has finished.\n",
      "Final loss 0.5685038566589355\n",
      "(0.7295242766061795, 0.7445999205646023, 0.7123774169504407)\n",
      "GCNGloveClassifier(\n",
      "  (conv1): GCNConv(100, 10)\n",
      "  (linear1): Linear(in_features=10, out_features=1, bias=True)\n",
      "  (sigmoid): Sigmoid()\n",
      ")\n",
      "Epoch: 0, Epoch loss 0.5642467737197876\n",
      "Epoch: 1, Epoch loss 0.5628330707550049\n",
      "Epoch: 2, Epoch loss 0.5427572727203369\n",
      "Epoch: 3, Epoch loss 0.5573068261146545\n",
      "Epoch: 4, Epoch loss 0.547330915927887\n",
      "Epoch: 5, Epoch loss 0.5634526610374451\n",
      "Epoch: 6, Epoch loss 0.5670103430747986\n",
      "Epoch: 7, Epoch loss 0.5843838453292847\n",
      "Epoch: 8, Epoch loss 0.5702614784240723\n",
      "Epoch: 9, Epoch loss 0.5577045679092407\n",
      "Training process has finished.\n",
      "Final loss 0.5577045679092407\n",
      "(0.7295688617414954, 0.7451700805241726, 0.7113982140508308)\n"
     ]
    }
   ],
   "source": [
    "gcn_glove_evaluation_results = []\n",
    "for num in global_random_numbers:\n",
    "    torch.manual_seed(num)\n",
    "    gcn_glove_evaluation_results.append(run_gcn_glove_classifier())"
   ]
  },
  {
   "cell_type": "markdown",
   "metadata": {},
   "source": [
    "## <font color='red'>GloVe + GCNConv results</font>"
   ]
  },
  {
   "cell_type": "code",
   "execution_count": 54,
   "metadata": {
    "scrolled": true
   },
   "outputs": [
    {
     "name": "stdout",
     "output_type": "stream",
     "text": [
      "Avg accuracy | Avg precision | Avg recall\n",
      "0.7295+-0.0001, 0.7475+-0.0023, 0.7068+-0.0043\n"
     ]
    }
   ],
   "source": [
    "print_evaluation_results(gcn_glove_evaluation_results)"
   ]
  },
  {
   "cell_type": "markdown",
   "metadata": {},
   "source": [
    "## Glove + GraphConv"
   ]
  },
  {
   "cell_type": "code",
   "execution_count": 55,
   "metadata": {},
   "outputs": [],
   "source": [
    "class GraphConvGloveClassifier(torch.nn.Module):\n",
    "    def __init__(self):\n",
    "        super().__init__()\n",
    "        #torch.manual_seed(12345)\n",
    "        \n",
    "        self.conv1 = GraphConv(100, 10, aggr='mean')\n",
    "        self.linear1 = torch.nn.Linear(10, 1)\n",
    "        \n",
    "        self.sigmoid = torch.nn.Sigmoid()\n",
    "\n",
    "    def forward(self, data, batch):\n",
    "        x, edge_index = data.x, data.edge_index\n",
    "        \n",
    "        x = F.elu(self.conv1(x, edge_index))\n",
    "        x = global_mean_pool(x, batch)\n",
    "        x = F.dropout(x, p=0.5, training=self.training)\n",
    "        x = self.linear1(x)\n",
    "        x = self.sigmoid(x)\n",
    "        \n",
    "        return x"
   ]
  },
  {
   "cell_type": "code",
   "execution_count": 56,
   "metadata": {},
   "outputs": [],
   "source": [
    "def run_graphconv_glove_classifier(train_batch_size=300, learning_rate=0.001, num_epoch=10):\n",
    "    train_loader = DataLoader(train_pyg_graphs_glove, batch_size=train_batch_size, shuffle=False)\n",
    "    test_loader = DataLoader(test_pyg_graphs_glove, batch_size=200, shuffle=False)\n",
    "    \n",
    "    model = GraphConvGloveClassifier().to(device)\n",
    "    print(model)\n",
    "    # Define the loss function and optimizer\n",
    "    loss_function = F.binary_cross_entropy\n",
    "    optimizer = torch.optim.Adam(model.parameters(), lr=learning_rate)\n",
    "\n",
    "    model.train()\n",
    "    for epoch in range(0, num_epoch):\n",
    "        for i, data in enumerate(train_loader):  # Iterate in batches over the training dataset.\n",
    "            data = data.to(device)\n",
    "            try:\n",
    "                out = model(data, data.batch)  # Perform a single forward pass.\n",
    "            except Exception as e:\n",
    "                print(data)\n",
    "                print(data.x)\n",
    "                print(data.y)\n",
    "            out = out.squeeze()\n",
    "            y = data.y.squeeze()\n",
    "            loss = loss_function(out, y)  # Compute the loss.\n",
    "            loss.backward()  # Derive gradients.\n",
    "            optimizer.step()  # Update parameters based on gradients.\n",
    "            optimizer.zero_grad()  # Clear gradients.\n",
    "        print(f'Epoch: {epoch}, Epoch loss {loss.item()}')\n",
    "\n",
    "    print('Training process has finished.')\n",
    "    print('Final loss', loss.item())\n",
    "    \n",
    "    true_labels = []\n",
    "    pred_labels = []\n",
    "    with torch.no_grad():\n",
    "        model.eval()\n",
    "        for i, data in enumerate(test_loader):\n",
    "            data = data.to(device)\n",
    "            out = model(data, data.batch)\n",
    "            pred_labels.extend(torch.round(out.squeeze()).tolist())\n",
    "            true_labels.extend(data.y.tolist())\n",
    "    \n",
    "    results = calculate_accuracy_precision_recall(true_labels, pred_labels)\n",
    "    \n",
    "    print(results)\n",
    "    return results"
   ]
  },
  {
   "cell_type": "code",
   "execution_count": 57,
   "metadata": {},
   "outputs": [
    {
     "name": "stdout",
     "output_type": "stream",
     "text": [
      "GraphConvGloveClassifier(\n",
      "  (conv1): GraphConv(100, 10)\n",
      "  (linear1): Linear(in_features=10, out_features=1, bias=True)\n",
      "  (sigmoid): Sigmoid()\n",
      ")\n",
      "Epoch: 0, Epoch loss 0.5745275020599365\n",
      "Epoch: 1, Epoch loss 0.5559797883033752\n",
      "Epoch: 2, Epoch loss 0.5496010184288025\n",
      "Epoch: 3, Epoch loss 0.548589825630188\n",
      "Epoch: 4, Epoch loss 0.5505567193031311\n",
      "Epoch: 5, Epoch loss 0.5432544946670532\n",
      "Epoch: 6, Epoch loss 0.5322282314300537\n",
      "Epoch: 7, Epoch loss 0.5395486950874329\n",
      "Epoch: 8, Epoch loss 0.5422508716583252\n",
      "Epoch: 9, Epoch loss 0.5387610197067261\n",
      "Training process has finished.\n",
      "Final loss 0.5387610197067261\n",
      "(0.7493349383982048, 0.7614561350618029, 0.7382751413998216)\n",
      "GraphConvGloveClassifier(\n",
      "  (conv1): GraphConv(100, 10)\n",
      "  (linear1): Linear(in_features=10, out_features=1, bias=True)\n",
      "  (sigmoid): Sigmoid()\n",
      ")\n",
      "Epoch: 0, Epoch loss 0.5583705902099609\n",
      "Epoch: 1, Epoch loss 0.5755577087402344\n",
      "Epoch: 2, Epoch loss 0.5558893084526062\n",
      "Epoch: 3, Epoch loss 0.5428469777107239\n",
      "Epoch: 4, Epoch loss 0.5594197511672974\n",
      "Epoch: 5, Epoch loss 0.5347062349319458\n",
      "Epoch: 6, Epoch loss 0.5387628078460693\n",
      "Epoch: 7, Epoch loss 0.5406796932220459\n",
      "Epoch: 8, Epoch loss 0.5285584926605225\n",
      "Epoch: 9, Epoch loss 0.5476900339126587\n",
      "Training process has finished.\n",
      "Final loss 0.5476900339126587\n",
      "(0.7477818895180347, 0.7657740985678829, 0.7259985677330723)\n",
      "GraphConvGloveClassifier(\n",
      "  (conv1): GraphConv(100, 10)\n",
      "  (linear1): Linear(in_features=10, out_features=1, bias=True)\n",
      "  (sigmoid): Sigmoid()\n",
      ")\n",
      "Epoch: 0, Epoch loss 0.5583885312080383\n",
      "Epoch: 1, Epoch loss 0.5567627549171448\n",
      "Epoch: 2, Epoch loss 0.5505344271659851\n",
      "Epoch: 3, Epoch loss 0.5557454228401184\n",
      "Epoch: 4, Epoch loss 0.5409022569656372\n",
      "Epoch: 5, Epoch loss 0.5256568193435669\n",
      "Epoch: 6, Epoch loss 0.5476590394973755\n",
      "Epoch: 7, Epoch loss 0.5302699208259583\n",
      "Epoch: 8, Epoch loss 0.5464558005332947\n",
      "Epoch: 9, Epoch loss 0.5199502110481262\n",
      "Training process has finished.\n",
      "Final loss 0.5199502110481262\n",
      "(0.7489039487568178, 0.7621174048620992, 0.7358198266664718)\n",
      "GraphConvGloveClassifier(\n",
      "  (conv1): GraphConv(100, 10)\n",
      "  (linear1): Linear(in_features=10, out_features=1, bias=True)\n",
      "  (sigmoid): Sigmoid()\n",
      ")\n",
      "Epoch: 0, Epoch loss 0.571720540523529\n",
      "Epoch: 1, Epoch loss 0.551676869392395\n",
      "Epoch: 2, Epoch loss 0.5272691249847412\n",
      "Epoch: 3, Epoch loss 0.5547720193862915\n",
      "Epoch: 4, Epoch loss 0.5443404316902161\n",
      "Epoch: 5, Epoch loss 0.554814875125885\n",
      "Epoch: 6, Epoch loss 0.5153452754020691\n",
      "Epoch: 7, Epoch loss 0.5529419183731079\n",
      "Epoch: 8, Epoch loss 0.549262285232544\n",
      "Epoch: 9, Epoch loss 0.5287786722183228\n",
      "Training process has finished.\n",
      "Final loss 0.5287786722183228\n",
      "(0.7489633956039057, 0.7678046819432848, 0.7257354982973562)\n",
      "GraphConvGloveClassifier(\n",
      "  (conv1): GraphConv(100, 10)\n",
      "  (linear1): Linear(in_features=10, out_features=1, bias=True)\n",
      "  (sigmoid): Sigmoid()\n",
      ")\n",
      "Epoch: 0, Epoch loss 0.5877975821495056\n",
      "Epoch: 1, Epoch loss 0.5390661358833313\n",
      "Epoch: 2, Epoch loss 0.5473544597625732\n",
      "Epoch: 3, Epoch loss 0.551782488822937\n",
      "Epoch: 4, Epoch loss 0.5224800109863281\n",
      "Epoch: 5, Epoch loss 0.5303766131401062\n",
      "Epoch: 6, Epoch loss 0.5324700474739075\n",
      "Epoch: 7, Epoch loss 0.5294528007507324\n",
      "Epoch: 8, Epoch loss 0.5504425168037415\n",
      "Epoch: 9, Epoch loss 0.5268735885620117\n",
      "Training process has finished.\n",
      "Final loss 0.5268735885620117\n",
      "(0.7491268744333972, 0.7618213131099495, 0.737003639127194)\n",
      "GraphConvGloveClassifier(\n",
      "  (conv1): GraphConv(100, 10)\n",
      "  (linear1): Linear(in_features=10, out_features=1, bias=True)\n",
      "  (sigmoid): Sigmoid()\n",
      ")\n",
      "Epoch: 0, Epoch loss 0.5619212985038757\n",
      "Epoch: 1, Epoch loss 0.5607005953788757\n",
      "Epoch: 2, Epoch loss 0.5603673458099365\n",
      "Epoch: 3, Epoch loss 0.5518146753311157\n",
      "Epoch: 4, Epoch loss 0.5420727133750916\n",
      "Epoch: 5, Epoch loss 0.5310466289520264\n",
      "Epoch: 6, Epoch loss 0.5177930593490601\n",
      "Epoch: 7, Epoch loss 0.5230008363723755\n",
      "Epoch: 8, Epoch loss 0.5468482971191406\n",
      "Epoch: 9, Epoch loss 0.5445780158042908\n",
      "Training process has finished.\n",
      "Final loss 0.5445780158042908\n",
      "(0.7493869543894066, 0.7658651709499946, 0.7303830583283399)\n",
      "GraphConvGloveClassifier(\n",
      "  (conv1): GraphConv(100, 10)\n",
      "  (linear1): Linear(in_features=10, out_features=1, bias=True)\n",
      "  (sigmoid): Sigmoid()\n",
      ")\n",
      "Epoch: 0, Epoch loss 0.5627827048301697\n",
      "Epoch: 1, Epoch loss 0.5490546226501465\n",
      "Epoch: 2, Epoch loss 0.5393643379211426\n",
      "Epoch: 3, Epoch loss 0.5544554591178894\n",
      "Epoch: 4, Epoch loss 0.5605681538581848\n",
      "Epoch: 5, Epoch loss 0.5400360822677612\n",
      "Epoch: 6, Epoch loss 0.5268915295600891\n",
      "Epoch: 7, Epoch loss 0.5378578901290894\n",
      "Epoch: 8, Epoch loss 0.5440875291824341\n",
      "Epoch: 9, Epoch loss 0.5234173536300659\n",
      "Training process has finished.\n",
      "Final loss 0.5234173536300659\n",
      "(0.7499145451573113, 0.7636655948553055, 0.7358636715724245)\n",
      "GraphConvGloveClassifier(\n",
      "  (conv1): GraphConv(100, 10)\n",
      "  (linear1): Linear(in_features=10, out_features=1, bias=True)\n",
      "  (sigmoid): Sigmoid()\n",
      ")\n",
      "Epoch: 0, Epoch loss 0.566949725151062\n",
      "Epoch: 1, Epoch loss 0.5690540671348572\n",
      "Epoch: 2, Epoch loss 0.5490261912345886\n",
      "Epoch: 3, Epoch loss 0.5254577994346619\n",
      "Epoch: 4, Epoch loss 0.5426356196403503\n",
      "Epoch: 5, Epoch loss 0.5520103573799133\n",
      "Epoch: 6, Epoch loss 0.5432602763175964\n",
      "Epoch: 7, Epoch loss 0.5332013964653015\n",
      "Epoch: 8, Epoch loss 0.5480590462684631\n",
      "Epoch: 9, Epoch loss 0.5351232886314392\n",
      "Training process has finished.\n",
      "Final loss 0.5351232886314392\n",
      "(0.750003715427943, 0.7677609090629138, 0.72874618183944)\n",
      "GraphConvGloveClassifier(\n",
      "  (conv1): GraphConv(100, 10)\n",
      "  (linear1): Linear(in_features=10, out_features=1, bias=True)\n",
      "  (sigmoid): Sigmoid()\n",
      ")\n",
      "Epoch: 0, Epoch loss 0.5651378035545349\n",
      "Epoch: 1, Epoch loss 0.5697611570358276\n",
      "Epoch: 2, Epoch loss 0.52962327003479\n",
      "Epoch: 3, Epoch loss 0.562309980392456\n",
      "Epoch: 4, Epoch loss 0.546972930431366\n",
      "Epoch: 5, Epoch loss 0.5429796576499939\n",
      "Epoch: 6, Epoch loss 0.5565909147262573\n",
      "Epoch: 7, Epoch loss 0.5422329902648926\n",
      "Epoch: 8, Epoch loss 0.5417546629905701\n",
      "Epoch: 9, Epoch loss 0.5350931882858276\n",
      "Training process has finished.\n",
      "Final loss 0.5350931882858276\n",
      "(0.7494389703806085, 0.7605014262122805, 0.7403504669482484)\n",
      "GraphConvGloveClassifier(\n",
      "  (conv1): GraphConv(100, 10)\n",
      "  (linear1): Linear(in_features=10, out_features=1, bias=True)\n",
      "  (sigmoid): Sigmoid()\n",
      ")\n",
      "Epoch: 0, Epoch loss 0.5573821067810059\n",
      "Epoch: 1, Epoch loss 0.5618400573730469\n",
      "Epoch: 2, Epoch loss 0.5341060757637024\n",
      "Epoch: 3, Epoch loss 0.5430130362510681\n",
      "Epoch: 4, Epoch loss 0.5393846035003662\n",
      "Epoch: 5, Epoch loss 0.5572565793991089\n",
      "Epoch: 6, Epoch loss 0.5491582751274109\n",
      "Epoch: 7, Epoch loss 0.561761736869812\n",
      "Epoch: 8, Epoch loss 0.5440984964370728\n",
      "Epoch: 9, Epoch loss 0.532836377620697\n",
      "Training process has finished.\n",
      "Final loss 0.532836377620697\n",
      "(0.7497287737601617, 0.7653150057273769, 0.7323414641275594)\n"
     ]
    }
   ],
   "source": [
    "graphconv_glove_evaluation_results = []\n",
    "for num in global_random_numbers:\n",
    "    torch.manual_seed(num)\n",
    "    graphconv_glove_evaluation_results.append(run_graphconv_glove_classifier())"
   ]
  },
  {
   "cell_type": "markdown",
   "metadata": {},
   "source": [
    "## <font color='red'>GloVe + GraphConv results</font>"
   ]
  },
  {
   "cell_type": "code",
   "execution_count": 58,
   "metadata": {
    "scrolled": true
   },
   "outputs": [
    {
     "name": "stdout",
     "output_type": "stream",
     "text": [
      "Avg accuracy | Avg precision | Avg recall\n",
      "0.7493+-0.0006, 0.7642+-0.0025, 0.7331+-0.0049\n"
     ]
    }
   ],
   "source": [
    "print_evaluation_results(graphconv_glove_evaluation_results)"
   ]
  },
  {
   "cell_type": "markdown",
   "metadata": {},
   "source": [
    "## Glove + SAGEConv"
   ]
  },
  {
   "cell_type": "code",
   "execution_count": 59,
   "metadata": {},
   "outputs": [],
   "source": [
    "class SAGEConvGloveClassifier(torch.nn.Module):\n",
    "    def __init__(self):\n",
    "        super().__init__()\n",
    "        #torch.manual_seed(12345)\n",
    "        \n",
    "        self.conv1 = SAGEConv(100, 10)\n",
    "        self.linear1 = torch.nn.Linear(10, 1)\n",
    "        \n",
    "        self.sigmoid = torch.nn.Sigmoid()\n",
    "\n",
    "    def forward(self, data, batch):\n",
    "        x, edge_index = data.x, data.edge_index\n",
    "        \n",
    "        x = F.elu(self.conv1(x, edge_index))\n",
    "        x = global_mean_pool(x, batch)\n",
    "        x = F.dropout(x, p=0.5, training=self.training)\n",
    "        x = self.linear1(x)\n",
    "        x = self.sigmoid(x)\n",
    "        \n",
    "        return x"
   ]
  },
  {
   "cell_type": "code",
   "execution_count": 60,
   "metadata": {},
   "outputs": [],
   "source": [
    "def run_sageconv_glove_classifier(train_batch_size=300, learning_rate=0.001, num_epoch=10):\n",
    "    train_loader = DataLoader(train_pyg_graphs_glove, batch_size=train_batch_size, shuffle=False)\n",
    "    test_loader = DataLoader(test_pyg_graphs_glove, batch_size=200, shuffle=False)\n",
    "    \n",
    "    model = SAGEConvGloveClassifier().to(device)\n",
    "    print(model)\n",
    "    # Define the loss function and optimizer\n",
    "    loss_function = F.binary_cross_entropy\n",
    "    optimizer = torch.optim.Adam(model.parameters(), lr=learning_rate)\n",
    "\n",
    "    model.train()\n",
    "    for epoch in range(0, num_epoch):\n",
    "        for i, data in enumerate(train_loader):  # Iterate in batches over the training dataset.\n",
    "            data = data.to(device)\n",
    "            try:\n",
    "                out = model(data, data.batch)  # Perform a single forward pass.\n",
    "            except Exception as e:\n",
    "                print(data)\n",
    "                print(data.x)\n",
    "                print(data.y)\n",
    "            out = out.squeeze()\n",
    "            y = data.y.squeeze()\n",
    "            loss = loss_function(out, y)  # Compute the loss.\n",
    "            loss.backward()  # Derive gradients.\n",
    "            optimizer.step()  # Update parameters based on gradients.\n",
    "            optimizer.zero_grad()  # Clear gradients.\n",
    "        print(f'Epoch: {epoch}, Epoch loss {loss.item()}')\n",
    "\n",
    "    print('Training process has finished.')\n",
    "    print('Final loss', loss.item())\n",
    "    \n",
    "    true_labels = []\n",
    "    pred_labels = []\n",
    "    with torch.no_grad():\n",
    "        model.eval()\n",
    "        for i, data in enumerate(test_loader):\n",
    "            data = data.to(device)\n",
    "            out = model(data, data.batch)\n",
    "            pred_labels.extend(torch.round(out.squeeze()).tolist())\n",
    "            true_labels.extend(data.y.tolist())\n",
    "    \n",
    "    results = calculate_accuracy_precision_recall(true_labels, pred_labels)\n",
    "    \n",
    "    print(results)\n",
    "    return results"
   ]
  },
  {
   "cell_type": "code",
   "execution_count": 61,
   "metadata": {},
   "outputs": [
    {
     "name": "stdout",
     "output_type": "stream",
     "text": [
      "SAGEConvGloveClassifier(\n",
      "  (conv1): SAGEConv(100, 10)\n",
      "  (linear1): Linear(in_features=10, out_features=1, bias=True)\n",
      "  (sigmoid): Sigmoid()\n",
      ")\n",
      "Epoch: 0, Epoch loss 0.5745275020599365\n",
      "Epoch: 1, Epoch loss 0.55597984790802\n",
      "Epoch: 2, Epoch loss 0.5496010184288025\n",
      "Epoch: 3, Epoch loss 0.548589825630188\n",
      "Epoch: 4, Epoch loss 0.5505567193031311\n",
      "Epoch: 5, Epoch loss 0.5432544946670532\n",
      "Epoch: 6, Epoch loss 0.5322282314300537\n",
      "Epoch: 7, Epoch loss 0.5395486950874329\n",
      "Epoch: 8, Epoch loss 0.54225093126297\n",
      "Epoch: 9, Epoch loss 0.5387610197067261\n",
      "Training process has finished.\n",
      "Final loss 0.5387610197067261\n",
      "(0.7493349383982048, 0.7614561350618029, 0.7382751413998216)\n",
      "SAGEConvGloveClassifier(\n",
      "  (conv1): SAGEConv(100, 10)\n",
      "  (linear1): Linear(in_features=10, out_features=1, bias=True)\n",
      "  (sigmoid): Sigmoid()\n",
      ")\n",
      "Epoch: 0, Epoch loss 0.5583705902099609\n",
      "Epoch: 1, Epoch loss 0.5755577087402344\n",
      "Epoch: 2, Epoch loss 0.5558893084526062\n",
      "Epoch: 3, Epoch loss 0.5428469777107239\n",
      "Epoch: 4, Epoch loss 0.5594196915626526\n",
      "Epoch: 5, Epoch loss 0.5347062349319458\n",
      "Epoch: 6, Epoch loss 0.5387628078460693\n",
      "Epoch: 7, Epoch loss 0.5406796932220459\n",
      "Epoch: 8, Epoch loss 0.5285584926605225\n",
      "Epoch: 9, Epoch loss 0.5476900339126587\n",
      "Training process has finished.\n",
      "Final loss 0.5476900339126587\n",
      "(0.7477818895180347, 0.7657740985678829, 0.7259985677330723)\n",
      "SAGEConvGloveClassifier(\n",
      "  (conv1): SAGEConv(100, 10)\n",
      "  (linear1): Linear(in_features=10, out_features=1, bias=True)\n",
      "  (sigmoid): Sigmoid()\n",
      ")\n",
      "Epoch: 0, Epoch loss 0.5583885312080383\n",
      "Epoch: 1, Epoch loss 0.5567627549171448\n",
      "Epoch: 2, Epoch loss 0.5505344271659851\n",
      "Epoch: 3, Epoch loss 0.5557454228401184\n",
      "Epoch: 4, Epoch loss 0.5409022569656372\n",
      "Epoch: 5, Epoch loss 0.5256567597389221\n",
      "Epoch: 6, Epoch loss 0.5476590394973755\n",
      "Epoch: 7, Epoch loss 0.5302698612213135\n",
      "Epoch: 8, Epoch loss 0.5464558005332947\n",
      "Epoch: 9, Epoch loss 0.5199502110481262\n",
      "Training process has finished.\n",
      "Final loss 0.5199502110481262\n",
      "(0.7489039487568178, 0.7621174048620992, 0.7358198266664718)\n",
      "SAGEConvGloveClassifier(\n",
      "  (conv1): SAGEConv(100, 10)\n",
      "  (linear1): Linear(in_features=10, out_features=1, bias=True)\n",
      "  (sigmoid): Sigmoid()\n",
      ")\n",
      "Epoch: 0, Epoch loss 0.5717204213142395\n",
      "Epoch: 1, Epoch loss 0.551676869392395\n",
      "Epoch: 2, Epoch loss 0.5272691249847412\n",
      "Epoch: 3, Epoch loss 0.5547720193862915\n",
      "Epoch: 4, Epoch loss 0.5443403720855713\n",
      "Epoch: 5, Epoch loss 0.554814875125885\n",
      "Epoch: 6, Epoch loss 0.5153452754020691\n",
      "Epoch: 7, Epoch loss 0.5529419183731079\n",
      "Epoch: 8, Epoch loss 0.549262285232544\n",
      "Epoch: 9, Epoch loss 0.5287786722183228\n",
      "Training process has finished.\n",
      "Final loss 0.5287786722183228\n",
      "(0.7489633956039057, 0.7678046819432848, 0.7257354982973562)\n",
      "SAGEConvGloveClassifier(\n",
      "  (conv1): SAGEConv(100, 10)\n",
      "  (linear1): Linear(in_features=10, out_features=1, bias=True)\n",
      "  (sigmoid): Sigmoid()\n",
      ")\n",
      "Epoch: 0, Epoch loss 0.5877975821495056\n",
      "Epoch: 1, Epoch loss 0.5390661358833313\n",
      "Epoch: 2, Epoch loss 0.5473544001579285\n",
      "Epoch: 3, Epoch loss 0.551782488822937\n",
      "Epoch: 4, Epoch loss 0.5224800109863281\n",
      "Epoch: 5, Epoch loss 0.5303766131401062\n",
      "Epoch: 6, Epoch loss 0.5324700474739075\n",
      "Epoch: 7, Epoch loss 0.5294528603553772\n",
      "Epoch: 8, Epoch loss 0.5504425168037415\n",
      "Epoch: 9, Epoch loss 0.5268735885620117\n",
      "Training process has finished.\n",
      "Final loss 0.5268735885620117\n",
      "(0.7491268744333972, 0.7618213131099495, 0.737003639127194)\n",
      "SAGEConvGloveClassifier(\n",
      "  (conv1): SAGEConv(100, 10)\n",
      "  (linear1): Linear(in_features=10, out_features=1, bias=True)\n",
      "  (sigmoid): Sigmoid()\n",
      ")\n",
      "Epoch: 0, Epoch loss 0.5619212985038757\n",
      "Epoch: 1, Epoch loss 0.5607005953788757\n",
      "Epoch: 2, Epoch loss 0.5603673458099365\n",
      "Epoch: 3, Epoch loss 0.551814615726471\n",
      "Epoch: 4, Epoch loss 0.5420726537704468\n",
      "Epoch: 5, Epoch loss 0.5310466289520264\n",
      "Epoch: 6, Epoch loss 0.5177929401397705\n",
      "Epoch: 7, Epoch loss 0.5230008363723755\n",
      "Epoch: 8, Epoch loss 0.5468482971191406\n",
      "Epoch: 9, Epoch loss 0.5445780754089355\n",
      "Training process has finished.\n",
      "Final loss 0.5445780754089355\n",
      "(0.7493869543894066, 0.7658651709499946, 0.7303830583283399)\n",
      "SAGEConvGloveClassifier(\n",
      "  (conv1): SAGEConv(100, 10)\n",
      "  (linear1): Linear(in_features=10, out_features=1, bias=True)\n",
      "  (sigmoid): Sigmoid()\n",
      ")\n",
      "Epoch: 0, Epoch loss 0.5627827048301697\n",
      "Epoch: 1, Epoch loss 0.5490545630455017\n",
      "Epoch: 2, Epoch loss 0.5393643379211426\n",
      "Epoch: 3, Epoch loss 0.5544554591178894\n",
      "Epoch: 4, Epoch loss 0.5605681538581848\n",
      "Epoch: 5, Epoch loss 0.5400360822677612\n",
      "Epoch: 6, Epoch loss 0.5268914699554443\n",
      "Epoch: 7, Epoch loss 0.5378578901290894\n",
      "Epoch: 8, Epoch loss 0.5440875291824341\n",
      "Epoch: 9, Epoch loss 0.5234173536300659\n",
      "Training process has finished.\n",
      "Final loss 0.5234173536300659\n",
      "(0.7499145451573113, 0.7636655948553055, 0.7358636715724245)\n",
      "SAGEConvGloveClassifier(\n",
      "  (conv1): SAGEConv(100, 10)\n",
      "  (linear1): Linear(in_features=10, out_features=1, bias=True)\n",
      "  (sigmoid): Sigmoid()\n",
      ")\n",
      "Epoch: 0, Epoch loss 0.566949725151062\n",
      "Epoch: 1, Epoch loss 0.5690540671348572\n",
      "Epoch: 2, Epoch loss 0.5490261912345886\n",
      "Epoch: 3, Epoch loss 0.5254577994346619\n",
      "Epoch: 4, Epoch loss 0.5426356196403503\n",
      "Epoch: 5, Epoch loss 0.5520103573799133\n",
      "Epoch: 6, Epoch loss 0.5432603359222412\n",
      "Epoch: 7, Epoch loss 0.5332014560699463\n",
      "Epoch: 8, Epoch loss 0.5480591058731079\n",
      "Epoch: 9, Epoch loss 0.5351232886314392\n",
      "Training process has finished.\n",
      "Final loss 0.5351232886314392\n",
      "(0.750003715427943, 0.7677609090629138, 0.72874618183944)\n",
      "SAGEConvGloveClassifier(\n",
      "  (conv1): SAGEConv(100, 10)\n",
      "  (linear1): Linear(in_features=10, out_features=1, bias=True)\n",
      "  (sigmoid): Sigmoid()\n",
      ")\n",
      "Epoch: 0, Epoch loss 0.5651378035545349\n",
      "Epoch: 1, Epoch loss 0.5697611570358276\n",
      "Epoch: 2, Epoch loss 0.5296233296394348\n",
      "Epoch: 3, Epoch loss 0.562309980392456\n",
      "Epoch: 4, Epoch loss 0.546972930431366\n",
      "Epoch: 5, Epoch loss 0.5429796576499939\n",
      "Epoch: 6, Epoch loss 0.5565909147262573\n",
      "Epoch: 7, Epoch loss 0.5422329902648926\n",
      "Epoch: 8, Epoch loss 0.5417546033859253\n",
      "Epoch: 9, Epoch loss 0.5350932478904724\n",
      "Training process has finished.\n",
      "Final loss 0.5350932478904724\n",
      "(0.7494389703806085, 0.7605014262122805, 0.7403504669482484)\n",
      "SAGEConvGloveClassifier(\n",
      "  (conv1): SAGEConv(100, 10)\n",
      "  (linear1): Linear(in_features=10, out_features=1, bias=True)\n",
      "  (sigmoid): Sigmoid()\n",
      ")\n",
      "Epoch: 0, Epoch loss 0.5573821067810059\n",
      "Epoch: 1, Epoch loss 0.5618400573730469\n",
      "Epoch: 2, Epoch loss 0.5341060757637024\n",
      "Epoch: 3, Epoch loss 0.5430130958557129\n",
      "Epoch: 4, Epoch loss 0.5393846035003662\n",
      "Epoch: 5, Epoch loss 0.5572565793991089\n",
      "Epoch: 6, Epoch loss 0.5491582155227661\n",
      "Epoch: 7, Epoch loss 0.561761736869812\n",
      "Epoch: 8, Epoch loss 0.5440984964370728\n",
      "Epoch: 9, Epoch loss 0.5328363180160522\n",
      "Training process has finished.\n",
      "Final loss 0.5328363180160522\n",
      "(0.7497287737601617, 0.7653150057273769, 0.7323414641275594)\n"
     ]
    }
   ],
   "source": [
    "sageconv_glove_evaluation_results = []\n",
    "for num in global_random_numbers:\n",
    "    torch.manual_seed(num)\n",
    "    sageconv_glove_evaluation_results.append(run_sageconv_glove_classifier())"
   ]
  },
  {
   "cell_type": "markdown",
   "metadata": {},
   "source": [
    "## <font color='red'>GloVe + SAGEConv results</font>"
   ]
  },
  {
   "cell_type": "code",
   "execution_count": 62,
   "metadata": {
    "scrolled": true
   },
   "outputs": [
    {
     "name": "stdout",
     "output_type": "stream",
     "text": [
      "Avg accuracy | Avg precision | Avg recall\n",
      "0.7493+-0.0006, 0.7642+-0.0025, 0.7331+-0.0049\n"
     ]
    }
   ],
   "source": [
    "print_evaluation_results(sageconv_glove_evaluation_results)"
   ]
  },
  {
   "cell_type": "code",
   "execution_count": 84,
   "metadata": {},
   "outputs": [],
   "source": [
    "del pytorch_geometric_graphs_glove\n",
    "del train_pyg_graphs_glove\n",
    "del test_pyg_graphs_glove"
   ]
  },
  {
   "cell_type": "markdown",
   "metadata": {},
   "source": [
    "# Parameter Sensitivity"
   ]
  },
  {
   "cell_type": "code",
   "execution_count": 85,
   "metadata": {},
   "outputs": [
    {
     "data": {
      "text/plain": [
       "<torch._C.Generator at 0x164a23be7f0>"
      ]
     },
     "execution_count": 85,
     "metadata": {},
     "output_type": "execute_result"
    }
   ],
   "source": [
    "torch.manual_seed(12345)"
   ]
  },
  {
   "cell_type": "markdown",
   "metadata": {},
   "source": [
    "## Sliding window"
   ]
  },
  {
   "cell_type": "code",
   "execution_count": 63,
   "metadata": {},
   "outputs": [],
   "source": [
    "def run_sliding_window_experiments():\n",
    "    sliding_windows = [2, 3, 4, 6, 7, 10]\n",
    "    \n",
    "    sliding_window_results = []\n",
    "    for sw in sliding_windows:\n",
    "        print('Window size:', sw)\n",
    "        pytorch_geometric_graphs = generate_pytorch_geometric_graphs(window_size=sw)\n",
    "        train_pyg_graphs, test_pyg_graphs = train_test_split(pytorch_geometric_graphs, test_size=0.33, random_state=42)\n",
    "        sliding_window_results.append((sw, run_gat_classifier(train_pyg_graphs, test_pyg_graphs)))\n",
    "    return sliding_window_results"
   ]
  },
  {
   "cell_type": "code",
   "execution_count": 64,
   "metadata": {
    "scrolled": false
   },
   "outputs": [
    {
     "name": "stderr",
     "output_type": "stream",
     "text": [
      "  0%|                                                                                                                                  | 36/407799 [00:00<21:14, 320.00it/s]"
     ]
    },
    {
     "name": "stdout",
     "output_type": "stream",
     "text": [
      "Window size: 2\n"
     ]
    },
    {
     "name": "stderr",
     "output_type": "stream",
     "text": [
      "100%|██████████████████████████████████████████████████████████████████████████████████████████████████████████████████████████████| 407799/407799 [07:57<00:00, 853.58it/s]\n"
     ]
    },
    {
     "name": "stdout",
     "output_type": "stream",
     "text": [
      "finished...\n",
      "GATClassifier(\n",
      "  (conv1): GATConv(100, 10, heads=3)\n",
      "  (linear1): Linear(in_features=30, out_features=1, bias=True)\n",
      "  (sigmoid): Sigmoid()\n",
      ")\n",
      "Epoch: 0, Epoch loss 0.341723769903183\n",
      "Epoch: 1, Epoch loss 0.33857569098472595\n",
      "Epoch: 2, Epoch loss 0.33548077940940857\n",
      "Epoch: 3, Epoch loss 0.33855491876602173\n",
      "Epoch: 4, Epoch loss 0.31899333000183105\n",
      "Epoch: 5, Epoch loss 0.32528042793273926\n",
      "Epoch: 6, Epoch loss 0.3359460234642029\n",
      "Epoch: 7, Epoch loss 0.3326582908630371\n",
      "Epoch: 8, Epoch loss 0.33143651485443115\n",
      "Epoch: 9, Epoch loss 0.3279431462287903\n",
      "Training process has finished.\n",
      "Final loss 0.3279431462287903\n"
     ]
    },
    {
     "name": "stderr",
     "output_type": "stream",
     "text": [
      "  0%|                                                                                                                                  | 82/407799 [00:00<09:14, 735.17it/s]"
     ]
    },
    {
     "name": "stdout",
     "output_type": "stream",
     "text": [
      "(0.7988393003106098, 0.8136053389959047, 0.7839615334025108)\n",
      "Window size: 3\n"
     ]
    },
    {
     "name": "stderr",
     "output_type": "stream",
     "text": [
      "100%|██████████████████████████████████████████████████████████████████████████████████████████████████████████████████████████████| 407799/407799 [09:44<00:00, 697.59it/s]\n"
     ]
    },
    {
     "name": "stdout",
     "output_type": "stream",
     "text": [
      "finished...\n",
      "GATClassifier(\n",
      "  (conv1): GATConv(100, 10, heads=3)\n",
      "  (linear1): Linear(in_features=30, out_features=1, bias=True)\n",
      "  (sigmoid): Sigmoid()\n",
      ")\n",
      "Epoch: 0, Epoch loss 0.33568957448005676\n",
      "Epoch: 1, Epoch loss 0.33460137248039246\n",
      "Epoch: 2, Epoch loss 0.34338924288749695\n",
      "Epoch: 3, Epoch loss 0.3310447633266449\n",
      "Epoch: 4, Epoch loss 0.3378232717514038\n",
      "Epoch: 5, Epoch loss 0.321679949760437\n",
      "Epoch: 6, Epoch loss 0.33219748735427856\n",
      "Epoch: 7, Epoch loss 0.3305736184120178\n",
      "Epoch: 8, Epoch loss 0.3110933303833008\n",
      "Epoch: 9, Epoch loss 0.3259241282939911\n",
      "Training process has finished.\n",
      "Final loss 0.3259241282939911\n"
     ]
    },
    {
     "name": "stderr",
     "output_type": "stream",
     "text": [
      "  0%|                                                                                                                                  | 65/407799 [00:00<11:38, 583.78it/s]"
     ]
    },
    {
     "name": "stdout",
     "output_type": "stream",
     "text": [
      "(0.7997310030169275, 0.8111924843173155, 0.7899829004866784)\n",
      "Window size: 4\n"
     ]
    },
    {
     "name": "stderr",
     "output_type": "stream",
     "text": [
      "100%|██████████████████████████████████████████████████████████████████████████████████████████████████████████████████████████████| 407799/407799 [11:26<00:00, 594.24it/s]\n"
     ]
    },
    {
     "name": "stdout",
     "output_type": "stream",
     "text": [
      "finished...\n",
      "GATClassifier(\n",
      "  (conv1): GATConv(100, 10, heads=3)\n",
      "  (linear1): Linear(in_features=30, out_features=1, bias=True)\n",
      "  (sigmoid): Sigmoid()\n",
      ")\n",
      "Epoch: 0, Epoch loss 0.34894222021102905\n",
      "Epoch: 1, Epoch loss 0.3417663872241974\n",
      "Epoch: 2, Epoch loss 0.34270673990249634\n",
      "Epoch: 3, Epoch loss 0.3251754939556122\n",
      "Epoch: 4, Epoch loss 0.32901903986930847\n",
      "Epoch: 5, Epoch loss 0.3247254490852356\n",
      "Epoch: 6, Epoch loss 0.3386484980583191\n",
      "Epoch: 7, Epoch loss 0.33117735385894775\n",
      "Epoch: 8, Epoch loss 0.32870396971702576\n",
      "Epoch: 9, Epoch loss 0.3418351113796234\n",
      "Training process has finished.\n",
      "Final loss 0.3418351113796234\n"
     ]
    },
    {
     "name": "stderr",
     "output_type": "stream",
     "text": [
      "  0%|                                                                                                                                  | 48/407799 [00:00<14:20, 473.76it/s]"
     ]
    },
    {
     "name": "stdout",
     "output_type": "stream",
     "text": [
      "(0.8008976473910265, 0.8087700820340894, 0.7968080908466452)\n",
      "Window size: 6\n"
     ]
    },
    {
     "name": "stderr",
     "output_type": "stream",
     "text": [
      "100%|██████████████████████████████████████████████████████████████████████████████████████████████████████████████████████████████| 407799/407799 [14:13<00:00, 478.04it/s]\n"
     ]
    },
    {
     "name": "stdout",
     "output_type": "stream",
     "text": [
      "finished...\n",
      "GATClassifier(\n",
      "  (conv1): GATConv(100, 10, heads=3)\n",
      "  (linear1): Linear(in_features=30, out_features=1, bias=True)\n",
      "  (sigmoid): Sigmoid()\n",
      ")\n",
      "Epoch: 0, Epoch loss 0.33756187558174133\n",
      "Epoch: 1, Epoch loss 0.3336953818798065\n",
      "Epoch: 2, Epoch loss 0.3483058512210846\n",
      "Epoch: 3, Epoch loss 0.3413253724575043\n",
      "Epoch: 4, Epoch loss 0.34698179364204407\n",
      "Epoch: 5, Epoch loss 0.33611732721328735\n",
      "Epoch: 6, Epoch loss 0.32956233620643616\n",
      "Epoch: 7, Epoch loss 0.3375721275806427\n",
      "Epoch: 8, Epoch loss 0.3272240161895752\n",
      "Epoch: 9, Epoch loss 0.33081743121147156\n",
      "Training process has finished.\n",
      "Final loss 0.33081743121147156\n"
     ]
    },
    {
     "name": "stderr",
     "output_type": "stream",
     "text": [
      "  0%|                                                                                                                                  | 51/407799 [00:00<14:59, 453.32it/s]"
     ]
    },
    {
     "name": "stdout",
     "output_type": "stream",
     "text": [
      "(0.8020494300533535, 0.8124644790763064, 0.7939289420224194)\n",
      "Window size: 7\n"
     ]
    },
    {
     "name": "stderr",
     "output_type": "stream",
     "text": [
      "100%|██████████████████████████████████████████████████████████████████████████████████████████████████████████████████████████████| 407799/407799 [15:38<00:00, 434.65it/s]\n"
     ]
    },
    {
     "name": "stdout",
     "output_type": "stream",
     "text": [
      "finished...\n",
      "GATClassifier(\n",
      "  (conv1): GATConv(100, 10, heads=3)\n",
      "  (linear1): Linear(in_features=30, out_features=1, bias=True)\n",
      "  (sigmoid): Sigmoid()\n",
      ")\n",
      "Epoch: 0, Epoch loss 0.35588401556015015\n",
      "Epoch: 1, Epoch loss 0.34730130434036255\n",
      "Epoch: 2, Epoch loss 0.33502957224845886\n",
      "Epoch: 3, Epoch loss 0.34735891222953796\n",
      "Epoch: 4, Epoch loss 0.3401769995689392\n",
      "Epoch: 5, Epoch loss 0.34660980105400085\n",
      "Epoch: 6, Epoch loss 0.3411772549152374\n",
      "Epoch: 7, Epoch loss 0.3468536138534546\n",
      "Epoch: 8, Epoch loss 0.3255384564399719\n",
      "Epoch: 9, Epoch loss 0.3351655602455139\n",
      "Training process has finished.\n",
      "Final loss 0.3351655602455139\n"
     ]
    },
    {
     "name": "stderr",
     "output_type": "stream",
     "text": [
      "  0%|                                                                                                                                  | 43/407799 [00:00<17:25, 389.99it/s]"
     ]
    },
    {
     "name": "stdout",
     "output_type": "stream",
     "text": [
      "(0.802287217441705, 0.8147941822999789, 0.7909182584803356)\n",
      "Window size: 10\n"
     ]
    },
    {
     "name": "stderr",
     "output_type": "stream",
     "text": [
      "100%|██████████████████████████████████████████████████████████████████████████████████████████████████████████████████████████████| 407799/407799 [19:17<00:00, 352.45it/s]\n"
     ]
    },
    {
     "name": "stdout",
     "output_type": "stream",
     "text": [
      "finished...\n",
      "GATClassifier(\n",
      "  (conv1): GATConv(100, 10, heads=3)\n",
      "  (linear1): Linear(in_features=30, out_features=1, bias=True)\n",
      "  (sigmoid): Sigmoid()\n",
      ")\n",
      "Epoch: 0, Epoch loss 0.34480515122413635\n",
      "Epoch: 1, Epoch loss 0.34981587529182434\n",
      "Epoch: 2, Epoch loss 0.3372192084789276\n",
      "Epoch: 3, Epoch loss 0.34986621141433716\n",
      "Epoch: 4, Epoch loss 0.3541007339954376\n",
      "Epoch: 5, Epoch loss 0.32101941108703613\n",
      "Epoch: 6, Epoch loss 0.3293026089668274\n",
      "Epoch: 7, Epoch loss 0.3244684338569641\n",
      "Epoch: 8, Epoch loss 0.33666738867759705\n",
      "Epoch: 9, Epoch loss 0.3336566090583801\n",
      "Training process has finished.\n",
      "Final loss 0.3336566090583801\n",
      "(0.8023466642887928, 0.8117285790948662, 0.7958435029156863)\n"
     ]
    }
   ],
   "source": [
    "sliding_window_results = run_sliding_window_experiments()\n",
    "sliding_window_results = [[sw, results[0]] for sw, results in sliding_window_results]"
   ]
  },
  {
   "cell_type": "markdown",
   "metadata": {},
   "source": [
    "## <font color='red'>Sliding window results</font>"
   ]
  },
  {
   "cell_type": "code",
   "execution_count": 65,
   "metadata": {},
   "outputs": [
    {
     "data": {
      "text/plain": [
       "[[2, 0.7988393003106098],\n",
       " [3, 0.7997310030169275],\n",
       " [4, 0.8008976473910265],\n",
       " [6, 0.8020494300533535],\n",
       " [7, 0.802287217441705],\n",
       " [10, 0.8023466642887928]]"
      ]
     },
     "execution_count": 65,
     "metadata": {},
     "output_type": "execute_result"
    }
   ],
   "source": [
    "plot_x = [res[0] for res in sliding_window_results]\n",
    "plot_y = [res[1] for res in sliding_window_results]\n",
    "sliding_window_results"
   ]
  },
  {
   "cell_type": "code",
   "execution_count": 66,
   "metadata": {},
   "outputs": [
    {
     "data": {
      "image/png": "[encoded data removed]",
      "text/plain": [
       "<Figure size 432x288 with 1 Axes>"
      ]
     },
     "metadata": {
      "needs_background": "light"
     },
     "output_type": "display_data"
    }
   ],
   "source": [
    "fig = sns.lineplot(x=plot_x, y=plot_y)\n",
    "fig.set_xlabel('window size')\n",
    "fig.set_ylabel('accuracy')\n",
    "fig.get_figure().savefig('figures/plot_window_size.pdf', dpi=500)"
   ]
  },
  {
   "cell_type": "markdown",
   "metadata": {},
   "source": [
    "## Learning rate"
   ]
  },
  {
   "cell_type": "code",
   "execution_count": 86,
   "metadata": {},
   "outputs": [],
   "source": [
    "def run_learning_rate_experiments():\n",
    "    learning_rates = [0.0001, 0.001, 0.005, 0.01, 0.05, 0.1, 0.5]\n",
    "    \n",
    "    learning_rate_results = []\n",
    "    for lr in learning_rates:\n",
    "        print('Learning rate:', lr)\n",
    "        #pytorch_geometric_graphs = generate_pytorch_geometric_graphs(window_size=2)\n",
    "        #train_pyg_graphs, test_pyg_graphs = train_test_split(pytorch_geometric_graphs, test_size=0.33, random_state=42)\n",
    "        learning_rate_results.append((lr, run_gat_classifier(train_pyg_graphs, test_pyg_graphs, learning_rate=lr)))\n",
    "    return learning_rate_results"
   ]
  },
  {
   "cell_type": "code",
   "execution_count": 87,
   "metadata": {
    "scrolled": false
   },
   "outputs": [
    {
     "name": "stdout",
     "output_type": "stream",
     "text": [
      "Learning rate: 0.0001\n",
      "GATClassifier(\n",
      "  (conv1): GATConv(100, 10, heads=3)\n",
      "  (linear1): Linear(in_features=30, out_features=1, bias=True)\n",
      "  (sigmoid): Sigmoid()\n",
      ")\n",
      "Epoch: 0, Epoch loss 0.47870588302612305\n",
      "Epoch: 1, Epoch loss 0.4043017625808716\n",
      "Epoch: 2, Epoch loss 0.37999847531318665\n",
      "Epoch: 3, Epoch loss 0.360528826713562\n",
      "Epoch: 4, Epoch loss 0.34516292810440063\n",
      "Epoch: 5, Epoch loss 0.35222962498664856\n",
      "Epoch: 6, Epoch loss 0.3370271325111389\n",
      "Epoch: 7, Epoch loss 0.3367801010608673\n",
      "Epoch: 8, Epoch loss 0.34466129541397095\n",
      "Epoch: 9, Epoch loss 0.3475971519947052\n",
      "Training process has finished.\n",
      "Final loss 0.3475971519947052\n",
      "(0.8019379672150638, 0.8125158992622742, 0.793563567806147)\n",
      "Learning rate: 0.001\n",
      "GATClassifier(\n",
      "  (conv1): GATConv(100, 10, heads=3)\n",
      "  (linear1): Linear(in_features=30, out_features=1, bias=True)\n",
      "  (sigmoid): Sigmoid()\n",
      ")\n",
      "Epoch: 0, Epoch loss 0.35780611634254456\n",
      "Epoch: 1, Epoch loss 0.34166011214256287\n",
      "Epoch: 2, Epoch loss 0.34958595037460327\n",
      "Epoch: 3, Epoch loss 0.3392091691493988\n",
      "Epoch: 4, Epoch loss 0.3430415093898773\n",
      "Epoch: 5, Epoch loss 0.3507891893386841\n",
      "Epoch: 6, Epoch loss 0.32246485352516174\n",
      "Epoch: 7, Epoch loss 0.33922842144966125\n",
      "Epoch: 8, Epoch loss 0.34535109996795654\n",
      "Epoch: 9, Epoch loss 0.32683897018432617\n",
      "Training process has finished.\n",
      "Final loss 0.32683897018432617\n",
      "(0.8020345683415816, 0.8080814039227253, 0.8008418221942913)\n",
      "Learning rate: 0.005\n",
      "GATClassifier(\n",
      "  (conv1): GATConv(100, 10, heads=3)\n",
      "  (linear1): Linear(in_features=30, out_features=1, bias=True)\n",
      "  (sigmoid): Sigmoid()\n",
      ")\n",
      "Epoch: 0, Epoch loss 0.33400073647499084\n",
      "Epoch: 1, Epoch loss 0.3361356556415558\n",
      "Epoch: 2, Epoch loss 0.3359036147594452\n",
      "Epoch: 3, Epoch loss 0.31593507528305054\n",
      "Epoch: 4, Epoch loss 0.3357071280479431\n",
      "Epoch: 5, Epoch loss 0.3428560793399811\n",
      "Epoch: 6, Epoch loss 0.34164050221443176\n",
      "Epoch: 7, Epoch loss 0.32574450969696045\n",
      "Epoch: 8, Epoch loss 0.30914220213890076\n",
      "Epoch: 9, Epoch loss 0.3025134801864624\n",
      "Training process has finished.\n",
      "Final loss 0.3025134801864624\n",
      "(0.8012320359058956, 0.8146347356023315, 0.7884775587156365)\n",
      "Learning rate: 0.01\n",
      "GATClassifier(\n",
      "  (conv1): GATConv(100, 10, heads=3)\n",
      "  (linear1): Linear(in_features=30, out_features=1, bias=True)\n",
      "  (sigmoid): Sigmoid()\n",
      ")\n",
      "Epoch: 0, Epoch loss 0.3369804322719574\n",
      "Epoch: 1, Epoch loss 0.3281642496585846\n",
      "Epoch: 2, Epoch loss 0.32943496108055115\n",
      "Epoch: 3, Epoch loss 0.32590973377227783\n",
      "Epoch: 4, Epoch loss 0.32542741298675537\n",
      "Epoch: 5, Epoch loss 0.32598012685775757\n",
      "Epoch: 6, Epoch loss 0.316648930311203\n",
      "Epoch: 7, Epoch loss 0.3093215227127075\n",
      "Epoch: 8, Epoch loss 0.3202632665634155\n",
      "Epoch: 9, Epoch loss 0.32153865694999695\n",
      "Training process has finished.\n",
      "Final loss 0.32153865694999695\n",
      "(0.8007415994174208, 0.8209305195606565, 0.7777501717258817)\n",
      "Learning rate: 0.05\n",
      "GATClassifier(\n",
      "  (conv1): GATConv(100, 10, heads=3)\n",
      "  (linear1): Linear(in_features=30, out_features=1, bias=True)\n",
      "  (sigmoid): Sigmoid()\n",
      ")\n",
      "Epoch: 0, Epoch loss 0.3426130712032318\n",
      "Epoch: 1, Epoch loss 0.3513719141483307\n",
      "Epoch: 2, Epoch loss 0.34208762645721436\n",
      "Epoch: 3, Epoch loss 0.3407774567604065\n",
      "Epoch: 4, Epoch loss 0.34025269746780396\n",
      "Epoch: 5, Epoch loss 0.3106960654258728\n",
      "Epoch: 6, Epoch loss 0.3325675129890442\n",
      "Epoch: 7, Epoch loss 0.34563809633255005\n",
      "Epoch: 8, Epoch loss 0.3566840887069702\n",
      "Epoch: 9, Epoch loss 0.321963369846344\n",
      "Training process has finished.\n",
      "Final loss 0.321963369846344\n",
      "(0.7999687904052789, 0.8046388725778039, 0.8010756616927057)\n",
      "Learning rate: 0.1\n",
      "GATClassifier(\n",
      "  (conv1): GATConv(100, 10, heads=3)\n",
      "  (linear1): Linear(in_features=30, out_features=1, bias=True)\n",
      "  (sigmoid): Sigmoid()\n",
      ")\n",
      "Epoch: 0, Epoch loss 0.3524785339832306\n",
      "Epoch: 1, Epoch loss 0.34259098768234253\n",
      "Epoch: 2, Epoch loss 0.3356328308582306\n",
      "Epoch: 3, Epoch loss 0.3298322260379791\n",
      "Epoch: 4, Epoch loss 0.3342677652835846\n",
      "Epoch: 5, Epoch loss 0.33266565203666687\n",
      "Epoch: 6, Epoch loss 0.35406312346458435\n",
      "Epoch: 7, Epoch loss 0.3224409520626068\n",
      "Epoch: 8, Epoch loss 0.3284236192703247\n",
      "Epoch: 9, Epoch loss 0.33421239256858826\n",
      "Training process has finished.\n",
      "Final loss 0.33421239256858826\n",
      "(0.7984380340927668, 0.8090982575893659, 0.7899536705493767)\n",
      "Learning rate: 0.5\n",
      "GATClassifier(\n",
      "  (conv1): GATConv(100, 10, heads=3)\n",
      "  (linear1): Linear(in_features=30, out_features=1, bias=True)\n",
      "  (sigmoid): Sigmoid()\n",
      ")\n",
      "Epoch: 0, Epoch loss 0.4950921833515167\n",
      "Epoch: 1, Epoch loss 0.5114354491233826\n",
      "Epoch: 2, Epoch loss 0.6103128790855408\n",
      "Epoch: 3, Epoch loss 0.6272362470626831\n",
      "Epoch: 4, Epoch loss 0.5174427032470703\n",
      "Epoch: 5, Epoch loss 0.5906485319137573\n",
      "Epoch: 6, Epoch loss 1.3071218729019165\n",
      "Epoch: 7, Epoch loss 0.647396445274353\n",
      "Epoch: 8, Epoch loss 0.6060694456100464\n",
      "Epoch: 9, Epoch loss 0.6938572525978088\n",
      "Training process has finished.\n",
      "Final loss 0.6938572525978088\n",
      "(0.49152882428998174, 0.375, 8.768981190535346e-05)\n"
     ]
    }
   ],
   "source": [
    "learning_rate_results = run_learning_rate_experiments()\n",
    "learning_rate_results = [[lr, results[0]] for lr, results in learning_rate_results]"
   ]
  },
  {
   "cell_type": "markdown",
   "metadata": {},
   "source": [
    "## <font color='red'>Learning rate results</font>"
   ]
  },
  {
   "cell_type": "code",
   "execution_count": 88,
   "metadata": {},
   "outputs": [
    {
     "data": {
      "text/plain": [
       "[[0.0001, 0.8019379672150638],\n",
       " [0.001, 0.8020345683415816],\n",
       " [0.005, 0.8012320359058956],\n",
       " [0.01, 0.8007415994174208],\n",
       " [0.05, 0.7999687904052789],\n",
       " [0.1, 0.7984380340927668],\n",
       " [0.5, 0.49152882428998174]]"
      ]
     },
     "execution_count": 88,
     "metadata": {},
     "output_type": "execute_result"
    }
   ],
   "source": [
    "plot_x = [res[0] for res in learning_rate_results]\n",
    "plot_y = [res[1] for res in learning_rate_results]\n",
    "learning_rate_results"
   ]
  },
  {
   "cell_type": "code",
   "execution_count": 89,
   "metadata": {},
   "outputs": [
    {
     "data": {
      "image/png": "[encoded data removed]",
      "text/plain": [
       "<Figure size 432x288 with 1 Axes>"
      ]
     },
     "metadata": {
      "needs_background": "light"
     },
     "output_type": "display_data"
    }
   ],
   "source": [
    "fig = sns.lineplot(x=plot_x, y=plot_y)\n",
    "fig.set_xlabel('learning rate')\n",
    "fig.set_ylabel('accuracy')\n",
    "fig.get_figure().savefig('figures/plot_learning_rate.pdf', dpi=500)"
   ]
  },
  {
   "cell_type": "markdown",
   "metadata": {},
   "source": [
    "## Dataset size"
   ]
  },
  {
   "cell_type": "code",
   "execution_count": 107,
   "metadata": {},
   "outputs": [
    {
     "data": {
      "text/plain": [
       "407798"
      ]
     },
     "execution_count": 107,
     "metadata": {},
     "output_type": "execute_result"
    }
   ],
   "source": [
    "len(pytorch_geometric_graphs)"
   ]
  },
  {
   "cell_type": "code",
   "execution_count": 108,
   "metadata": {},
   "outputs": [],
   "source": [
    "def run_training_size_experiments():\n",
    "    training_sizes = [0.1, 0.2, 0.3, 0.4, 0.5, 0.6, 0.7, 0.8, 0.9, 1]\n",
    "    \n",
    "    training_size_results = []\n",
    "    for ts in training_sizes:\n",
    "        print('Training size:', ts)\n",
    "        if ts == 1:\n",
    "            print('All samples')\n",
    "            tmp_graphs = pytorch_geometric_graphs\n",
    "        else:\n",
    "            tmp_graphs, _ = train_test_split(pytorch_geometric_graphs, train_size=ts, random_state=42)\n",
    "        \n",
    "        print('Number of samples:', len(tmp_graphs))\n",
    "        train_pyg_graphs, test_pyg_graphs = train_test_split(tmp_graphs, test_size=0.33, random_state=42)\n",
    "        training_size_results.append((ts, run_gat_classifier(train_pyg_graphs, test_pyg_graphs)))\n",
    "    return training_size_results"
   ]
  },
  {
   "cell_type": "code",
   "execution_count": 109,
   "metadata": {
    "scrolled": false
   },
   "outputs": [
    {
     "name": "stdout",
     "output_type": "stream",
     "text": [
      "Training size: 0.1\n",
      "Number of samples: 40779\n",
      "GATClassifier(\n",
      "  (conv1): GATConv(100, 10, heads=3)\n",
      "  (linear1): Linear(in_features=30, out_features=1, bias=True)\n",
      "  (sigmoid): Sigmoid()\n",
      ")\n",
      "Epoch: 0, Epoch loss 0.41176360845565796\n",
      "Epoch: 1, Epoch loss 0.25540682673454285\n",
      "Epoch: 2, Epoch loss 0.23208990693092346\n",
      "Epoch: 3, Epoch loss 0.1966618448495865\n",
      "Epoch: 4, Epoch loss 0.20680241286754608\n",
      "Epoch: 5, Epoch loss 0.1889016479253769\n",
      "Epoch: 6, Epoch loss 0.17988401651382446\n",
      "Epoch: 7, Epoch loss 0.1844499707221985\n",
      "Epoch: 8, Epoch loss 0.1830679178237915\n",
      "Epoch: 9, Epoch loss 0.1743452250957489\n",
      "Training process has finished.\n",
      "Final loss 0.1743452250957489\n",
      "(0.8509436766235696, 0.8528119507908611, 0.8533118405627198)\n",
      "Training size: 0.2\n",
      "Number of samples: 81559\n",
      "GATClassifier(\n",
      "  (conv1): GATConv(100, 10, heads=3)\n",
      "  (linear1): Linear(in_features=30, out_features=1, bias=True)\n",
      "  (sigmoid): Sigmoid()\n",
      ")\n",
      "Epoch: 0, Epoch loss 0.40487703680992126\n",
      "Epoch: 1, Epoch loss 0.4022549092769623\n",
      "Epoch: 2, Epoch loss 0.35732531547546387\n",
      "Epoch: 3, Epoch loss 0.3853216767311096\n",
      "Epoch: 4, Epoch loss 0.3860646188259125\n",
      "Epoch: 5, Epoch loss 0.35270950198173523\n",
      "Epoch: 6, Epoch loss 0.40749242901802063\n",
      "Epoch: 7, Epoch loss 0.3578014373779297\n",
      "Epoch: 8, Epoch loss 0.30547627806663513\n",
      "Epoch: 9, Epoch loss 0.3922262191772461\n",
      "Training process has finished.\n",
      "Final loss 0.3922262191772461\n",
      "(0.8593720973434887, 0.8683721276121068, 0.8528337715454279)\n",
      "Training size: 0.3\n",
      "Number of samples: 122339\n",
      "GATClassifier(\n",
      "  (conv1): GATConv(100, 10, heads=3)\n",
      "  (linear1): Linear(in_features=30, out_features=1, bias=True)\n",
      "  (sigmoid): Sigmoid()\n",
      ")\n",
      "Epoch: 0, Epoch loss 0.37841546535491943\n",
      "Epoch: 1, Epoch loss 0.32420629262924194\n",
      "Epoch: 2, Epoch loss 0.3157431185245514\n",
      "Epoch: 3, Epoch loss 0.32614246010780334\n",
      "Epoch: 4, Epoch loss 0.32645392417907715\n",
      "Epoch: 5, Epoch loss 0.3418327867984772\n",
      "Epoch: 6, Epoch loss 0.3159365952014923\n",
      "Epoch: 7, Epoch loss 0.33936384320259094\n",
      "Epoch: 8, Epoch loss 0.3286629319190979\n",
      "Epoch: 9, Epoch loss 0.317375510931015\n",
      "Training process has finished.\n",
      "Final loss 0.317375510931015\n",
      "(0.8525463192311503, 0.8553954340613084, 0.850635280212745)\n",
      "Training size: 0.4\n",
      "Number of samples: 163119\n",
      "GATClassifier(\n",
      "  (conv1): GATConv(100, 10, heads=3)\n",
      "  (linear1): Linear(in_features=30, out_features=1, bias=True)\n",
      "  (sigmoid): Sigmoid()\n",
      ")\n",
      "Epoch: 0, Epoch loss 0.35616299510002136\n",
      "Epoch: 1, Epoch loss 0.37546977400779724\n",
      "Epoch: 2, Epoch loss 0.35492050647735596\n",
      "Epoch: 3, Epoch loss 0.35643452405929565\n",
      "Epoch: 4, Epoch loss 0.36708515882492065\n",
      "Epoch: 5, Epoch loss 0.3578364849090576\n",
      "Epoch: 6, Epoch loss 0.3641224205493927\n",
      "Epoch: 7, Epoch loss 0.35567736625671387\n",
      "Epoch: 8, Epoch loss 0.35500624775886536\n",
      "Epoch: 9, Epoch loss 0.353701114654541\n",
      "Training process has finished.\n",
      "Final loss 0.353701114654541\n",
      "(0.8558981980308378, 0.8644737823525024, 0.848990953375087)\n",
      "Training size: 0.5\n",
      "Number of samples: 203899\n",
      "GATClassifier(\n",
      "  (conv1): GATConv(100, 10, heads=3)\n",
      "  (linear1): Linear(in_features=30, out_features=1, bias=True)\n",
      "  (sigmoid): Sigmoid()\n",
      ")\n",
      "Epoch: 0, Epoch loss 0.38396361470222473\n",
      "Epoch: 1, Epoch loss 0.38605159521102905\n",
      "Epoch: 2, Epoch loss 0.39719754457473755\n",
      "Epoch: 3, Epoch loss 0.3792499303817749\n",
      "Epoch: 4, Epoch loss 0.42284974455833435\n",
      "Epoch: 5, Epoch loss 0.381256639957428\n",
      "Epoch: 6, Epoch loss 0.40126073360443115\n",
      "Epoch: 7, Epoch loss 0.35390037298202515\n",
      "Epoch: 8, Epoch loss 0.38543573021888733\n",
      "Epoch: 9, Epoch loss 0.36252066493034363\n",
      "Training process has finished.\n",
      "Final loss 0.36252066493034363\n",
      "(0.8548010759879323, 0.8659168269942282, 0.8480939266560371)\n",
      "Training size: 0.6\n",
      "Number of samples: 244678\n",
      "GATClassifier(\n",
      "  (conv1): GATConv(100, 10, heads=3)\n",
      "  (linear1): Linear(in_features=30, out_features=1, bias=True)\n",
      "  (sigmoid): Sigmoid()\n",
      ")\n",
      "Epoch: 0, Epoch loss 0.3224593698978424\n",
      "Epoch: 1, Epoch loss 0.3266523480415344\n",
      "Epoch: 2, Epoch loss 0.319760799407959\n",
      "Epoch: 3, Epoch loss 0.3256138265132904\n",
      "Epoch: 4, Epoch loss 0.31946563720703125\n",
      "Epoch: 5, Epoch loss 0.3263859748840332\n",
      "Epoch: 6, Epoch loss 0.3262362480163574\n",
      "Epoch: 7, Epoch loss 0.3335711359977722\n",
      "Epoch: 8, Epoch loss 0.3201492130756378\n",
      "Epoch: 9, Epoch loss 0.32971397042274475\n",
      "Training process has finished.\n",
      "Final loss 0.32971397042274475\n",
      "(0.8575374021599128, 0.858398721301947, 0.8623877764531277)\n",
      "Training size: 0.7\n",
      "Number of samples: 285458\n",
      "GATClassifier(\n",
      "  (conv1): GATConv(100, 10, heads=3)\n",
      "  (linear1): Linear(in_features=30, out_features=1, bias=True)\n",
      "  (sigmoid): Sigmoid()\n",
      ")\n",
      "Epoch: 0, Epoch loss 0.3897317349910736\n",
      "Epoch: 1, Epoch loss 0.4053671956062317\n",
      "Epoch: 2, Epoch loss 0.406097412109375\n",
      "Epoch: 3, Epoch loss 0.38562530279159546\n",
      "Epoch: 4, Epoch loss 0.39122462272644043\n",
      "Epoch: 5, Epoch loss 0.3696959614753723\n",
      "Epoch: 6, Epoch loss 0.3807728588581085\n",
      "Epoch: 7, Epoch loss 0.4058631658554077\n",
      "Epoch: 8, Epoch loss 0.3722253143787384\n",
      "Epoch: 9, Epoch loss 0.3632047772407532\n",
      "Training process has finished.\n",
      "Final loss 0.3632047772407532\n",
      "(0.8546103055136833, 0.8606110374160403, 0.8524265365283947)\n",
      "Training size: 0.8\n",
      "Number of samples: 326238\n",
      "GATClassifier(\n",
      "  (conv1): GATConv(100, 10, heads=3)\n",
      "  (linear1): Linear(in_features=30, out_features=1, bias=True)\n",
      "  (sigmoid): Sigmoid()\n",
      ")\n",
      "Epoch: 0, Epoch loss 0.4019879400730133\n",
      "Epoch: 1, Epoch loss 0.3837762773036957\n",
      "Epoch: 2, Epoch loss 0.3953700363636017\n",
      "Epoch: 3, Epoch loss 0.40321627259254456\n",
      "Epoch: 4, Epoch loss 0.4069255590438843\n",
      "Epoch: 5, Epoch loss 0.39392635226249695\n",
      "Epoch: 6, Epoch loss 0.3985128402709961\n",
      "Epoch: 7, Epoch loss 0.3839508593082428\n",
      "Epoch: 8, Epoch loss 0.3923788070678711\n",
      "Epoch: 9, Epoch loss 0.39893004298210144\n",
      "Training process has finished.\n",
      "Final loss 0.39893004298210144\n",
      "(0.8485960300578679, 0.8552716658353193, 0.8454009240152663)\n",
      "Training size: 0.9\n",
      "Number of samples: 367018\n",
      "GATClassifier(\n",
      "  (conv1): GATConv(100, 10, heads=3)\n",
      "  (linear1): Linear(in_features=30, out_features=1, bias=True)\n",
      "  (sigmoid): Sigmoid()\n",
      ")\n",
      "Epoch: 0, Epoch loss 0.4594235420227051\n",
      "Epoch: 1, Epoch loss 0.4483329653739929\n",
      "Epoch: 2, Epoch loss 0.4759618043899536\n",
      "Epoch: 3, Epoch loss 0.45509782433509827\n",
      "Epoch: 4, Epoch loss 0.47291940450668335\n",
      "Epoch: 5, Epoch loss 0.45144057273864746\n",
      "Epoch: 6, Epoch loss 0.4538995623588562\n",
      "Epoch: 7, Epoch loss 0.46854081749916077\n",
      "Epoch: 8, Epoch loss 0.445902943611145\n",
      "Epoch: 9, Epoch loss 0.44697272777557373\n",
      "Training process has finished.\n",
      "Final loss 0.44697272777557373\n",
      "(0.8445292116648502, 0.8529698955695679, 0.8382369683662682)\n",
      "Training size: 1\n",
      "All samples\n",
      "Number of samples: 407798\n",
      "GATClassifier(\n",
      "  (conv1): GATConv(100, 10, heads=3)\n",
      "  (linear1): Linear(in_features=30, out_features=1, bias=True)\n",
      "  (sigmoid): Sigmoid()\n",
      ")\n",
      "Epoch: 0, Epoch loss 0.3395794630050659\n",
      "Epoch: 1, Epoch loss 0.34536534547805786\n",
      "Epoch: 2, Epoch loss 0.35433465242385864\n",
      "Epoch: 3, Epoch loss 0.34673163294792175\n",
      "Epoch: 4, Epoch loss 0.3392680883407593\n",
      "Epoch: 5, Epoch loss 0.34134361147880554\n",
      "Epoch: 6, Epoch loss 0.31301504373550415\n",
      "Epoch: 7, Epoch loss 0.34161385893821716\n",
      "Epoch: 8, Epoch loss 0.31987687945365906\n",
      "Epoch: 9, Epoch loss 0.3322402238845825\n",
      "Training process has finished.\n",
      "Final loss 0.3322402238845825\n",
      "(0.8024061111358807, 0.8119463087248322, 0.7956535083232247)\n"
     ]
    }
   ],
   "source": [
    "training_size_results = run_training_size_experiments()\n",
    "training_size_results = [[ts, results[0]] for ts, results in training_size_results]"
   ]
  },
  {
   "cell_type": "markdown",
   "metadata": {},
   "source": [
    "## <font color='red'>Dataset size results</font>"
   ]
  },
  {
   "cell_type": "code",
   "execution_count": 110,
   "metadata": {},
   "outputs": [
    {
     "data": {
      "text/plain": [
       "[[0.1, 0.8509436766235696],\n",
       " [0.2, 0.8593720973434887],\n",
       " [0.3, 0.8525463192311503],\n",
       " [0.4, 0.8558981980308378],\n",
       " [0.5, 0.8548010759879323],\n",
       " [0.6, 0.8575374021599128],\n",
       " [0.7, 0.8546103055136833],\n",
       " [0.8, 0.8485960300578679],\n",
       " [0.9, 0.8445292116648502],\n",
       " [1, 0.8024061111358807]]"
      ]
     },
     "execution_count": 110,
     "metadata": {},
     "output_type": "execute_result"
    }
   ],
   "source": [
    "plot_x = [res[0] for res in training_size_results]\n",
    "plot_y = [res[1] for res in training_size_results]\n",
    "training_size_results"
   ]
  },
  {
   "cell_type": "code",
   "execution_count": 111,
   "metadata": {},
   "outputs": [
    {
     "data": {
      "image/png": "[encoded data removed]",
      "text/plain": [
       "<Figure size 432x288 with 1 Axes>"
      ]
     },
     "metadata": {
      "needs_background": "light"
     },
     "output_type": "display_data"
    }
   ],
   "source": [
    "fig = sns.lineplot(x=plot_x, y=plot_y)\n",
    "fig.set_xlabel('dataset size')\n",
    "fig.set_ylabel('accuracy')\n",
    "fig.get_figure().savefig('figures/training_size_rate.pdf', dpi=500)"
   ]
  },
  {
   "cell_type": "markdown",
   "metadata": {},
   "source": [
    "## Draw an exemplar graph-of-words graph with 15 nodes and 3 window size"
   ]
  },
  {
   "cell_type": "code",
   "execution_count": 77,
   "metadata": {},
   "outputs": [
    {
     "data": {
      "image/png": "[encoded data removed]",
      "text/plain": [
       "<Figure size 432x288 with 1 Axes>"
      ]
     },
     "metadata": {},
     "output_type": "display_data"
    }
   ],
   "source": [
    "text = df['body'][df['number_of_words_of_body'] == 15].values[6]\n",
    "text = text.replace(',', '')\n",
    "text = text.replace('.', '')\n",
    "g = create_graph_of_words(text, 3)\n",
    "nx.draw_kamada_kawai(g, with_labels=True, node_color='white', node_size=1300)\n",
    "plt.savefig(\"Graph1.pdf\")\n",
    "plt.show()"
   ]
  }
 ],
 "metadata": {
  "kernelspec": {
   "display_name": "Python 3",
   "language": "python",
   "name": "python3"
  },
  "language_info": {
   "codemirror_mode": {
    "name": "ipython",
    "version": 3
   },
   "file_extension": ".py",
   "mimetype": "text/x-python",
   "name": "python",
   "nbconvert_exporter": "python",
   "pygments_lexer": "ipython3",
   "version": "3.8.3"
  }
 },
 "nbformat": 4,
 "nbformat_minor": 4
}
