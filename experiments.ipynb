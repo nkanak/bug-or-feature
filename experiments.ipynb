{
 "cells": [
  {
   "cell_type": "code",
   "execution_count": 1,
   "metadata": {},
   "outputs": [],
   "source": [
    "import pandas as pd\n",
    "import seaborn as sns\n",
    "import matplotlib.pyplot as plt\n",
    "from gensim.parsing.preprocessing import remove_stopwords\n",
    "import contractions\n",
    "from sklearn.linear_model import LogisticRegression\n",
    "from sklearn.model_selection import train_test_split\n",
    "from sklearn.feature_extraction.text import TfidfVectorizer\n",
    "from sklearn.preprocessing import MaxAbsScaler\n",
    "import numpy as np\n",
    "import fasttext\n",
    "from sklearn.metrics import accuracy_score\n",
    "from sklearn.metrics import recall_score\n",
    "from sklearn.metrics import precision_score\n",
    "\n",
    "import torch.nn.functional as F\n",
    "import torch\n",
    "\n",
    "import networkx as nx\n",
    "from torch_geometric.nn import GCNConv\n",
    "from torch_geometric.utils.convert import from_networkx\n",
    "from torch_geometric.nn import norm\n",
    "from torch_geometric.data import Data, DataLoader\n",
    "from torch_geometric.nn import global_mean_pool\n",
    "\n",
    "from gensim.models import KeyedVectors\n",
    "from gensim.scripts.glove2word2vec import glove2word2vec\n",
    "\n",
    "from torch_geometric.nn import GraphConv\n",
    "from torch_geometric.nn import GATConv\n",
    "from torch_geometric.nn import GCNConv\n",
    "from torch_geometric.nn import SAGEConv\n",
    "\n",
    "from tqdm import tqdm\n",
    "\n",
    "import random\n",
    "\n",
    "sns.set_theme()\n",
    "\n",
    "# Set fixed random number seed\n",
    "torch.manual_seed(42)\n",
    "\n",
    "%matplotlib inline"
   ]
  },
  {
   "cell_type": "code",
   "execution_count": 2,
   "metadata": {},
   "outputs": [],
   "source": [
    "def calculate_accuracy_precision_recall(true_labels, predicted_labels):\n",
    "    return (accuracy_score(true_labels, predicted_labels),\n",
    "           precision_score(true_labels, predicted_labels),\n",
    "           recall_score(true_labels, predicted_labels))\n",
    "\n",
    "def get_random_number():\n",
    "    return random.randint(0, 10000)\n",
    "\n",
    "global_random_number = get_random_number()"
   ]
  },
  {
   "cell_type": "code",
   "execution_count": 3,
   "metadata": {},
   "outputs": [],
   "source": [
    "#print('number of node attributes %s' % len(nx.get_node_attributes(G, 'x')[13131]))\n",
    "#print('number of edges %s' % G.size())\n",
    "#print('number of nodes %s' % (len(G)))\n",
    "#x = G.degree()\n",
    "#x = list(dict(x).values())\n",
    "#print('average degree %s' % (sum(x)/len(x)))\n",
    "\n",
    "#nx.draw(g, with_labels=True)"
   ]
  },
  {
   "cell_type": "markdown",
   "metadata": {},
   "source": [
    "## Load dataset"
   ]
  },
  {
   "cell_type": "code",
   "execution_count": 4,
   "metadata": {},
   "outputs": [
    {
     "data": {
      "text/plain": [
       "407799"
      ]
     },
     "execution_count": 4,
     "metadata": {},
     "output_type": "execute_result"
    }
   ],
   "source": [
    "df = pd.read_csv('samples.csv')\n",
    "# bug == 0 and feature == 1\n",
    "df = df[(df['label'] == 0) | (df['label'] == 1)]\n",
    "#df = df[:1000]\n",
    "len(df)"
   ]
  },
  {
   "cell_type": "markdown",
   "metadata": {},
   "source": [
    "## Preprocess dataset"
   ]
  },
  {
   "cell_type": "code",
   "execution_count": 5,
   "metadata": {},
   "outputs": [],
   "source": [
    "contractions.add('__label__', 'REMOVED_TOKEN')"
   ]
  },
  {
   "cell_type": "code",
   "execution_count": 6,
   "metadata": {},
   "outputs": [],
   "source": [
    "# fix contractions\n",
    "df['title'] = df['title'].apply(contractions.fix)\n",
    "df['body'] = df['body'].apply(contractions.fix)"
   ]
  },
  {
   "cell_type": "code",
   "execution_count": 7,
   "metadata": {},
   "outputs": [],
   "source": [
    "# removal of stopwords\n",
    "df['title'] = df['title'].apply(remove_stopwords)\n",
    "df['body'] = df['body'].apply(remove_stopwords)"
   ]
  },
  {
   "cell_type": "markdown",
   "metadata": {},
   "source": [
    "## Generate statistics"
   ]
  },
  {
   "cell_type": "code",
   "execution_count": 8,
   "metadata": {},
   "outputs": [],
   "source": [
    "df['number_of_words_of_title'] = df['title'].str.split().str.len()\n",
    "df['number_of_words_of_body'] = df['body'].str.split().str.len()"
   ]
  },
  {
   "cell_type": "code",
   "execution_count": 9,
   "metadata": {},
   "outputs": [
    {
     "data": {
      "text/plain": [
       "Text(0.5, 0, 'Number of words of title')"
      ]
     },
     "execution_count": 9,
     "metadata": {},
     "output_type": "execute_result"
    },
    {
     "data": {
      "image/png": "[encoded data removed]",
      "text/plain": [
       "<Figure size 432x288 with 1 Axes>"
      ]
     },
     "metadata": {
      "needs_background": "light"
     },
     "output_type": "display_data"
    }
   ],
   "source": [
    "fig = sns.histplot(data=df, x='number_of_words_of_title', kde=False, stat='count', binwidth=2)\n",
    "fig.set_xlabel('Number of words of title')\n",
    "#fig.get_figure().savefig('figures/price_kde_histogram.jpg', dpi=500)"
   ]
  },
  {
   "cell_type": "code",
   "execution_count": 10,
   "metadata": {},
   "outputs": [
    {
     "data": {
      "text/plain": [
       "Text(0.5, 0, 'Number of words of body')"
      ]
     },
     "execution_count": 10,
     "metadata": {},
     "output_type": "execute_result"
    },
    {
     "data": {
      "image/png": "[encoded data removed]",
      "text/plain": [
       "<Figure size 432x288 with 1 Axes>"
      ]
     },
     "metadata": {
      "needs_background": "light"
     },
     "output_type": "display_data"
    }
   ],
   "source": [
    "fig = sns.histplot(data=df, x='number_of_words_of_body', kde=False, stat='count', binwidth=50)\n",
    "fig.set_xlabel('Number of words of body')\n",
    "#fig.get_figure().savefig('figures/price_kde_histogram.jpg', dpi=500)"
   ]
  },
  {
   "cell_type": "code",
   "execution_count": 11,
   "metadata": {},
   "outputs": [
    {
     "data": {
      "text/plain": [
       "count    407799.000000\n",
       "mean         45.938685\n",
       "std          63.545595\n",
       "min           0.000000\n",
       "25%          12.000000\n",
       "50%          24.000000\n",
       "75%          52.000000\n",
       "max         977.000000\n",
       "Name: number_of_words_of_body, dtype: float64"
      ]
     },
     "execution_count": 11,
     "metadata": {},
     "output_type": "execute_result"
    }
   ],
   "source": [
    "df['number_of_words_of_body'].describe()"
   ]
  },
  {
   "cell_type": "code",
   "execution_count": 12,
   "metadata": {},
   "outputs": [
    {
     "data": {
      "text/plain": [
       "1    207318\n",
       "0    200481\n",
       "Name: label, dtype: int64"
      ]
     },
     "execution_count": 12,
     "metadata": {},
     "output_type": "execute_result"
    }
   ],
   "source": [
    "# bugs == 0\n",
    "# feature == 1\n",
    "df['label'].value_counts()"
   ]
  },
  {
   "cell_type": "markdown",
   "metadata": {},
   "source": [
    "## Load glove embeddings 100"
   ]
  },
  {
   "cell_type": "code",
   "execution_count": 13,
   "metadata": {},
   "outputs": [],
   "source": [
    "glove2word2vec('glove.6B/glove.6B.100d.txt', 'tmpfile_glove')\n",
    "glove_embeddings_model = KeyedVectors.load_word2vec_format('tmpfile_glove')"
   ]
  },
  {
   "cell_type": "code",
   "execution_count": 14,
   "metadata": {},
   "outputs": [],
   "source": [
    "def get_word_glove_embedding(word):\n",
    "    if word not in glove_embeddings_model:\n",
    "        return np.zeros(100, dtype='float32')\n",
    "    return glove_embeddings_model.get_vector(word)"
   ]
  },
  {
   "cell_type": "code",
   "execution_count": 15,
   "metadata": {},
   "outputs": [],
   "source": [
    "def get_sentence_glove_embedding(sentence):\n",
    "    word_embeddings = [glove_embeddings_model.get_vector(word) if word in glove_embeddings_model else np.zeros(100, dtype='float32') for word in sentence.split()]\n",
    "    if len(word_embeddings) == 0:\n",
    "        return np.zeros(100, dtype='float32')\n",
    "    return np.mean(word_embeddings, axis=0)"
   ]
  },
  {
   "cell_type": "code",
   "execution_count": null,
   "metadata": {},
   "outputs": [],
   "source": []
  },
  {
   "cell_type": "markdown",
   "metadata": {},
   "source": [
    "## Train fasttext embeddings"
   ]
  },
  {
   "cell_type": "code",
   "execution_count": 16,
   "metadata": {},
   "outputs": [],
   "source": [
    "df['fasttext_input'] = '__label__' + df['label'].map(str) + ' ' + df['title'] + ' ' + df['body']\n",
    "train_input, test_input = train_test_split(df.fasttext_input.values, test_size=0.33, random_state=42)\n",
    "np.savetxt('train.txt', train_input, fmt='%s')\n",
    "np.savetxt('test.txt', test_input, fmt='%s')\n",
    "fasttext_model = fasttext.train_supervised('train.txt', dim=100, epoch=5)\n",
    "fasttext_model.test('test.txt')\n",
    "df.drop('fasttext_input', axis=1, inplace=True)\n",
    "embeddings_lookup = {word: fasttext_model.get_word_vector(word) for word in fasttext_model.get_words()}"
   ]
  },
  {
   "cell_type": "markdown",
   "metadata": {},
   "source": [
    "## Train baseline models"
   ]
  },
  {
   "cell_type": "markdown",
   "metadata": {},
   "source": [
    "### GloVe + logistic regression classification"
   ]
  },
  {
   "cell_type": "code",
   "execution_count": 64,
   "metadata": {},
   "outputs": [],
   "source": [
    "X_train, X_test, y_train, y_test = train_test_split(df.body, df.label, test_size=0.33, random_state=42)\n",
    "X_train = [get_sentence_glove_embedding(s) for s in X_train.values]\n",
    "X_test = [get_sentence_glove_embedding(s) for s in X_test.values]"
   ]
  },
  {
   "cell_type": "code",
   "execution_count": 18,
   "metadata": {},
   "outputs": [],
   "source": [
    "def run_logistic_regression_classifier(use_global_random_number=True):\n",
    "    if use_global_random_number:\n",
    "        random_state = global_random_number\n",
    "    else:\n",
    "        random_state = get_random_number()\n",
    "    logit_clf = LogisticRegression(random_state=random_state, solver='liblinear').fit(X_train, y_train)\n",
    "    predicted_labels = logit_clf.predict(X_test)\n",
    "    true_labels = y_test\n",
    "    \n",
    "    results = calculate_accuracy_precision_recall(true_labels, predicted_labels)\n",
    "    print(results)\n",
    "    return results"
   ]
  },
  {
   "cell_type": "code",
   "execution_count": 19,
   "metadata": {},
   "outputs": [
    {
     "name": "stdout",
     "output_type": "stream",
     "text": [
      "(0.722695320046963, 0.7408314087759815, 0.7013935453776858)\n"
     ]
    }
   ],
   "source": [
    "logit_evaluation_results = []\n",
    "logit_evaluation_results.append(run_logistic_regression_classifier())"
   ]
  },
  {
   "cell_type": "markdown",
   "metadata": {},
   "source": [
    "### GloVe + knn"
   ]
  },
  {
   "cell_type": "code",
   "execution_count": 65,
   "metadata": {},
   "outputs": [],
   "source": [
    "from sklearn.neighbors import KNeighborsClassifier"
   ]
  },
  {
   "cell_type": "code",
   "execution_count": 66,
   "metadata": {},
   "outputs": [],
   "source": [
    "def run_knn_regression_classifier():\n",
    "    knn_clf = KNeighborsClassifier(n_neighbors=10).fit(X_train, y_train)\n",
    "    predicted_labels = knn_clf.predict(X_test)\n",
    "    true_labels = y_test\n",
    "    \n",
    "    results = calculate_accuracy_precision_recall(true_labels, predicted_labels)\n",
    "    print(results)\n",
    "    return results"
   ]
  },
  {
   "cell_type": "code",
   "execution_count": 67,
   "metadata": {},
   "outputs": [
    {
     "name": "stdout",
     "output_type": "stream",
     "text": [
      "(0.6918052521289402, 0.7341481519843942, 0.6199090405527535)\n"
     ]
    }
   ],
   "source": [
    "knn_evaluation_results = []\n",
    "knn_evaluation_results.append(run_knn_regression_classifier())"
   ]
  },
  {
   "cell_type": "markdown",
   "metadata": {},
   "source": [
    "### Fasttext classification"
   ]
  },
  {
   "cell_type": "code",
   "execution_count": 20,
   "metadata": {},
   "outputs": [
    {
     "data": {
      "text/plain": [
       "(0.7966471978242454, 0.813314895298301, 0.7801667589866185)"
      ]
     },
     "execution_count": 20,
     "metadata": {},
     "output_type": "execute_result"
    }
   ],
   "source": [
    "_, test_df = train_test_split(df, test_size=0.33, random_state=42)\n",
    "predicted_labels = [int(res[0].split('__label__')[1]) for res in fasttext_model.predict(test_df['body'].values.tolist())[0]]\n",
    "true_labels = test_df['label'].values\n",
    "calculate_accuracy_precision_recall(true_labels, predicted_labels)"
   ]
  },
  {
   "cell_type": "markdown",
   "metadata": {},
   "source": [
    "### MLP"
   ]
  },
  {
   "cell_type": "code",
   "execution_count": 21,
   "metadata": {},
   "outputs": [
    {
     "name": "stdout",
     "output_type": "stream",
     "text": [
      "cuda\n"
     ]
    }
   ],
   "source": [
    "device = torch.device('cuda' if torch.cuda.is_available() else 'cpu')\n",
    "print(device)\n",
    "\n",
    "x_train, x_test, y_train, y_test = train_test_split(df.body, df.label, test_size=0.33, random_state=42)\n",
    "x_train = [get_sentence_glove_embedding(s) for s in x_train.values]\n",
    "x_test = [get_sentence_glove_embedding(s) for s in x_test.values]\n",
    "\n",
    "x_train = torch.tensor(x_train).float()\n",
    "y_train = torch.tensor(y_train.values).float()\n",
    "\n",
    "x_test = torch.tensor(x_test).float()\n",
    "y_test = torch.tensor(y_test.values).float()\n",
    "\n",
    "x_train = x_train.to(device)\n",
    "y_train = y_train.to(device)\n",
    "x_test = x_test.to(device)\n",
    "y_test = y_test.to(device)\n",
    "\n",
    "BATCH_SIZE = 255\n",
    "\n",
    "# generate train dataset and train dataloader\n",
    "train_dataset = torch.utils.data.TensorDataset(x_train, y_train)\n",
    "train_dataloader = torch.utils.data.DataLoader(train_dataset, batch_size=BATCH_SIZE, shuffle=False)\n",
    "\n",
    "# generate test dataset\n",
    "test_dataset = torch.utils.data.TensorDataset(x_test, y_test)"
   ]
  },
  {
   "cell_type": "code",
   "execution_count": 51,
   "metadata": {},
   "outputs": [],
   "source": [
    "class MLP(torch.nn.Module):\n",
    "    def __init__(self) : \n",
    "        super(MLP, self).__init__()\n",
    "        self.linear1 = torch.nn.Linear(100 , 250)\n",
    "        self.linear2 = torch.nn.Linear(250, 1)\n",
    "        self.sigmoid = torch.nn.Sigmoid()\n",
    "\n",
    "    def forward(self, x):\n",
    "        out = self.linear1(x)\n",
    "        out = F.relu(out)\n",
    "        out = F.dropout(out, p=0.5, training=self.training)\n",
    "        out = self.linear2(out)\n",
    "        out = self.sigmoid(out)\n",
    "        return out"
   ]
  },
  {
   "cell_type": "code",
   "execution_count": 57,
   "metadata": {},
   "outputs": [],
   "source": [
    "def run_mlp_classifier():\n",
    "    # Initialize the MLP\n",
    "    mlp = MLP().to(device)\n",
    "\n",
    "    # Define the loss function and optimizer\n",
    "    loss_function = F.binary_cross_entropy\n",
    "    optimizer = torch.optim.Adam(mlp.parameters(), lr=1e-4)\n",
    "\n",
    "    mlp.train()\n",
    "    # Run the training loop\n",
    "    for epoch in range(0, 50):\n",
    "        # Iterate over the DataLoader for training data\n",
    "        for i, (inputs, targets) in enumerate(train_dataloader):\n",
    "            # Get inputs\n",
    "            targets = targets.squeeze()\n",
    "\n",
    "            # Perform forward pass\n",
    "            outputs = mlp(inputs)\n",
    "            outputs = outputs.squeeze()\n",
    "\n",
    "            # Compute loss\n",
    "            loss = loss_function(outputs, targets)\n",
    "\n",
    "\n",
    "            # Perform backward pass\n",
    "            loss.backward()\n",
    "            # Perform optimization\n",
    "            optimizer.step()\n",
    "            # Zero the gradients\n",
    "            optimizer.zero_grad()\n",
    "\n",
    "        print(f'Epoch: {epoch}, Epoch loss {loss.item()}')\n",
    "    # Process is complete.\n",
    "    print('Training process has finished.')\n",
    "    print('Final loss', loss.item())\n",
    "    \n",
    "    with torch.no_grad():\n",
    "        mlp.eval()\n",
    "        pred = mlp(test_dataset.tensors[0].to(device))\n",
    "        y_true = test_dataset.tensors[1].tolist()\n",
    "        y_pred = torch.round(torch.tensor(pred.tolist()).squeeze())\n",
    "        results = calculate_accuracy_precision_recall(y_true, y_pred)\n",
    "\n",
    "    print(results)\n",
    "    return results"
   ]
  },
  {
   "cell_type": "code",
   "execution_count": 58,
   "metadata": {},
   "outputs": [
    {
     "name": "stdout",
     "output_type": "stream",
     "text": [
      "Epoch: 0, Epoch loss 0.5467864274978638\n",
      "Epoch: 1, Epoch loss 0.5287327170372009\n",
      "Epoch: 2, Epoch loss 0.5218595862388611\n",
      "Epoch: 3, Epoch loss 0.5106785297393799\n",
      "Epoch: 4, Epoch loss 0.5000659823417664\n",
      "Epoch: 5, Epoch loss 0.5005460381507874\n",
      "Epoch: 6, Epoch loss 0.48574137687683105\n",
      "Epoch: 7, Epoch loss 0.4874698519706726\n",
      "Epoch: 8, Epoch loss 0.47833412885665894\n",
      "Epoch: 9, Epoch loss 0.4708586633205414\n",
      "Training process has finished.\n",
      "Final loss 0.4708586633205414\n",
      "(0.7306686284126206, 0.7485596644594325, 0.7102271070814262)\n"
     ]
    }
   ],
   "source": [
    "mlp_evaluation_results = []\n",
    "mlp_evaluation_results.append(run_mlp_classifier())"
   ]
  },
  {
   "cell_type": "markdown",
   "metadata": {},
   "source": [
    "## Train our model"
   ]
  },
  {
   "cell_type": "code",
   "execution_count": 25,
   "metadata": {},
   "outputs": [],
   "source": [
    "def create_graph_of_words(text, window_size):\n",
    "    text = text.split()\n",
    "    G = nx.Graph()\n",
    "    for i, word in enumerate(text):\n",
    "        #embedding = fasttext_model.get_word_vector(word)\n",
    "        embedding = embeddings_lookup.get(word, np.zeros(100, dtype='float32'))\n",
    "        G.add_node(word, x=embedding)\n",
    "        for j in range(i + 1, i + window_size):\n",
    "            if j < len(text):\n",
    "                G.add_edge(word, text[j])\n",
    "    return G\n",
    "\n",
    "def create_graph_of_words_for_pytorch(text, window_size):\n",
    "    return from_networkx(create_graph_of_words(text, window_size))\n",
    "\n",
    "def generate_pytorch_geometric_graphs(window_size):\n",
    "    pyg_graphs = []\n",
    "    for s in tqdm(df['body'].values):\n",
    "        pyg_graphs.append(create_graph_of_words_for_pytorch(s, window_size))\n",
    "    print('finished...')\n",
    "    for i, label in enumerate(df['label'].values):\n",
    "        pyg_graphs[i].y = torch.tensor(label).float()\n",
    "    \n",
    "    pyg_graphs = [g for g in pyg_graphs if g.num_nodes != 0]\n",
    "    return pyg_graphs\n",
    "\n",
    "class GATClassifier(torch.nn.Module):\n",
    "    def __init__(self):\n",
    "        super().__init__()\n",
    "        torch.manual_seed(12345)\n",
    "        \n",
    "        self.conv1 = GATConv(100, 10, heads=3)\n",
    "        self.linear1 = torch.nn.Linear(10*3, 1)\n",
    "        \n",
    "        self.sigmoid = torch.nn.Sigmoid()\n",
    "\n",
    "    def forward(self, data, batch):\n",
    "        x, edge_index = data.x, data.edge_index\n",
    "        \n",
    "        x = F.elu(self.conv1(x, edge_index))\n",
    "        x = global_mean_pool(x, batch)\n",
    "        x = F.dropout(x, p=0.5, training=self.training)\n",
    "        x = self.linear1(x)\n",
    "        x = self.sigmoid(x)\n",
    "        \n",
    "        return x"
   ]
  },
  {
   "cell_type": "code",
   "execution_count": 26,
   "metadata": {},
   "outputs": [
    {
     "name": "stderr",
     "output_type": "stream",
     "text": [
      "100%|██████████████████████████████████████████████████████████████████████████████████████████████████████████████████████████████| 407799/407799 [18:09<00:00, 374.45it/s]\n"
     ]
    },
    {
     "name": "stdout",
     "output_type": "stream",
     "text": [
      "finished...\n"
     ]
    }
   ],
   "source": [
    "pytorch_geometric_graphs = generate_pytorch_geometric_graphs(window_size=7)"
   ]
  },
  {
   "cell_type": "code",
   "execution_count": 27,
   "metadata": {},
   "outputs": [],
   "source": [
    "train_pyg_graphs, test_pyg_graphs = train_test_split(pytorch_geometric_graphs, test_size=0.33, random_state=42)"
   ]
  },
  {
   "cell_type": "code",
   "execution_count": 28,
   "metadata": {},
   "outputs": [],
   "source": [
    "def run_gat_classifier(train_batch_size=300, learning_rate=0.001, num_epoch=10):\n",
    "    train_loader = DataLoader(train_pyg_graphs, batch_size=train_batch_size, shuffle=False)\n",
    "    test_loader = DataLoader(test_pyg_graphs, batch_size=200, shuffle=False)\n",
    "    \n",
    "    gat_model = GATClassifier().to(device)\n",
    "    print(gat_model)\n",
    "    # Define the loss function and optimizer\n",
    "    loss_function = F.binary_cross_entropy\n",
    "    optimizer = torch.optim.Adam(gat_model.parameters(), lr=learning_rate)\n",
    "\n",
    "    gat_model.train()\n",
    "    for epoch in range(0, num_epoch):\n",
    "        for i, data in enumerate(train_loader):  # Iterate in batches over the training dataset.\n",
    "            data = data.to(device)\n",
    "            try:\n",
    "                out = gat_model(data, data.batch)  # Perform a single forward pass.\n",
    "            except Exception as e:\n",
    "                print(data)\n",
    "                print(data.x)\n",
    "                print(data.y)\n",
    "            out = out.squeeze()\n",
    "            y = data.y.squeeze()\n",
    "            loss = loss_function(out, y)  # Compute the loss.\n",
    "            loss.backward()  # Derive gradients.\n",
    "            optimizer.step()  # Update parameters based on gradients.\n",
    "            optimizer.zero_grad()  # Clear gradients.\n",
    "        print(f'Epoch: {epoch}, Epoch loss {loss.item()}')\n",
    "\n",
    "    print('Training process has finished.')\n",
    "    print('Final loss', loss.item())\n",
    "    \n",
    "    true_labels = []\n",
    "    pred_labels = []\n",
    "    with torch.no_grad():\n",
    "        gat_model.eval()\n",
    "        for i, data in enumerate(test_loader):\n",
    "            data = data.to(device)\n",
    "            out = gat_model(data, data.batch)\n",
    "            pred_labels.extend(torch.round(out.squeeze()).tolist())\n",
    "            true_labels.extend(data.y.tolist())\n",
    "    \n",
    "    results = calculate_accuracy_precision_recall(true_labels, pred_labels)\n",
    "    \n",
    "    print(results)\n",
    "    return results"
   ]
  },
  {
   "cell_type": "code",
   "execution_count": 29,
   "metadata": {},
   "outputs": [
    {
     "name": "stdout",
     "output_type": "stream",
     "text": [
      "GATClassifier(\n",
      "  (conv1): GATConv(100, 10, heads=3)\n",
      "  (linear1): Linear(in_features=30, out_features=1, bias=True)\n",
      "  (sigmoid): Sigmoid()\n",
      ")\n",
      "Epoch: 0, Epoch loss 0.34798863530158997\n",
      "Epoch: 1, Epoch loss 0.3490433990955353\n",
      "Epoch: 2, Epoch loss 0.34401196241378784\n",
      "Epoch: 3, Epoch loss 0.338461697101593\n",
      "Epoch: 4, Epoch loss 0.330524742603302\n",
      "Epoch: 5, Epoch loss 0.3304673731327057\n",
      "Epoch: 6, Epoch loss 0.32263198494911194\n",
      "Epoch: 7, Epoch loss 0.31862515211105347\n",
      "Epoch: 8, Epoch loss 0.32849597930908203\n",
      "Epoch: 9, Epoch loss 0.3328363001346588\n",
      "Training process has finished.\n",
      "Final loss 0.3328363001346588\n",
      "(0.8025250048300563, 0.8109618356913566, 0.797509609341888)\n"
     ]
    }
   ],
   "source": [
    "gat_evaluation_results = []\n",
    "gat_evaluation_results.append(run_gat_classifier())"
   ]
  },
  {
   "cell_type": "code",
   "execution_count": null,
   "metadata": {},
   "outputs": [],
   "source": []
  },
  {
   "cell_type": "markdown",
   "metadata": {},
   "source": [
    "### Glove + GATConv"
   ]
  },
  {
   "cell_type": "code",
   "execution_count": 30,
   "metadata": {},
   "outputs": [],
   "source": [
    "def create_graph_of_words_glove(text, window_size):\n",
    "    text = text.split()\n",
    "    G = nx.Graph()\n",
    "    for i, word in enumerate(text):\n",
    "        #embedding = fasttext_model.get_word_vector(word)\n",
    "        embedding = get_word_glove_embedding(word)\n",
    "        G.add_node(word, x=embedding)\n",
    "        for j in range(i + 1, i + window_size):\n",
    "            if j < len(text):\n",
    "                G.add_edge(word, text[j])\n",
    "    return G\n",
    "\n",
    "def create_graph_of_words_for_pytorch_glove(text, window_size):\n",
    "    return from_networkx(create_graph_of_words_glove(text, window_size))\n",
    "\n",
    "def generate_pytorch_geometric_graphs_glove(window_size):\n",
    "    pyg_graphs = []\n",
    "    for s in tqdm(df['body'].values):\n",
    "        pyg_graphs.append(create_graph_of_words_for_pytorch_glove(s, window_size))\n",
    "    print('finished...')\n",
    "    for i, label in enumerate(df['label'].values):\n",
    "        pyg_graphs[i].y = torch.tensor(label).float()\n",
    "    \n",
    "    pyg_graphs = [g for g in pyg_graphs if g.num_nodes != 0]\n",
    "    return pyg_graphs\n",
    "\n",
    "class GATGloveClassifier(torch.nn.Module):\n",
    "    def __init__(self):\n",
    "        super().__init__()\n",
    "        torch.manual_seed(12345)\n",
    "        \n",
    "        self.conv1 = GATConv(100, 10, heads=3)\n",
    "        self.linear1 = torch.nn.Linear(10*3, 1)\n",
    "        \n",
    "        self.sigmoid = torch.nn.Sigmoid()\n",
    "\n",
    "    def forward(self, data, batch):\n",
    "        x, edge_index = data.x, data.edge_index\n",
    "        \n",
    "        x = F.elu(self.conv1(x, edge_index))\n",
    "        x = global_mean_pool(x, batch)\n",
    "        x = F.dropout(x, p=0.5, training=self.training)\n",
    "        x = self.linear1(x)\n",
    "        x = self.sigmoid(x)\n",
    "        \n",
    "        return x"
   ]
  },
  {
   "cell_type": "code",
   "execution_count": 31,
   "metadata": {},
   "outputs": [
    {
     "name": "stderr",
     "output_type": "stream",
     "text": [
      "100%|██████████████████████████████████████████████████████████████████████████████████████████████████████████████████████████████| 407799/407799 [17:37<00:00, 385.50it/s]\n"
     ]
    },
    {
     "name": "stdout",
     "output_type": "stream",
     "text": [
      "finished...\n"
     ]
    }
   ],
   "source": [
    "pytorch_geometric_graphs_glove = generate_pytorch_geometric_graphs_glove(window_size=7)"
   ]
  },
  {
   "cell_type": "code",
   "execution_count": 32,
   "metadata": {},
   "outputs": [],
   "source": [
    "train_pyg_graphs_glove, test_pyg_graphs_glove = train_test_split(pytorch_geometric_graphs_glove, test_size=0.33, random_state=42)"
   ]
  },
  {
   "cell_type": "code",
   "execution_count": 33,
   "metadata": {},
   "outputs": [],
   "source": [
    "def run_gat_glove_classifier(train_batch_size=300, learning_rate=0.001, num_epoch=10):\n",
    "    train_loader = DataLoader(train_pyg_graphs_glove, batch_size=train_batch_size, shuffle=False)\n",
    "    test_loader = DataLoader(test_pyg_graphs_glove, batch_size=200, shuffle=False)\n",
    "    \n",
    "    gat_model = GATGloveClassifier().to(device)\n",
    "    print(gat_model)\n",
    "    # Define the loss function and optimizer\n",
    "    loss_function = F.binary_cross_entropy\n",
    "    optimizer = torch.optim.Adam(gat_model.parameters(), lr=learning_rate)\n",
    "\n",
    "    gat_model.train()\n",
    "    for epoch in range(0, num_epoch):\n",
    "        for i, data in enumerate(train_loader):  # Iterate in batches over the training dataset.\n",
    "            data = data.to(device)\n",
    "            try:\n",
    "                out = gat_model(data, data.batch)  # Perform a single forward pass.\n",
    "            except Exception as e:\n",
    "                print(data)\n",
    "                print(data.x)\n",
    "                print(data.y)\n",
    "            out = out.squeeze()\n",
    "            y = data.y.squeeze()\n",
    "            loss = loss_function(out, y)  # Compute the loss.\n",
    "            loss.backward()  # Derive gradients.\n",
    "            optimizer.step()  # Update parameters based on gradients.\n",
    "            optimizer.zero_grad()  # Clear gradients.\n",
    "        print(f'Epoch: {epoch}, Epoch loss {loss.item()}')\n",
    "\n",
    "    print('Training process has finished.')\n",
    "    print('Final loss', loss.item())\n",
    "    \n",
    "    true_labels = []\n",
    "    pred_labels = []\n",
    "    with torch.no_grad():\n",
    "        gat_model.eval()\n",
    "        for i, data in enumerate(test_loader):\n",
    "            data = data.to(device)\n",
    "            out = gat_model(data, data.batch)\n",
    "            pred_labels.extend(torch.round(out.squeeze()).tolist())\n",
    "            true_labels.extend(data.y.tolist())\n",
    "    \n",
    "    results = calculate_accuracy_precision_recall(true_labels, pred_labels)\n",
    "    \n",
    "    print(results)\n",
    "    return results"
   ]
  },
  {
   "cell_type": "code",
   "execution_count": 34,
   "metadata": {},
   "outputs": [
    {
     "name": "stdout",
     "output_type": "stream",
     "text": [
      "GATGloveClassifier(\n",
      "  (conv1): GATConv(100, 10, heads=3)\n",
      "  (linear1): Linear(in_features=30, out_features=1, bias=True)\n",
      "  (sigmoid): Sigmoid()\n",
      ")\n",
      "Epoch: 0, Epoch loss 0.5432955622673035\n",
      "Epoch: 1, Epoch loss 0.5186551809310913\n",
      "Epoch: 2, Epoch loss 0.49953871965408325\n",
      "Epoch: 3, Epoch loss 0.5260472297668457\n",
      "Epoch: 4, Epoch loss 0.4987495541572571\n",
      "Epoch: 5, Epoch loss 0.5135094523429871\n",
      "Epoch: 6, Epoch loss 0.4957980215549469\n",
      "Epoch: 7, Epoch loss 0.5137096643447876\n",
      "Epoch: 8, Epoch loss 0.5037187933921814\n",
      "Epoch: 9, Epoch loss 0.5215823650360107\n",
      "Training process has finished.\n",
      "Final loss 0.5215823650360107\n",
      "(0.7637359371052358, 0.7733188072709907, 0.7573038305832834)\n"
     ]
    }
   ],
   "source": [
    "gat_glove_evaluation_results = []\n",
    "gat_glove_evaluation_results.append(run_gat_glove_classifier())"
   ]
  },
  {
   "cell_type": "code",
   "execution_count": null,
   "metadata": {},
   "outputs": [],
   "source": []
  },
  {
   "cell_type": "code",
   "execution_count": null,
   "metadata": {},
   "outputs": [],
   "source": []
  },
  {
   "cell_type": "code",
   "execution_count": null,
   "metadata": {},
   "outputs": [],
   "source": []
  },
  {
   "cell_type": "markdown",
   "metadata": {},
   "source": [
    "### Glove + GCNonv"
   ]
  },
  {
   "cell_type": "code",
   "execution_count": 35,
   "metadata": {},
   "outputs": [],
   "source": [
    "class GCNGloveClassifier(torch.nn.Module):\n",
    "    def __init__(self):\n",
    "        super().__init__()\n",
    "        torch.manual_seed(12345)\n",
    "        \n",
    "        self.conv1 = GCNConv(100, 10)\n",
    "        self.linear1 = torch.nn.Linear(10, 1)\n",
    "        \n",
    "        self.sigmoid = torch.nn.Sigmoid()\n",
    "\n",
    "    def forward(self, data, batch):\n",
    "        x, edge_index = data.x, data.edge_index\n",
    "        \n",
    "        x = F.elu(self.conv1(x, edge_index))\n",
    "        x = global_mean_pool(x, batch)\n",
    "        x = F.dropout(x, p=0.5, training=self.training)\n",
    "        x = self.linear1(x)\n",
    "        x = self.sigmoid(x)\n",
    "        \n",
    "        return x"
   ]
  },
  {
   "cell_type": "code",
   "execution_count": 36,
   "metadata": {},
   "outputs": [],
   "source": [
    "def run_gcn_glove_classifier(train_batch_size=300, learning_rate=0.001, num_epoch=10):\n",
    "    train_loader = DataLoader(train_pyg_graphs_glove, batch_size=train_batch_size, shuffle=False)\n",
    "    test_loader = DataLoader(test_pyg_graphs_glove, batch_size=200, shuffle=False)\n",
    "    \n",
    "    model = GCNGloveClassifier().to(device)\n",
    "    print(model)\n",
    "    # Define the loss function and optimizer\n",
    "    loss_function = F.binary_cross_entropy\n",
    "    optimizer = torch.optim.Adam(model.parameters(), lr=learning_rate)\n",
    "\n",
    "    model.train()\n",
    "    for epoch in range(0, num_epoch):\n",
    "        for i, data in enumerate(train_loader):  # Iterate in batches over the training dataset.\n",
    "            data = data.to(device)\n",
    "            try:\n",
    "                out = model(data, data.batch)  # Perform a single forward pass.\n",
    "            except Exception as e:\n",
    "                print(data)\n",
    "                print(data.x)\n",
    "                print(data.y)\n",
    "            out = out.squeeze()\n",
    "            y = data.y.squeeze()\n",
    "            loss = loss_function(out, y)  # Compute the loss.\n",
    "            loss.backward()  # Derive gradients.\n",
    "            optimizer.step()  # Update parameters based on gradients.\n",
    "            optimizer.zero_grad()  # Clear gradients.\n",
    "        print(f'Epoch: {epoch}, Epoch loss {loss.item()}')\n",
    "\n",
    "    print('Training process has finished.')\n",
    "    print('Final loss', loss.item())\n",
    "    \n",
    "    true_labels = []\n",
    "    pred_labels = []\n",
    "    with torch.no_grad():\n",
    "        model.eval()\n",
    "        for i, data in enumerate(test_loader):\n",
    "            data = data.to(device)\n",
    "            out = model(data, data.batch)\n",
    "            pred_labels.extend(torch.round(out.squeeze()).tolist())\n",
    "            true_labels.extend(data.y.tolist())\n",
    "    \n",
    "    results = calculate_accuracy_precision_recall(true_labels, pred_labels)\n",
    "    \n",
    "    print(results)\n",
    "    return results"
   ]
  },
  {
   "cell_type": "code",
   "execution_count": 37,
   "metadata": {},
   "outputs": [
    {
     "name": "stdout",
     "output_type": "stream",
     "text": [
      "GCNGloveClassifier(\n",
      "  (conv1): GCNConv(100, 10)\n",
      "  (linear1): Linear(in_features=10, out_features=1, bias=True)\n",
      "  (sigmoid): Sigmoid()\n",
      ")\n",
      "Epoch: 0, Epoch loss 0.5705499053001404\n",
      "Epoch: 1, Epoch loss 0.5697073340415955\n",
      "Epoch: 2, Epoch loss 0.5562869310379028\n",
      "Epoch: 3, Epoch loss 0.5690243244171143\n",
      "Epoch: 4, Epoch loss 0.5552098155021667\n",
      "Epoch: 5, Epoch loss 0.5686145424842834\n",
      "Epoch: 6, Epoch loss 0.5702721476554871\n",
      "Epoch: 7, Epoch loss 0.5903779864311218\n",
      "Epoch: 8, Epoch loss 0.5587636828422546\n",
      "Epoch: 9, Epoch loss 0.5603534579277039\n",
      "Training process has finished.\n",
      "Final loss 0.5603534579277039\n",
      "(0.7294053829120039, 0.7465643680285943, 0.7082121508849364)\n"
     ]
    }
   ],
   "source": [
    "gcn_glove_evaluation_results = []\n",
    "gcn_glove_evaluation_results.append(run_gcn_glove_classifier())"
   ]
  },
  {
   "cell_type": "code",
   "execution_count": null,
   "metadata": {},
   "outputs": [],
   "source": []
  },
  {
   "cell_type": "code",
   "execution_count": null,
   "metadata": {},
   "outputs": [],
   "source": []
  },
  {
   "cell_type": "code",
   "execution_count": null,
   "metadata": {},
   "outputs": [],
   "source": []
  },
  {
   "cell_type": "markdown",
   "metadata": {},
   "source": [
    "### Glove + GraphConv"
   ]
  },
  {
   "cell_type": "code",
   "execution_count": 38,
   "metadata": {},
   "outputs": [],
   "source": [
    "class GraphConvGloveClassifier(torch.nn.Module):\n",
    "    def __init__(self):\n",
    "        super().__init__()\n",
    "        torch.manual_seed(12345)\n",
    "        \n",
    "        self.conv1 = GraphConv(100, 10, aggr='mean')\n",
    "        self.linear1 = torch.nn.Linear(10, 1)\n",
    "        \n",
    "        self.sigmoid = torch.nn.Sigmoid()\n",
    "\n",
    "    def forward(self, data, batch):\n",
    "        x, edge_index = data.x, data.edge_index\n",
    "        \n",
    "        x = F.elu(self.conv1(x, edge_index))\n",
    "        x = global_mean_pool(x, batch)\n",
    "        x = F.dropout(x, p=0.5, training=self.training)\n",
    "        x = self.linear1(x)\n",
    "        x = self.sigmoid(x)\n",
    "        \n",
    "        return x"
   ]
  },
  {
   "cell_type": "code",
   "execution_count": 39,
   "metadata": {},
   "outputs": [],
   "source": [
    "def run_graphconv_glove_classifier(train_batch_size=300, learning_rate=0.001, num_epoch=10):\n",
    "    train_loader = DataLoader(train_pyg_graphs_glove, batch_size=train_batch_size, shuffle=False)\n",
    "    test_loader = DataLoader(test_pyg_graphs_glove, batch_size=200, shuffle=False)\n",
    "    \n",
    "    model = GraphConvGloveClassifier().to(device)\n",
    "    print(model)\n",
    "    # Define the loss function and optimizer\n",
    "    loss_function = F.binary_cross_entropy\n",
    "    optimizer = torch.optim.Adam(model.parameters(), lr=learning_rate)\n",
    "\n",
    "    model.train()\n",
    "    for epoch in range(0, num_epoch):\n",
    "        for i, data in enumerate(train_loader):  # Iterate in batches over the training dataset.\n",
    "            data = data.to(device)\n",
    "            try:\n",
    "                out = model(data, data.batch)  # Perform a single forward pass.\n",
    "            except Exception as e:\n",
    "                print(data)\n",
    "                print(data.x)\n",
    "                print(data.y)\n",
    "            out = out.squeeze()\n",
    "            y = data.y.squeeze()\n",
    "            loss = loss_function(out, y)  # Compute the loss.\n",
    "            loss.backward()  # Derive gradients.\n",
    "            optimizer.step()  # Update parameters based on gradients.\n",
    "            optimizer.zero_grad()  # Clear gradients.\n",
    "        print(f'Epoch: {epoch}, Epoch loss {loss.item()}')\n",
    "\n",
    "    print('Training process has finished.')\n",
    "    print('Final loss', loss.item())\n",
    "    \n",
    "    true_labels = []\n",
    "    pred_labels = []\n",
    "    with torch.no_grad():\n",
    "        model.eval()\n",
    "        for i, data in enumerate(test_loader):\n",
    "            data = data.to(device)\n",
    "            out = model(data, data.batch)\n",
    "            pred_labels.extend(torch.round(out.squeeze()).tolist())\n",
    "            true_labels.extend(data.y.tolist())\n",
    "    \n",
    "    results = calculate_accuracy_precision_recall(true_labels, pred_labels)\n",
    "    \n",
    "    print(results)\n",
    "    return results"
   ]
  },
  {
   "cell_type": "code",
   "execution_count": 40,
   "metadata": {},
   "outputs": [
    {
     "name": "stdout",
     "output_type": "stream",
     "text": [
      "GraphConvGloveClassifier(\n",
      "  (conv1): GraphConv(100, 10)\n",
      "  (linear1): Linear(in_features=10, out_features=1, bias=True)\n",
      "  (sigmoid): Sigmoid()\n",
      ")\n",
      "Epoch: 0, Epoch loss 0.556878924369812\n",
      "Epoch: 1, Epoch loss 0.5519242286682129\n",
      "Epoch: 2, Epoch loss 0.5434998273849487\n",
      "Epoch: 3, Epoch loss 0.5496436953544617\n",
      "Epoch: 4, Epoch loss 0.546381950378418\n",
      "Epoch: 5, Epoch loss 0.5566105246543884\n",
      "Epoch: 6, Epoch loss 0.5527468919754028\n",
      "Epoch: 7, Epoch loss 0.5617696046829224\n",
      "Epoch: 8, Epoch loss 0.531860888004303\n",
      "Epoch: 9, Epoch loss 0.5340650081634521\n",
      "Training process has finished.\n",
      "Final loss 0.5340650081634521\n",
      "(0.7483986505565711, 0.7600595900923948, 0.7381874515879163)\n"
     ]
    }
   ],
   "source": [
    "graphconv_glove_evaluation_results = []\n",
    "graphconv_glove_evaluation_results.append(run_graphconv_glove_classifier())"
   ]
  },
  {
   "cell_type": "code",
   "execution_count": null,
   "metadata": {},
   "outputs": [],
   "source": []
  },
  {
   "cell_type": "code",
   "execution_count": null,
   "metadata": {},
   "outputs": [],
   "source": []
  },
  {
   "cell_type": "code",
   "execution_count": null,
   "metadata": {},
   "outputs": [],
   "source": []
  },
  {
   "cell_type": "markdown",
   "metadata": {},
   "source": [
    "### Glove + SAGEConv"
   ]
  },
  {
   "cell_type": "code",
   "execution_count": 47,
   "metadata": {},
   "outputs": [],
   "source": [
    "class SAGEConvGloveClassifier(torch.nn.Module):\n",
    "    def __init__(self):\n",
    "        super().__init__()\n",
    "        torch.manual_seed(12345)\n",
    "        \n",
    "        self.conv1 = SAGEConv(100, 10)\n",
    "        self.linear1 = torch.nn.Linear(10, 1)\n",
    "        \n",
    "        self.sigmoid = torch.nn.Sigmoid()\n",
    "\n",
    "    def forward(self, data, batch):\n",
    "        x, edge_index = data.x, data.edge_index\n",
    "        \n",
    "        x = F.elu(self.conv1(x, edge_index))\n",
    "        x = global_mean_pool(x, batch)\n",
    "        x = F.dropout(x, p=0.5, training=self.training)\n",
    "        x = self.linear1(x)\n",
    "        x = self.sigmoid(x)\n",
    "        \n",
    "        return x"
   ]
  },
  {
   "cell_type": "code",
   "execution_count": 48,
   "metadata": {},
   "outputs": [],
   "source": [
    "def run_sageconv_glove_classifier(train_batch_size=300, learning_rate=0.001, num_epoch=10):\n",
    "    train_loader = DataLoader(train_pyg_graphs_glove, batch_size=train_batch_size, shuffle=False)\n",
    "    test_loader = DataLoader(test_pyg_graphs_glove, batch_size=200, shuffle=False)\n",
    "    \n",
    "    model = SAGEConvGloveClassifier().to(device)\n",
    "    print(model)\n",
    "    # Define the loss function and optimizer\n",
    "    loss_function = F.binary_cross_entropy\n",
    "    optimizer = torch.optim.Adam(model.parameters(), lr=learning_rate)\n",
    "\n",
    "    model.train()\n",
    "    for epoch in range(0, num_epoch):\n",
    "        for i, data in enumerate(train_loader):  # Iterate in batches over the training dataset.\n",
    "            data = data.to(device)\n",
    "            try:\n",
    "                out = model(data, data.batch)  # Perform a single forward pass.\n",
    "            except Exception as e:\n",
    "                print(data)\n",
    "                print(data.x)\n",
    "                print(data.y)\n",
    "            out = out.squeeze()\n",
    "            y = data.y.squeeze()\n",
    "            loss = loss_function(out, y)  # Compute the loss.\n",
    "            loss.backward()  # Derive gradients.\n",
    "            optimizer.step()  # Update parameters based on gradients.\n",
    "            optimizer.zero_grad()  # Clear gradients.\n",
    "        print(f'Epoch: {epoch}, Epoch loss {loss.item()}')\n",
    "\n",
    "    print('Training process has finished.')\n",
    "    print('Final loss', loss.item())\n",
    "    \n",
    "    true_labels = []\n",
    "    pred_labels = []\n",
    "    with torch.no_grad():\n",
    "        model.eval()\n",
    "        for i, data in enumerate(test_loader):\n",
    "            data = data.to(device)\n",
    "            out = model(data, data.batch)\n",
    "            pred_labels.extend(torch.round(out.squeeze()).tolist())\n",
    "            true_labels.extend(data.y.tolist())\n",
    "    \n",
    "    results = calculate_accuracy_precision_recall(true_labels, pred_labels)\n",
    "    \n",
    "    print(results)\n",
    "    return results"
   ]
  },
  {
   "cell_type": "code",
   "execution_count": 50,
   "metadata": {},
   "outputs": [
    {
     "name": "stdout",
     "output_type": "stream",
     "text": [
      "SAGEConvGloveClassifier(\n",
      "  (conv1): SAGEConv(100, 10)\n",
      "  (linear1): Linear(in_features=10, out_features=1, bias=True)\n",
      "  (sigmoid): Sigmoid()\n",
      ")\n",
      "Epoch: 0, Epoch loss 0.5568789839744568\n",
      "Epoch: 1, Epoch loss 0.5519242286682129\n",
      "Epoch: 2, Epoch loss 0.5434998273849487\n",
      "Epoch: 3, Epoch loss 0.5496436953544617\n",
      "Epoch: 4, Epoch loss 0.546381950378418\n",
      "Epoch: 5, Epoch loss 0.5566105246543884\n",
      "Epoch: 6, Epoch loss 0.5527468919754028\n",
      "Epoch: 7, Epoch loss 0.5617696046829224\n",
      "Epoch: 8, Epoch loss 0.5318608283996582\n",
      "Epoch: 9, Epoch loss 0.5340650081634521\n",
      "Epoch: 10, Epoch loss 0.5269910097122192\n",
      "Epoch: 11, Epoch loss 0.5415917634963989\n",
      "Epoch: 12, Epoch loss 0.5225735902786255\n",
      "Epoch: 13, Epoch loss 0.5119897723197937\n",
      "Epoch: 14, Epoch loss 0.5248987674713135\n",
      "Epoch: 15, Epoch loss 0.5316376686096191\n",
      "Epoch: 16, Epoch loss 0.5322040915489197\n",
      "Epoch: 17, Epoch loss 0.5357478857040405\n",
      "Epoch: 18, Epoch loss 0.541910707950592\n",
      "Epoch: 19, Epoch loss 0.5312440395355225\n",
      "Epoch: 20, Epoch loss 0.5123745203018188\n",
      "Epoch: 21, Epoch loss 0.5106387138366699\n",
      "Epoch: 22, Epoch loss 0.5031642913818359\n",
      "Epoch: 23, Epoch loss 0.4981933832168579\n",
      "Epoch: 24, Epoch loss 0.5303360223770142\n",
      "Epoch: 25, Epoch loss 0.5085858702659607\n",
      "Epoch: 26, Epoch loss 0.5223764181137085\n",
      "Epoch: 27, Epoch loss 0.5063081383705139\n",
      "Epoch: 28, Epoch loss 0.5025570392608643\n",
      "Epoch: 29, Epoch loss 0.49964189529418945\n",
      "Epoch: 30, Epoch loss 0.5167818069458008\n",
      "Epoch: 31, Epoch loss 0.5059103965759277\n",
      "Epoch: 32, Epoch loss 0.5160890221595764\n",
      "Epoch: 33, Epoch loss 0.5020461082458496\n",
      "Epoch: 34, Epoch loss 0.5131187438964844\n",
      "Epoch: 35, Epoch loss 0.5020177364349365\n",
      "Epoch: 36, Epoch loss 0.517825722694397\n",
      "Epoch: 37, Epoch loss 0.52492755651474\n",
      "Epoch: 38, Epoch loss 0.5149352550506592\n",
      "Epoch: 39, Epoch loss 0.518298327922821\n",
      "Epoch: 40, Epoch loss 0.5048672556877136\n",
      "Epoch: 41, Epoch loss 0.5010474920272827\n",
      "Epoch: 42, Epoch loss 0.4985220432281494\n",
      "Epoch: 43, Epoch loss 0.5170873403549194\n",
      "Epoch: 44, Epoch loss 0.5056470036506653\n",
      "Epoch: 45, Epoch loss 0.49902039766311646\n",
      "Epoch: 46, Epoch loss 0.5000661015510559\n",
      "Epoch: 47, Epoch loss 0.5190498232841492\n",
      "Epoch: 48, Epoch loss 0.5159509181976318\n",
      "Epoch: 49, Epoch loss 0.5124653577804565\n",
      "Training process has finished.\n",
      "Final loss 0.5124653577804565\n",
      "(0.7617444677277929, 0.7752877044215627, 0.7482863949256828)\n"
     ]
    }
   ],
   "source": [
    "sageconv_glove_evaluation_results = []\n",
    "sageconv_glove_evaluation_results.append(run_sageconv_glove_classifier(num_epoch))"
   ]
  },
  {
   "cell_type": "code",
   "execution_count": null,
   "metadata": {},
   "outputs": [],
   "source": []
  },
  {
   "cell_type": "markdown",
   "metadata": {},
   "source": [
    "## Parameter Sensitivity"
   ]
  },
  {
   "cell_type": "code",
   "execution_count": null,
   "metadata": {},
   "outputs": [],
   "source": []
  },
  {
   "cell_type": "code",
   "execution_count": null,
   "metadata": {},
   "outputs": [],
   "source": []
  },
  {
   "cell_type": "code",
   "execution_count": null,
   "metadata": {},
   "outputs": [],
   "source": []
  }
 ],
 "metadata": {
  "kernelspec": {
   "display_name": "Python 3",
   "language": "python",
   "name": "python3"
  },
  "language_info": {
   "codemirror_mode": {
    "name": "ipython",
    "version": 3
   },
   "file_extension": ".py",
   "mimetype": "text/x-python",
   "name": "python",
   "nbconvert_exporter": "python",
   "pygments_lexer": "ipython3",
   "version": "3.8.3"
  }
 },
 "nbformat": 4,
 "nbformat_minor": 4
}
