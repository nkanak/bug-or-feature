{
 "cells": [
  {
   "cell_type": "code",
   "execution_count": 1,
   "metadata": {},
   "outputs": [],
   "source": [
    "import pandas as pd\n",
    "import seaborn as sns\n",
    "import matplotlib.pyplot as plt\n",
    "from gensim.parsing.preprocessing import remove_stopwords\n",
    "import contractions\n",
    "from sklearn.linear_model import LogisticRegression\n",
    "from sklearn.model_selection import train_test_split\n",
    "from sklearn.feature_extraction.text import TfidfVectorizer\n",
    "from sklearn.preprocessing import MaxAbsScaler\n",
    "import numpy as np\n",
    "import fasttext\n",
    "from sklearn.metrics import accuracy_score\n",
    "from sklearn.metrics import recall_score\n",
    "from sklearn.metrics import precision_score\n",
    "\n",
    "import torch.nn.functional as F\n",
    "import torch\n",
    "\n",
    "import networkx as nx\n",
    "from torch_geometric.nn import GCNConv\n",
    "from torch_geometric.utils.convert import from_networkx\n",
    "from torch_geometric.nn import norm\n",
    "from torch_geometric.data import Data, DataLoader\n",
    "from torch_geometric.nn import global_mean_pool\n",
    "\n",
    "from gensim.models import KeyedVectors\n",
    "from gensim.scripts.glove2word2vec import glove2word2vec\n",
    "\n",
    "from torch_geometric.nn import GraphConv\n",
    "from torch_geometric.nn import GATConv\n",
    "from torch_geometric.nn import GCNConv\n",
    "from torch_geometric.nn import SAGEConv\n",
    "\n",
    "from tqdm import tqdm\n",
    "\n",
    "import random\n",
    "\n",
    "sns.set_theme()\n",
    "\n",
    "# Set fixed random number seed\n",
    "#torch.manual_seed(42)\n",
    "\n",
    "%matplotlib inline"
   ]
  },
  {
   "cell_type": "code",
   "execution_count": 2,
   "metadata": {},
   "outputs": [],
   "source": [
    "def calculate_accuracy_precision_recall(true_labels, predicted_labels):\n",
    "    return (accuracy_score(true_labels, predicted_labels),\n",
    "           precision_score(true_labels, predicted_labels),\n",
    "           recall_score(true_labels, predicted_labels))\n",
    "\n",
    "def print_evaluation_results(results):\n",
    "    print('Avg accuracy | Avg precision | Avg recall')\n",
    "    avg_accuracy, avg_precision, avg_recall = np.mean(results, axis=0)\n",
    "    std_accuracy, std_precision, std_recall = np.std(results, axis=0)\n",
    "    print(f'{avg_accuracy:.4f}+-{std_accuracy:.4f}, {avg_precision:.4f}+-{std_precision:.4f}, {avg_recall:.4f}+-{std_recall:.4f}')\n",
    "\n",
    "def get_random_number():\n",
    "    return random.randint(0, 10000)\n",
    "\n",
    "global_random_number = get_random_number()\n",
    "global_random_numbers = [get_random_number() for _ in range(10)]"
   ]
  },
  {
   "cell_type": "markdown",
   "metadata": {},
   "source": [
    "## Load dataset"
   ]
  },
  {
   "cell_type": "code",
   "execution_count": 3,
   "metadata": {},
   "outputs": [
    {
     "data": {
      "text/plain": [
       "500"
      ]
     },
     "execution_count": 3,
     "metadata": {},
     "output_type": "execute_result"
    }
   ],
   "source": [
    "df = pd.read_csv('samples.csv')\n",
    "# bug == 0 and feature == 1\n",
    "df = df[(df['label'] == 0) | (df['label'] == 1)]\n",
    "df = df[:500]\n",
    "len(df)"
   ]
  },
  {
   "cell_type": "markdown",
   "metadata": {},
   "source": [
    "## Preprocess dataset"
   ]
  },
  {
   "cell_type": "code",
   "execution_count": 4,
   "metadata": {},
   "outputs": [],
   "source": [
    "contractions.add('__label__', 'REMOVED_TOKEN')"
   ]
  },
  {
   "cell_type": "code",
   "execution_count": 5,
   "metadata": {},
   "outputs": [],
   "source": [
    "# fix contractions\n",
    "df['title'] = df['title'].apply(contractions.fix)\n",
    "df['body'] = df['body'].apply(contractions.fix)"
   ]
  },
  {
   "cell_type": "code",
   "execution_count": 6,
   "metadata": {},
   "outputs": [],
   "source": [
    "# removal of stopwords\n",
    "df['title'] = df['title'].apply(remove_stopwords)\n",
    "df['body'] = df['body'].apply(remove_stopwords)"
   ]
  },
  {
   "cell_type": "markdown",
   "metadata": {},
   "source": [
    "## Generate statistics"
   ]
  },
  {
   "cell_type": "code",
   "execution_count": 7,
   "metadata": {},
   "outputs": [],
   "source": [
    "df['number_of_words_of_title'] = df['title'].str.split().str.len()\n",
    "df['number_of_words_of_body'] = df['body'].str.split().str.len()"
   ]
  },
  {
   "cell_type": "code",
   "execution_count": 8,
   "metadata": {},
   "outputs": [],
   "source": [
    "x = df['number_of_words_of_title']"
   ]
  },
  {
   "cell_type": "code",
   "execution_count": 9,
   "metadata": {},
   "outputs": [
    {
     "data": {
      "text/plain": [
       "count    500.00000\n",
       "mean       4.96000\n",
       "std        1.91461\n",
       "min        1.00000\n",
       "25%        4.00000\n",
       "50%        5.00000\n",
       "75%        6.00000\n",
       "max       16.00000\n",
       "Name: number_of_words_of_title, dtype: float64"
      ]
     },
     "execution_count": 9,
     "metadata": {},
     "output_type": "execute_result"
    }
   ],
   "source": [
    "x.describe()"
   ]
  },
  {
   "cell_type": "code",
   "execution_count": 10,
   "metadata": {},
   "outputs": [
    {
     "data": {
      "text/plain": [
       "Text(0.5, 0, 'Number of words of title')"
      ]
     },
     "execution_count": 10,
     "metadata": {},
     "output_type": "execute_result"
    },
    {
     "data": {
      "image/png": "[encoded data removed]",
      "text/plain": [
       "<Figure size 432x288 with 1 Axes>"
      ]
     },
     "metadata": {
      "needs_background": "light"
     },
     "output_type": "display_data"
    }
   ],
   "source": [
    "fig = sns.histplot(data=df, x='number_of_words_of_title', kde=False, stat='count', binwidth=1)\n",
    "fig.set_xlabel('Number of words of title')\n",
    "#fig.get_figure().savefig('figures/price_kde_histogram.jpg', dpi=500)"
   ]
  },
  {
   "cell_type": "code",
   "execution_count": 11,
   "metadata": {},
   "outputs": [
    {
     "data": {
      "text/plain": [
       "Text(0.5, 0, 'Number of words of body')"
      ]
     },
     "execution_count": 11,
     "metadata": {},
     "output_type": "execute_result"
    },
    {
     "data": {
      "image/png": "[encoded data removed]",
      "text/plain": [
       "<Figure size 432x288 with 1 Axes>"
      ]
     },
     "metadata": {
      "needs_background": "light"
     },
     "output_type": "display_data"
    }
   ],
   "source": [
    "fig = sns.histplot(data=df, x='number_of_words_of_body', kde=False, stat='count', binwidth=15)\n",
    "fig.set_xlabel('Number of words of body')\n",
    "#fig.get_figure().savefig('figures/price_kde_histogram.jpg', dpi=500)"
   ]
  },
  {
   "cell_type": "code",
   "execution_count": 12,
   "metadata": {},
   "outputs": [
    {
     "data": {
      "text/plain": [
       "count    500.00000\n",
       "mean       4.96000\n",
       "std        1.91461\n",
       "min        1.00000\n",
       "25%        4.00000\n",
       "50%        5.00000\n",
       "75%        6.00000\n",
       "max       16.00000\n",
       "Name: number_of_words_of_title, dtype: float64"
      ]
     },
     "execution_count": 12,
     "metadata": {},
     "output_type": "execute_result"
    }
   ],
   "source": [
    "df['number_of_words_of_title'].describe()"
   ]
  },
  {
   "cell_type": "code",
   "execution_count": 13,
   "metadata": {},
   "outputs": [
    {
     "data": {
      "text/plain": [
       "count    500.000000\n",
       "mean      46.924000\n",
       "std       64.541626\n",
       "min        2.000000\n",
       "25%       12.000000\n",
       "50%       23.500000\n",
       "75%       52.250000\n",
       "max      468.000000\n",
       "Name: number_of_words_of_body, dtype: float64"
      ]
     },
     "execution_count": 13,
     "metadata": {},
     "output_type": "execute_result"
    }
   ],
   "source": [
    "df['number_of_words_of_body'].describe()"
   ]
  },
  {
   "cell_type": "code",
   "execution_count": 14,
   "metadata": {},
   "outputs": [
    {
     "data": {
      "text/plain": [
       "1    262\n",
       "0    238\n",
       "Name: label, dtype: int64"
      ]
     },
     "execution_count": 14,
     "metadata": {},
     "output_type": "execute_result"
    }
   ],
   "source": [
    "# bugs == 0\n",
    "# feature == 1\n",
    "df['label'].value_counts()"
   ]
  },
  {
   "cell_type": "code",
   "execution_count": 15,
   "metadata": {},
   "outputs": [
    {
     "name": "stdout",
     "output_type": "stream",
     "text": [
      "Train size 335\n",
      "Test size 165\n"
     ]
    }
   ],
   "source": [
    "x_train, x_test = train_test_split(df.body, test_size=0.33, random_state=42)\n",
    "print('Train size', len(x_train))\n",
    "print('Test size', len(x_test))"
   ]
  },
  {
   "cell_type": "code",
   "execution_count": 16,
   "metadata": {},
   "outputs": [
    {
     "data": {
      "image/png": "[encoded data removed]",
      "text/plain": [
       "<Figure size 432x288 with 1 Axes>"
      ]
     },
     "metadata": {
      "needs_background": "light"
     },
     "output_type": "display_data"
    }
   ],
   "source": [
    "fig = sns.histplot(data=df[df['number_of_words_of_title'] < 15], x='number_of_words_of_title', kde=False, stat='count', binwidth=1)\n",
    "fig.set_xlabel('number of words of title')\n",
    "fig.get_figure().savefig('figures/number_of_words_of_title_less_than_15.pdf', dpi=500)"
   ]
  },
  {
   "cell_type": "code",
   "execution_count": 17,
   "metadata": {},
   "outputs": [
    {
     "data": {
      "image/png": "[encoded data removed]",
      "text/plain": [
       "<Figure size 432x288 with 1 Axes>"
      ]
     },
     "metadata": {
      "needs_background": "light"
     },
     "output_type": "display_data"
    }
   ],
   "source": [
    "fig = sns.histplot(data=df[df['number_of_words_of_body'] < 70], x='number_of_words_of_body', kde=False, stat='count', binwidth=4)\n",
    "fig.set_xlabel('number of words of body')\n",
    "fig.get_figure().savefig('figures/number_of_words_of_body_less_than_70.pdf', dpi=500)"
   ]
  },
  {
   "cell_type": "code",
   "execution_count": 18,
   "metadata": {},
   "outputs": [
    {
     "data": {
      "image/png": "[encoded data removed]",
      "text/plain": [
       "<Figure size 864x288 with 2 Axes>"
      ]
     },
     "metadata": {
      "needs_background": "light"
     },
     "output_type": "display_data"
    }
   ],
   "source": [
    "# print altogether\n",
    "fig, ax = plt.subplots(1,2)\n",
    "fig.set_figwidth(12)\n",
    "ax[0].set_xlabel('number of words of title')\n",
    "ax[1].set_xlabel('number of words of body')\n",
    "sns.histplot(data=df[df['number_of_words_of_title'] < 15], x='number_of_words_of_title', kde=False, stat='count', binwidth=1, ax=ax[0])\n",
    "sns.histplot(data=df[df['number_of_words_of_body'] < 70], x='number_of_words_of_body', kde=False, stat='count', binwidth=4, ax=ax[1])\n",
    "fig.savefig('figures/title_words_less_than_15_body_words_less_than_70.pdf', dpi=500)"
   ]
  },
  {
   "cell_type": "markdown",
   "metadata": {},
   "source": [
    "## Load glove embeddings 100"
   ]
  },
  {
   "cell_type": "code",
   "execution_count": 19,
   "metadata": {},
   "outputs": [],
   "source": [
    "glove2word2vec('glove.6B/glove.6B.100d.txt', 'tmpfile_glove')\n",
    "glove_embeddings_model = KeyedVectors.load_word2vec_format('tmpfile_glove')"
   ]
  },
  {
   "cell_type": "code",
   "execution_count": 20,
   "metadata": {},
   "outputs": [],
   "source": [
    "def get_word_glove_embedding(word):\n",
    "    if word not in glove_embeddings_model:\n",
    "        return np.zeros(100, dtype='float32')\n",
    "    return glove_embeddings_model.get_vector(word)"
   ]
  },
  {
   "cell_type": "code",
   "execution_count": 21,
   "metadata": {},
   "outputs": [],
   "source": [
    "def get_sentence_glove_embedding(sentence):\n",
    "    word_embeddings = [glove_embeddings_model.get_vector(word) if word in glove_embeddings_model else np.zeros(100, dtype='float32') for word in sentence.split()]\n",
    "    if len(word_embeddings) == 0:\n",
    "        return np.zeros(100, dtype='float32')\n",
    "    return np.mean(word_embeddings, axis=0)"
   ]
  },
  {
   "cell_type": "markdown",
   "metadata": {},
   "source": [
    "## Train fasttext embeddings"
   ]
  },
  {
   "cell_type": "code",
   "execution_count": 22,
   "metadata": {},
   "outputs": [],
   "source": [
    "df['fasttext_input'] = '__label__' + df['label'].map(str) + ' ' + df['title'] + ' ' + df['body']\n",
    "train_input, test_input = train_test_split(df.fasttext_input.values, test_size=0.33, random_state=42)\n",
    "np.savetxt('train.txt', train_input, fmt='%s')\n",
    "np.savetxt('test.txt', test_input, fmt='%s')\n",
    "fasttext_model = fasttext.train_supervised('train.txt', dim=100, epoch=5)\n",
    "fasttext_model.test('test.txt')\n",
    "df.drop('fasttext_input', axis=1, inplace=True)\n",
    "embeddings_lookup = {word: fasttext_model.get_word_vector(word) for word in fasttext_model.get_words()}"
   ]
  },
  {
   "cell_type": "markdown",
   "metadata": {},
   "source": [
    "## Train baseline models"
   ]
  },
  {
   "cell_type": "markdown",
   "metadata": {},
   "source": [
    "## GloVe + logistic regression classification"
   ]
  },
  {
   "cell_type": "code",
   "execution_count": 23,
   "metadata": {},
   "outputs": [],
   "source": [
    "X_train, X_test, y_train, y_test = train_test_split(df.body, df.label, test_size=0.33, random_state=42)\n",
    "X_train = [get_sentence_glove_embedding(s) for s in X_train.values]\n",
    "X_test = [get_sentence_glove_embedding(s) for s in X_test.values]"
   ]
  },
  {
   "cell_type": "code",
   "execution_count": 24,
   "metadata": {},
   "outputs": [],
   "source": [
    "def run_logistic_regression_classifier(use_global_random_number=True):\n",
    "    if use_global_random_number:\n",
    "        random_state = global_random_number\n",
    "    else:\n",
    "        random_state = get_random_number()\n",
    "    logit_clf = LogisticRegression(random_state=random_state, solver='liblinear').fit(X_train, y_train)\n",
    "    predicted_labels = logit_clf.predict(X_test)\n",
    "    true_labels = y_test\n",
    "    \n",
    "    results = calculate_accuracy_precision_recall(true_labels, predicted_labels)\n",
    "    print(results)\n",
    "    return results"
   ]
  },
  {
   "cell_type": "code",
   "execution_count": 25,
   "metadata": {},
   "outputs": [
    {
     "name": "stdout",
     "output_type": "stream",
     "text": [
      "(0.7151515151515152, 0.7142857142857143, 0.7558139534883721)\n",
      "(0.7151515151515152, 0.7142857142857143, 0.7558139534883721)\n",
      "(0.7151515151515152, 0.7142857142857143, 0.7558139534883721)\n",
      "(0.7151515151515152, 0.7142857142857143, 0.7558139534883721)\n",
      "(0.7151515151515152, 0.7142857142857143, 0.7558139534883721)\n",
      "(0.7151515151515152, 0.7142857142857143, 0.7558139534883721)\n",
      "(0.7151515151515152, 0.7142857142857143, 0.7558139534883721)\n",
      "(0.7151515151515152, 0.7142857142857143, 0.7558139534883721)\n",
      "(0.7151515151515152, 0.7142857142857143, 0.7558139534883721)\n",
      "(0.7151515151515152, 0.7142857142857143, 0.7558139534883721)\n"
     ]
    }
   ],
   "source": [
    "logit_evaluation_results = []\n",
    "for num in global_random_numbers:\n",
    "    logit_evaluation_results.append(run_logistic_regression_classifier())"
   ]
  },
  {
   "cell_type": "markdown",
   "metadata": {},
   "source": [
    "## <font color='red'>GloVe + logistic regression results</font>"
   ]
  },
  {
   "cell_type": "code",
   "execution_count": 26,
   "metadata": {},
   "outputs": [
    {
     "name": "stdout",
     "output_type": "stream",
     "text": [
      "Avg accuracy | Avg precision | Avg recall\n",
      "0.7152+-0.0000, 0.7143+-0.0000, 0.7558+-0.0000\n"
     ]
    }
   ],
   "source": [
    "print_evaluation_results(logit_evaluation_results)"
   ]
  },
  {
   "cell_type": "markdown",
   "metadata": {},
   "source": [
    "## GloVe + knn"
   ]
  },
  {
   "cell_type": "code",
   "execution_count": 27,
   "metadata": {},
   "outputs": [],
   "source": [
    "from sklearn.neighbors import KNeighborsClassifier"
   ]
  },
  {
   "cell_type": "code",
   "execution_count": 28,
   "metadata": {},
   "outputs": [],
   "source": [
    "def run_knn_regression_classifier():\n",
    "    knn_clf = KNeighborsClassifier(n_neighbors=10).fit(X_train, y_train)\n",
    "    predicted_labels = knn_clf.predict(X_test)\n",
    "    true_labels = y_test\n",
    "    \n",
    "    results = calculate_accuracy_precision_recall(true_labels, predicted_labels)\n",
    "    print(results)\n",
    "    return results"
   ]
  },
  {
   "cell_type": "code",
   "execution_count": 29,
   "metadata": {},
   "outputs": [
    {
     "name": "stdout",
     "output_type": "stream",
     "text": [
      "(0.696969696969697, 0.7142857142857143, 0.6976744186046512)\n",
      "(0.696969696969697, 0.7142857142857143, 0.6976744186046512)\n",
      "(0.696969696969697, 0.7142857142857143, 0.6976744186046512)\n",
      "(0.696969696969697, 0.7142857142857143, 0.6976744186046512)\n",
      "(0.696969696969697, 0.7142857142857143, 0.6976744186046512)\n",
      "(0.696969696969697, 0.7142857142857143, 0.6976744186046512)\n",
      "(0.696969696969697, 0.7142857142857143, 0.6976744186046512)\n",
      "(0.696969696969697, 0.7142857142857143, 0.6976744186046512)\n",
      "(0.696969696969697, 0.7142857142857143, 0.6976744186046512)\n",
      "(0.696969696969697, 0.7142857142857143, 0.6976744186046512)\n"
     ]
    }
   ],
   "source": [
    "knn_evaluation_results = []\n",
    "for num in global_random_numbers:\n",
    "    knn_evaluation_results.append(run_knn_regression_classifier())"
   ]
  },
  {
   "cell_type": "markdown",
   "metadata": {},
   "source": [
    "## <font color='red'>GloVe + knn results</font>"
   ]
  },
  {
   "cell_type": "code",
   "execution_count": 30,
   "metadata": {},
   "outputs": [
    {
     "name": "stdout",
     "output_type": "stream",
     "text": [
      "Avg accuracy | Avg precision | Avg recall\n",
      "0.6970+-0.0000, 0.7143+-0.0000, 0.6977+-0.0000\n"
     ]
    }
   ],
   "source": [
    "print_evaluation_results(knn_evaluation_results)"
   ]
  },
  {
   "cell_type": "markdown",
   "metadata": {},
   "source": [
    "## Fasttext classification"
   ]
  },
  {
   "cell_type": "code",
   "execution_count": 31,
   "metadata": {},
   "outputs": [],
   "source": [
    "def run_fasttext_classifier():\n",
    "    df['fasttext_input'] = '__label__' + df['label'].map(str) + ' ' + df['title'] + ' ' + df['body']\n",
    "    train_input, test_input = train_test_split(df.fasttext_input.values, test_size=0.33, random_state=42)\n",
    "    np.savetxt('train.txt', train_input, fmt='%s')\n",
    "    np.savetxt('test.txt', test_input, fmt='%s')\n",
    "    fasttext_model = fasttext.train_supervised('train.txt', dim=100, epoch=5)\n",
    "    fasttext_model.test('test.txt')\n",
    "    df.drop('fasttext_input', axis=1, inplace=True)\n",
    "    embeddings_lookup = {word: fasttext_model.get_word_vector(word) for word in fasttext_model.get_words()}\n",
    "\n",
    "    _, test_df = train_test_split(df, test_size=0.33, random_state=42)\n",
    "    predicted_labels = [int(res[0].split('__label__')[1]) for res in fasttext_model.predict(test_df['body'].values.tolist())[0]]\n",
    "    true_labels = test_df['label'].values\n",
    "    \n",
    "    results = calculate_accuracy_precision_recall(true_labels, predicted_labels)\n",
    "    print(results)\n",
    "    return results"
   ]
  },
  {
   "cell_type": "code",
   "execution_count": 32,
   "metadata": {},
   "outputs": [
    {
     "name": "stdout",
     "output_type": "stream",
     "text": [
      "(0.593939393939394, 0.6, 0.6627906976744186)\n",
      "(0.5878787878787879, 0.59375, 0.6627906976744186)\n",
      "(0.5878787878787879, 0.59375, 0.6627906976744186)\n",
      "(0.593939393939394, 0.6, 0.6627906976744186)\n",
      "(0.5878787878787879, 0.59375, 0.6627906976744186)\n",
      "(0.593939393939394, 0.6, 0.6627906976744186)\n",
      "(0.6, 0.6041666666666666, 0.6744186046511628)\n",
      "(0.5878787878787879, 0.59375, 0.6627906976744186)\n",
      "(0.593939393939394, 0.5979381443298969, 0.6744186046511628)\n",
      "(0.593939393939394, 0.6, 0.6627906976744186)\n"
     ]
    }
   ],
   "source": [
    "fasttext_evaluation_results = []\n",
    "for num in global_random_numbers:\n",
    "    fasttext_evaluation_results.append(run_fasttext_classifier())"
   ]
  },
  {
   "cell_type": "markdown",
   "metadata": {},
   "source": [
    "## <font color='red'>Fasttext results</font>"
   ]
  },
  {
   "cell_type": "code",
   "execution_count": 33,
   "metadata": {},
   "outputs": [
    {
     "name": "stdout",
     "output_type": "stream",
     "text": [
      "Avg accuracy | Avg precision | Avg recall\n",
      "0.5921+-0.0039, 0.5977+-0.0035, 0.6651+-0.0047\n"
     ]
    }
   ],
   "source": [
    "print_evaluation_results(fasttext_evaluation_results)"
   ]
  },
  {
   "cell_type": "markdown",
   "metadata": {},
   "source": [
    "## MLP"
   ]
  },
  {
   "cell_type": "code",
   "execution_count": 34,
   "metadata": {},
   "outputs": [
    {
     "name": "stdout",
     "output_type": "stream",
     "text": [
      "cuda\n"
     ]
    }
   ],
   "source": [
    "device = torch.device('cuda' if torch.cuda.is_available() else 'cpu')\n",
    "print(device)\n",
    "\n",
    "x_train, x_test, y_train, y_test = train_test_split(df.body, df.label, test_size=0.33, random_state=42)\n",
    "x_train = [get_sentence_glove_embedding(s) for s in x_train.values]\n",
    "x_test = [get_sentence_glove_embedding(s) for s in x_test.values]\n",
    "\n",
    "x_train = torch.tensor(x_train).float()\n",
    "y_train = torch.tensor(y_train.values).float()\n",
    "\n",
    "x_test = torch.tensor(x_test).float()\n",
    "y_test = torch.tensor(y_test.values).float()\n",
    "\n",
    "x_train = x_train.to(device)\n",
    "y_train = y_train.to(device)\n",
    "x_test = x_test.to(device)\n",
    "y_test = y_test.to(device)\n",
    "\n",
    "BATCH_SIZE = 255\n",
    "\n",
    "# generate train dataset and train dataloader\n",
    "train_dataset = torch.utils.data.TensorDataset(x_train, y_train)\n",
    "train_dataloader = torch.utils.data.DataLoader(train_dataset, batch_size=BATCH_SIZE, shuffle=False)\n",
    "\n",
    "# generate test dataset\n",
    "test_dataset = torch.utils.data.TensorDataset(x_test, y_test)"
   ]
  },
  {
   "cell_type": "code",
   "execution_count": 35,
   "metadata": {},
   "outputs": [],
   "source": [
    "class MLP(torch.nn.Module):\n",
    "    def __init__(self) : \n",
    "        super(MLP, self).__init__()\n",
    "        self.linear1 = torch.nn.Linear(100 , 250)\n",
    "        self.linear2 = torch.nn.Linear(250, 1)\n",
    "        self.sigmoid = torch.nn.Sigmoid()\n",
    "\n",
    "    def forward(self, x):\n",
    "        out = self.linear1(x)\n",
    "        out = F.relu(out)\n",
    "        out = F.dropout(out, p=0.5, training=self.training)\n",
    "        out = self.linear2(out)\n",
    "        out = self.sigmoid(out)\n",
    "        return out"
   ]
  },
  {
   "cell_type": "code",
   "execution_count": 36,
   "metadata": {},
   "outputs": [],
   "source": [
    "def run_mlp_classifier():\n",
    "    # Initialize the MLP\n",
    "    mlp = MLP().to(device)\n",
    "\n",
    "    # Define the loss function and optimizer\n",
    "    loss_function = F.binary_cross_entropy\n",
    "    optimizer = torch.optim.Adam(mlp.parameters(), lr=1e-4)\n",
    "\n",
    "    mlp.train()\n",
    "    # Run the training loop\n",
    "    for epoch in range(0, 50):\n",
    "        # Iterate over the DataLoader for training data\n",
    "        for i, (inputs, targets) in enumerate(train_dataloader):\n",
    "            # Get inputs\n",
    "            targets = targets.squeeze()\n",
    "\n",
    "            # Perform forward pass\n",
    "            outputs = mlp(inputs)\n",
    "            outputs = outputs.squeeze()\n",
    "\n",
    "            # Compute loss\n",
    "            loss = loss_function(outputs, targets)\n",
    "\n",
    "\n",
    "            # Perform backward pass\n",
    "            loss.backward()\n",
    "            # Perform optimization\n",
    "            optimizer.step()\n",
    "            # Zero the gradients\n",
    "            optimizer.zero_grad()\n",
    "\n",
    "        print(f'Epoch: {epoch}, Epoch loss {loss.item()}')\n",
    "    # Process is complete.\n",
    "    print('Training process has finished.')\n",
    "    print('Final loss', loss.item())\n",
    "    \n",
    "    with torch.no_grad():\n",
    "        mlp.eval()\n",
    "        pred = mlp(test_dataset.tensors[0].to(device))\n",
    "        y_true = test_dataset.tensors[1].tolist()\n",
    "        y_pred = torch.round(torch.tensor(pred.tolist()).squeeze())\n",
    "        results = calculate_accuracy_precision_recall(y_true, y_pred)\n",
    "\n",
    "    print(results)\n",
    "    return results"
   ]
  },
  {
   "cell_type": "code",
   "execution_count": 37,
   "metadata": {},
   "outputs": [
    {
     "name": "stdout",
     "output_type": "stream",
     "text": [
      "Epoch: 0, Epoch loss 0.6939725279808044\n",
      "Epoch: 1, Epoch loss 0.6974061131477356\n",
      "Epoch: 2, Epoch loss 0.6913110017776489\n",
      "Epoch: 3, Epoch loss 0.6991488337516785\n",
      "Epoch: 4, Epoch loss 0.6894136071205139\n",
      "Epoch: 5, Epoch loss 0.6923815608024597\n",
      "Epoch: 6, Epoch loss 0.6896109580993652\n",
      "Epoch: 7, Epoch loss 0.6884811520576477\n",
      "Epoch: 8, Epoch loss 0.6928006410598755\n",
      "Epoch: 9, Epoch loss 0.6815938353538513\n",
      "Epoch: 10, Epoch loss 0.6868463754653931\n",
      "Epoch: 11, Epoch loss 0.6924707293510437\n",
      "Epoch: 12, Epoch loss 0.6860308647155762\n",
      "Epoch: 13, Epoch loss 0.6854805946350098\n",
      "Epoch: 14, Epoch loss 0.6871264576911926\n",
      "Epoch: 15, Epoch loss 0.6842005848884583\n",
      "Epoch: 16, Epoch loss 0.6835455298423767\n",
      "Epoch: 17, Epoch loss 0.6849431395530701\n",
      "Epoch: 18, Epoch loss 0.678726851940155\n",
      "Epoch: 19, Epoch loss 0.6828844547271729\n",
      "Epoch: 20, Epoch loss 0.6844927668571472\n",
      "Epoch: 21, Epoch loss 0.6783977746963501\n",
      "Epoch: 22, Epoch loss 0.6770619750022888\n",
      "Epoch: 23, Epoch loss 0.682598888874054\n",
      "Epoch: 24, Epoch loss 0.6769888997077942\n",
      "Epoch: 25, Epoch loss 0.6797713041305542\n",
      "Epoch: 26, Epoch loss 0.6704695820808411\n",
      "Epoch: 27, Epoch loss 0.6806584596633911\n",
      "Epoch: 28, Epoch loss 0.6764079928398132\n",
      "Epoch: 29, Epoch loss 0.6799750328063965\n",
      "Epoch: 30, Epoch loss 0.6764622330665588\n",
      "Epoch: 31, Epoch loss 0.6753968596458435\n",
      "Epoch: 32, Epoch loss 0.6712695360183716\n",
      "Epoch: 33, Epoch loss 0.6754776835441589\n",
      "Epoch: 34, Epoch loss 0.6788600087165833\n",
      "Epoch: 35, Epoch loss 0.6715980172157288\n",
      "Epoch: 36, Epoch loss 0.6669289469718933\n",
      "Epoch: 37, Epoch loss 0.6768257021903992\n",
      "Epoch: 38, Epoch loss 0.6704002618789673\n",
      "Epoch: 39, Epoch loss 0.6691455245018005\n",
      "Epoch: 40, Epoch loss 0.6716198325157166\n",
      "Epoch: 41, Epoch loss 0.6706945300102234\n",
      "Epoch: 42, Epoch loss 0.6717891097068787\n",
      "Epoch: 43, Epoch loss 0.6691563129425049\n",
      "Epoch: 44, Epoch loss 0.6688424944877625\n",
      "Epoch: 45, Epoch loss 0.6761671900749207\n",
      "Epoch: 46, Epoch loss 0.6701111197471619\n",
      "Epoch: 47, Epoch loss 0.6727806925773621\n",
      "Epoch: 48, Epoch loss 0.6679113507270813\n",
      "Epoch: 49, Epoch loss 0.6680769324302673\n",
      "Training process has finished.\n",
      "Final loss 0.6680769324302673\n",
      "(0.5212121212121212, 0.5212121212121212, 1.0)\n",
      "Epoch: 0, Epoch loss 0.6822366714477539\n",
      "Epoch: 1, Epoch loss 0.6841599345207214\n",
      "Epoch: 2, Epoch loss 0.6842608451843262\n",
      "Epoch: 3, Epoch loss 0.6900116205215454\n",
      "Epoch: 4, Epoch loss 0.6803528666496277\n",
      "Epoch: 5, Epoch loss 0.6875292658805847\n",
      "Epoch: 6, Epoch loss 0.6825152635574341\n",
      "Epoch: 7, Epoch loss 0.680787980556488\n",
      "Epoch: 8, Epoch loss 0.6826542615890503\n",
      "Epoch: 9, Epoch loss 0.6796385645866394\n",
      "Epoch: 10, Epoch loss 0.6859091520309448\n",
      "Epoch: 11, Epoch loss 0.6797928810119629\n",
      "Epoch: 12, Epoch loss 0.6751576066017151\n",
      "Epoch: 13, Epoch loss 0.6797832250595093\n",
      "Epoch: 14, Epoch loss 0.6761797666549683\n",
      "Epoch: 15, Epoch loss 0.6822003126144409\n",
      "Epoch: 16, Epoch loss 0.6693043112754822\n",
      "Epoch: 17, Epoch loss 0.672054648399353\n",
      "Epoch: 18, Epoch loss 0.6824354529380798\n",
      "Epoch: 19, Epoch loss 0.6724573969841003\n",
      "Epoch: 20, Epoch loss 0.6761385798454285\n",
      "Epoch: 21, Epoch loss 0.6768772006034851\n",
      "Epoch: 22, Epoch loss 0.6708710789680481\n",
      "Epoch: 23, Epoch loss 0.6755064725875854\n",
      "Epoch: 24, Epoch loss 0.6763930320739746\n",
      "Epoch: 25, Epoch loss 0.6724463701248169\n",
      "Epoch: 26, Epoch loss 0.6753650903701782\n",
      "Epoch: 27, Epoch loss 0.6663602590560913\n",
      "Epoch: 28, Epoch loss 0.6672952771186829\n",
      "Epoch: 29, Epoch loss 0.6738032698631287\n",
      "Epoch: 30, Epoch loss 0.6701564192771912\n",
      "Epoch: 31, Epoch loss 0.677067756652832\n",
      "Epoch: 32, Epoch loss 0.6788594126701355\n",
      "Epoch: 33, Epoch loss 0.670237123966217\n",
      "Epoch: 34, Epoch loss 0.6751574277877808\n",
      "Epoch: 35, Epoch loss 0.6659785509109497\n",
      "Epoch: 36, Epoch loss 0.6687003374099731\n",
      "Epoch: 37, Epoch loss 0.6720917224884033\n",
      "Epoch: 38, Epoch loss 0.6654535531997681\n",
      "Epoch: 39, Epoch loss 0.6683688759803772\n",
      "Epoch: 40, Epoch loss 0.6651044487953186\n",
      "Epoch: 41, Epoch loss 0.6670262813568115\n",
      "Epoch: 42, Epoch loss 0.6658729910850525\n",
      "Epoch: 43, Epoch loss 0.6605743765830994\n",
      "Epoch: 44, Epoch loss 0.6694234013557434\n",
      "Epoch: 45, Epoch loss 0.6680998802185059\n",
      "Epoch: 46, Epoch loss 0.6697964668273926\n",
      "Epoch: 47, Epoch loss 0.6606788039207458\n",
      "Epoch: 48, Epoch loss 0.6620440483093262\n",
      "Epoch: 49, Epoch loss 0.6667319536209106\n",
      "Training process has finished.\n",
      "Final loss 0.6667319536209106\n",
      "(0.5212121212121212, 0.5212121212121212, 1.0)\n",
      "Epoch: 0, Epoch loss 0.6848857998847961\n",
      "Epoch: 1, Epoch loss 0.6924294829368591\n",
      "Epoch: 2, Epoch loss 0.6893920302391052\n",
      "Epoch: 3, Epoch loss 0.6854824423789978\n",
      "Epoch: 4, Epoch loss 0.6910160183906555\n",
      "Epoch: 5, Epoch loss 0.6825039386749268\n",
      "Epoch: 6, Epoch loss 0.686363935470581\n",
      "Epoch: 7, Epoch loss 0.6792761087417603\n",
      "Epoch: 8, Epoch loss 0.686970055103302\n",
      "Epoch: 9, Epoch loss 0.6868544816970825\n",
      "Epoch: 10, Epoch loss 0.688647449016571\n",
      "Epoch: 11, Epoch loss 0.6794394254684448\n",
      "Epoch: 12, Epoch loss 0.6829380393028259\n",
      "Epoch: 13, Epoch loss 0.6806592345237732\n",
      "Epoch: 14, Epoch loss 0.6844796538352966\n",
      "Epoch: 15, Epoch loss 0.6777542233467102\n",
      "Epoch: 16, Epoch loss 0.6753305792808533\n",
      "Epoch: 17, Epoch loss 0.6797486543655396\n",
      "Epoch: 18, Epoch loss 0.6825379729270935\n",
      "Epoch: 19, Epoch loss 0.674133837223053\n",
      "Epoch: 20, Epoch loss 0.6799091696739197\n",
      "Epoch: 21, Epoch loss 0.6811302304267883\n",
      "Epoch: 22, Epoch loss 0.6810430884361267\n",
      "Epoch: 23, Epoch loss 0.6748027801513672\n",
      "Epoch: 24, Epoch loss 0.676190197467804\n",
      "Epoch: 25, Epoch loss 0.6739221811294556\n",
      "Epoch: 26, Epoch loss 0.6799296736717224\n",
      "Epoch: 27, Epoch loss 0.6725820899009705\n",
      "Epoch: 28, Epoch loss 0.6729532480239868\n",
      "Epoch: 29, Epoch loss 0.6740768551826477\n",
      "Epoch: 30, Epoch loss 0.6761040687561035\n",
      "Epoch: 31, Epoch loss 0.6749277710914612\n",
      "Epoch: 32, Epoch loss 0.6720919013023376\n",
      "Epoch: 33, Epoch loss 0.6773884892463684\n",
      "Epoch: 34, Epoch loss 0.6756170988082886\n",
      "Epoch: 35, Epoch loss 0.6674879193305969\n",
      "Epoch: 36, Epoch loss 0.6749513745307922\n",
      "Epoch: 37, Epoch loss 0.6752519607543945\n",
      "Epoch: 38, Epoch loss 0.6736485362052917\n",
      "Epoch: 39, Epoch loss 0.669019341468811\n",
      "Epoch: 40, Epoch loss 0.6696443557739258\n",
      "Epoch: 41, Epoch loss 0.6711919903755188\n",
      "Epoch: 42, Epoch loss 0.6686417460441589\n",
      "Epoch: 43, Epoch loss 0.6721102595329285\n",
      "Epoch: 44, Epoch loss 0.6706646680831909\n",
      "Epoch: 45, Epoch loss 0.6723009347915649\n",
      "Epoch: 46, Epoch loss 0.67495197057724\n",
      "Epoch: 47, Epoch loss 0.6640135049819946\n",
      "Epoch: 48, Epoch loss 0.6725820302963257\n",
      "Epoch: 49, Epoch loss 0.6641099452972412\n",
      "Training process has finished.\n",
      "Final loss 0.6641099452972412\n",
      "(0.5212121212121212, 0.5212121212121212, 1.0)\n",
      "Epoch: 0, Epoch loss 0.6927787065505981\n",
      "Epoch: 1, Epoch loss 0.6975911259651184\n",
      "Epoch: 2, Epoch loss 0.6931772828102112\n",
      "Epoch: 3, Epoch loss 0.697341799736023\n",
      "Epoch: 4, Epoch loss 0.6950617432594299\n",
      "Epoch: 5, Epoch loss 0.689947247505188\n",
      "Epoch: 6, Epoch loss 0.6884915232658386\n",
      "Epoch: 7, Epoch loss 0.684804379940033\n",
      "Epoch: 8, Epoch loss 0.6897966265678406\n",
      "Epoch: 9, Epoch loss 0.6962693333625793\n",
      "Epoch: 10, Epoch loss 0.6859185099601746\n",
      "Epoch: 11, Epoch loss 0.6798369288444519\n",
      "Epoch: 12, Epoch loss 0.6784781813621521\n",
      "Epoch: 13, Epoch loss 0.6849849820137024\n",
      "Epoch: 14, Epoch loss 0.6877681016921997\n",
      "Epoch: 15, Epoch loss 0.6827164888381958\n",
      "Epoch: 16, Epoch loss 0.6799362301826477\n",
      "Epoch: 17, Epoch loss 0.6897389888763428\n",
      "Epoch: 18, Epoch loss 0.688106894493103\n",
      "Epoch: 19, Epoch loss 0.6791612505912781\n",
      "Epoch: 20, Epoch loss 0.6778212785720825\n",
      "Epoch: 21, Epoch loss 0.6697384715080261\n",
      "Epoch: 22, Epoch loss 0.6842809915542603\n",
      "Epoch: 23, Epoch loss 0.687954843044281\n",
      "Epoch: 24, Epoch loss 0.6768483519554138\n",
      "Epoch: 25, Epoch loss 0.6794275641441345\n",
      "Epoch: 26, Epoch loss 0.677638053894043\n",
      "Epoch: 27, Epoch loss 0.6754471659660339\n",
      "Epoch: 28, Epoch loss 0.6717000603675842\n",
      "Epoch: 29, Epoch loss 0.6740895509719849\n",
      "Epoch: 30, Epoch loss 0.672921359539032\n",
      "Epoch: 31, Epoch loss 0.6676850914955139\n",
      "Epoch: 32, Epoch loss 0.6775830984115601\n",
      "Epoch: 33, Epoch loss 0.6725212931632996\n",
      "Epoch: 34, Epoch loss 0.6753677725791931\n",
      "Epoch: 35, Epoch loss 0.6691674590110779\n",
      "Epoch: 36, Epoch loss 0.680698812007904\n",
      "Epoch: 37, Epoch loss 0.6685666441917419\n",
      "Epoch: 38, Epoch loss 0.6685841679573059\n",
      "Epoch: 39, Epoch loss 0.6754487156867981\n",
      "Epoch: 40, Epoch loss 0.6701034903526306\n",
      "Epoch: 41, Epoch loss 0.6632967591285706\n",
      "Epoch: 42, Epoch loss 0.6699797511100769\n",
      "Epoch: 43, Epoch loss 0.6755158305168152\n",
      "Epoch: 44, Epoch loss 0.6751682758331299\n",
      "Epoch: 45, Epoch loss 0.667826771736145\n",
      "Epoch: 46, Epoch loss 0.6747552752494812\n",
      "Epoch: 47, Epoch loss 0.6717806458473206\n",
      "Epoch: 48, Epoch loss 0.6624748706817627\n",
      "Epoch: 49, Epoch loss 0.6712881326675415\n",
      "Training process has finished.\n",
      "Final loss 0.6712881326675415\n",
      "(0.5212121212121212, 0.5212121212121212, 1.0)\n",
      "Epoch: 0, Epoch loss 0.6932725310325623\n",
      "Epoch: 1, Epoch loss 0.6942529082298279\n",
      "Epoch: 2, Epoch loss 0.6890758872032166\n",
      "Epoch: 3, Epoch loss 0.6917038559913635\n",
      "Epoch: 4, Epoch loss 0.6927919387817383\n",
      "Epoch: 5, Epoch loss 0.6959821581840515\n",
      "Epoch: 6, Epoch loss 0.6890689730644226\n",
      "Epoch: 7, Epoch loss 0.6908485293388367\n",
      "Epoch: 8, Epoch loss 0.6884799003601074\n",
      "Epoch: 9, Epoch loss 0.6830312609672546\n",
      "Epoch: 10, Epoch loss 0.6868959665298462\n",
      "Epoch: 11, Epoch loss 0.6917703747749329\n",
      "Epoch: 12, Epoch loss 0.6818923950195312\n",
      "Epoch: 13, Epoch loss 0.6832805275917053\n",
      "Epoch: 14, Epoch loss 0.6768407225608826\n",
      "Epoch: 15, Epoch loss 0.6795134544372559\n",
      "Epoch: 16, Epoch loss 0.6875330805778503\n"
     ]
    },
    {
     "name": "stdout",
     "output_type": "stream",
     "text": [
      "Epoch: 17, Epoch loss 0.68701171875\n",
      "Epoch: 18, Epoch loss 0.6831392049789429\n",
      "Epoch: 19, Epoch loss 0.6851047873497009\n",
      "Epoch: 20, Epoch loss 0.6832281351089478\n",
      "Epoch: 21, Epoch loss 0.6859477758407593\n",
      "Epoch: 22, Epoch loss 0.6865493655204773\n",
      "Epoch: 23, Epoch loss 0.6812556385993958\n",
      "Epoch: 24, Epoch loss 0.6776191592216492\n",
      "Epoch: 25, Epoch loss 0.6767606139183044\n",
      "Epoch: 26, Epoch loss 0.6768493056297302\n",
      "Epoch: 27, Epoch loss 0.677474856376648\n",
      "Epoch: 28, Epoch loss 0.6804192662239075\n",
      "Epoch: 29, Epoch loss 0.6774557828903198\n",
      "Epoch: 30, Epoch loss 0.6732732653617859\n",
      "Epoch: 31, Epoch loss 0.6738159656524658\n",
      "Epoch: 32, Epoch loss 0.6762275099754333\n",
      "Epoch: 33, Epoch loss 0.6724918484687805\n",
      "Epoch: 34, Epoch loss 0.6726776957511902\n",
      "Epoch: 35, Epoch loss 0.6745249629020691\n",
      "Epoch: 36, Epoch loss 0.671404242515564\n",
      "Epoch: 37, Epoch loss 0.6776859164237976\n",
      "Epoch: 38, Epoch loss 0.6723753809928894\n",
      "Epoch: 39, Epoch loss 0.6728721857070923\n",
      "Epoch: 40, Epoch loss 0.6772929430007935\n",
      "Epoch: 41, Epoch loss 0.676578938961029\n",
      "Epoch: 42, Epoch loss 0.670208752155304\n",
      "Epoch: 43, Epoch loss 0.6713786125183105\n",
      "Epoch: 44, Epoch loss 0.6736785769462585\n",
      "Epoch: 45, Epoch loss 0.6714203357696533\n",
      "Epoch: 46, Epoch loss 0.6686655879020691\n",
      "Epoch: 47, Epoch loss 0.6721446514129639\n",
      "Epoch: 48, Epoch loss 0.6704681515693665\n",
      "Epoch: 49, Epoch loss 0.669666051864624\n",
      "Training process has finished.\n",
      "Final loss 0.669666051864624\n",
      "(0.5333333333333333, 0.5276073619631901, 1.0)\n",
      "Epoch: 0, Epoch loss 0.6995137929916382\n",
      "Epoch: 1, Epoch loss 0.6913366317749023\n",
      "Epoch: 2, Epoch loss 0.6911199688911438\n",
      "Epoch: 3, Epoch loss 0.6862611770629883\n",
      "Epoch: 4, Epoch loss 0.6875819563865662\n",
      "Epoch: 5, Epoch loss 0.6862824559211731\n",
      "Epoch: 6, Epoch loss 0.6876674294471741\n",
      "Epoch: 7, Epoch loss 0.6921448111534119\n",
      "Epoch: 8, Epoch loss 0.6920315623283386\n",
      "Epoch: 9, Epoch loss 0.6873008012771606\n",
      "Epoch: 10, Epoch loss 0.6862638592720032\n",
      "Epoch: 11, Epoch loss 0.6823593378067017\n",
      "Epoch: 12, Epoch loss 0.6882016062736511\n",
      "Epoch: 13, Epoch loss 0.6857979893684387\n",
      "Epoch: 14, Epoch loss 0.6852874159812927\n",
      "Epoch: 15, Epoch loss 0.6848077774047852\n",
      "Epoch: 16, Epoch loss 0.6852958798408508\n",
      "Epoch: 17, Epoch loss 0.6814493536949158\n",
      "Epoch: 18, Epoch loss 0.6773098111152649\n",
      "Epoch: 19, Epoch loss 0.6781905889511108\n",
      "Epoch: 20, Epoch loss 0.6813380718231201\n",
      "Epoch: 21, Epoch loss 0.680686891078949\n",
      "Epoch: 22, Epoch loss 0.6846178770065308\n",
      "Epoch: 23, Epoch loss 0.6797338724136353\n",
      "Epoch: 24, Epoch loss 0.679327666759491\n",
      "Epoch: 25, Epoch loss 0.6770148277282715\n",
      "Epoch: 26, Epoch loss 0.6801230907440186\n",
      "Epoch: 27, Epoch loss 0.678723931312561\n",
      "Epoch: 28, Epoch loss 0.676392138004303\n",
      "Epoch: 29, Epoch loss 0.6768415570259094\n",
      "Epoch: 30, Epoch loss 0.6772777438163757\n",
      "Epoch: 31, Epoch loss 0.6793309450149536\n",
      "Epoch: 32, Epoch loss 0.6732162833213806\n",
      "Epoch: 33, Epoch loss 0.6797308921813965\n",
      "Epoch: 34, Epoch loss 0.6780808568000793\n",
      "Epoch: 35, Epoch loss 0.6741567850112915\n",
      "Epoch: 36, Epoch loss 0.6684722900390625\n",
      "Epoch: 37, Epoch loss 0.6701357960700989\n",
      "Epoch: 38, Epoch loss 0.6727213263511658\n",
      "Epoch: 39, Epoch loss 0.6728315949440002\n",
      "Epoch: 40, Epoch loss 0.6761674880981445\n",
      "Epoch: 41, Epoch loss 0.6833833456039429\n",
      "Epoch: 42, Epoch loss 0.6761175394058228\n",
      "Epoch: 43, Epoch loss 0.6660682559013367\n",
      "Epoch: 44, Epoch loss 0.6736965775489807\n",
      "Epoch: 45, Epoch loss 0.6663262844085693\n",
      "Epoch: 46, Epoch loss 0.6732077598571777\n",
      "Epoch: 47, Epoch loss 0.6701745390892029\n",
      "Epoch: 48, Epoch loss 0.6675987839698792\n",
      "Epoch: 49, Epoch loss 0.669733464717865\n",
      "Training process has finished.\n",
      "Final loss 0.669733464717865\n",
      "(0.5212121212121212, 0.5212121212121212, 1.0)\n",
      "Epoch: 0, Epoch loss 0.6960338950157166\n",
      "Epoch: 1, Epoch loss 0.691939651966095\n",
      "Epoch: 2, Epoch loss 0.68865567445755\n",
      "Epoch: 3, Epoch loss 0.6939443945884705\n",
      "Epoch: 4, Epoch loss 0.6884394884109497\n",
      "Epoch: 5, Epoch loss 0.692285418510437\n",
      "Epoch: 6, Epoch loss 0.6849633455276489\n",
      "Epoch: 7, Epoch loss 0.6887189149856567\n",
      "Epoch: 8, Epoch loss 0.6846408843994141\n",
      "Epoch: 9, Epoch loss 0.6800889372825623\n",
      "Epoch: 10, Epoch loss 0.6907956004142761\n",
      "Epoch: 11, Epoch loss 0.6813495755195618\n",
      "Epoch: 12, Epoch loss 0.6871653199195862\n",
      "Epoch: 13, Epoch loss 0.6856016516685486\n",
      "Epoch: 14, Epoch loss 0.6845706105232239\n",
      "Epoch: 15, Epoch loss 0.6877490878105164\n",
      "Epoch: 16, Epoch loss 0.6856033205986023\n",
      "Epoch: 17, Epoch loss 0.6788330674171448\n",
      "Epoch: 18, Epoch loss 0.6793519854545593\n",
      "Epoch: 19, Epoch loss 0.6794541478157043\n",
      "Epoch: 20, Epoch loss 0.676918625831604\n",
      "Epoch: 21, Epoch loss 0.675862193107605\n",
      "Epoch: 22, Epoch loss 0.6849366426467896\n",
      "Epoch: 23, Epoch loss 0.6700286269187927\n",
      "Epoch: 24, Epoch loss 0.6828972697257996\n",
      "Epoch: 25, Epoch loss 0.6805328726768494\n",
      "Epoch: 26, Epoch loss 0.6796810030937195\n",
      "Epoch: 27, Epoch loss 0.6754807829856873\n",
      "Epoch: 28, Epoch loss 0.6779826283454895\n",
      "Epoch: 29, Epoch loss 0.675212562084198\n",
      "Epoch: 30, Epoch loss 0.6760657429695129\n",
      "Epoch: 31, Epoch loss 0.6702477335929871\n",
      "Epoch: 32, Epoch loss 0.6729340553283691\n",
      "Epoch: 33, Epoch loss 0.6767592430114746\n",
      "Epoch: 34, Epoch loss 0.679878830909729\n",
      "Epoch: 35, Epoch loss 0.6709226369857788\n",
      "Epoch: 36, Epoch loss 0.669907808303833\n",
      "Epoch: 37, Epoch loss 0.6741320490837097\n",
      "Epoch: 38, Epoch loss 0.6706355214118958\n",
      "Epoch: 39, Epoch loss 0.6770459413528442\n",
      "Epoch: 40, Epoch loss 0.6713725924491882\n",
      "Epoch: 41, Epoch loss 0.6686733365058899\n",
      "Epoch: 42, Epoch loss 0.671893298625946\n",
      "Epoch: 43, Epoch loss 0.6700804829597473\n",
      "Epoch: 44, Epoch loss 0.6674462556838989\n",
      "Epoch: 45, Epoch loss 0.6715777516365051\n",
      "Epoch: 46, Epoch loss 0.6709591746330261\n",
      "Epoch: 47, Epoch loss 0.6730225682258606\n",
      "Epoch: 48, Epoch loss 0.6776116490364075\n",
      "Epoch: 49, Epoch loss 0.6722261309623718\n",
      "Training process has finished.\n",
      "Final loss 0.6722261309623718\n",
      "(0.5212121212121212, 0.5212121212121212, 1.0)\n",
      "Epoch: 0, Epoch loss 0.6955448985099792\n",
      "Epoch: 1, Epoch loss 0.690392792224884\n",
      "Epoch: 2, Epoch loss 0.6969831585884094\n",
      "Epoch: 3, Epoch loss 0.6947803497314453\n",
      "Epoch: 4, Epoch loss 0.6915773749351501\n",
      "Epoch: 5, Epoch loss 0.6949073672294617\n",
      "Epoch: 6, Epoch loss 0.6884292364120483\n",
      "Epoch: 7, Epoch loss 0.6872130632400513\n",
      "Epoch: 8, Epoch loss 0.6885448694229126\n",
      "Epoch: 9, Epoch loss 0.6841536164283752\n",
      "Epoch: 10, Epoch loss 0.6843101978302002\n",
      "Epoch: 11, Epoch loss 0.6855723261833191\n",
      "Epoch: 12, Epoch loss 0.6848194599151611\n",
      "Epoch: 13, Epoch loss 0.6849260926246643\n",
      "Epoch: 14, Epoch loss 0.6868802905082703\n",
      "Epoch: 15, Epoch loss 0.6873971223831177\n",
      "Epoch: 16, Epoch loss 0.6799101233482361\n",
      "Epoch: 17, Epoch loss 0.6812865138053894\n",
      "Epoch: 18, Epoch loss 0.6858270764350891\n",
      "Epoch: 19, Epoch loss 0.6846122145652771\n",
      "Epoch: 20, Epoch loss 0.6852719187736511\n",
      "Epoch: 21, Epoch loss 0.6808692812919617\n",
      "Epoch: 22, Epoch loss 0.6780175566673279\n",
      "Epoch: 23, Epoch loss 0.6778030395507812\n",
      "Epoch: 24, Epoch loss 0.6772825121879578\n",
      "Epoch: 25, Epoch loss 0.679568350315094\n",
      "Epoch: 26, Epoch loss 0.6826066374778748\n",
      "Epoch: 27, Epoch loss 0.6792286038398743\n",
      "Epoch: 28, Epoch loss 0.6807227730751038\n",
      "Epoch: 29, Epoch loss 0.6767846345901489\n",
      "Epoch: 30, Epoch loss 0.678693950176239\n",
      "Epoch: 31, Epoch loss 0.6842688918113708\n",
      "Epoch: 32, Epoch loss 0.6763436198234558\n",
      "Epoch: 33, Epoch loss 0.6745005249977112\n",
      "Epoch: 34, Epoch loss 0.6746569871902466\n",
      "Epoch: 35, Epoch loss 0.670684278011322\n",
      "Epoch: 36, Epoch loss 0.6769717931747437\n",
      "Epoch: 37, Epoch loss 0.6709253191947937\n",
      "Epoch: 38, Epoch loss 0.6741296648979187\n",
      "Epoch: 39, Epoch loss 0.681870698928833\n",
      "Epoch: 40, Epoch loss 0.6717921495437622\n",
      "Epoch: 41, Epoch loss 0.6758474707603455\n",
      "Epoch: 42, Epoch loss 0.6762925982475281\n",
      "Epoch: 43, Epoch loss 0.6671481132507324\n",
      "Epoch: 44, Epoch loss 0.6756881475448608\n",
      "Epoch: 45, Epoch loss 0.6791520118713379\n",
      "Epoch: 46, Epoch loss 0.6737766861915588\n",
      "Epoch: 47, Epoch loss 0.6707754731178284\n",
      "Epoch: 48, Epoch loss 0.6724725961685181\n",
      "Epoch: 49, Epoch loss 0.6652495861053467\n",
      "Training process has finished.\n",
      "Final loss 0.6652495861053467\n",
      "(0.5212121212121212, 0.5212121212121212, 1.0)\n",
      "Epoch: 0, Epoch loss 0.6899476051330566\n",
      "Epoch: 1, Epoch loss 0.6904696822166443\n",
      "Epoch: 2, Epoch loss 0.6926848292350769\n",
      "Epoch: 3, Epoch loss 0.6962922811508179\n",
      "Epoch: 4, Epoch loss 0.6982125043869019\n",
      "Epoch: 5, Epoch loss 0.6839678883552551\n",
      "Epoch: 6, Epoch loss 0.6890063285827637\n",
      "Epoch: 7, Epoch loss 0.688683807849884\n",
      "Epoch: 8, Epoch loss 0.687332808971405\n",
      "Epoch: 9, Epoch loss 0.6861526966094971\n",
      "Epoch: 10, Epoch loss 0.680037260055542\n",
      "Epoch: 11, Epoch loss 0.6860170364379883\n",
      "Epoch: 12, Epoch loss 0.687453031539917\n",
      "Epoch: 13, Epoch loss 0.6815633177757263\n",
      "Epoch: 14, Epoch loss 0.6802805066108704\n",
      "Epoch: 15, Epoch loss 0.6807819604873657\n",
      "Epoch: 16, Epoch loss 0.6825385093688965\n",
      "Epoch: 17, Epoch loss 0.6778575778007507\n",
      "Epoch: 18, Epoch loss 0.6767071485519409\n",
      "Epoch: 19, Epoch loss 0.6786699295043945\n",
      "Epoch: 20, Epoch loss 0.6792890429496765\n",
      "Epoch: 21, Epoch loss 0.6816102266311646\n",
      "Epoch: 22, Epoch loss 0.6829790472984314\n",
      "Epoch: 23, Epoch loss 0.678572952747345\n",
      "Epoch: 24, Epoch loss 0.6779589056968689\n",
      "Epoch: 25, Epoch loss 0.6865254044532776\n",
      "Epoch: 26, Epoch loss 0.674811065196991\n",
      "Epoch: 27, Epoch loss 0.6751068234443665\n",
      "Epoch: 28, Epoch loss 0.6776112914085388\n",
      "Epoch: 29, Epoch loss 0.6719388365745544\n",
      "Epoch: 30, Epoch loss 0.672604501247406\n",
      "Epoch: 31, Epoch loss 0.6755520701408386\n",
      "Epoch: 32, Epoch loss 0.669496476650238\n",
      "Epoch: 33, Epoch loss 0.679520308971405\n",
      "Epoch: 34, Epoch loss 0.6761509776115417\n"
     ]
    },
    {
     "name": "stdout",
     "output_type": "stream",
     "text": [
      "Epoch: 35, Epoch loss 0.6663750410079956\n",
      "Epoch: 36, Epoch loss 0.6739251017570496\n",
      "Epoch: 37, Epoch loss 0.6757041215896606\n",
      "Epoch: 38, Epoch loss 0.6739192008972168\n",
      "Epoch: 39, Epoch loss 0.6712151169776917\n",
      "Epoch: 40, Epoch loss 0.671539306640625\n",
      "Epoch: 41, Epoch loss 0.6743268966674805\n",
      "Epoch: 42, Epoch loss 0.6727555394172668\n",
      "Epoch: 43, Epoch loss 0.6728171706199646\n",
      "Epoch: 44, Epoch loss 0.6661101579666138\n",
      "Epoch: 45, Epoch loss 0.6682984232902527\n",
      "Epoch: 46, Epoch loss 0.673592746257782\n",
      "Epoch: 47, Epoch loss 0.675574779510498\n",
      "Epoch: 48, Epoch loss 0.6709033846855164\n",
      "Epoch: 49, Epoch loss 0.6677277684211731\n",
      "Training process has finished.\n",
      "Final loss 0.6677277684211731\n",
      "(0.5272727272727272, 0.524390243902439, 1.0)\n",
      "Epoch: 0, Epoch loss 0.6866365075111389\n",
      "Epoch: 1, Epoch loss 0.6892497539520264\n",
      "Epoch: 2, Epoch loss 0.6900326013565063\n",
      "Epoch: 3, Epoch loss 0.692290723323822\n",
      "Epoch: 4, Epoch loss 0.6885408759117126\n",
      "Epoch: 5, Epoch loss 0.6819664835929871\n",
      "Epoch: 6, Epoch loss 0.682866096496582\n",
      "Epoch: 7, Epoch loss 0.6833912134170532\n",
      "Epoch: 8, Epoch loss 0.6947348713874817\n",
      "Epoch: 9, Epoch loss 0.6826777458190918\n",
      "Epoch: 10, Epoch loss 0.6808714270591736\n",
      "Epoch: 11, Epoch loss 0.6831356883049011\n",
      "Epoch: 12, Epoch loss 0.6832233667373657\n",
      "Epoch: 13, Epoch loss 0.6773463487625122\n",
      "Epoch: 14, Epoch loss 0.6872982978820801\n",
      "Epoch: 15, Epoch loss 0.6828450560569763\n",
      "Epoch: 16, Epoch loss 0.6821686625480652\n",
      "Epoch: 17, Epoch loss 0.6849611401557922\n",
      "Epoch: 18, Epoch loss 0.6829720735549927\n",
      "Epoch: 19, Epoch loss 0.679870069026947\n",
      "Epoch: 20, Epoch loss 0.6768367290496826\n",
      "Epoch: 21, Epoch loss 0.6773521304130554\n",
      "Epoch: 22, Epoch loss 0.6734086871147156\n",
      "Epoch: 23, Epoch loss 0.6760877966880798\n",
      "Epoch: 24, Epoch loss 0.6777846217155457\n",
      "Epoch: 25, Epoch loss 0.6705052256584167\n",
      "Epoch: 26, Epoch loss 0.6752738356590271\n",
      "Epoch: 27, Epoch loss 0.6719571352005005\n",
      "Epoch: 28, Epoch loss 0.6704577803611755\n",
      "Epoch: 29, Epoch loss 0.6693430542945862\n",
      "Epoch: 30, Epoch loss 0.6710506677627563\n",
      "Epoch: 31, Epoch loss 0.678520143032074\n",
      "Epoch: 32, Epoch loss 0.671240508556366\n",
      "Epoch: 33, Epoch loss 0.6724485754966736\n",
      "Epoch: 34, Epoch loss 0.6699692010879517\n",
      "Epoch: 35, Epoch loss 0.6678634881973267\n",
      "Epoch: 36, Epoch loss 0.6727995276451111\n",
      "Epoch: 37, Epoch loss 0.6732963919639587\n",
      "Epoch: 38, Epoch loss 0.6722155213356018\n",
      "Epoch: 39, Epoch loss 0.67158442735672\n",
      "Epoch: 40, Epoch loss 0.6692741513252258\n",
      "Epoch: 41, Epoch loss 0.6698877215385437\n",
      "Epoch: 42, Epoch loss 0.6725627779960632\n",
      "Epoch: 43, Epoch loss 0.6669635772705078\n",
      "Epoch: 44, Epoch loss 0.6769625544548035\n",
      "Epoch: 45, Epoch loss 0.6654980778694153\n",
      "Epoch: 46, Epoch loss 0.6686022877693176\n",
      "Epoch: 47, Epoch loss 0.6679432988166809\n",
      "Epoch: 48, Epoch loss 0.6649442315101624\n",
      "Epoch: 49, Epoch loss 0.6659848093986511\n",
      "Training process has finished.\n",
      "Final loss 0.6659848093986511\n",
      "(0.5212121212121212, 0.5212121212121212, 1.0)\n"
     ]
    }
   ],
   "source": [
    "mlp_evaluation_results = []\n",
    "for num in global_random_numbers:\n",
    "    torch.manual_seed(num)\n",
    "    mlp_evaluation_results.append(run_mlp_classifier())"
   ]
  },
  {
   "cell_type": "markdown",
   "metadata": {},
   "source": [
    "## <font color='red'>GloVe + MLP results</font>"
   ]
  },
  {
   "cell_type": "code",
   "execution_count": 38,
   "metadata": {},
   "outputs": [
    {
     "name": "stdout",
     "output_type": "stream",
     "text": [
      "Avg accuracy | Avg precision | Avg recall\n",
      "0.5230+-0.0039, 0.5222+-0.0020, 1.0000+-0.0000\n"
     ]
    }
   ],
   "source": [
    "print_evaluation_results(mlp_evaluation_results)"
   ]
  },
  {
   "cell_type": "markdown",
   "metadata": {},
   "source": [
    "## Train our model"
   ]
  },
  {
   "cell_type": "code",
   "execution_count": 39,
   "metadata": {},
   "outputs": [],
   "source": [
    "def create_graph_of_words(text, window_size):\n",
    "    text = text.split()\n",
    "    G = nx.Graph()\n",
    "    for i, word in enumerate(text):\n",
    "        #embedding = fasttext_model.get_word_vector(word)\n",
    "        embedding = embeddings_lookup.get(word, np.zeros(100, dtype='float32'))\n",
    "        G.add_node(word, x=embedding)\n",
    "        for j in range(i + 1, i + window_size):\n",
    "            if j < len(text):\n",
    "                G.add_edge(word, text[j])\n",
    "    return G\n",
    "\n",
    "def create_graph_of_words_for_pytorch(text, window_size):\n",
    "    return from_networkx(create_graph_of_words(text, window_size))\n",
    "\n",
    "def generate_pytorch_geometric_graphs(window_size):\n",
    "    pyg_graphs = []\n",
    "    for s in tqdm(df['body'].values):\n",
    "        pyg_graphs.append(create_graph_of_words_for_pytorch(s, window_size))\n",
    "    print('finished...')\n",
    "    for i, label in enumerate(df['label'].values):\n",
    "        pyg_graphs[i].y = torch.tensor(label).float()\n",
    "    \n",
    "    pyg_graphs = [g for g in pyg_graphs if g.num_nodes != 0]\n",
    "    return pyg_graphs\n",
    "\n",
    "class GATClassifier(torch.nn.Module):\n",
    "    def __init__(self):\n",
    "        super().__init__()\n",
    "        #torch.manual_seed(12345)\n",
    "        \n",
    "        self.conv1 = GATConv(100, 10, heads=3)\n",
    "        self.linear1 = torch.nn.Linear(10*3, 1)\n",
    "        \n",
    "        self.sigmoid = torch.nn.Sigmoid()\n",
    "\n",
    "    def forward(self, data, batch):\n",
    "        x, edge_index = data.x, data.edge_index\n",
    "        \n",
    "        x = F.elu(self.conv1(x, edge_index))\n",
    "        x = global_mean_pool(x, batch)\n",
    "        x = F.dropout(x, p=0.5, training=self.training)\n",
    "        x = self.linear1(x)\n",
    "        x = self.sigmoid(x)\n",
    "        \n",
    "        return x"
   ]
  },
  {
   "cell_type": "code",
   "execution_count": 40,
   "metadata": {},
   "outputs": [
    {
     "name": "stderr",
     "output_type": "stream",
     "text": [
      "100%|████████████████████████████████████████████████████████████████████████████████████████████████████████████████████████████████████| 500/500 [00:01<00:00, 341.53it/s]"
     ]
    },
    {
     "name": "stdout",
     "output_type": "stream",
     "text": [
      "finished...\n"
     ]
    },
    {
     "name": "stderr",
     "output_type": "stream",
     "text": [
      "\n"
     ]
    }
   ],
   "source": [
    "pytorch_geometric_graphs = generate_pytorch_geometric_graphs(window_size=7)"
   ]
  },
  {
   "cell_type": "code",
   "execution_count": 41,
   "metadata": {},
   "outputs": [],
   "source": [
    "train_pyg_graphs, test_pyg_graphs = train_test_split(pytorch_geometric_graphs, test_size=0.33, random_state=42)"
   ]
  },
  {
   "cell_type": "code",
   "execution_count": 42,
   "metadata": {},
   "outputs": [],
   "source": [
    "def run_gat_classifier(train_pyg_graphs, test_pyg_graphs, train_batch_size=300, learning_rate=0.001, num_epoch=10):\n",
    "    train_loader = DataLoader(train_pyg_graphs, batch_size=train_batch_size, shuffle=False)\n",
    "    test_loader = DataLoader(test_pyg_graphs, batch_size=200, shuffle=False)\n",
    "    \n",
    "    gat_model = GATClassifier().to(device)\n",
    "    print(gat_model)\n",
    "    # Define the loss function and optimizer\n",
    "    loss_function = F.binary_cross_entropy\n",
    "    optimizer = torch.optim.Adam(gat_model.parameters(), lr=learning_rate)\n",
    "\n",
    "    gat_model.train()\n",
    "    for epoch in range(0, num_epoch):\n",
    "        for i, data in enumerate(train_loader):  # Iterate in batches over the training dataset.\n",
    "            data = data.to(device)\n",
    "            try:\n",
    "                out = gat_model(data, data.batch)  # Perform a single forward pass.\n",
    "            except Exception as e:\n",
    "                print(data)\n",
    "                print(data.x)\n",
    "                print(data.y)\n",
    "            out = out.squeeze()\n",
    "            y = data.y.squeeze()\n",
    "            loss = loss_function(out, y)  # Compute the loss.\n",
    "            loss.backward()  # Derive gradients.\n",
    "            optimizer.step()  # Update parameters based on gradients.\n",
    "            optimizer.zero_grad()  # Clear gradients.\n",
    "        print(f'Epoch: {epoch}, Epoch loss {loss.item()}')\n",
    "\n",
    "    print('Training process has finished.')\n",
    "    print('Final loss', loss.item())\n",
    "    \n",
    "    true_labels = []\n",
    "    pred_labels = []\n",
    "    with torch.no_grad():\n",
    "        gat_model.eval()\n",
    "        for i, data in enumerate(test_loader):\n",
    "            data = data.to(device)\n",
    "            out = gat_model(data, data.batch)\n",
    "            pred_labels.extend(torch.round(out.squeeze()).tolist())\n",
    "            true_labels.extend(data.y.tolist())\n",
    "    \n",
    "    results = calculate_accuracy_precision_recall(true_labels, pred_labels)\n",
    "    \n",
    "    print(results)\n",
    "    return results"
   ]
  },
  {
   "cell_type": "code",
   "execution_count": 43,
   "metadata": {},
   "outputs": [
    {
     "name": "stdout",
     "output_type": "stream",
     "text": [
      "GATClassifier(\n",
      "  (conv1): GATConv(100, 10, heads=3)\n",
      "  (linear1): Linear(in_features=30, out_features=1, bias=True)\n",
      "  (sigmoid): Sigmoid()\n",
      ")\n",
      "Epoch: 0, Epoch loss 0.6843876838684082\n",
      "Epoch: 1, Epoch loss 0.6841275095939636\n",
      "Epoch: 2, Epoch loss 0.6839714050292969\n",
      "Epoch: 3, Epoch loss 0.6837747693061829\n",
      "Epoch: 4, Epoch loss 0.6830195784568787\n",
      "Epoch: 5, Epoch loss 0.6834378838539124\n",
      "Epoch: 6, Epoch loss 0.6830761432647705\n",
      "Epoch: 7, Epoch loss 0.6824502348899841\n",
      "Epoch: 8, Epoch loss 0.6819683909416199\n",
      "Epoch: 9, Epoch loss 0.6817380785942078\n",
      "Training process has finished.\n",
      "Final loss 0.6817380785942078\n",
      "(0.5212121212121212, 0.5212121212121212, 1.0)\n",
      "GATClassifier(\n",
      "  (conv1): GATConv(100, 10, heads=3)\n",
      "  (linear1): Linear(in_features=30, out_features=1, bias=True)\n",
      "  (sigmoid): Sigmoid()\n",
      ")\n",
      "Epoch: 0, Epoch loss 0.7105657458305359\n",
      "Epoch: 1, Epoch loss 0.7094062566757202\n",
      "Epoch: 2, Epoch loss 0.7088292837142944\n",
      "Epoch: 3, Epoch loss 0.7084373831748962\n",
      "Epoch: 4, Epoch loss 0.7073332071304321\n",
      "Epoch: 5, Epoch loss 0.7070869207382202\n",
      "Epoch: 6, Epoch loss 0.7057823538780212\n",
      "Epoch: 7, Epoch loss 0.7051805257797241\n",
      "Epoch: 8, Epoch loss 0.7038341164588928\n",
      "Epoch: 9, Epoch loss 0.7018195986747742\n",
      "Training process has finished.\n",
      "Final loss 0.7018195986747742\n"
     ]
    },
    {
     "name": "stderr",
     "output_type": "stream",
     "text": [
      "c:\\users\\user\\appdata\\local\\programs\\python\\python38\\lib\\site-packages\\sklearn\\metrics\\_classification.py:1245: UndefinedMetricWarning: Precision is ill-defined and being set to 0.0 due to no predicted samples. Use `zero_division` parameter to control this behavior.\n",
      "  _warn_prf(average, modifier, msg_start, len(result))\n"
     ]
    },
    {
     "name": "stdout",
     "output_type": "stream",
     "text": [
      "(0.47878787878787876, 0.0, 0.0)\n",
      "GATClassifier(\n",
      "  (conv1): GATConv(100, 10, heads=3)\n",
      "  (linear1): Linear(in_features=30, out_features=1, bias=True)\n",
      "  (sigmoid): Sigmoid()\n",
      ")\n",
      "Epoch: 0, Epoch loss 0.7087830901145935\n",
      "Epoch: 1, Epoch loss 0.7079454660415649\n",
      "Epoch: 2, Epoch loss 0.7070721387863159\n",
      "Epoch: 3, Epoch loss 0.7071141004562378\n",
      "Epoch: 4, Epoch loss 0.705900251865387\n",
      "Epoch: 5, Epoch loss 0.7048695683479309\n",
      "Epoch: 6, Epoch loss 0.7041175961494446\n",
      "Epoch: 7, Epoch loss 0.7039316296577454\n",
      "Epoch: 8, Epoch loss 0.7029711008071899\n",
      "Epoch: 9, Epoch loss 0.7013569474220276\n",
      "Training process has finished.\n",
      "Final loss 0.7013569474220276\n",
      "(0.47878787878787876, 0.0, 0.0)\n",
      "GATClassifier(\n",
      "  (conv1): GATConv(100, 10, heads=3)\n",
      "  (linear1): Linear(in_features=30, out_features=1, bias=True)\n",
      "  (sigmoid): Sigmoid()\n",
      ")\n",
      "Epoch: 0, Epoch loss 0.7005364298820496\n",
      "Epoch: 1, Epoch loss 0.6996206045150757\n"
     ]
    },
    {
     "name": "stderr",
     "output_type": "stream",
     "text": [
      "c:\\users\\user\\appdata\\local\\programs\\python\\python38\\lib\\site-packages\\sklearn\\metrics\\_classification.py:1245: UndefinedMetricWarning: Precision is ill-defined and being set to 0.0 due to no predicted samples. Use `zero_division` parameter to control this behavior.\n",
      "  _warn_prf(average, modifier, msg_start, len(result))\n"
     ]
    },
    {
     "name": "stdout",
     "output_type": "stream",
     "text": [
      "Epoch: 2, Epoch loss 0.6991037726402283\n",
      "Epoch: 3, Epoch loss 0.6981910467147827\n",
      "Epoch: 4, Epoch loss 0.6974691152572632\n",
      "Epoch: 5, Epoch loss 0.6964446306228638\n",
      "Epoch: 6, Epoch loss 0.6957553625106812\n",
      "Epoch: 7, Epoch loss 0.6959921717643738\n",
      "Epoch: 8, Epoch loss 0.6952300071716309\n",
      "Epoch: 9, Epoch loss 0.6939082741737366\n",
      "Training process has finished.\n",
      "Final loss 0.6939082741737366\n",
      "(0.47878787878787876, 0.0, 0.0)\n",
      "GATClassifier(\n",
      "  (conv1): GATConv(100, 10, heads=3)\n",
      "  (linear1): Linear(in_features=30, out_features=1, bias=True)\n",
      "  (sigmoid): Sigmoid()\n",
      ")\n",
      "Epoch: 0, Epoch loss 0.7141973972320557\n",
      "Epoch: 1, Epoch loss 0.713327944278717\n",
      "Epoch: 2, Epoch loss 0.7127438187599182\n",
      "Epoch: 3, Epoch loss 0.7113478779792786\n",
      "Epoch: 4, Epoch loss 0.7107857465744019\n",
      "Epoch: 5, Epoch loss 0.7097273468971252\n"
     ]
    },
    {
     "name": "stderr",
     "output_type": "stream",
     "text": [
      "c:\\users\\user\\appdata\\local\\programs\\python\\python38\\lib\\site-packages\\sklearn\\metrics\\_classification.py:1245: UndefinedMetricWarning: Precision is ill-defined and being set to 0.0 due to no predicted samples. Use `zero_division` parameter to control this behavior.\n",
      "  _warn_prf(average, modifier, msg_start, len(result))\n"
     ]
    },
    {
     "name": "stdout",
     "output_type": "stream",
     "text": [
      "Epoch: 6, Epoch loss 0.7074467539787292\n",
      "Epoch: 7, Epoch loss 0.7084646224975586\n",
      "Epoch: 8, Epoch loss 0.7081958651542664\n",
      "Epoch: 9, Epoch loss 0.7060623168945312\n",
      "Training process has finished.\n",
      "Final loss 0.7060623168945312\n",
      "(0.47878787878787876, 0.0, 0.0)\n",
      "GATClassifier(\n",
      "  (conv1): GATConv(100, 10, heads=3)\n",
      "  (linear1): Linear(in_features=30, out_features=1, bias=True)\n",
      "  (sigmoid): Sigmoid()\n",
      ")\n",
      "Epoch: 0, Epoch loss 0.6894708871841431\n",
      "Epoch: 1, Epoch loss 0.6889926195144653\n"
     ]
    },
    {
     "name": "stderr",
     "output_type": "stream",
     "text": [
      "c:\\users\\user\\appdata\\local\\programs\\python\\python38\\lib\\site-packages\\sklearn\\metrics\\_classification.py:1245: UndefinedMetricWarning: Precision is ill-defined and being set to 0.0 due to no predicted samples. Use `zero_division` parameter to control this behavior.\n",
      "  _warn_prf(average, modifier, msg_start, len(result))\n"
     ]
    },
    {
     "name": "stdout",
     "output_type": "stream",
     "text": [
      "Epoch: 2, Epoch loss 0.6886518001556396\n",
      "Epoch: 3, Epoch loss 0.6881210803985596\n",
      "Epoch: 4, Epoch loss 0.6875762939453125\n",
      "Epoch: 5, Epoch loss 0.6869871020317078\n",
      "Epoch: 6, Epoch loss 0.6868961453437805\n",
      "Epoch: 7, Epoch loss 0.6857054829597473\n",
      "Epoch: 8, Epoch loss 0.6861495971679688\n",
      "Epoch: 9, Epoch loss 0.6847608685493469\n",
      "Training process has finished.\n",
      "Final loss 0.6847608685493469\n",
      "(0.5212121212121212, 0.5212121212121212, 1.0)\n",
      "GATClassifier(\n",
      "  (conv1): GATConv(100, 10, heads=3)\n",
      "  (linear1): Linear(in_features=30, out_features=1, bias=True)\n",
      "  (sigmoid): Sigmoid()\n",
      ")\n",
      "Epoch: 0, Epoch loss 0.7099579572677612\n",
      "Epoch: 1, Epoch loss 0.7092835307121277\n",
      "Epoch: 2, Epoch loss 0.7084964513778687\n",
      "Epoch: 3, Epoch loss 0.7071486115455627\n",
      "Epoch: 4, Epoch loss 0.7071266770362854\n",
      "Epoch: 5, Epoch loss 0.7062121033668518\n",
      "Epoch: 6, Epoch loss 0.7053868174552917\n",
      "Epoch: 7, Epoch loss 0.7033758759498596\n",
      "Epoch: 8, Epoch loss 0.7024599313735962\n",
      "Epoch: 9, Epoch loss 0.7012989521026611\n",
      "Training process has finished.\n",
      "Final loss 0.7012989521026611\n",
      "(0.47878787878787876, 0.0, 0.0)\n",
      "GATClassifier(\n",
      "  (conv1): GATConv(100, 10, heads=3)\n",
      "  (linear1): Linear(in_features=30, out_features=1, bias=True)\n",
      "  (sigmoid): Sigmoid()\n",
      ")\n",
      "Epoch: 0, Epoch loss 0.712002158164978\n",
      "Epoch: 1, Epoch loss 0.7107331156730652\n"
     ]
    },
    {
     "name": "stderr",
     "output_type": "stream",
     "text": [
      "c:\\users\\user\\appdata\\local\\programs\\python\\python38\\lib\\site-packages\\sklearn\\metrics\\_classification.py:1245: UndefinedMetricWarning: Precision is ill-defined and being set to 0.0 due to no predicted samples. Use `zero_division` parameter to control this behavior.\n",
      "  _warn_prf(average, modifier, msg_start, len(result))\n"
     ]
    },
    {
     "name": "stdout",
     "output_type": "stream",
     "text": [
      "Epoch: 2, Epoch loss 0.7094210982322693\n",
      "Epoch: 3, Epoch loss 0.7096078991889954\n",
      "Epoch: 4, Epoch loss 0.7075903415679932\n",
      "Epoch: 5, Epoch loss 0.7060970067977905\n",
      "Epoch: 6, Epoch loss 0.7057152986526489\n",
      "Epoch: 7, Epoch loss 0.7049400806427002\n",
      "Epoch: 8, Epoch loss 0.7035871744155884\n",
      "Epoch: 9, Epoch loss 0.7013881802558899\n",
      "Training process has finished.\n",
      "Final loss 0.7013881802558899\n",
      "(0.47878787878787876, 0.0, 0.0)\n",
      "GATClassifier(\n",
      "  (conv1): GATConv(100, 10, heads=3)\n",
      "  (linear1): Linear(in_features=30, out_features=1, bias=True)\n",
      "  (sigmoid): Sigmoid()\n",
      ")\n",
      "Epoch: 0, Epoch loss 0.6986761093139648\n",
      "Epoch: 1, Epoch loss 0.698249876499176\n",
      "Epoch: 2, Epoch loss 0.6971059441566467\n",
      "Epoch: 3, Epoch loss 0.6968747973442078\n",
      "Epoch: 4, Epoch loss 0.6958085894584656\n"
     ]
    },
    {
     "name": "stderr",
     "output_type": "stream",
     "text": [
      "c:\\users\\user\\appdata\\local\\programs\\python\\python38\\lib\\site-packages\\sklearn\\metrics\\_classification.py:1245: UndefinedMetricWarning: Precision is ill-defined and being set to 0.0 due to no predicted samples. Use `zero_division` parameter to control this behavior.\n",
      "  _warn_prf(average, modifier, msg_start, len(result))\n"
     ]
    },
    {
     "name": "stdout",
     "output_type": "stream",
     "text": [
      "Epoch: 5, Epoch loss 0.6959280967712402\n",
      "Epoch: 6, Epoch loss 0.6949793100357056\n",
      "Epoch: 7, Epoch loss 0.6935056447982788\n",
      "Epoch: 8, Epoch loss 0.6928784251213074\n",
      "Epoch: 9, Epoch loss 0.6923525333404541\n",
      "Training process has finished.\n",
      "Final loss 0.6923525333404541\n",
      "(0.5333333333333333, 0.5279503105590062, 0.9883720930232558)\n",
      "GATClassifier(\n",
      "  (conv1): GATConv(100, 10, heads=3)\n",
      "  (linear1): Linear(in_features=30, out_features=1, bias=True)\n",
      "  (sigmoid): Sigmoid()\n",
      ")\n",
      "Epoch: 0, Epoch loss 0.6893386840820312\n",
      "Epoch: 1, Epoch loss 0.6884620189666748\n",
      "Epoch: 2, Epoch loss 0.6884499788284302\n",
      "Epoch: 3, Epoch loss 0.6881098747253418\n",
      "Epoch: 4, Epoch loss 0.6877833008766174\n",
      "Epoch: 5, Epoch loss 0.6866801977157593\n",
      "Epoch: 6, Epoch loss 0.6857159733772278\n",
      "Epoch: 7, Epoch loss 0.6855570077896118\n",
      "Epoch: 8, Epoch loss 0.6856387853622437\n",
      "Epoch: 9, Epoch loss 0.6850975155830383\n",
      "Training process has finished.\n",
      "Final loss 0.6850975155830383\n",
      "(0.5212121212121212, 0.5212121212121212, 1.0)\n"
     ]
    }
   ],
   "source": [
    "gat_evaluation_results = []\n",
    "for num in global_random_numbers:\n",
    "    torch.manual_seed(num)\n",
    "    gat_evaluation_results.append(run_gat_classifier(train_pyg_graphs, test_pyg_graphs))"
   ]
  },
  {
   "cell_type": "markdown",
   "metadata": {},
   "source": [
    "## <font color='red'>Our approach results</font>"
   ]
  },
  {
   "cell_type": "code",
   "execution_count": 44,
   "metadata": {
    "scrolled": true
   },
   "outputs": [
    {
     "name": "stdout",
     "output_type": "stream",
     "text": [
      "Avg accuracy | Avg precision | Avg recall\n",
      "0.4970+-0.0225, 0.2092+-0.2562, 0.3988+-0.4885\n"
     ]
    }
   ],
   "source": [
    "print_evaluation_results(gat_evaluation_results)"
   ]
  },
  {
   "cell_type": "markdown",
   "metadata": {},
   "source": [
    "## Glove + GATConv"
   ]
  },
  {
   "cell_type": "code",
   "execution_count": 45,
   "metadata": {},
   "outputs": [],
   "source": [
    "def create_graph_of_words_glove(text, window_size):\n",
    "    text = text.split()\n",
    "    G = nx.Graph()\n",
    "    for i, word in enumerate(text):\n",
    "        #embedding = fasttext_model.get_word_vector(word)\n",
    "        embedding = get_word_glove_embedding(word)\n",
    "        G.add_node(word, x=embedding)\n",
    "        for j in range(i + 1, i + window_size):\n",
    "            if j < len(text):\n",
    "                G.add_edge(word, text[j])\n",
    "    return G\n",
    "\n",
    "def create_graph_of_words_for_pytorch_glove(text, window_size):\n",
    "    return from_networkx(create_graph_of_words_glove(text, window_size))\n",
    "\n",
    "def generate_pytorch_geometric_graphs_glove(window_size):\n",
    "    pyg_graphs = []\n",
    "    for s in tqdm(df['body'].values):\n",
    "        pyg_graphs.append(create_graph_of_words_for_pytorch_glove(s, window_size))\n",
    "    print('finished...')\n",
    "    for i, label in enumerate(df['label'].values):\n",
    "        pyg_graphs[i].y = torch.tensor(label).float()\n",
    "    \n",
    "    pyg_graphs = [g for g in pyg_graphs if g.num_nodes != 0]\n",
    "    return pyg_graphs\n",
    "\n",
    "class GATGloveClassifier(torch.nn.Module):\n",
    "    def __init__(self):\n",
    "        super().__init__()\n",
    "        #torch.manual_seed(12345)\n",
    "        \n",
    "        self.conv1 = GATConv(100, 10, heads=3)\n",
    "        self.linear1 = torch.nn.Linear(10*3, 1)\n",
    "        \n",
    "        self.sigmoid = torch.nn.Sigmoid()\n",
    "\n",
    "    def forward(self, data, batch):\n",
    "        x, edge_index = data.x, data.edge_index\n",
    "        \n",
    "        x = F.elu(self.conv1(x, edge_index))\n",
    "        x = global_mean_pool(x, batch)\n",
    "        x = F.dropout(x, p=0.5, training=self.training)\n",
    "        x = self.linear1(x)\n",
    "        x = self.sigmoid(x)\n",
    "        \n",
    "        return x"
   ]
  },
  {
   "cell_type": "code",
   "execution_count": 46,
   "metadata": {},
   "outputs": [
    {
     "name": "stderr",
     "output_type": "stream",
     "text": [
      "100%|████████████████████████████████████████████████████████████████████████████████████████████████████████████████████████████████████| 500/500 [00:01<00:00, 343.17it/s]"
     ]
    },
    {
     "name": "stdout",
     "output_type": "stream",
     "text": [
      "finished...\n"
     ]
    },
    {
     "name": "stderr",
     "output_type": "stream",
     "text": [
      "\n"
     ]
    }
   ],
   "source": [
    "pytorch_geometric_graphs_glove = generate_pytorch_geometric_graphs_glove(window_size=7)"
   ]
  },
  {
   "cell_type": "code",
   "execution_count": 47,
   "metadata": {},
   "outputs": [],
   "source": [
    "train_pyg_graphs_glove, test_pyg_graphs_glove = train_test_split(pytorch_geometric_graphs_glove, test_size=0.33, random_state=42)"
   ]
  },
  {
   "cell_type": "code",
   "execution_count": 48,
   "metadata": {},
   "outputs": [],
   "source": [
    "def run_gat_glove_classifier(train_batch_size=300, learning_rate=0.001, num_epoch=10):\n",
    "    train_loader = DataLoader(train_pyg_graphs_glove, batch_size=train_batch_size, shuffle=False)\n",
    "    test_loader = DataLoader(test_pyg_graphs_glove, batch_size=200, shuffle=False)\n",
    "    \n",
    "    gat_model = GATGloveClassifier().to(device)\n",
    "    print(gat_model)\n",
    "    # Define the loss function and optimizer\n",
    "    loss_function = F.binary_cross_entropy\n",
    "    optimizer = torch.optim.Adam(gat_model.parameters(), lr=learning_rate)\n",
    "\n",
    "    gat_model.train()\n",
    "    for epoch in range(0, num_epoch):\n",
    "        for i, data in enumerate(train_loader):  # Iterate in batches over the training dataset.\n",
    "            data = data.to(device)\n",
    "            try:\n",
    "                out = gat_model(data, data.batch)  # Perform a single forward pass.\n",
    "            except Exception as e:\n",
    "                print(data)\n",
    "                print(data.x)\n",
    "                print(data.y)\n",
    "            out = out.squeeze()\n",
    "            y = data.y.squeeze()\n",
    "            loss = loss_function(out, y)  # Compute the loss.\n",
    "            loss.backward()  # Derive gradients.\n",
    "            optimizer.step()  # Update parameters based on gradients.\n",
    "            optimizer.zero_grad()  # Clear gradients.\n",
    "        print(f'Epoch: {epoch}, Epoch loss {loss.item()}')\n",
    "\n",
    "    print('Training process has finished.')\n",
    "    print('Final loss', loss.item())\n",
    "    \n",
    "    true_labels = []\n",
    "    pred_labels = []\n",
    "    with torch.no_grad():\n",
    "        gat_model.eval()\n",
    "        for i, data in enumerate(test_loader):\n",
    "            data = data.to(device)\n",
    "            out = gat_model(data, data.batch)\n",
    "            pred_labels.extend(torch.round(out.squeeze()).tolist())\n",
    "            true_labels.extend(data.y.tolist())\n",
    "    \n",
    "    results = calculate_accuracy_precision_recall(true_labels, pred_labels)\n",
    "    \n",
    "    print(results)\n",
    "    return results"
   ]
  },
  {
   "cell_type": "code",
   "execution_count": 49,
   "metadata": {},
   "outputs": [
    {
     "name": "stdout",
     "output_type": "stream",
     "text": [
      "GATGloveClassifier(\n",
      "  (conv1): GATConv(100, 10, heads=3)\n",
      "  (linear1): Linear(in_features=30, out_features=1, bias=True)\n",
      "  (sigmoid): Sigmoid()\n",
      ")\n",
      "Epoch: 0, Epoch loss 0.711483359336853\n",
      "Epoch: 1, Epoch loss 0.6998999714851379\n",
      "Epoch: 2, Epoch loss 0.676805853843689\n",
      "Epoch: 3, Epoch loss 0.6753196716308594\n",
      "Epoch: 4, Epoch loss 0.6840073466300964\n",
      "Epoch: 5, Epoch loss 0.6338353753089905\n",
      "Epoch: 6, Epoch loss 0.641209065914154\n",
      "Epoch: 7, Epoch loss 0.6874383687973022\n",
      "Epoch: 8, Epoch loss 0.6753903031349182\n",
      "Epoch: 9, Epoch loss 0.6681687831878662\n",
      "Training process has finished.\n",
      "Final loss 0.6681687831878662\n",
      "(0.5212121212121212, 0.5212121212121212, 1.0)\n",
      "GATGloveClassifier(\n",
      "  (conv1): GATConv(100, 10, heads=3)\n",
      "  (linear1): Linear(in_features=30, out_features=1, bias=True)\n",
      "  (sigmoid): Sigmoid()\n",
      ")\n",
      "Epoch: 0, Epoch loss 0.7209498882293701\n",
      "Epoch: 1, Epoch loss 0.6836686134338379\n",
      "Epoch: 2, Epoch loss 0.688066840171814\n",
      "Epoch: 3, Epoch loss 0.6972061395645142\n",
      "Epoch: 4, Epoch loss 0.6851451992988586\n",
      "Epoch: 5, Epoch loss 0.6719440221786499\n",
      "Epoch: 6, Epoch loss 0.6811695694923401\n",
      "Epoch: 7, Epoch loss 0.6675003170967102\n",
      "Epoch: 8, Epoch loss 0.6560562252998352\n",
      "Epoch: 9, Epoch loss 0.6490322351455688\n",
      "Training process has finished.\n",
      "Final loss 0.6490322351455688\n",
      "(0.5515151515151515, 0.5375, 1.0)\n",
      "GATGloveClassifier(\n",
      "  (conv1): GATConv(100, 10, heads=3)\n",
      "  (linear1): Linear(in_features=30, out_features=1, bias=True)\n",
      "  (sigmoid): Sigmoid()\n",
      ")\n",
      "Epoch: 0, Epoch loss 0.723878800868988\n",
      "Epoch: 1, Epoch loss 0.7113240361213684\n",
      "Epoch: 2, Epoch loss 0.7117415070533752\n",
      "Epoch: 3, Epoch loss 0.698154866695404\n",
      "Epoch: 4, Epoch loss 0.6919489502906799\n",
      "Epoch: 5, Epoch loss 0.6756479740142822\n",
      "Epoch: 6, Epoch loss 0.66671222448349\n",
      "Epoch: 7, Epoch loss 0.6905593872070312\n",
      "Epoch: 8, Epoch loss 0.6866509318351746\n",
      "Epoch: 9, Epoch loss 0.6631251573562622\n",
      "Training process has finished.\n",
      "Final loss 0.6631251573562622\n",
      "(0.5212121212121212, 0.5217391304347826, 0.9767441860465116)\n",
      "GATGloveClassifier(\n",
      "  (conv1): GATConv(100, 10, heads=3)\n",
      "  (linear1): Linear(in_features=30, out_features=1, bias=True)\n",
      "  (sigmoid): Sigmoid()\n",
      ")\n",
      "Epoch: 0, Epoch loss 0.670504093170166\n",
      "Epoch: 1, Epoch loss 0.6747098565101624\n",
      "Epoch: 2, Epoch loss 0.6692227721214294\n",
      "Epoch: 3, Epoch loss 0.6523665189743042\n",
      "Epoch: 4, Epoch loss 0.6733419895172119\n",
      "Epoch: 5, Epoch loss 0.6553215980529785\n",
      "Epoch: 6, Epoch loss 0.6533931493759155\n",
      "Epoch: 7, Epoch loss 0.6972477436065674\n",
      "Epoch: 8, Epoch loss 0.6829420924186707\n",
      "Epoch: 9, Epoch loss 0.653040885925293\n",
      "Training process has finished.\n",
      "Final loss 0.653040885925293\n",
      "(0.5151515151515151, 0.5182926829268293, 0.9883720930232558)\n",
      "GATGloveClassifier(\n",
      "  (conv1): GATConv(100, 10, heads=3)\n",
      "  (linear1): Linear(in_features=30, out_features=1, bias=True)\n",
      "  (sigmoid): Sigmoid()\n",
      ")\n",
      "Epoch: 0, Epoch loss 0.7337115406990051\n",
      "Epoch: 1, Epoch loss 0.7230626940727234\n",
      "Epoch: 2, Epoch loss 0.706102728843689\n",
      "Epoch: 3, Epoch loss 0.7310270667076111\n",
      "Epoch: 4, Epoch loss 0.7050224542617798\n",
      "Epoch: 5, Epoch loss 0.7117846012115479\n",
      "Epoch: 6, Epoch loss 0.6554878950119019\n",
      "Epoch: 7, Epoch loss 0.6674811244010925\n",
      "Epoch: 8, Epoch loss 0.6882247924804688\n",
      "Epoch: 9, Epoch loss 0.6640120148658752\n",
      "Training process has finished.\n",
      "Final loss 0.6640120148658752\n",
      "(0.5333333333333333, 0.5298013245033113, 0.9302325581395349)\n",
      "GATGloveClassifier(\n",
      "  (conv1): GATConv(100, 10, heads=3)\n",
      "  (linear1): Linear(in_features=30, out_features=1, bias=True)\n",
      "  (sigmoid): Sigmoid()\n",
      ")\n",
      "Epoch: 0, Epoch loss 0.6704337000846863\n",
      "Epoch: 1, Epoch loss 0.6737226247787476\n",
      "Epoch: 2, Epoch loss 0.6747721433639526\n",
      "Epoch: 3, Epoch loss 0.6652701497077942\n",
      "Epoch: 4, Epoch loss 0.6329946517944336\n",
      "Epoch: 5, Epoch loss 0.6485716700553894\n",
      "Epoch: 6, Epoch loss 0.6625500917434692\n",
      "Epoch: 7, Epoch loss 0.6344794034957886\n",
      "Epoch: 8, Epoch loss 0.6797850131988525\n",
      "Epoch: 9, Epoch loss 0.6570409536361694\n",
      "Training process has finished.\n",
      "Final loss 0.6570409536361694\n",
      "(0.5151515151515151, 0.5189873417721519, 0.9534883720930233)\n",
      "GATGloveClassifier(\n",
      "  (conv1): GATConv(100, 10, heads=3)\n",
      "  (linear1): Linear(in_features=30, out_features=1, bias=True)\n",
      "  (sigmoid): Sigmoid()\n",
      ")\n",
      "Epoch: 0, Epoch loss 0.7355222105979919\n",
      "Epoch: 1, Epoch loss 0.7311649918556213\n",
      "Epoch: 2, Epoch loss 0.6983456015586853\n",
      "Epoch: 3, Epoch loss 0.6892962455749512\n",
      "Epoch: 4, Epoch loss 0.6912142038345337\n",
      "Epoch: 5, Epoch loss 0.7199501991271973\n",
      "Epoch: 6, Epoch loss 0.6824026703834534\n",
      "Epoch: 7, Epoch loss 0.6722607612609863\n",
      "Epoch: 8, Epoch loss 0.6906973719596863\n",
      "Epoch: 9, Epoch loss 0.6565327644348145\n",
      "Training process has finished.\n",
      "Final loss 0.6565327644348145\n",
      "(0.5636363636363636, 0.547945205479452, 0.9302325581395349)\n",
      "GATGloveClassifier(\n",
      "  (conv1): GATConv(100, 10, heads=3)\n",
      "  (linear1): Linear(in_features=30, out_features=1, bias=True)\n",
      "  (sigmoid): Sigmoid()\n",
      ")\n",
      "Epoch: 0, Epoch loss 0.7272449731826782\n",
      "Epoch: 1, Epoch loss 0.7031565308570862\n",
      "Epoch: 2, Epoch loss 0.6694469451904297\n",
      "Epoch: 3, Epoch loss 0.7283976078033447\n",
      "Epoch: 4, Epoch loss 0.6906373500823975\n",
      "Epoch: 5, Epoch loss 0.6674014329910278\n",
      "Epoch: 6, Epoch loss 0.6663305163383484\n",
      "Epoch: 7, Epoch loss 0.686644434928894\n",
      "Epoch: 8, Epoch loss 0.674782931804657\n",
      "Epoch: 9, Epoch loss 0.6459848284721375\n",
      "Training process has finished.\n",
      "Final loss 0.6459848284721375\n",
      "(0.5515151515151515, 0.5379746835443038, 0.9883720930232558)\n",
      "GATGloveClassifier(\n",
      "  (conv1): GATConv(100, 10, heads=3)\n",
      "  (linear1): Linear(in_features=30, out_features=1, bias=True)\n",
      "  (sigmoid): Sigmoid()\n",
      ")\n",
      "Epoch: 0, Epoch loss 0.6698232889175415\n",
      "Epoch: 1, Epoch loss 0.6889957785606384\n",
      "Epoch: 2, Epoch loss 0.6782179474830627\n",
      "Epoch: 3, Epoch loss 0.6841246485710144\n",
      "Epoch: 4, Epoch loss 0.6383246183395386\n",
      "Epoch: 5, Epoch loss 0.6757996678352356\n",
      "Epoch: 6, Epoch loss 0.6540128588676453\n",
      "Epoch: 7, Epoch loss 0.6554707288742065\n",
      "Epoch: 8, Epoch loss 0.618453860282898\n",
      "Epoch: 9, Epoch loss 0.6759442090988159\n",
      "Training process has finished.\n",
      "Final loss 0.6759442090988159\n",
      "(0.5212121212121212, 0.5212121212121212, 1.0)\n",
      "GATGloveClassifier(\n",
      "  (conv1): GATConv(100, 10, heads=3)\n",
      "  (linear1): Linear(in_features=30, out_features=1, bias=True)\n",
      "  (sigmoid): Sigmoid()\n",
      ")\n",
      "Epoch: 0, Epoch loss 0.6795741319656372\n",
      "Epoch: 1, Epoch loss 0.6718796491622925\n",
      "Epoch: 2, Epoch loss 0.6734158396720886\n",
      "Epoch: 3, Epoch loss 0.6563060283660889\n",
      "Epoch: 4, Epoch loss 0.6864246726036072\n",
      "Epoch: 5, Epoch loss 0.6555599570274353\n",
      "Epoch: 6, Epoch loss 0.6442863941192627\n",
      "Epoch: 7, Epoch loss 0.6623612642288208\n",
      "Epoch: 8, Epoch loss 0.641006350517273\n",
      "Epoch: 9, Epoch loss 0.644147515296936\n",
      "Training process has finished.\n",
      "Final loss 0.644147515296936\n",
      "(0.5212121212121212, 0.5212121212121212, 1.0)\n"
     ]
    }
   ],
   "source": [
    "gat_glove_evaluation_results = []\n",
    "for num in global_random_numbers:\n",
    "    torch.manual_seed(num)\n",
    "    gat_glove_evaluation_results.append(run_gat_glove_classifier())"
   ]
  },
  {
   "cell_type": "markdown",
   "metadata": {},
   "source": [
    "## <font color='red'>GloVe + GATConv results</font>"
   ]
  },
  {
   "cell_type": "code",
   "execution_count": 50,
   "metadata": {},
   "outputs": [
    {
     "name": "stdout",
     "output_type": "stream",
     "text": [
      "Avg accuracy | Avg precision | Avg recall\n",
      "0.5315+-0.0167, 0.5276+-0.0097, 0.9767+-0.0270\n"
     ]
    }
   ],
   "source": [
    "print_evaluation_results(gat_glove_evaluation_results)"
   ]
  },
  {
   "cell_type": "markdown",
   "metadata": {},
   "source": [
    "## Glove + GCNonv"
   ]
  },
  {
   "cell_type": "code",
   "execution_count": 51,
   "metadata": {},
   "outputs": [],
   "source": [
    "class GCNGloveClassifier(torch.nn.Module):\n",
    "    def __init__(self):\n",
    "        super().__init__()\n",
    "        #torch.manual_seed(12345)\n",
    "        \n",
    "        self.conv1 = GCNConv(100, 10)\n",
    "        self.linear1 = torch.nn.Linear(10, 1)\n",
    "        \n",
    "        self.sigmoid = torch.nn.Sigmoid()\n",
    "\n",
    "    def forward(self, data, batch):\n",
    "        x, edge_index = data.x, data.edge_index\n",
    "        \n",
    "        x = F.elu(self.conv1(x, edge_index))\n",
    "        x = global_mean_pool(x, batch)\n",
    "        x = F.dropout(x, p=0.5, training=self.training)\n",
    "        x = self.linear1(x)\n",
    "        x = self.sigmoid(x)\n",
    "        \n",
    "        return x"
   ]
  },
  {
   "cell_type": "code",
   "execution_count": 52,
   "metadata": {},
   "outputs": [],
   "source": [
    "def run_gcn_glove_classifier(train_batch_size=300, learning_rate=0.001, num_epoch=10):\n",
    "    train_loader = DataLoader(train_pyg_graphs_glove, batch_size=train_batch_size, shuffle=False)\n",
    "    test_loader = DataLoader(test_pyg_graphs_glove, batch_size=200, shuffle=False)\n",
    "    \n",
    "    model = GCNGloveClassifier().to(device)\n",
    "    print(model)\n",
    "    # Define the loss function and optimizer\n",
    "    loss_function = F.binary_cross_entropy\n",
    "    optimizer = torch.optim.Adam(model.parameters(), lr=learning_rate)\n",
    "\n",
    "    model.train()\n",
    "    for epoch in range(0, num_epoch):\n",
    "        for i, data in enumerate(train_loader):  # Iterate in batches over the training dataset.\n",
    "            data = data.to(device)\n",
    "            try:\n",
    "                out = model(data, data.batch)  # Perform a single forward pass.\n",
    "            except Exception as e:\n",
    "                print(data)\n",
    "                print(data.x)\n",
    "                print(data.y)\n",
    "            out = out.squeeze()\n",
    "            y = data.y.squeeze()\n",
    "            loss = loss_function(out, y)  # Compute the loss.\n",
    "            loss.backward()  # Derive gradients.\n",
    "            optimizer.step()  # Update parameters based on gradients.\n",
    "            optimizer.zero_grad()  # Clear gradients.\n",
    "        print(f'Epoch: {epoch}, Epoch loss {loss.item()}')\n",
    "\n",
    "    print('Training process has finished.')\n",
    "    print('Final loss', loss.item())\n",
    "    \n",
    "    true_labels = []\n",
    "    pred_labels = []\n",
    "    with torch.no_grad():\n",
    "        model.eval()\n",
    "        for i, data in enumerate(test_loader):\n",
    "            data = data.to(device)\n",
    "            out = model(data, data.batch)\n",
    "            pred_labels.extend(torch.round(out.squeeze()).tolist())\n",
    "            true_labels.extend(data.y.tolist())\n",
    "    \n",
    "    results = calculate_accuracy_precision_recall(true_labels, pred_labels)\n",
    "    \n",
    "    print(results)\n",
    "    return results"
   ]
  },
  {
   "cell_type": "code",
   "execution_count": 53,
   "metadata": {},
   "outputs": [
    {
     "name": "stdout",
     "output_type": "stream",
     "text": [
      "GCNGloveClassifier(\n",
      "  (conv1): GCNConv(100, 10)\n",
      "  (linear1): Linear(in_features=10, out_features=1, bias=True)\n",
      "  (sigmoid): Sigmoid()\n",
      ")\n",
      "Epoch: 0, Epoch loss 0.7110423445701599\n",
      "Epoch: 1, Epoch loss 0.6750309467315674\n",
      "Epoch: 2, Epoch loss 0.710344672203064\n",
      "Epoch: 3, Epoch loss 0.6923943161964417\n",
      "Epoch: 4, Epoch loss 0.6854497790336609\n",
      "Epoch: 5, Epoch loss 0.7098901271820068\n",
      "Epoch: 6, Epoch loss 0.6584348678588867\n",
      "Epoch: 7, Epoch loss 0.6835988759994507\n",
      "Epoch: 8, Epoch loss 0.6711421608924866\n",
      "Epoch: 9, Epoch loss 0.6747931241989136\n",
      "Training process has finished.\n",
      "Final loss 0.6747931241989136\n",
      "(0.5212121212121212, 0.5214723926380368, 0.9883720930232558)\n",
      "GCNGloveClassifier(\n",
      "  (conv1): GCNConv(100, 10)\n",
      "  (linear1): Linear(in_features=10, out_features=1, bias=True)\n",
      "  (sigmoid): Sigmoid()\n",
      ")\n",
      "Epoch: 0, Epoch loss 0.7386521697044373\n",
      "Epoch: 1, Epoch loss 0.7363923192024231\n",
      "Epoch: 2, Epoch loss 0.7235344052314758\n",
      "Epoch: 3, Epoch loss 0.7567026615142822\n",
      "Epoch: 4, Epoch loss 0.7256482839584351\n",
      "Epoch: 5, Epoch loss 0.7105830311775208\n",
      "Epoch: 6, Epoch loss 0.7166834473609924\n",
      "Epoch: 7, Epoch loss 0.7340056896209717\n",
      "Epoch: 8, Epoch loss 0.7203004956245422\n",
      "Epoch: 9, Epoch loss 0.6942179203033447\n",
      "Training process has finished.\n",
      "Final loss 0.6942179203033447\n",
      "(0.5696969696969697, 0.8571428571428571, 0.20930232558139536)\n",
      "GCNGloveClassifier(\n",
      "  (conv1): GCNConv(100, 10)\n",
      "  (linear1): Linear(in_features=10, out_features=1, bias=True)\n",
      "  (sigmoid): Sigmoid()\n",
      ")\n",
      "Epoch: 0, Epoch loss 0.7337151765823364\n",
      "Epoch: 1, Epoch loss 0.7225084900856018\n",
      "Epoch: 2, Epoch loss 0.7094288468360901\n",
      "Epoch: 3, Epoch loss 0.7167844772338867\n",
      "Epoch: 4, Epoch loss 0.7186778783798218\n",
      "Epoch: 5, Epoch loss 0.690258800983429\n",
      "Epoch: 6, Epoch loss 0.7162942290306091\n",
      "Epoch: 7, Epoch loss 0.6909591555595398\n",
      "Epoch: 8, Epoch loss 0.6800171732902527\n",
      "Epoch: 9, Epoch loss 0.6907342076301575\n",
      "Training process has finished.\n",
      "Final loss 0.6907342076301575\n",
      "(0.6484848484848484, 0.6296296296296297, 0.7906976744186046)\n",
      "GCNGloveClassifier(\n",
      "  (conv1): GCNConv(100, 10)\n",
      "  (linear1): Linear(in_features=10, out_features=1, bias=True)\n",
      "  (sigmoid): Sigmoid()\n",
      ")\n",
      "Epoch: 0, Epoch loss 0.7539257407188416\n",
      "Epoch: 1, Epoch loss 0.7542737722396851\n",
      "Epoch: 2, Epoch loss 0.7245592474937439\n",
      "Epoch: 3, Epoch loss 0.7315055727958679\n",
      "Epoch: 4, Epoch loss 0.7107177972793579\n",
      "Epoch: 5, Epoch loss 0.7049807906150818\n",
      "Epoch: 6, Epoch loss 0.7133093476295471\n",
      "Epoch: 7, Epoch loss 0.7102071642875671\n",
      "Epoch: 8, Epoch loss 0.6910826563835144\n",
      "Epoch: 9, Epoch loss 0.7227705717086792\n",
      "Training process has finished.\n",
      "Final loss 0.7227705717086792\n",
      "(0.5212121212121212, 0.7058823529411765, 0.13953488372093023)\n",
      "GCNGloveClassifier(\n",
      "  (conv1): GCNConv(100, 10)\n",
      "  (linear1): Linear(in_features=10, out_features=1, bias=True)\n",
      "  (sigmoid): Sigmoid()\n",
      ")\n",
      "Epoch: 0, Epoch loss 0.6535270810127258\n",
      "Epoch: 1, Epoch loss 0.6665920615196228\n",
      "Epoch: 2, Epoch loss 0.6852831244468689\n",
      "Epoch: 3, Epoch loss 0.6808974146842957\n",
      "Epoch: 4, Epoch loss 0.6517788767814636\n",
      "Epoch: 5, Epoch loss 0.6682272553443909\n",
      "Epoch: 6, Epoch loss 0.6675090193748474\n",
      "Epoch: 7, Epoch loss 0.6703618764877319\n",
      "Epoch: 8, Epoch loss 0.6610638499259949\n",
      "Epoch: 9, Epoch loss 0.6902993321418762\n",
      "Training process has finished.\n",
      "Final loss 0.6902993321418762\n",
      "(0.5818181818181818, 0.5594405594405595, 0.9302325581395349)\n",
      "GCNGloveClassifier(\n",
      "  (conv1): GCNConv(100, 10)\n",
      "  (linear1): Linear(in_features=10, out_features=1, bias=True)\n",
      "  (sigmoid): Sigmoid()\n",
      ")\n",
      "Epoch: 0, Epoch loss 0.6327076554298401\n",
      "Epoch: 1, Epoch loss 0.6503599882125854\n",
      "Epoch: 2, Epoch loss 0.6609564423561096\n",
      "Epoch: 3, Epoch loss 0.6487715244293213\n",
      "Epoch: 4, Epoch loss 0.669571042060852\n",
      "Epoch: 5, Epoch loss 0.6451593637466431\n",
      "Epoch: 6, Epoch loss 0.6500327587127686\n",
      "Epoch: 7, Epoch loss 0.6658055186271667\n",
      "Epoch: 8, Epoch loss 0.6463668942451477\n",
      "Epoch: 9, Epoch loss 0.6506685614585876\n",
      "Training process has finished.\n",
      "Final loss 0.6506685614585876\n",
      "(0.5212121212121212, 0.5212121212121212, 1.0)\n",
      "GCNGloveClassifier(\n",
      "  (conv1): GCNConv(100, 10)\n",
      "  (linear1): Linear(in_features=10, out_features=1, bias=True)\n",
      "  (sigmoid): Sigmoid()\n",
      ")\n",
      "Epoch: 0, Epoch loss 0.6898464560508728\n",
      "Epoch: 1, Epoch loss 0.6942265033721924\n",
      "Epoch: 2, Epoch loss 0.6692180037498474\n",
      "Epoch: 3, Epoch loss 0.6731152534484863\n",
      "Epoch: 4, Epoch loss 0.6733999848365784\n",
      "Epoch: 5, Epoch loss 0.6693309545516968\n",
      "Epoch: 6, Epoch loss 0.6836588382720947\n",
      "Epoch: 7, Epoch loss 0.6620413661003113\n",
      "Epoch: 8, Epoch loss 0.6694356799125671\n",
      "Epoch: 9, Epoch loss 0.6767435073852539\n",
      "Training process has finished.\n",
      "Final loss 0.6767435073852539\n",
      "(0.5212121212121212, 0.5212121212121212, 1.0)\n",
      "GCNGloveClassifier(\n",
      "  (conv1): GCNConv(100, 10)\n",
      "  (linear1): Linear(in_features=10, out_features=1, bias=True)\n",
      "  (sigmoid): Sigmoid()\n",
      ")\n",
      "Epoch: 0, Epoch loss 0.7127535343170166\n",
      "Epoch: 1, Epoch loss 0.7012701630592346\n",
      "Epoch: 2, Epoch loss 0.6928198337554932\n",
      "Epoch: 3, Epoch loss 0.6919553875923157\n",
      "Epoch: 4, Epoch loss 0.6833706498146057\n",
      "Epoch: 5, Epoch loss 0.6800808310508728\n",
      "Epoch: 6, Epoch loss 0.6649639010429382\n",
      "Epoch: 7, Epoch loss 0.680748701095581\n",
      "Epoch: 8, Epoch loss 0.6939090490341187\n",
      "Epoch: 9, Epoch loss 0.6663774251937866\n",
      "Training process has finished.\n",
      "Final loss 0.6663774251937866\n",
      "(0.5272727272727272, 0.5273972602739726, 0.8953488372093024)\n",
      "GCNGloveClassifier(\n",
      "  (conv1): GCNConv(100, 10)\n",
      "  (linear1): Linear(in_features=10, out_features=1, bias=True)\n",
      "  (sigmoid): Sigmoid()\n",
      ")\n",
      "Epoch: 0, Epoch loss 0.700792133808136\n",
      "Epoch: 1, Epoch loss 0.7041159272193909\n",
      "Epoch: 2, Epoch loss 0.683256983757019\n",
      "Epoch: 3, Epoch loss 0.6615265011787415\n",
      "Epoch: 4, Epoch loss 0.6833582520484924\n",
      "Epoch: 5, Epoch loss 0.679514467716217\n",
      "Epoch: 6, Epoch loss 0.664492666721344\n",
      "Epoch: 7, Epoch loss 0.6748395562171936\n",
      "Epoch: 8, Epoch loss 0.6737228631973267\n",
      "Epoch: 9, Epoch loss 0.6570833325386047\n",
      "Training process has finished.\n",
      "Final loss 0.6570833325386047\n",
      "(0.5151515151515151, 0.5182926829268293, 0.9883720930232558)\n",
      "GCNGloveClassifier(\n",
      "  (conv1): GCNConv(100, 10)\n",
      "  (linear1): Linear(in_features=10, out_features=1, bias=True)\n",
      "  (sigmoid): Sigmoid()\n",
      ")\n",
      "Epoch: 0, Epoch loss 0.6871722340583801\n",
      "Epoch: 1, Epoch loss 0.7007278203964233\n",
      "Epoch: 2, Epoch loss 0.6831717491149902\n",
      "Epoch: 3, Epoch loss 0.6806144714355469\n",
      "Epoch: 4, Epoch loss 0.6862724423408508\n",
      "Epoch: 5, Epoch loss 0.668228030204773\n",
      "Epoch: 6, Epoch loss 0.678636372089386\n",
      "Epoch: 7, Epoch loss 0.6816415190696716\n",
      "Epoch: 8, Epoch loss 0.6808362603187561\n",
      "Epoch: 9, Epoch loss 0.6755085587501526\n",
      "Training process has finished.\n",
      "Final loss 0.6755085587501526\n",
      "(0.5212121212121212, 0.5212121212121212, 1.0)\n"
     ]
    }
   ],
   "source": [
    "gcn_glove_evaluation_results = []\n",
    "for num in global_random_numbers:\n",
    "    torch.manual_seed(num)\n",
    "    gcn_glove_evaluation_results.append(run_gcn_glove_classifier())"
   ]
  },
  {
   "cell_type": "markdown",
   "metadata": {},
   "source": [
    "## <font color='red'>GloVe + GCNConv results</font>"
   ]
  },
  {
   "cell_type": "code",
   "execution_count": 54,
   "metadata": {},
   "outputs": [
    {
     "name": "stdout",
     "output_type": "stream",
     "text": [
      "Avg accuracy | Avg precision | Avg recall\n",
      "0.5448+-0.0409, 0.5883+-0.1073, 0.7942+-0.3165\n"
     ]
    }
   ],
   "source": [
    "print_evaluation_results(gcn_glove_evaluation_results)"
   ]
  },
  {
   "cell_type": "markdown",
   "metadata": {},
   "source": [
    "## Glove + GraphConv"
   ]
  },
  {
   "cell_type": "code",
   "execution_count": 55,
   "metadata": {},
   "outputs": [],
   "source": [
    "class GraphConvGloveClassifier(torch.nn.Module):\n",
    "    def __init__(self):\n",
    "        super().__init__()\n",
    "        #torch.manual_seed(12345)\n",
    "        \n",
    "        self.conv1 = GraphConv(100, 10, aggr='mean')\n",
    "        self.linear1 = torch.nn.Linear(10, 1)\n",
    "        \n",
    "        self.sigmoid = torch.nn.Sigmoid()\n",
    "\n",
    "    def forward(self, data, batch):\n",
    "        x, edge_index = data.x, data.edge_index\n",
    "        \n",
    "        x = F.elu(self.conv1(x, edge_index))\n",
    "        x = global_mean_pool(x, batch)\n",
    "        x = F.dropout(x, p=0.5, training=self.training)\n",
    "        x = self.linear1(x)\n",
    "        x = self.sigmoid(x)\n",
    "        \n",
    "        return x"
   ]
  },
  {
   "cell_type": "code",
   "execution_count": 56,
   "metadata": {},
   "outputs": [],
   "source": [
    "def run_graphconv_glove_classifier(train_batch_size=300, learning_rate=0.001, num_epoch=10):\n",
    "    train_loader = DataLoader(train_pyg_graphs_glove, batch_size=train_batch_size, shuffle=False)\n",
    "    test_loader = DataLoader(test_pyg_graphs_glove, batch_size=200, shuffle=False)\n",
    "    \n",
    "    model = GraphConvGloveClassifier().to(device)\n",
    "    print(model)\n",
    "    # Define the loss function and optimizer\n",
    "    loss_function = F.binary_cross_entropy\n",
    "    optimizer = torch.optim.Adam(model.parameters(), lr=learning_rate)\n",
    "\n",
    "    model.train()\n",
    "    for epoch in range(0, num_epoch):\n",
    "        for i, data in enumerate(train_loader):  # Iterate in batches over the training dataset.\n",
    "            data = data.to(device)\n",
    "            try:\n",
    "                out = model(data, data.batch)  # Perform a single forward pass.\n",
    "            except Exception as e:\n",
    "                print(data)\n",
    "                print(data.x)\n",
    "                print(data.y)\n",
    "            out = out.squeeze()\n",
    "            y = data.y.squeeze()\n",
    "            loss = loss_function(out, y)  # Compute the loss.\n",
    "            loss.backward()  # Derive gradients.\n",
    "            optimizer.step()  # Update parameters based on gradients.\n",
    "            optimizer.zero_grad()  # Clear gradients.\n",
    "        print(f'Epoch: {epoch}, Epoch loss {loss.item()}')\n",
    "\n",
    "    print('Training process has finished.')\n",
    "    print('Final loss', loss.item())\n",
    "    \n",
    "    true_labels = []\n",
    "    pred_labels = []\n",
    "    with torch.no_grad():\n",
    "        model.eval()\n",
    "        for i, data in enumerate(test_loader):\n",
    "            data = data.to(device)\n",
    "            out = model(data, data.batch)\n",
    "            pred_labels.extend(torch.round(out.squeeze()).tolist())\n",
    "            true_labels.extend(data.y.tolist())\n",
    "    \n",
    "    results = calculate_accuracy_precision_recall(true_labels, pred_labels)\n",
    "    \n",
    "    print(results)\n",
    "    return results"
   ]
  },
  {
   "cell_type": "code",
   "execution_count": 57,
   "metadata": {},
   "outputs": [
    {
     "name": "stdout",
     "output_type": "stream",
     "text": [
      "GraphConvGloveClassifier(\n",
      "  (conv1): GraphConv(100, 10)\n",
      "  (linear1): Linear(in_features=10, out_features=1, bias=True)\n",
      "  (sigmoid): Sigmoid()\n",
      ")\n",
      "Epoch: 0, Epoch loss 0.6938874125480652\n",
      "Epoch: 1, Epoch loss 0.6805741190910339\n",
      "Epoch: 2, Epoch loss 0.6781912446022034\n",
      "Epoch: 3, Epoch loss 0.6719853281974792\n",
      "Epoch: 4, Epoch loss 0.6767652034759521\n",
      "Epoch: 5, Epoch loss 0.674044668674469\n",
      "Epoch: 6, Epoch loss 0.6697530746459961\n",
      "Epoch: 7, Epoch loss 0.6700302958488464\n",
      "Epoch: 8, Epoch loss 0.671784520149231\n",
      "Epoch: 9, Epoch loss 0.6636092066764832\n",
      "Training process has finished.\n",
      "Final loss 0.6636092066764832\n",
      "(0.5212121212121212, 0.5212121212121212, 1.0)\n",
      "GraphConvGloveClassifier(\n",
      "  (conv1): GraphConv(100, 10)\n",
      "  (linear1): Linear(in_features=10, out_features=1, bias=True)\n",
      "  (sigmoid): Sigmoid()\n",
      ")\n",
      "Epoch: 0, Epoch loss 0.7419402599334717\n",
      "Epoch: 1, Epoch loss 0.7406289577484131\n",
      "Epoch: 2, Epoch loss 0.7237693667411804\n",
      "Epoch: 3, Epoch loss 0.7362897396087646\n",
      "Epoch: 4, Epoch loss 0.6971267461776733\n",
      "Epoch: 5, Epoch loss 0.7106824517250061\n",
      "Epoch: 6, Epoch loss 0.6931083798408508\n",
      "Epoch: 7, Epoch loss 0.6966257691383362\n",
      "Epoch: 8, Epoch loss 0.6792949438095093\n",
      "Epoch: 9, Epoch loss 0.6753187775611877\n",
      "Training process has finished.\n",
      "Final loss 0.6753187775611877\n",
      "(0.6060606060606061, 0.591304347826087, 0.7906976744186046)\n",
      "GraphConvGloveClassifier(\n",
      "  (conv1): GraphConv(100, 10)\n",
      "  (linear1): Linear(in_features=10, out_features=1, bias=True)\n",
      "  (sigmoid): Sigmoid()\n",
      ")\n",
      "Epoch: 0, Epoch loss 0.6803489327430725\n",
      "Epoch: 1, Epoch loss 0.6963468194007874\n",
      "Epoch: 2, Epoch loss 0.6748905181884766\n",
      "Epoch: 3, Epoch loss 0.6728965640068054\n",
      "Epoch: 4, Epoch loss 0.676706075668335\n",
      "Epoch: 5, Epoch loss 0.6632490158081055\n",
      "Epoch: 6, Epoch loss 0.664326548576355\n",
      "Epoch: 7, Epoch loss 0.6604666709899902\n",
      "Epoch: 8, Epoch loss 0.658344566822052\n",
      "Epoch: 9, Epoch loss 0.6583210825920105\n",
      "Training process has finished.\n",
      "Final loss 0.6583210825920105\n",
      "(0.5212121212121212, 0.5212121212121212, 1.0)\n",
      "GraphConvGloveClassifier(\n",
      "  (conv1): GraphConv(100, 10)\n",
      "  (linear1): Linear(in_features=10, out_features=1, bias=True)\n",
      "  (sigmoid): Sigmoid()\n",
      ")\n",
      "Epoch: 0, Epoch loss 0.7657234072685242\n",
      "Epoch: 1, Epoch loss 0.7486334443092346\n",
      "Epoch: 2, Epoch loss 0.7295400500297546\n",
      "Epoch: 3, Epoch loss 0.7291618585586548\n",
      "Epoch: 4, Epoch loss 0.6884588003158569\n",
      "Epoch: 5, Epoch loss 0.6988176703453064\n",
      "Epoch: 6, Epoch loss 0.7083480954170227\n",
      "Epoch: 7, Epoch loss 0.6945310831069946\n",
      "Epoch: 8, Epoch loss 0.6772804260253906\n",
      "Epoch: 9, Epoch loss 0.6820936799049377\n",
      "Training process has finished.\n",
      "Final loss 0.6820936799049377\n",
      "(0.6303030303030303, 0.6106194690265486, 0.8023255813953488)\n",
      "GraphConvGloveClassifier(\n",
      "  (conv1): GraphConv(100, 10)\n",
      "  (linear1): Linear(in_features=10, out_features=1, bias=True)\n",
      "  (sigmoid): Sigmoid()\n",
      ")\n",
      "Epoch: 0, Epoch loss 0.6844046711921692\n",
      "Epoch: 1, Epoch loss 0.6668516993522644\n",
      "Epoch: 2, Epoch loss 0.6534506678581238\n",
      "Epoch: 3, Epoch loss 0.6677361726760864\n",
      "Epoch: 4, Epoch loss 0.653377890586853\n",
      "Epoch: 5, Epoch loss 0.6616656184196472\n",
      "Epoch: 6, Epoch loss 0.661873996257782\n",
      "Epoch: 7, Epoch loss 0.6554585099220276\n",
      "Epoch: 8, Epoch loss 0.643635094165802\n",
      "Epoch: 9, Epoch loss 0.6629951596260071\n",
      "Training process has finished.\n",
      "Final loss 0.6629951596260071\n",
      "(0.5272727272727272, 0.524390243902439, 1.0)\n",
      "GraphConvGloveClassifier(\n",
      "  (conv1): GraphConv(100, 10)\n",
      "  (linear1): Linear(in_features=10, out_features=1, bias=True)\n",
      "  (sigmoid): Sigmoid()\n",
      ")\n",
      "Epoch: 0, Epoch loss 0.6970254182815552\n",
      "Epoch: 1, Epoch loss 0.6917702555656433\n",
      "Epoch: 2, Epoch loss 0.6809919476509094\n",
      "Epoch: 3, Epoch loss 0.6801626682281494\n",
      "Epoch: 4, Epoch loss 0.6736683249473572\n",
      "Epoch: 5, Epoch loss 0.664873480796814\n",
      "Epoch: 6, Epoch loss 0.6623277068138123\n",
      "Epoch: 7, Epoch loss 0.6560880541801453\n",
      "Epoch: 8, Epoch loss 0.6659384369850159\n",
      "Epoch: 9, Epoch loss 0.6814373731613159\n",
      "Training process has finished.\n",
      "Final loss 0.6814373731613159\n",
      "(0.5212121212121212, 0.5212121212121212, 1.0)\n",
      "GraphConvGloveClassifier(\n",
      "  (conv1): GraphConv(100, 10)\n",
      "  (linear1): Linear(in_features=10, out_features=1, bias=True)\n",
      "  (sigmoid): Sigmoid()\n",
      ")\n",
      "Epoch: 0, Epoch loss 0.7244612574577332\n",
      "Epoch: 1, Epoch loss 0.7036357522010803\n",
      "Epoch: 2, Epoch loss 0.708308756351471\n",
      "Epoch: 3, Epoch loss 0.6999889016151428\n",
      "Epoch: 4, Epoch loss 0.7022498846054077\n",
      "Epoch: 5, Epoch loss 0.6926036477088928\n",
      "Epoch: 6, Epoch loss 0.6751108765602112\n",
      "Epoch: 7, Epoch loss 0.6852631568908691\n",
      "Epoch: 8, Epoch loss 0.6697453260421753\n",
      "Epoch: 9, Epoch loss 0.6637996435165405\n",
      "Training process has finished.\n",
      "Final loss 0.6637996435165405\n",
      "(0.6545454545454545, 0.6198347107438017, 0.872093023255814)\n",
      "GraphConvGloveClassifier(\n",
      "  (conv1): GraphConv(100, 10)\n",
      "  (linear1): Linear(in_features=10, out_features=1, bias=True)\n",
      "  (sigmoid): Sigmoid()\n",
      ")\n",
      "Epoch: 0, Epoch loss 0.6856725215911865\n",
      "Epoch: 1, Epoch loss 0.6871894001960754\n",
      "Epoch: 2, Epoch loss 0.6829201579093933\n",
      "Epoch: 3, Epoch loss 0.6666569113731384\n",
      "Epoch: 4, Epoch loss 0.6753250956535339\n",
      "Epoch: 5, Epoch loss 0.6659020781517029\n",
      "Epoch: 6, Epoch loss 0.6467786431312561\n",
      "Epoch: 7, Epoch loss 0.6590871810913086\n",
      "Epoch: 8, Epoch loss 0.6566435098648071\n",
      "Epoch: 9, Epoch loss 0.6521360874176025\n",
      "Training process has finished.\n",
      "Final loss 0.6521360874176025\n",
      "(0.5212121212121212, 0.5212121212121212, 1.0)\n",
      "GraphConvGloveClassifier(\n",
      "  (conv1): GraphConv(100, 10)\n",
      "  (linear1): Linear(in_features=10, out_features=1, bias=True)\n",
      "  (sigmoid): Sigmoid()\n",
      ")\n",
      "Epoch: 0, Epoch loss 0.7079898715019226\n",
      "Epoch: 1, Epoch loss 0.6988134384155273\n",
      "Epoch: 2, Epoch loss 0.6805477738380432\n",
      "Epoch: 3, Epoch loss 0.674952507019043\n",
      "Epoch: 4, Epoch loss 0.690611720085144\n",
      "Epoch: 5, Epoch loss 0.6880642175674438\n",
      "Epoch: 6, Epoch loss 0.6654067039489746\n",
      "Epoch: 7, Epoch loss 0.6686041951179504\n",
      "Epoch: 8, Epoch loss 0.6653422713279724\n",
      "Epoch: 9, Epoch loss 0.6579037308692932\n",
      "Training process has finished.\n",
      "Final loss 0.6579037308692932\n",
      "(0.5272727272727272, 0.524390243902439, 1.0)\n",
      "GraphConvGloveClassifier(\n",
      "  (conv1): GraphConv(100, 10)\n",
      "  (linear1): Linear(in_features=10, out_features=1, bias=True)\n",
      "  (sigmoid): Sigmoid()\n",
      ")\n",
      "Epoch: 0, Epoch loss 0.707779049873352\n",
      "Epoch: 1, Epoch loss 0.6879627704620361\n",
      "Epoch: 2, Epoch loss 0.6901546120643616\n",
      "Epoch: 3, Epoch loss 0.6826598644256592\n",
      "Epoch: 4, Epoch loss 0.7049884796142578\n",
      "Epoch: 5, Epoch loss 0.6689550876617432\n",
      "Epoch: 6, Epoch loss 0.6702117323875427\n",
      "Epoch: 7, Epoch loss 0.6831855177879333\n",
      "Epoch: 8, Epoch loss 0.6594883799552917\n",
      "Epoch: 9, Epoch loss 0.6834118366241455\n",
      "Training process has finished.\n",
      "Final loss 0.6834118366241455\n",
      "(0.5212121212121212, 0.5212121212121212, 1.0)\n"
     ]
    }
   ],
   "source": [
    "graphconv_glove_evaluation_results = []\n",
    "for num in global_random_numbers:\n",
    "    torch.manual_seed(num)\n",
    "    graphconv_glove_evaluation_results.append(run_graphconv_glove_classifier())"
   ]
  },
  {
   "cell_type": "markdown",
   "metadata": {},
   "source": [
    "## <font color='red'>GloVe + GraphConv results</font>"
   ]
  },
  {
   "cell_type": "code",
   "execution_count": 58,
   "metadata": {},
   "outputs": [
    {
     "name": "stdout",
     "output_type": "stream",
     "text": [
      "Avg accuracy | Avg precision | Avg recall\n",
      "0.5552+-0.0504, 0.5477+-0.0396, 0.9465+-0.0840\n"
     ]
    }
   ],
   "source": [
    "print_evaluation_results(graphconv_glove_evaluation_results)"
   ]
  },
  {
   "cell_type": "markdown",
   "metadata": {},
   "source": [
    "## Glove + SAGEConv"
   ]
  },
  {
   "cell_type": "code",
   "execution_count": 59,
   "metadata": {},
   "outputs": [],
   "source": [
    "class SAGEConvGloveClassifier(torch.nn.Module):\n",
    "    def __init__(self):\n",
    "        super().__init__()\n",
    "        #torch.manual_seed(12345)\n",
    "        \n",
    "        self.conv1 = SAGEConv(100, 10)\n",
    "        self.linear1 = torch.nn.Linear(10, 1)\n",
    "        \n",
    "        self.sigmoid = torch.nn.Sigmoid()\n",
    "\n",
    "    def forward(self, data, batch):\n",
    "        x, edge_index = data.x, data.edge_index\n",
    "        \n",
    "        x = F.elu(self.conv1(x, edge_index))\n",
    "        x = global_mean_pool(x, batch)\n",
    "        x = F.dropout(x, p=0.5, training=self.training)\n",
    "        x = self.linear1(x)\n",
    "        x = self.sigmoid(x)\n",
    "        \n",
    "        return x"
   ]
  },
  {
   "cell_type": "code",
   "execution_count": 60,
   "metadata": {},
   "outputs": [],
   "source": [
    "def run_sageconv_glove_classifier(train_batch_size=300, learning_rate=0.001, num_epoch=10):\n",
    "    train_loader = DataLoader(train_pyg_graphs_glove, batch_size=train_batch_size, shuffle=False)\n",
    "    test_loader = DataLoader(test_pyg_graphs_glove, batch_size=200, shuffle=False)\n",
    "    \n",
    "    model = SAGEConvGloveClassifier().to(device)\n",
    "    print(model)\n",
    "    # Define the loss function and optimizer\n",
    "    loss_function = F.binary_cross_entropy\n",
    "    optimizer = torch.optim.Adam(model.parameters(), lr=learning_rate)\n",
    "\n",
    "    model.train()\n",
    "    for epoch in range(0, num_epoch):\n",
    "        for i, data in enumerate(train_loader):  # Iterate in batches over the training dataset.\n",
    "            data = data.to(device)\n",
    "            try:\n",
    "                out = model(data, data.batch)  # Perform a single forward pass.\n",
    "            except Exception as e:\n",
    "                print(data)\n",
    "                print(data.x)\n",
    "                print(data.y)\n",
    "            out = out.squeeze()\n",
    "            y = data.y.squeeze()\n",
    "            loss = loss_function(out, y)  # Compute the loss.\n",
    "            loss.backward()  # Derive gradients.\n",
    "            optimizer.step()  # Update parameters based on gradients.\n",
    "            optimizer.zero_grad()  # Clear gradients.\n",
    "        print(f'Epoch: {epoch}, Epoch loss {loss.item()}')\n",
    "\n",
    "    print('Training process has finished.')\n",
    "    print('Final loss', loss.item())\n",
    "    \n",
    "    true_labels = []\n",
    "    pred_labels = []\n",
    "    with torch.no_grad():\n",
    "        model.eval()\n",
    "        for i, data in enumerate(test_loader):\n",
    "            data = data.to(device)\n",
    "            out = model(data, data.batch)\n",
    "            pred_labels.extend(torch.round(out.squeeze()).tolist())\n",
    "            true_labels.extend(data.y.tolist())\n",
    "    \n",
    "    results = calculate_accuracy_precision_recall(true_labels, pred_labels)\n",
    "    \n",
    "    print(results)\n",
    "    return results"
   ]
  },
  {
   "cell_type": "code",
   "execution_count": 61,
   "metadata": {},
   "outputs": [
    {
     "name": "stdout",
     "output_type": "stream",
     "text": [
      "SAGEConvGloveClassifier(\n",
      "  (conv1): SAGEConv(100, 10)\n",
      "  (linear1): Linear(in_features=10, out_features=1, bias=True)\n",
      "  (sigmoid): Sigmoid()\n",
      ")\n",
      "Epoch: 0, Epoch loss 0.6938874125480652\n",
      "Epoch: 1, Epoch loss 0.6805741190910339\n",
      "Epoch: 2, Epoch loss 0.6781912446022034\n",
      "Epoch: 3, Epoch loss 0.6719853281974792\n",
      "Epoch: 4, Epoch loss 0.6767652034759521\n",
      "Epoch: 5, Epoch loss 0.674044668674469\n",
      "Epoch: 6, Epoch loss 0.6697530746459961\n",
      "Epoch: 7, Epoch loss 0.6700302958488464\n",
      "Epoch: 8, Epoch loss 0.671784520149231\n",
      "Epoch: 9, Epoch loss 0.6636092066764832\n",
      "Training process has finished.\n",
      "Final loss 0.6636092066764832\n",
      "(0.5212121212121212, 0.5212121212121212, 1.0)\n",
      "SAGEConvGloveClassifier(\n",
      "  (conv1): SAGEConv(100, 10)\n",
      "  (linear1): Linear(in_features=10, out_features=1, bias=True)\n",
      "  (sigmoid): Sigmoid()\n",
      ")\n",
      "Epoch: 0, Epoch loss 0.7419402599334717\n",
      "Epoch: 1, Epoch loss 0.7406289577484131\n",
      "Epoch: 2, Epoch loss 0.7237693667411804\n",
      "Epoch: 3, Epoch loss 0.7362897396087646\n",
      "Epoch: 4, Epoch loss 0.6971267461776733\n",
      "Epoch: 5, Epoch loss 0.7106824517250061\n",
      "Epoch: 6, Epoch loss 0.6931083798408508\n",
      "Epoch: 7, Epoch loss 0.6966257691383362\n",
      "Epoch: 8, Epoch loss 0.6792949438095093\n",
      "Epoch: 9, Epoch loss 0.6753187775611877\n",
      "Training process has finished.\n",
      "Final loss 0.6753187775611877\n",
      "(0.6060606060606061, 0.591304347826087, 0.7906976744186046)\n",
      "SAGEConvGloveClassifier(\n",
      "  (conv1): SAGEConv(100, 10)\n",
      "  (linear1): Linear(in_features=10, out_features=1, bias=True)\n",
      "  (sigmoid): Sigmoid()\n",
      ")\n",
      "Epoch: 0, Epoch loss 0.6803489327430725\n",
      "Epoch: 1, Epoch loss 0.6963467597961426\n",
      "Epoch: 2, Epoch loss 0.6748905181884766\n",
      "Epoch: 3, Epoch loss 0.6728965640068054\n",
      "Epoch: 4, Epoch loss 0.676706075668335\n",
      "Epoch: 5, Epoch loss 0.6632490158081055\n",
      "Epoch: 6, Epoch loss 0.664326548576355\n",
      "Epoch: 7, Epoch loss 0.6604665517807007\n",
      "Epoch: 8, Epoch loss 0.658344566822052\n",
      "Epoch: 9, Epoch loss 0.6583210825920105\n",
      "Training process has finished.\n",
      "Final loss 0.6583210825920105\n",
      "(0.5212121212121212, 0.5212121212121212, 1.0)\n",
      "SAGEConvGloveClassifier(\n",
      "  (conv1): SAGEConv(100, 10)\n",
      "  (linear1): Linear(in_features=10, out_features=1, bias=True)\n",
      "  (sigmoid): Sigmoid()\n",
      ")\n",
      "Epoch: 0, Epoch loss 0.765723466873169\n",
      "Epoch: 1, Epoch loss 0.7486334443092346\n",
      "Epoch: 2, Epoch loss 0.7295399904251099\n",
      "Epoch: 3, Epoch loss 0.7291618585586548\n",
      "Epoch: 4, Epoch loss 0.6884588003158569\n",
      "Epoch: 5, Epoch loss 0.6988176703453064\n",
      "Epoch: 6, Epoch loss 0.7083480954170227\n",
      "Epoch: 7, Epoch loss 0.6945310831069946\n",
      "Epoch: 8, Epoch loss 0.6772804260253906\n",
      "Epoch: 9, Epoch loss 0.6820936799049377\n",
      "Training process has finished.\n",
      "Final loss 0.6820936799049377\n",
      "(0.6303030303030303, 0.6106194690265486, 0.8023255813953488)\n",
      "SAGEConvGloveClassifier(\n",
      "  (conv1): SAGEConv(100, 10)\n",
      "  (linear1): Linear(in_features=10, out_features=1, bias=True)\n",
      "  (sigmoid): Sigmoid()\n",
      ")\n",
      "Epoch: 0, Epoch loss 0.6844046711921692\n",
      "Epoch: 1, Epoch loss 0.6668516993522644\n",
      "Epoch: 2, Epoch loss 0.6534506678581238\n",
      "Epoch: 3, Epoch loss 0.6677361726760864\n",
      "Epoch: 4, Epoch loss 0.653377890586853\n",
      "Epoch: 5, Epoch loss 0.6616656184196472\n",
      "Epoch: 6, Epoch loss 0.661873996257782\n",
      "Epoch: 7, Epoch loss 0.6554585099220276\n",
      "Epoch: 8, Epoch loss 0.6436351537704468\n",
      "Epoch: 9, Epoch loss 0.6629951596260071\n",
      "Training process has finished.\n",
      "Final loss 0.6629951596260071\n",
      "(0.5272727272727272, 0.524390243902439, 1.0)\n",
      "SAGEConvGloveClassifier(\n",
      "  (conv1): SAGEConv(100, 10)\n",
      "  (linear1): Linear(in_features=10, out_features=1, bias=True)\n",
      "  (sigmoid): Sigmoid()\n",
      ")\n",
      "Epoch: 0, Epoch loss 0.6970254182815552\n",
      "Epoch: 1, Epoch loss 0.6917702555656433\n",
      "Epoch: 2, Epoch loss 0.6809919476509094\n",
      "Epoch: 3, Epoch loss 0.6801626682281494\n",
      "Epoch: 4, Epoch loss 0.6736683249473572\n",
      "Epoch: 5, Epoch loss 0.664873480796814\n",
      "Epoch: 6, Epoch loss 0.6623277068138123\n",
      "Epoch: 7, Epoch loss 0.6560880541801453\n",
      "Epoch: 8, Epoch loss 0.6659384369850159\n",
      "Epoch: 9, Epoch loss 0.6814373731613159\n",
      "Training process has finished.\n",
      "Final loss 0.6814373731613159\n",
      "(0.5212121212121212, 0.5212121212121212, 1.0)\n",
      "SAGEConvGloveClassifier(\n",
      "  (conv1): SAGEConv(100, 10)\n",
      "  (linear1): Linear(in_features=10, out_features=1, bias=True)\n",
      "  (sigmoid): Sigmoid()\n",
      ")\n",
      "Epoch: 0, Epoch loss 0.7244612574577332\n",
      "Epoch: 1, Epoch loss 0.7036357522010803\n",
      "Epoch: 2, Epoch loss 0.708308756351471\n",
      "Epoch: 3, Epoch loss 0.6999889016151428\n",
      "Epoch: 4, Epoch loss 0.7022498846054077\n",
      "Epoch: 5, Epoch loss 0.6926036477088928\n",
      "Epoch: 6, Epoch loss 0.6751108169555664\n",
      "Epoch: 7, Epoch loss 0.6852631568908691\n",
      "Epoch: 8, Epoch loss 0.6697453260421753\n",
      "Epoch: 9, Epoch loss 0.6637996435165405\n",
      "Training process has finished.\n",
      "Final loss 0.6637996435165405\n",
      "(0.6545454545454545, 0.6198347107438017, 0.872093023255814)\n",
      "SAGEConvGloveClassifier(\n",
      "  (conv1): SAGEConv(100, 10)\n",
      "  (linear1): Linear(in_features=10, out_features=1, bias=True)\n",
      "  (sigmoid): Sigmoid()\n",
      ")\n",
      "Epoch: 0, Epoch loss 0.6856725215911865\n",
      "Epoch: 1, Epoch loss 0.6871894001960754\n",
      "Epoch: 2, Epoch loss 0.6829201579093933\n",
      "Epoch: 3, Epoch loss 0.6666569113731384\n",
      "Epoch: 4, Epoch loss 0.6753251552581787\n",
      "Epoch: 5, Epoch loss 0.6659020781517029\n",
      "Epoch: 6, Epoch loss 0.6467786431312561\n",
      "Epoch: 7, Epoch loss 0.6590872406959534\n",
      "Epoch: 8, Epoch loss 0.6566435098648071\n",
      "Epoch: 9, Epoch loss 0.6521360874176025\n",
      "Training process has finished.\n",
      "Final loss 0.6521360874176025\n",
      "(0.5212121212121212, 0.5212121212121212, 1.0)\n",
      "SAGEConvGloveClassifier(\n",
      "  (conv1): SAGEConv(100, 10)\n",
      "  (linear1): Linear(in_features=10, out_features=1, bias=True)\n",
      "  (sigmoid): Sigmoid()\n",
      ")\n",
      "Epoch: 0, Epoch loss 0.7079898715019226\n",
      "Epoch: 1, Epoch loss 0.6988134384155273\n",
      "Epoch: 2, Epoch loss 0.6805477738380432\n",
      "Epoch: 3, Epoch loss 0.674952507019043\n",
      "Epoch: 4, Epoch loss 0.690611720085144\n",
      "Epoch: 5, Epoch loss 0.6880642175674438\n",
      "Epoch: 6, Epoch loss 0.6654066443443298\n",
      "Epoch: 7, Epoch loss 0.6686041951179504\n",
      "Epoch: 8, Epoch loss 0.6653422713279724\n",
      "Epoch: 9, Epoch loss 0.6579037308692932\n",
      "Training process has finished.\n",
      "Final loss 0.6579037308692932\n",
      "(0.5272727272727272, 0.524390243902439, 1.0)\n",
      "SAGEConvGloveClassifier(\n",
      "  (conv1): SAGEConv(100, 10)\n",
      "  (linear1): Linear(in_features=10, out_features=1, bias=True)\n",
      "  (sigmoid): Sigmoid()\n",
      ")\n",
      "Epoch: 0, Epoch loss 0.707779049873352\n",
      "Epoch: 1, Epoch loss 0.6879627704620361\n",
      "Epoch: 2, Epoch loss 0.6901546120643616\n",
      "Epoch: 3, Epoch loss 0.6826598644256592\n",
      "Epoch: 4, Epoch loss 0.7049884796142578\n",
      "Epoch: 5, Epoch loss 0.6689550876617432\n",
      "Epoch: 6, Epoch loss 0.6702117323875427\n",
      "Epoch: 7, Epoch loss 0.6831855177879333\n",
      "Epoch: 8, Epoch loss 0.6594883799552917\n",
      "Epoch: 9, Epoch loss 0.6834118366241455\n",
      "Training process has finished.\n",
      "Final loss 0.6834118366241455\n",
      "(0.5212121212121212, 0.5212121212121212, 1.0)\n"
     ]
    }
   ],
   "source": [
    "sageconv_glove_evaluation_results = []\n",
    "for num in global_random_numbers:\n",
    "    torch.manual_seed(num)\n",
    "    sageconv_glove_evaluation_results.append(run_sageconv_glove_classifier())"
   ]
  },
  {
   "cell_type": "markdown",
   "metadata": {},
   "source": [
    "## <font color='red'>GloVe + SAGEConv results</font>"
   ]
  },
  {
   "cell_type": "code",
   "execution_count": 62,
   "metadata": {},
   "outputs": [
    {
     "name": "stdout",
     "output_type": "stream",
     "text": [
      "Avg accuracy | Avg precision | Avg recall\n",
      "0.5552+-0.0504, 0.5477+-0.0396, 0.9465+-0.0840\n"
     ]
    }
   ],
   "source": [
    "print_evaluation_results(sageconv_glove_evaluation_results)"
   ]
  },
  {
   "cell_type": "markdown",
   "metadata": {},
   "source": [
    "# Parameter Sensitivity"
   ]
  },
  {
   "cell_type": "markdown",
   "metadata": {},
   "source": [
    "## Sliding window"
   ]
  },
  {
   "cell_type": "code",
   "execution_count": 63,
   "metadata": {},
   "outputs": [],
   "source": [
    "def run_sliding_window_experiments():\n",
    "    sliding_windows = [2, 3, 4, 6, 7, 10]\n",
    "    \n",
    "    sliding_window_results = []\n",
    "    for sw in sliding_windows:\n",
    "        print('Window size:', sw)\n",
    "        pytorch_geometric_graphs = generate_pytorch_geometric_graphs(window_size=sw)\n",
    "        train_pyg_graphs, test_pyg_graphs = train_test_split(pytorch_geometric_graphs, test_size=0.33, random_state=42)\n",
    "        sliding_window_results.append((sw, run_gat_classifier(train_pyg_graphs, test_pyg_graphs)))\n",
    "    return sliding_window_results"
   ]
  },
  {
   "cell_type": "code",
   "execution_count": 64,
   "metadata": {
    "scrolled": false
   },
   "outputs": [
    {
     "name": "stderr",
     "output_type": "stream",
     "text": [
      "\r",
      "  0%|                                                                                                                                               | 0/500 [00:00<?, ?it/s]"
     ]
    },
    {
     "name": "stdout",
     "output_type": "stream",
     "text": [
      "Window size: 2\n"
     ]
    },
    {
     "name": "stderr",
     "output_type": "stream",
     "text": [
      "100%|████████████████████████████████████████████████████████████████████████████████████████████████████████████████████████████████████| 500/500 [00:00<00:00, 698.33it/s]\n"
     ]
    },
    {
     "name": "stdout",
     "output_type": "stream",
     "text": [
      "finished...\n",
      "GATClassifier(\n",
      "  (conv1): GATConv(100, 10, heads=3)\n",
      "  (linear1): Linear(in_features=30, out_features=1, bias=True)\n",
      "  (sigmoid): Sigmoid()\n",
      ")\n",
      "Epoch: 0, Epoch loss 0.6814642548561096\n",
      "Epoch: 1, Epoch loss 0.6811814904212952\n",
      "Epoch: 2, Epoch loss 0.6810885667800903\n",
      "Epoch: 3, Epoch loss 0.6808554530143738\n",
      "Epoch: 4, Epoch loss 0.6807947754859924\n",
      "Epoch: 5, Epoch loss 0.6806599497795105\n",
      "Epoch: 6, Epoch loss 0.6806857585906982\n",
      "Epoch: 7, Epoch loss 0.6801425814628601\n",
      "Epoch: 8, Epoch loss 0.6797077059745789\n"
     ]
    },
    {
     "name": "stderr",
     "output_type": "stream",
     "text": [
      " 14%|██████████████████▎                                                                                                                  | 69/500 [00:00<00:00, 683.16it/s]"
     ]
    },
    {
     "name": "stdout",
     "output_type": "stream",
     "text": [
      "Epoch: 9, Epoch loss 0.6800708174705505\n",
      "Training process has finished.\n",
      "Final loss 0.6800708174705505\n",
      "(0.5212121212121212, 0.5212121212121212, 1.0)\n",
      "Window size: 3\n"
     ]
    },
    {
     "name": "stderr",
     "output_type": "stream",
     "text": [
      "100%|████████████████████████████████████████████████████████████████████████████████████████████████████████████████████████████████████| 500/500 [00:00<00:00, 580.05it/s]\n"
     ]
    },
    {
     "name": "stdout",
     "output_type": "stream",
     "text": [
      "finished...\n",
      "GATClassifier(\n",
      "  (conv1): GATConv(100, 10, heads=3)\n",
      "  (linear1): Linear(in_features=30, out_features=1, bias=True)\n",
      "  (sigmoid): Sigmoid()\n",
      ")\n",
      "Epoch: 0, Epoch loss 0.6866601705551147\n",
      "Epoch: 1, Epoch loss 0.6863527894020081\n",
      "Epoch: 2, Epoch loss 0.6860342025756836\n",
      "Epoch: 3, Epoch loss 0.6851943135261536\n",
      "Epoch: 4, Epoch loss 0.6855088472366333\n",
      "Epoch: 5, Epoch loss 0.6847372651100159\n",
      "Epoch: 6, Epoch loss 0.6845728158950806\n",
      "Epoch: 7, Epoch loss 0.6842480301856995\n",
      "Epoch: 8, Epoch loss 0.683837890625\n",
      "Epoch: 9, Epoch loss 0.6839963793754578\n",
      "Training process has finished.\n",
      "Final loss 0.6839963793754578\n"
     ]
    },
    {
     "name": "stderr",
     "output_type": "stream",
     "text": [
      " 11%|██████████████▋                                                                                                                      | 55/500 [00:00<00:00, 544.40it/s]"
     ]
    },
    {
     "name": "stdout",
     "output_type": "stream",
     "text": [
      "(0.5212121212121212, 0.5212121212121212, 1.0)\n",
      "Window size: 4\n"
     ]
    },
    {
     "name": "stderr",
     "output_type": "stream",
     "text": [
      "100%|████████████████████████████████████████████████████████████████████████████████████████████████████████████████████████████████████| 500/500 [00:01<00:00, 481.69it/s]\n"
     ]
    },
    {
     "name": "stdout",
     "output_type": "stream",
     "text": [
      "finished...\n",
      "GATClassifier(\n",
      "  (conv1): GATConv(100, 10, heads=3)\n",
      "  (linear1): Linear(in_features=30, out_features=1, bias=True)\n",
      "  (sigmoid): Sigmoid()\n",
      ")\n",
      "Epoch: 0, Epoch loss 0.689089834690094\n",
      "Epoch: 1, Epoch loss 0.6887942552566528\n",
      "Epoch: 2, Epoch loss 0.6881794333457947\n",
      "Epoch: 3, Epoch loss 0.6881212592124939\n",
      "Epoch: 4, Epoch loss 0.687069296836853\n",
      "Epoch: 5, Epoch loss 0.6874157786369324\n",
      "Epoch: 6, Epoch loss 0.6870177388191223\n",
      "Epoch: 7, Epoch loss 0.6863190531730652\n",
      "Epoch: 8, Epoch loss 0.6862326264381409\n",
      "Epoch: 9, Epoch loss 0.6863359808921814\n",
      "Training process has finished.\n",
      "Final loss 0.6863359808921814\n"
     ]
    },
    {
     "name": "stderr",
     "output_type": "stream",
     "text": [
      " 10%|████████████▊                                                                                                                        | 48/500 [00:00<00:00, 466.03it/s]"
     ]
    },
    {
     "name": "stdout",
     "output_type": "stream",
     "text": [
      "(0.5212121212121212, 0.5212121212121212, 1.0)\n",
      "Window size: 6\n"
     ]
    },
    {
     "name": "stderr",
     "output_type": "stream",
     "text": [
      "100%|████████████████████████████████████████████████████████████████████████████████████████████████████████████████████████████████████| 500/500 [00:01<00:00, 393.38it/s]\n"
     ]
    },
    {
     "name": "stdout",
     "output_type": "stream",
     "text": [
      "finished...\n",
      "GATClassifier(\n",
      "  (conv1): GATConv(100, 10, heads=3)\n",
      "  (linear1): Linear(in_features=30, out_features=1, bias=True)\n",
      "  (sigmoid): Sigmoid()\n",
      ")\n",
      "Epoch: 0, Epoch loss 0.6967094540596008\n",
      "Epoch: 1, Epoch loss 0.6959187984466553\n",
      "Epoch: 2, Epoch loss 0.6952944397926331\n",
      "Epoch: 3, Epoch loss 0.6948993802070618\n",
      "Epoch: 4, Epoch loss 0.6942365169525146\n",
      "Epoch: 5, Epoch loss 0.6937403678894043\n",
      "Epoch: 6, Epoch loss 0.6921891570091248\n",
      "Epoch: 7, Epoch loss 0.6931864619255066\n",
      "Epoch: 8, Epoch loss 0.6915323138237\n",
      "Epoch: 9, Epoch loss 0.6900265216827393\n",
      "Training process has finished.\n",
      "Final loss 0.6900265216827393\n"
     ]
    },
    {
     "name": "stderr",
     "output_type": "stream",
     "text": [
      "  6%|███████▍                                                                                                                             | 28/500 [00:00<00:01, 277.74it/s]"
     ]
    },
    {
     "name": "stdout",
     "output_type": "stream",
     "text": [
      "(0.5212121212121212, 0.5212121212121212, 1.0)\n",
      "Window size: 7\n"
     ]
    },
    {
     "name": "stderr",
     "output_type": "stream",
     "text": [
      "100%|████████████████████████████████████████████████████████████████████████████████████████████████████████████████████████████████████| 500/500 [00:01<00:00, 286.07it/s]\n"
     ]
    },
    {
     "name": "stdout",
     "output_type": "stream",
     "text": [
      "finished...\n",
      "GATClassifier(\n",
      "  (conv1): GATConv(100, 10, heads=3)\n",
      "  (linear1): Linear(in_features=30, out_features=1, bias=True)\n",
      "  (sigmoid): Sigmoid()\n",
      ")\n",
      "Epoch: 0, Epoch loss 0.6915401816368103\n",
      "Epoch: 1, Epoch loss 0.6909775733947754\n",
      "Epoch: 2, Epoch loss 0.6906204223632812\n",
      "Epoch: 3, Epoch loss 0.6902115941047668\n",
      "Epoch: 4, Epoch loss 0.6893751621246338\n",
      "Epoch: 5, Epoch loss 0.6884915232658386\n"
     ]
    },
    {
     "name": "stderr",
     "output_type": "stream",
     "text": [
      "\r",
      "  0%|                                                                                                                                               | 0/500 [00:00<?, ?it/s]"
     ]
    },
    {
     "name": "stdout",
     "output_type": "stream",
     "text": [
      "Epoch: 6, Epoch loss 0.6880304217338562\n",
      "Epoch: 7, Epoch loss 0.6879512071609497\n",
      "Epoch: 8, Epoch loss 0.6861625909805298\n",
      "Epoch: 9, Epoch loss 0.6865089535713196\n",
      "Training process has finished.\n",
      "Final loss 0.6865089535713196\n",
      "(0.5212121212121212, 0.5212121212121212, 1.0)\n",
      "Window size: 10\n"
     ]
    },
    {
     "name": "stderr",
     "output_type": "stream",
     "text": [
      "100%|████████████████████████████████████████████████████████████████████████████████████████████████████████████████████████████████████| 500/500 [00:01<00:00, 276.85it/s]\n"
     ]
    },
    {
     "name": "stdout",
     "output_type": "stream",
     "text": [
      "finished...\n",
      "GATClassifier(\n",
      "  (conv1): GATConv(100, 10, heads=3)\n",
      "  (linear1): Linear(in_features=30, out_features=1, bias=True)\n",
      "  (sigmoid): Sigmoid()\n",
      ")\n",
      "Epoch: 0, Epoch loss 0.7005727291107178\n",
      "Epoch: 1, Epoch loss 0.6997285485267639\n",
      "Epoch: 2, Epoch loss 0.6988826394081116\n",
      "Epoch: 3, Epoch loss 0.6983574032783508\n",
      "Epoch: 4, Epoch loss 0.6977064609527588\n",
      "Epoch: 5, Epoch loss 0.697228193283081\n",
      "Epoch: 6, Epoch loss 0.6949686408042908\n",
      "Epoch: 7, Epoch loss 0.6952254176139832\n",
      "Epoch: 8, Epoch loss 0.6952454447746277\n",
      "Epoch: 9, Epoch loss 0.693401038646698\n",
      "Training process has finished.\n",
      "Final loss 0.693401038646698\n",
      "(0.47878787878787876, 0.0, 0.0)\n"
     ]
    },
    {
     "name": "stderr",
     "output_type": "stream",
     "text": [
      "c:\\users\\user\\appdata\\local\\programs\\python\\python38\\lib\\site-packages\\sklearn\\metrics\\_classification.py:1245: UndefinedMetricWarning: Precision is ill-defined and being set to 0.0 due to no predicted samples. Use `zero_division` parameter to control this behavior.\n",
      "  _warn_prf(average, modifier, msg_start, len(result))\n"
     ]
    }
   ],
   "source": [
    "sliding_window_results = run_sliding_window_experiments()\n",
    "sliding_window_results = [[sw, results[0]] for sw, results in sliding_window_results]"
   ]
  },
  {
   "cell_type": "markdown",
   "metadata": {},
   "source": [
    "## <font color='red'>Sliding window results</font>"
   ]
  },
  {
   "cell_type": "code",
   "execution_count": 65,
   "metadata": {},
   "outputs": [
    {
     "data": {
      "text/plain": [
       "[[2, 0.5212121212121212],\n",
       " [3, 0.5212121212121212],\n",
       " [4, 0.5212121212121212],\n",
       " [6, 0.5212121212121212],\n",
       " [7, 0.5212121212121212],\n",
       " [10, 0.47878787878787876]]"
      ]
     },
     "execution_count": 65,
     "metadata": {},
     "output_type": "execute_result"
    }
   ],
   "source": [
    "plot_x = [res[0] for res in sliding_window_results]\n",
    "plot_y = [res[1] for res in sliding_window_results]\n",
    "sliding_window_results"
   ]
  },
  {
   "cell_type": "code",
   "execution_count": 66,
   "metadata": {},
   "outputs": [
    {
     "data": {
      "image/png": "[encoded data removed]",
      "text/plain": [
       "<Figure size 432x288 with 1 Axes>"
      ]
     },
     "metadata": {
      "needs_background": "light"
     },
     "output_type": "display_data"
    }
   ],
   "source": [
    "fig = sns.lineplot(x=plot_x, y=plot_y)\n",
    "fig.set_xlabel('window size')\n",
    "fig.set_ylabel('accuracy')\n",
    "fig.get_figure().savefig('figures/plot_window_size.pdf', dpi=500)"
   ]
  },
  {
   "cell_type": "code",
   "execution_count": 67,
   "metadata": {},
   "outputs": [],
   "source": [
    "#run_gat_classifier(train_pyg_graphs, test_pyg_graphs, train_batch_size=300, learning_rate=0.001, num_epoch=10):"
   ]
  },
  {
   "cell_type": "markdown",
   "metadata": {},
   "source": [
    "## Learning rate"
   ]
  },
  {
   "cell_type": "code",
   "execution_count": 68,
   "metadata": {},
   "outputs": [],
   "source": [
    "def run_learning_rate_experiments():\n",
    "    learning_rates = [0.0001, 0.001, 0.005, 0.01, 0.05, 0.1, 0.5]\n",
    "    \n",
    "    learning_rate_results = []\n",
    "    for lr in learning_rates:\n",
    "        print('Learning rate:', lr)\n",
    "        pytorch_geometric_graphs = generate_pytorch_geometric_graphs(window_size=2)\n",
    "        train_pyg_graphs, test_pyg_graphs = train_test_split(pytorch_geometric_graphs, test_size=0.33, random_state=42)\n",
    "        learning_rate_results.append((lr, run_gat_classifier(train_pyg_graphs, test_pyg_graphs, learning_rate=lr)))\n",
    "    return learning_rate_results"
   ]
  },
  {
   "cell_type": "code",
   "execution_count": 69,
   "metadata": {
    "scrolled": false
   },
   "outputs": [
    {
     "name": "stderr",
     "output_type": "stream",
     "text": [
      " 30%|███████████████████████████████████████                                                                                             | 148/500 [00:00<00:00, 752.27it/s]"
     ]
    },
    {
     "name": "stdout",
     "output_type": "stream",
     "text": [
      "Learning rate: 0.0001\n"
     ]
    },
    {
     "name": "stderr",
     "output_type": "stream",
     "text": [
      "100%|████████████████████████████████████████████████████████████████████████████████████████████████████████████████████████████████████| 500/500 [00:00<00:00, 675.68it/s]\n"
     ]
    },
    {
     "name": "stdout",
     "output_type": "stream",
     "text": [
      "finished...\n",
      "GATClassifier(\n",
      "  (conv1): GATConv(100, 10, heads=3)\n",
      "  (linear1): Linear(in_features=30, out_features=1, bias=True)\n",
      "  (sigmoid): Sigmoid()\n",
      ")\n",
      "Epoch: 0, Epoch loss 0.6798945069313049\n",
      "Epoch: 1, Epoch loss 0.6799567341804504\n",
      "Epoch: 2, Epoch loss 0.6798146963119507\n",
      "Epoch: 3, Epoch loss 0.679885983467102\n",
      "Epoch: 4, Epoch loss 0.6797970533370972\n",
      "Epoch: 5, Epoch loss 0.6797604560852051\n"
     ]
    },
    {
     "name": "stderr",
     "output_type": "stream",
     "text": [
      "\r",
      "  0%|                                                                                                                                               | 0/500 [00:00<?, ?it/s]"
     ]
    },
    {
     "name": "stdout",
     "output_type": "stream",
     "text": [
      "Epoch: 6, Epoch loss 0.6797126531600952\n",
      "Epoch: 7, Epoch loss 0.6796820759773254\n",
      "Epoch: 8, Epoch loss 0.6796894669532776\n",
      "Epoch: 9, Epoch loss 0.6797963380813599\n",
      "Training process has finished.\n",
      "Final loss 0.6797963380813599\n",
      "(0.5212121212121212, 0.5212121212121212, 1.0)\n",
      "Learning rate: 0.001\n"
     ]
    },
    {
     "name": "stderr",
     "output_type": "stream",
     "text": [
      "100%|████████████████████████████████████████████████████████████████████████████████████████████████████████████████████████████████████| 500/500 [00:00<00:00, 668.45it/s]\n"
     ]
    },
    {
     "name": "stdout",
     "output_type": "stream",
     "text": [
      "finished...\n",
      "GATClassifier(\n",
      "  (conv1): GATConv(100, 10, heads=3)\n",
      "  (linear1): Linear(in_features=30, out_features=1, bias=True)\n",
      "  (sigmoid): Sigmoid()\n",
      ")\n",
      "Epoch: 0, Epoch loss 0.6838418245315552\n",
      "Epoch: 1, Epoch loss 0.683850109577179\n",
      "Epoch: 2, Epoch loss 0.6835994124412537\n",
      "Epoch: 3, Epoch loss 0.6833454966545105\n",
      "Epoch: 4, Epoch loss 0.6833040118217468\n",
      "Epoch: 5, Epoch loss 0.6826756000518799\n"
     ]
    },
    {
     "name": "stderr",
     "output_type": "stream",
     "text": [
      " 17%|██████████████████████▌                                                                                                              | 85/500 [00:00<00:00, 833.26it/s]"
     ]
    },
    {
     "name": "stdout",
     "output_type": "stream",
     "text": [
      "Epoch: 6, Epoch loss 0.6824786067008972\n",
      "Epoch: 7, Epoch loss 0.6822915077209473\n",
      "Epoch: 8, Epoch loss 0.6822258830070496\n",
      "Epoch: 9, Epoch loss 0.6817572116851807\n",
      "Training process has finished.\n",
      "Final loss 0.6817572116851807\n",
      "(0.5212121212121212, 0.5212121212121212, 1.0)\n",
      "Learning rate: 0.005\n"
     ]
    },
    {
     "name": "stderr",
     "output_type": "stream",
     "text": [
      "100%|████████████████████████████████████████████████████████████████████████████████████████████████████████████████████████████████████| 500/500 [00:00<00:00, 674.76it/s]\n"
     ]
    },
    {
     "name": "stdout",
     "output_type": "stream",
     "text": [
      "finished...\n",
      "GATClassifier(\n",
      "  (conv1): GATConv(100, 10, heads=3)\n",
      "  (linear1): Linear(in_features=30, out_features=1, bias=True)\n",
      "  (sigmoid): Sigmoid()\n",
      ")\n",
      "Epoch: 0, Epoch loss 0.6948422193527222\n",
      "Epoch: 1, Epoch loss 0.691303551197052\n",
      "Epoch: 2, Epoch loss 0.688388466835022\n",
      "Epoch: 3, Epoch loss 0.6859413981437683\n",
      "Epoch: 4, Epoch loss 0.6817544102668762\n",
      "Epoch: 5, Epoch loss 0.6801735758781433\n"
     ]
    },
    {
     "name": "stderr",
     "output_type": "stream",
     "text": [
      "\r",
      "  0%|                                                                                                                                               | 0/500 [00:00<?, ?it/s]"
     ]
    },
    {
     "name": "stdout",
     "output_type": "stream",
     "text": [
      "Epoch: 6, Epoch loss 0.6824923157691956\n",
      "Epoch: 7, Epoch loss 0.6737936735153198\n",
      "Epoch: 8, Epoch loss 0.6788474917411804\n",
      "Epoch: 9, Epoch loss 0.6716408729553223\n",
      "Training process has finished.\n",
      "Final loss 0.6716408729553223\n",
      "(0.5212121212121212, 0.5212121212121212, 1.0)\n",
      "Learning rate: 0.01\n"
     ]
    },
    {
     "name": "stderr",
     "output_type": "stream",
     "text": [
      "100%|████████████████████████████████████████████████████████████████████████████████████████████████████████████████████████████████████| 500/500 [00:00<00:00, 684.02it/s]\n"
     ]
    },
    {
     "name": "stdout",
     "output_type": "stream",
     "text": [
      "finished...\n",
      "GATClassifier(\n",
      "  (conv1): GATConv(100, 10, heads=3)\n",
      "  (linear1): Linear(in_features=30, out_features=1, bias=True)\n",
      "  (sigmoid): Sigmoid()\n",
      ")\n",
      "Epoch: 0, Epoch loss 0.6860942244529724\n",
      "Epoch: 1, Epoch loss 0.6824802160263062\n",
      "Epoch: 2, Epoch loss 0.6808151006698608\n",
      "Epoch: 3, Epoch loss 0.6787865161895752\n",
      "Epoch: 4, Epoch loss 0.6688926815986633\n",
      "Epoch: 5, Epoch loss 0.6739601492881775\n"
     ]
    },
    {
     "name": "stderr",
     "output_type": "stream",
     "text": [
      " 16%|████████████████████▋                                                                                                                | 78/500 [00:00<00:00, 772.30it/s]"
     ]
    },
    {
     "name": "stdout",
     "output_type": "stream",
     "text": [
      "Epoch: 6, Epoch loss 0.6720339059829712\n",
      "Epoch: 7, Epoch loss 0.6693322658538818\n",
      "Epoch: 8, Epoch loss 0.6703298687934875\n",
      "Epoch: 9, Epoch loss 0.6767053008079529\n",
      "Training process has finished.\n",
      "Final loss 0.6767053008079529\n",
      "(0.5212121212121212, 0.5212121212121212, 1.0)\n",
      "Learning rate: 0.05\n"
     ]
    },
    {
     "name": "stderr",
     "output_type": "stream",
     "text": [
      "100%|████████████████████████████████████████████████████████████████████████████████████████████████████████████████████████████████████| 500/500 [00:00<00:00, 675.68it/s]\n"
     ]
    },
    {
     "name": "stdout",
     "output_type": "stream",
     "text": [
      "finished...\n",
      "GATClassifier(\n",
      "  (conv1): GATConv(100, 10, heads=3)\n",
      "  (linear1): Linear(in_features=30, out_features=1, bias=True)\n",
      "  (sigmoid): Sigmoid()\n",
      ")\n",
      "Epoch: 0, Epoch loss 0.6850773692131042\n",
      "Epoch: 1, Epoch loss 0.6700172424316406\n",
      "Epoch: 2, Epoch loss 0.6625494956970215\n",
      "Epoch: 3, Epoch loss 0.690070390701294\n",
      "Epoch: 4, Epoch loss 0.6763512492179871\n",
      "Epoch: 5, Epoch loss 0.6689558029174805"
     ]
    },
    {
     "name": "stderr",
     "output_type": "stream",
     "text": [
      "\r",
      "  0%|                                                                                                                                               | 0/500 [00:00<?, ?it/s]"
     ]
    },
    {
     "name": "stdout",
     "output_type": "stream",
     "text": [
      "\n",
      "Epoch: 6, Epoch loss 0.6589022278785706\n",
      "Epoch: 7, Epoch loss 0.6614523530006409\n",
      "Epoch: 8, Epoch loss 0.6587381362915039\n",
      "Epoch: 9, Epoch loss 0.6391745209693909\n",
      "Training process has finished.\n",
      "Final loss 0.6391745209693909\n",
      "(0.5454545454545454, 0.5345911949685535, 0.9883720930232558)\n",
      "Learning rate: 0.1\n"
     ]
    },
    {
     "name": "stderr",
     "output_type": "stream",
     "text": [
      "100%|████████████████████████████████████████████████████████████████████████████████████████████████████████████████████████████████████| 500/500 [00:00<00:00, 687.73it/s]\n"
     ]
    },
    {
     "name": "stdout",
     "output_type": "stream",
     "text": [
      "finished...\n",
      "GATClassifier(\n",
      "  (conv1): GATConv(100, 10, heads=3)\n",
      "  (linear1): Linear(in_features=30, out_features=1, bias=True)\n",
      "  (sigmoid): Sigmoid()\n",
      ")\n",
      "Epoch: 0, Epoch loss 0.6644680500030518\n",
      "Epoch: 1, Epoch loss 0.6969080567359924\n",
      "Epoch: 2, Epoch loss 0.7279341816902161\n",
      "Epoch: 3, Epoch loss 0.6571053862571716\n",
      "Epoch: 4, Epoch loss 0.6553293466567993\n",
      "Epoch: 5, Epoch loss 0.641385555267334\n"
     ]
    },
    {
     "name": "stderr",
     "output_type": "stream",
     "text": [
      " 16%|████████████████████▋                                                                                                                | 78/500 [00:00<00:00, 772.28it/s]"
     ]
    },
    {
     "name": "stdout",
     "output_type": "stream",
     "text": [
      "Epoch: 6, Epoch loss 0.6511122584342957\n",
      "Epoch: 7, Epoch loss 0.6061235666275024\n",
      "Epoch: 8, Epoch loss 0.6286087036132812\n",
      "Epoch: 9, Epoch loss 0.5896900296211243\n",
      "Training process has finished.\n",
      "Final loss 0.5896900296211243\n",
      "(0.5636363636363636, 0.5555555555555556, 0.813953488372093)\n",
      "Learning rate: 0.5\n"
     ]
    },
    {
     "name": "stderr",
     "output_type": "stream",
     "text": [
      "100%|████████████████████████████████████████████████████████████████████████████████████████████████████████████████████████████████████| 500/500 [00:00<00:00, 678.43it/s]\n"
     ]
    },
    {
     "name": "stdout",
     "output_type": "stream",
     "text": [
      "finished...\n",
      "GATClassifier(\n",
      "  (conv1): GATConv(100, 10, heads=3)\n",
      "  (linear1): Linear(in_features=30, out_features=1, bias=True)\n",
      "  (sigmoid): Sigmoid()\n",
      ")\n",
      "Epoch: 0, Epoch loss 0.8906390070915222\n",
      "Epoch: 1, Epoch loss 1.5578111410140991\n",
      "Epoch: 2, Epoch loss 0.7739527225494385\n",
      "Epoch: 3, Epoch loss 1.3090099096298218\n",
      "Epoch: 4, Epoch loss 0.6416475772857666\n",
      "Epoch: 5, Epoch loss 0.6639130711555481\n",
      "Epoch: 6, Epoch loss 0.6610374450683594\n",
      "Epoch: 7, Epoch loss 0.6939212679862976\n",
      "Epoch: 8, Epoch loss 0.6182901859283447\n",
      "Epoch: 9, Epoch loss 0.5565651655197144\n",
      "Training process has finished.\n",
      "Final loss 0.5565651655197144\n",
      "(0.5333333333333333, 0.5279503105590062, 0.9883720930232558)\n"
     ]
    }
   ],
   "source": [
    "learning_rate_results = run_learning_rate_experiments()\n",
    "learning_rate_results = [[lr, results[0]] for lr, results in learning_rate_results]"
   ]
  },
  {
   "cell_type": "markdown",
   "metadata": {},
   "source": [
    "## <font color='red'>Learning rate results</font>"
   ]
  },
  {
   "cell_type": "code",
   "execution_count": 70,
   "metadata": {},
   "outputs": [
    {
     "data": {
      "text/plain": [
       "[[0.0001, 0.5212121212121212],\n",
       " [0.001, 0.5212121212121212],\n",
       " [0.005, 0.5212121212121212],\n",
       " [0.01, 0.5212121212121212],\n",
       " [0.05, 0.5454545454545454],\n",
       " [0.1, 0.5636363636363636],\n",
       " [0.5, 0.5333333333333333]]"
      ]
     },
     "execution_count": 70,
     "metadata": {},
     "output_type": "execute_result"
    }
   ],
   "source": [
    "plot_x = [res[0] for res in learning_rate_results]\n",
    "plot_y = [res[1] for res in learning_rate_results]\n",
    "learning_rate_results"
   ]
  },
  {
   "cell_type": "code",
   "execution_count": 71,
   "metadata": {},
   "outputs": [
    {
     "data": {
      "image/png": "[encoded data removed]",
      "text/plain": [
       "<Figure size 432x288 with 1 Axes>"
      ]
     },
     "metadata": {
      "needs_background": "light"
     },
     "output_type": "display_data"
    }
   ],
   "source": [
    "fig = sns.lineplot(x=plot_x, y=plot_y)\n",
    "fig.set_xlabel('learning rate')\n",
    "fig.set_ylabel('accuracy')\n",
    "fig.get_figure().savefig('figures/plot_learning_rate.pdf', dpi=500)"
   ]
  },
  {
   "cell_type": "code",
   "execution_count": 72,
   "metadata": {},
   "outputs": [],
   "source": [
    "#run_gat_classifier(train_pyg_graphs, test_pyg_graphs, train_batch_size=300, learning_rate=0.001, num_epoch=10):"
   ]
  },
  {
   "cell_type": "markdown",
   "metadata": {},
   "source": [
    "## Training size"
   ]
  },
  {
   "cell_type": "code",
   "execution_count": 73,
   "metadata": {},
   "outputs": [],
   "source": [
    "def run_training_size_experiments():\n",
    "    training_sizes = [0.1, 0.2, 0.33, 0.5, 0.6, 0.7]\n",
    "    \n",
    "    training_size_results = []\n",
    "    for ts in training_sizes:\n",
    "        print('Training size:', ts)\n",
    "        pytorch_geometric_graphs = generate_pytorch_geometric_graphs(window_size=2)\n",
    "        train_pyg_graphs, test_pyg_graphs = train_test_split(pytorch_geometric_graphs, test_size=ts, random_state=42)\n",
    "        training_size_results.append((ts, run_gat_classifier(train_pyg_graphs, test_pyg_graphs)))\n",
    "    return training_size_results"
   ]
  },
  {
   "cell_type": "code",
   "execution_count": 74,
   "metadata": {
    "scrolled": false
   },
   "outputs": [
    {
     "name": "stderr",
     "output_type": "stream",
     "text": [
      " 16%|█████████████████████▌                                                                                                               | 81/500 [00:00<00:00, 801.96it/s]"
     ]
    },
    {
     "name": "stdout",
     "output_type": "stream",
     "text": [
      "Training size: 0.1\n"
     ]
    },
    {
     "name": "stderr",
     "output_type": "stream",
     "text": [
      "100%|████████████████████████████████████████████████████████████████████████████████████████████████████████████████████████████████████| 500/500 [00:00<00:00, 694.44it/s]\n"
     ]
    },
    {
     "name": "stdout",
     "output_type": "stream",
     "text": [
      "finished...\n",
      "GATClassifier(\n",
      "  (conv1): GATConv(100, 10, heads=3)\n",
      "  (linear1): Linear(in_features=30, out_features=1, bias=True)\n",
      "  (sigmoid): Sigmoid()\n",
      ")\n",
      "Epoch: 0, Epoch loss 0.7004979848861694\n",
      "Epoch: 1, Epoch loss 0.7000174522399902\n",
      "Epoch: 2, Epoch loss 0.699591338634491\n",
      "Epoch: 3, Epoch loss 0.6987468600273132\n",
      "Epoch: 4, Epoch loss 0.6984322667121887\n",
      "Epoch: 5, Epoch loss 0.6984917521476746\n",
      "Epoch: 6, Epoch loss 0.6976265907287598\n",
      "Epoch: 7, Epoch loss 0.6968327760696411\n",
      "Epoch: 8, Epoch loss 0.6965172290802002\n",
      "Epoch: 9, Epoch loss 0.6970841288566589\n",
      "Training process has finished.\n",
      "Final loss 0.6970841288566589\n"
     ]
    },
    {
     "name": "stderr",
     "output_type": "stream",
     "text": [
      "c:\\users\\user\\appdata\\local\\programs\\python\\python38\\lib\\site-packages\\sklearn\\metrics\\_classification.py:1245: UndefinedMetricWarning: Precision is ill-defined and being set to 0.0 due to no predicted samples. Use `zero_division` parameter to control this behavior.\n",
      "  _warn_prf(average, modifier, msg_start, len(result))\n",
      " 32%|█████████████████████████████████████████▉                                                                                          | 159/500 [00:00<00:00, 808.30it/s]"
     ]
    },
    {
     "name": "stdout",
     "output_type": "stream",
     "text": [
      "(0.52, 0.0, 0.0)\n",
      "Training size: 0.2\n"
     ]
    },
    {
     "name": "stderr",
     "output_type": "stream",
     "text": [
      "100%|████████████████████████████████████████████████████████████████████████████████████████████████████████████████████████████████████| 500/500 [00:00<00:00, 686.81it/s]\n"
     ]
    },
    {
     "name": "stdout",
     "output_type": "stream",
     "text": [
      "finished...\n",
      "GATClassifier(\n",
      "  (conv1): GATConv(100, 10, heads=3)\n",
      "  (linear1): Linear(in_features=30, out_features=1, bias=True)\n",
      "  (sigmoid): Sigmoid()\n",
      ")\n",
      "Epoch: 0, Epoch loss 0.687878429889679\n",
      "Epoch: 1, Epoch loss 0.6878551840782166\n",
      "Epoch: 2, Epoch loss 0.687704861164093\n",
      "Epoch: 3, Epoch loss 0.6875976920127869\n",
      "Epoch: 4, Epoch loss 0.6876085996627808\n",
      "Epoch: 5, Epoch loss 0.687429666519165\n",
      "Epoch: 6, Epoch loss 0.6872216463088989\n",
      "Epoch: 7, Epoch loss 0.6874008178710938\n",
      "Epoch: 8, Epoch loss 0.6870077252388\n",
      "Epoch: 9, Epoch loss 0.686996579170227\n",
      "Training process has finished.\n",
      "Final loss 0.686996579170227\n"
     ]
    },
    {
     "name": "stderr",
     "output_type": "stream",
     "text": [
      " 29%|██████████████████████████████████████                                                                                              | 144/500 [00:00<00:00, 745.33it/s]"
     ]
    },
    {
     "name": "stdout",
     "output_type": "stream",
     "text": [
      "(0.5, 0.5, 1.0)\n",
      "Training size: 0.33\n"
     ]
    },
    {
     "name": "stderr",
     "output_type": "stream",
     "text": [
      "100%|████████████████████████████████████████████████████████████████████████████████████████████████████████████████████████████████████| 500/500 [00:00<00:00, 688.65it/s]\n"
     ]
    },
    {
     "name": "stdout",
     "output_type": "stream",
     "text": [
      "finished...\n",
      "GATClassifier(\n",
      "  (conv1): GATConv(100, 10, heads=3)\n",
      "  (linear1): Linear(in_features=30, out_features=1, bias=True)\n",
      "  (sigmoid): Sigmoid()\n",
      ")\n",
      "Epoch: 0, Epoch loss 0.6812720894813538\n",
      "Epoch: 1, Epoch loss 0.6812450885772705\n",
      "Epoch: 2, Epoch loss 0.6812215447425842\n",
      "Epoch: 3, Epoch loss 0.6808196306228638\n",
      "Epoch: 4, Epoch loss 0.6807940006256104\n",
      "Epoch: 5, Epoch loss 0.6807082295417786\n"
     ]
    },
    {
     "name": "stderr",
     "output_type": "stream",
     "text": [
      " 17%|██████████████████████▌                                                                                                              | 85/500 [00:00<00:00, 841.59it/s]"
     ]
    },
    {
     "name": "stdout",
     "output_type": "stream",
     "text": [
      "Epoch: 6, Epoch loss 0.6805450916290283\n",
      "Epoch: 7, Epoch loss 0.6805607080459595\n",
      "Epoch: 8, Epoch loss 0.6801873445510864\n",
      "Epoch: 9, Epoch loss 0.6803408861160278\n",
      "Training process has finished.\n",
      "Final loss 0.6803408861160278\n",
      "(0.5212121212121212, 0.5212121212121212, 1.0)\n",
      "Training size: 0.5\n"
     ]
    },
    {
     "name": "stderr",
     "output_type": "stream",
     "text": [
      "100%|████████████████████████████████████████████████████████████████████████████████████████████████████████████████████████████████████| 500/500 [00:00<00:00, 718.34it/s]\n"
     ]
    },
    {
     "name": "stdout",
     "output_type": "stream",
     "text": [
      "finished...\n",
      "GATClassifier(\n",
      "  (conv1): GATConv(100, 10, heads=3)\n",
      "  (linear1): Linear(in_features=30, out_features=1, bias=True)\n",
      "  (sigmoid): Sigmoid()\n",
      ")\n",
      "Epoch: 0, Epoch loss 0.6926453113555908\n",
      "Epoch: 1, Epoch loss 0.6925926208496094\n",
      "Epoch: 2, Epoch loss 0.6925099492073059\n",
      "Epoch: 3, Epoch loss 0.6924307346343994\n",
      "Epoch: 4, Epoch loss 0.6923901438713074\n",
      "Epoch: 5, Epoch loss 0.6924326419830322\n",
      "Epoch: 6, Epoch loss 0.6923126578330994\n",
      "Epoch: 7, Epoch loss 0.6924185156822205\n",
      "Epoch: 8, Epoch loss 0.6921278238296509\n",
      "Epoch: 9, Epoch loss 0.6923841834068298\n",
      "Training process has finished.\n",
      "Final loss 0.6923841834068298\n"
     ]
    },
    {
     "name": "stderr",
     "output_type": "stream",
     "text": [
      " 17%|██████████████████████▌                                                                                                              | 85/500 [00:00<00:00, 833.35it/s]"
     ]
    },
    {
     "name": "stdout",
     "output_type": "stream",
     "text": [
      "(0.528, 0.528, 1.0)\n",
      "Training size: 0.6\n"
     ]
    },
    {
     "name": "stderr",
     "output_type": "stream",
     "text": [
      "100%|████████████████████████████████████████████████████████████████████████████████████████████████████████████████████████████████████| 500/500 [00:00<00:00, 699.27it/s]\n"
     ]
    },
    {
     "name": "stdout",
     "output_type": "stream",
     "text": [
      "finished...\n",
      "GATClassifier(\n",
      "  (conv1): GATConv(100, 10, heads=3)\n",
      "  (linear1): Linear(in_features=30, out_features=1, bias=True)\n",
      "  (sigmoid): Sigmoid()\n",
      ")\n",
      "Epoch: 0, Epoch loss 0.6987025141716003\n",
      "Epoch: 1, Epoch loss 0.6985381841659546\n",
      "Epoch: 2, Epoch loss 0.698310375213623\n",
      "Epoch: 3, Epoch loss 0.6981117725372314\n",
      "Epoch: 4, Epoch loss 0.6979269981384277\n",
      "Epoch: 5, Epoch loss 0.6975569128990173\n",
      "Epoch: 6, Epoch loss 0.6974378228187561\n",
      "Epoch: 7, Epoch loss 0.6971491575241089\n",
      "Epoch: 8, Epoch loss 0.6971958875656128\n",
      "Epoch: 9, Epoch loss 0.6966565251350403\n",
      "Training process has finished.\n",
      "Final loss 0.6966565251350403\n"
     ]
    },
    {
     "name": "stderr",
     "output_type": "stream",
     "text": [
      "c:\\users\\user\\appdata\\local\\programs\\python\\python38\\lib\\site-packages\\sklearn\\metrics\\_classification.py:1245: UndefinedMetricWarning: Precision is ill-defined and being set to 0.0 due to no predicted samples. Use `zero_division` parameter to control this behavior.\n",
      "  _warn_prf(average, modifier, msg_start, len(result))\n",
      " 18%|███████████████████████▋                                                                                                             | 89/500 [00:00<00:00, 855.78it/s]"
     ]
    },
    {
     "name": "stdout",
     "output_type": "stream",
     "text": [
      "(0.4666666666666667, 0.0, 0.0)\n",
      "Training size: 0.7\n"
     ]
    },
    {
     "name": "stderr",
     "output_type": "stream",
     "text": [
      "100%|████████████████████████████████████████████████████████████████████████████████████████████████████████████████████████████████████| 500/500 [00:00<00:00, 721.47it/s]\n"
     ]
    },
    {
     "name": "stdout",
     "output_type": "stream",
     "text": [
      "finished...\n",
      "GATClassifier(\n",
      "  (conv1): GATConv(100, 10, heads=3)\n",
      "  (linear1): Linear(in_features=30, out_features=1, bias=True)\n",
      "  (sigmoid): Sigmoid()\n",
      ")\n",
      "Epoch: 0, Epoch loss 0.699819028377533\n",
      "Epoch: 1, Epoch loss 0.6994867324829102\n",
      "Epoch: 2, Epoch loss 0.6992545127868652\n",
      "Epoch: 3, Epoch loss 0.6990649104118347\n",
      "Epoch: 4, Epoch loss 0.6986282467842102\n",
      "Epoch: 5, Epoch loss 0.6986995339393616\n",
      "Epoch: 6, Epoch loss 0.6981638669967651\n",
      "Epoch: 7, Epoch loss 0.6981915235519409\n",
      "Epoch: 8, Epoch loss 0.698025643825531\n",
      "Epoch: 9, Epoch loss 0.6978331208229065\n",
      "Training process has finished.\n",
      "Final loss 0.6978331208229065\n",
      "(0.47714285714285715, 0.0, 0.0)\n"
     ]
    },
    {
     "name": "stderr",
     "output_type": "stream",
     "text": [
      "c:\\users\\user\\appdata\\local\\programs\\python\\python38\\lib\\site-packages\\sklearn\\metrics\\_classification.py:1245: UndefinedMetricWarning: Precision is ill-defined and being set to 0.0 due to no predicted samples. Use `zero_division` parameter to control this behavior.\n",
      "  _warn_prf(average, modifier, msg_start, len(result))\n"
     ]
    }
   ],
   "source": [
    "training_size_results = run_training_size_experiments()\n",
    "training_size_results = [[ts, results[0]] for ts, results in training_size_results]"
   ]
  },
  {
   "cell_type": "markdown",
   "metadata": {},
   "source": [
    "## <font color='red'>Training size results</font>"
   ]
  },
  {
   "cell_type": "code",
   "execution_count": 75,
   "metadata": {},
   "outputs": [
    {
     "data": {
      "text/plain": [
       "[[0.1, 0.52],\n",
       " [0.2, 0.5],\n",
       " [0.33, 0.5212121212121212],\n",
       " [0.5, 0.528],\n",
       " [0.6, 0.4666666666666667],\n",
       " [0.7, 0.47714285714285715]]"
      ]
     },
     "execution_count": 75,
     "metadata": {},
     "output_type": "execute_result"
    }
   ],
   "source": [
    "plot_x = [res[0] for res in training_size_results]\n",
    "plot_y = [res[1] for res in training_size_results]\n",
    "training_size_results"
   ]
  },
  {
   "cell_type": "code",
   "execution_count": 76,
   "metadata": {},
   "outputs": [
    {
     "data": {
      "image/png": "[encoded data removed]",
      "text/plain": [
       "<Figure size 432x288 with 1 Axes>"
      ]
     },
     "metadata": {
      "needs_background": "light"
     },
     "output_type": "display_data"
    }
   ],
   "source": [
    "fig = sns.lineplot(x=plot_x, y=plot_y)\n",
    "fig.set_xlabel('training size')\n",
    "fig.set_ylabel('accuracy')\n",
    "fig.get_figure().savefig('figures/training_size_rate.pdf', dpi=500)"
   ]
  },
  {
   "cell_type": "markdown",
   "metadata": {},
   "source": [
    "## Draw an exemplar graph-of-words graph with 15 nodes and 3 window size"
   ]
  },
  {
   "cell_type": "code",
   "execution_count": 77,
   "metadata": {},
   "outputs": [
    {
     "data": {
      "image/png": "[encoded data removed]",
      "text/plain": [
       "<Figure size 432x288 with 1 Axes>"
      ]
     },
     "metadata": {},
     "output_type": "display_data"
    }
   ],
   "source": [
    "text = df['body'][df['number_of_words_of_body'] == 15].values[6]\n",
    "text = text.replace(',', '')\n",
    "text = text.replace('.', '')\n",
    "g = create_graph_of_words(text, 3)\n",
    "nx.draw_kamada_kawai(g, with_labels=True, node_color='white', node_size=1300)\n",
    "plt.savefig(\"Graph1.pdf\")\n",
    "plt.show()"
   ]
  }
 ],
 "metadata": {
  "kernelspec": {
   "display_name": "Python 3",
   "language": "python",
   "name": "python3"
  },
  "language_info": {
   "codemirror_mode": {
    "name": "ipython",
    "version": 3
   },
   "file_extension": ".py",
   "mimetype": "text/x-python",
   "name": "python",
   "nbconvert_exporter": "python",
   "pygments_lexer": "ipython3",
   "version": "3.8.3"
  }
 },
 "nbformat": 4,
 "nbformat_minor": 4
}
