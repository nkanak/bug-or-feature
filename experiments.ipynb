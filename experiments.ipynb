{
 "cells": [
  {
   "cell_type": "code",
   "execution_count": 1,
   "metadata": {},
   "outputs": [],
   "source": [
    "import pandas as pd\n",
    "import seaborn as sns\n",
    "import matplotlib.pyplot as plt\n",
    "from gensim.parsing.preprocessing import remove_stopwords\n",
    "import contractions\n",
    "from sklearn.linear_model import LogisticRegression\n",
    "from sklearn.model_selection import train_test_split\n",
    "from sklearn.feature_extraction.text import TfidfVectorizer\n",
    "from sklearn.preprocessing import MaxAbsScaler\n",
    "import numpy as np\n",
    "import fasttext\n",
    "from sklearn.metrics import accuracy_score\n",
    "from sklearn.metrics import recall_score\n",
    "from sklearn.metrics import precision_score\n",
    "\n",
    "import torch.nn.functional as F\n",
    "import torch\n",
    "\n",
    "import networkx as nx\n",
    "from torch_geometric.nn import GCNConv\n",
    "from torch_geometric.utils.convert import from_networkx\n",
    "from torch_geometric.nn import norm\n",
    "from torch_geometric.data import Data, DataLoader\n",
    "from torch_geometric.nn import global_mean_pool\n",
    "\n",
    "from gensim.models import KeyedVectors\n",
    "from gensim.scripts.glove2word2vec import glove2word2vec\n",
    "\n",
    "from torch_geometric.nn import GraphConv\n",
    "from torch_geometric.nn import GATConv\n",
    "from torch_geometric.nn import GCNConv\n",
    "from torch_geometric.nn import SAGEConv\n",
    "from torch_geometric.nn import SGConv\n",
    "\n",
    "from tqdm import tqdm\n",
    "\n",
    "import random\n",
    "\n",
    "import shap\n",
    "\n",
    "sns.set_theme()\n",
    "\n",
    "# Set fixed random number seed\n",
    "#torch.manual_seed(42)\n",
    "\n",
    "%matplotlib inline"
   ]
  },
  {
   "cell_type": "code",
   "execution_count": 2,
   "metadata": {},
   "outputs": [],
   "source": [
    "def calculate_accuracy_precision_recall(true_labels, predicted_labels):\n",
    "    return (accuracy_score(true_labels, predicted_labels),\n",
    "           precision_score(true_labels, predicted_labels),\n",
    "           recall_score(true_labels, predicted_labels))\n",
    "\n",
    "def print_evaluation_results(results):\n",
    "    print('Avg accuracy | Avg precision | Avg recall')\n",
    "    avg_accuracy, avg_precision, avg_recall = np.mean(results, axis=0)\n",
    "    std_accuracy, std_precision, std_recall = np.std(results, axis=0)\n",
    "    print(f'{avg_accuracy:.4f}+-{std_accuracy:.4f}, {avg_precision:.4f}+-{std_precision:.4f}, {avg_recall:.4f}+-{std_recall:.4f}')\n",
    "\n",
    "def get_random_number():\n",
    "    return random.randint(0, 10000)\n",
    "\n",
    "global_random_number = get_random_number()\n",
    "global_random_numbers = [get_random_number() for _ in range(10)]"
   ]
  },
  {
   "cell_type": "markdown",
   "metadata": {},
   "source": [
    "## Load dataset"
   ]
  },
  {
   "cell_type": "code",
   "execution_count": 3,
   "metadata": {},
   "outputs": [
    {
     "data": {
      "text/plain": [
       "407799"
      ]
     },
     "execution_count": 3,
     "metadata": {},
     "output_type": "execute_result"
    }
   ],
   "source": [
    "df = pd.read_csv('samples.csv')\n",
    "# bug == 0 and feature == 1\n",
    "df = df[(df['label'] == 0) | (df['label'] == 1)]\n",
    "#df = df[:500]\n",
    "len(df)"
   ]
  },
  {
   "cell_type": "markdown",
   "metadata": {},
   "source": [
    "## Preprocess dataset"
   ]
  },
  {
   "cell_type": "code",
   "execution_count": 4,
   "metadata": {},
   "outputs": [],
   "source": [
    "contractions.add('__label__', 'REMOVED_TOKEN')"
   ]
  },
  {
   "cell_type": "code",
   "execution_count": 5,
   "metadata": {},
   "outputs": [],
   "source": [
    "# fix contractions\n",
    "df['title'] = df['title'].apply(contractions.fix)\n",
    "df['body'] = df['body'].apply(contractions.fix)"
   ]
  },
  {
   "cell_type": "code",
   "execution_count": 6,
   "metadata": {},
   "outputs": [],
   "source": [
    "# removal of stopwords\n",
    "df['title'] = df['title'].apply(remove_stopwords)\n",
    "df['body'] = df['body'].apply(remove_stopwords)"
   ]
  },
  {
   "cell_type": "markdown",
   "metadata": {},
   "source": [
    "## Generate statistics"
   ]
  },
  {
   "cell_type": "code",
   "execution_count": 7,
   "metadata": {},
   "outputs": [],
   "source": [
    "df['number_of_words_of_title'] = df['title'].str.split().str.len()\n",
    "df['number_of_words_of_body'] = df['body'].str.split().str.len()"
   ]
  },
  {
   "cell_type": "code",
   "execution_count": 8,
   "metadata": {},
   "outputs": [],
   "source": [
    "x = df['number_of_words_of_title']"
   ]
  },
  {
   "cell_type": "code",
   "execution_count": 9,
   "metadata": {},
   "outputs": [
    {
     "data": {
      "text/plain": [
       "count    407799.000000\n",
       "mean          4.966165\n",
       "std           2.007483\n",
       "min           0.000000\n",
       "25%           3.000000\n",
       "50%           5.000000\n",
       "75%           6.000000\n",
       "max          43.000000\n",
       "Name: number_of_words_of_title, dtype: float64"
      ]
     },
     "execution_count": 9,
     "metadata": {},
     "output_type": "execute_result"
    }
   ],
   "source": [
    "x.describe()"
   ]
  },
  {
   "cell_type": "code",
   "execution_count": 10,
   "metadata": {},
   "outputs": [
    {
     "data": {
      "text/plain": [
       "Text(0.5, 0, 'Number of words of title')"
      ]
     },
     "execution_count": 10,
     "metadata": {},
     "output_type": "execute_result"
    },
    {
     "data": {
      "image/png": "[encoded data removed]",
      "text/plain": [
       "<Figure size 432x288 with 1 Axes>"
      ]
     },
     "metadata": {
      "needs_background": "light"
     },
     "output_type": "display_data"
    }
   ],
   "source": [
    "fig = sns.histplot(data=df, x='number_of_words_of_title', kde=False, stat='count', binwidth=1)\n",
    "fig.set_xlabel('Number of words of title')\n",
    "#fig.get_figure().savefig('figures/price_kde_histogram.jpg', dpi=500)"
   ]
  },
  {
   "cell_type": "code",
   "execution_count": 11,
   "metadata": {},
   "outputs": [
    {
     "data": {
      "text/plain": [
       "Text(0.5, 0, 'Number of words of body')"
      ]
     },
     "execution_count": 11,
     "metadata": {},
     "output_type": "execute_result"
    },
    {
     "data": {
      "image/png": "[encoded data removed]",
      "text/plain": [
       "<Figure size 432x288 with 1 Axes>"
      ]
     },
     "metadata": {
      "needs_background": "light"
     },
     "output_type": "display_data"
    }
   ],
   "source": [
    "fig = sns.histplot(data=df, x='number_of_words_of_body', kde=False, stat='count', binwidth=15)\n",
    "fig.set_xlabel('Number of words of body')\n",
    "#fig.get_figure().savefig('figures/price_kde_histogram.jpg', dpi=500)"
   ]
  },
  {
   "cell_type": "code",
   "execution_count": 12,
   "metadata": {},
   "outputs": [
    {
     "data": {
      "text/plain": [
       "count    407799.000000\n",
       "mean          4.966165\n",
       "std           2.007483\n",
       "min           0.000000\n",
       "25%           3.000000\n",
       "50%           5.000000\n",
       "75%           6.000000\n",
       "max          43.000000\n",
       "Name: number_of_words_of_title, dtype: float64"
      ]
     },
     "execution_count": 12,
     "metadata": {},
     "output_type": "execute_result"
    }
   ],
   "source": [
    "df['number_of_words_of_title'].describe()"
   ]
  },
  {
   "cell_type": "code",
   "execution_count": 13,
   "metadata": {},
   "outputs": [
    {
     "data": {
      "text/plain": [
       "count    407799.000000\n",
       "mean         45.938685\n",
       "std          63.545595\n",
       "min           0.000000\n",
       "25%          12.000000\n",
       "50%          24.000000\n",
       "75%          52.000000\n",
       "max         977.000000\n",
       "Name: number_of_words_of_body, dtype: float64"
      ]
     },
     "execution_count": 13,
     "metadata": {},
     "output_type": "execute_result"
    }
   ],
   "source": [
    "df['number_of_words_of_body'].describe()"
   ]
  },
  {
   "cell_type": "code",
   "execution_count": 14,
   "metadata": {},
   "outputs": [
    {
     "data": {
      "text/plain": [
       "1    207318\n",
       "0    200481\n",
       "Name: label, dtype: int64"
      ]
     },
     "execution_count": 14,
     "metadata": {},
     "output_type": "execute_result"
    }
   ],
   "source": [
    "# bugs == 0\n",
    "# feature == 1\n",
    "df['label'].value_counts()"
   ]
  },
  {
   "cell_type": "code",
   "execution_count": 15,
   "metadata": {},
   "outputs": [
    {
     "name": "stdout",
     "output_type": "stream",
     "text": [
      "Train size 273225\n",
      "Test size 134574\n"
     ]
    }
   ],
   "source": [
    "x_train, x_test = train_test_split(df.body, test_size=0.33, random_state=42)\n",
    "print('Train size', len(x_train))\n",
    "print('Test size', len(x_test))"
   ]
  },
  {
   "cell_type": "code",
   "execution_count": 16,
   "metadata": {},
   "outputs": [
    {
     "data": {
      "image/png": "[encoded data removed]",
      "text/plain": [
       "<Figure size 432x288 with 1 Axes>"
      ]
     },
     "metadata": {
      "needs_background": "light"
     },
     "output_type": "display_data"
    }
   ],
   "source": [
    "fig = sns.histplot(data=df[df['number_of_words_of_title'] < 15], x='number_of_words_of_title', kde=False, stat='count', binwidth=1)\n",
    "fig.set_xlabel('number of words of title')\n",
    "fig.get_figure().savefig('figures/number_of_words_of_title_less_than_15.pdf', dpi=500)"
   ]
  },
  {
   "cell_type": "code",
   "execution_count": 17,
   "metadata": {},
   "outputs": [
    {
     "data": {
      "image/png": "[encoded data removed]",
      "text/plain": [
       "<Figure size 432x288 with 1 Axes>"
      ]
     },
     "metadata": {
      "needs_background": "light"
     },
     "output_type": "display_data"
    }
   ],
   "source": [
    "fig = sns.histplot(data=df[df['number_of_words_of_body'] < 70], x='number_of_words_of_body', kde=False, stat='count', binwidth=4)\n",
    "fig.set_xlabel('number of words of body')\n",
    "fig.get_figure().savefig('figures/number_of_words_of_body_less_than_70.pdf', dpi=500)"
   ]
  },
  {
   "cell_type": "code",
   "execution_count": 18,
   "metadata": {},
   "outputs": [
    {
     "data": {
      "image/png": "[encoded data removed]",
      "text/plain": [
       "<Figure size 864x288 with 2 Axes>"
      ]
     },
     "metadata": {
      "needs_background": "light"
     },
     "output_type": "display_data"
    }
   ],
   "source": [
    "# print altogether\n",
    "fig, ax = plt.subplots(1,2)\n",
    "fig.set_figwidth(12)\n",
    "ax[0].set_xlabel('number of words of title')\n",
    "ax[1].set_xlabel('number of words of body')\n",
    "sns.histplot(data=df[df['number_of_words_of_title'] < 15], x='number_of_words_of_title', kde=False, stat='count', binwidth=1, ax=ax[0])\n",
    "sns.histplot(data=df[df['number_of_words_of_body'] < 70], x='number_of_words_of_body', kde=False, stat='count', binwidth=4, ax=ax[1])\n",
    "fig.savefig('figures/title_words_less_than_15_body_words_less_than_70.pdf', dpi=500)"
   ]
  },
  {
   "cell_type": "markdown",
   "metadata": {},
   "source": [
    "## Load glove embeddings 100"
   ]
  },
  {
   "cell_type": "code",
   "execution_count": 19,
   "metadata": {},
   "outputs": [
    {
     "name": "stderr",
     "output_type": "stream",
     "text": [
      "Call to deprecated `glove2word2vec` (KeyedVectors.load_word2vec_format(.., binary=False, no_header=True) loads GLoVE text vectors.).\n"
     ]
    }
   ],
   "source": [
    "glove2word2vec('glove.6B/glove.6B.100d.txt', 'tmpfile_glove')\n",
    "glove_embeddings_model = KeyedVectors.load_word2vec_format('tmpfile_glove')"
   ]
  },
  {
   "cell_type": "code",
   "execution_count": 20,
   "metadata": {},
   "outputs": [],
   "source": [
    "def get_word_glove_embedding(word):\n",
    "    if word not in glove_embeddings_model:\n",
    "        return np.zeros(100, dtype='float32')\n",
    "    return glove_embeddings_model.get_vector(word)"
   ]
  },
  {
   "cell_type": "code",
   "execution_count": 21,
   "metadata": {},
   "outputs": [],
   "source": [
    "def get_sentence_glove_embedding(sentence):\n",
    "    word_embeddings = [glove_embeddings_model.get_vector(word) if word in glove_embeddings_model else np.zeros(100, dtype='float32') for word in sentence.split()]\n",
    "    if len(word_embeddings) == 0:\n",
    "        return np.zeros(100, dtype='float32')\n",
    "    return np.mean(word_embeddings, axis=0)"
   ]
  },
  {
   "cell_type": "markdown",
   "metadata": {},
   "source": [
    "## Train fasttext embeddings"
   ]
  },
  {
   "cell_type": "code",
   "execution_count": 22,
   "metadata": {},
   "outputs": [],
   "source": [
    "df['fasttext_input'] = '__label__' + df['label'].map(str) + ' ' + df['title'] + ' ' + df['body']\n",
    "train_input, test_input = train_test_split(df.fasttext_input.values, test_size=0.33, random_state=42)\n",
    "np.savetxt('train.txt', train_input, fmt='%s')\n",
    "np.savetxt('test.txt', test_input, fmt='%s')\n",
    "fasttext_model = fasttext.train_supervised('train.txt', dim=100, epoch=5)\n",
    "fasttext_model.test('test.txt')\n",
    "df.drop('fasttext_input', axis=1, inplace=True)\n",
    "embeddings_lookup = {word: fasttext_model.get_word_vector(word) for word in fasttext_model.get_words()}"
   ]
  },
  {
   "cell_type": "markdown",
   "metadata": {},
   "source": [
    "## Train baseline models"
   ]
  },
  {
   "cell_type": "markdown",
   "metadata": {},
   "source": [
    "## GloVe + logistic regression classification"
   ]
  },
  {
   "cell_type": "code",
   "execution_count": null,
   "metadata": {},
   "outputs": [],
   "source": [
    "X_train, X_test, y_train, y_test = train_test_split(df.body, df.label, test_size=0.33, random_state=42)\n",
    "X_train = [get_sentence_glove_embedding(s) for s in X_train.values]\n",
    "X_test = [get_sentence_glove_embedding(s) for s in X_test.values]"
   ]
  },
  {
   "cell_type": "code",
   "execution_count": null,
   "metadata": {},
   "outputs": [],
   "source": [
    "def run_logistic_regression_classifier(use_global_random_number=True):\n",
    "    if use_global_random_number:\n",
    "        random_state = global_random_number\n",
    "    else:\n",
    "        random_state = get_random_number()\n",
    "    logit_clf = LogisticRegression(random_state=random_state, solver='liblinear').fit(X_train, y_train)\n",
    "    predicted_labels = logit_clf.predict(X_test)\n",
    "    true_labels = y_test\n",
    "    \n",
    "    results = calculate_accuracy_precision_recall(true_labels, predicted_labels)\n",
    "    print(results)\n",
    "    return results"
   ]
  },
  {
   "cell_type": "code",
   "execution_count": null,
   "metadata": {},
   "outputs": [],
   "source": [
    "logit_evaluation_results = [run_logistic_regression_classifier()]"
   ]
  },
  {
   "cell_type": "markdown",
   "metadata": {},
   "source": [
    "## <font color='red'>GloVe + logistic regression results</font>"
   ]
  },
  {
   "cell_type": "code",
   "execution_count": null,
   "metadata": {},
   "outputs": [],
   "source": [
    "print_evaluation_results(logit_evaluation_results)"
   ]
  },
  {
   "cell_type": "markdown",
   "metadata": {},
   "source": [
    "## GloVe + knn"
   ]
  },
  {
   "cell_type": "code",
   "execution_count": null,
   "metadata": {},
   "outputs": [],
   "source": [
    "from sklearn.neighbors import KNeighborsClassifier"
   ]
  },
  {
   "cell_type": "code",
   "execution_count": null,
   "metadata": {},
   "outputs": [],
   "source": [
    "def run_knn_regression_classifier():\n",
    "    knn_clf = KNeighborsClassifier(n_neighbors=10).fit(X_train, y_train)\n",
    "    predicted_labels = knn_clf.predict(X_test)\n",
    "    true_labels = y_test\n",
    "    \n",
    "    results = calculate_accuracy_precision_recall(true_labels, predicted_labels)\n",
    "    print(results)\n",
    "    return results"
   ]
  },
  {
   "cell_type": "code",
   "execution_count": null,
   "metadata": {
    "scrolled": true
   },
   "outputs": [],
   "source": [
    "knn_evaluation_results = [run_knn_regression_classifier()]"
   ]
  },
  {
   "cell_type": "markdown",
   "metadata": {},
   "source": [
    "## <font color='red'>GloVe + knn results</font>"
   ]
  },
  {
   "cell_type": "code",
   "execution_count": null,
   "metadata": {
    "scrolled": true
   },
   "outputs": [],
   "source": [
    "print_evaluation_results(knn_evaluation_results)"
   ]
  },
  {
   "cell_type": "markdown",
   "metadata": {},
   "source": [
    "## Fasttext classification"
   ]
  },
  {
   "cell_type": "code",
   "execution_count": null,
   "metadata": {},
   "outputs": [],
   "source": [
    "def run_fasttext_classifier():\n",
    "    df['fasttext_input'] = '__label__' + df['label'].map(str) + ' ' + df['title'] + ' ' + df['body']\n",
    "    train_input, test_input = train_test_split(df.fasttext_input.values, test_size=0.33, random_state=42)\n",
    "    np.savetxt('train.txt', train_input, fmt='%s')\n",
    "    np.savetxt('test.txt', test_input, fmt='%s')\n",
    "    fasttext_model = fasttext.train_supervised('train.txt', dim=100, epoch=5)\n",
    "    fasttext_model.test('test.txt')\n",
    "    df.drop('fasttext_input', axis=1, inplace=True)\n",
    "    embeddings_lookup = {word: fasttext_model.get_word_vector(word) for word in fasttext_model.get_words()}\n",
    "\n",
    "    _, test_df = train_test_split(df, test_size=0.33, random_state=42)\n",
    "    predicted_labels = [int(res[0].split('__label__')[1]) for res in fasttext_model.predict(test_df['body'].values.tolist())[0]]\n",
    "    true_labels = test_df['label'].values\n",
    "    \n",
    "    results = calculate_accuracy_precision_recall(true_labels, predicted_labels)\n",
    "    print(results)\n",
    "    return results"
   ]
  },
  {
   "cell_type": "code",
   "execution_count": null,
   "metadata": {},
   "outputs": [],
   "source": [
    "fasttext_evaluation_results = []\n",
    "for num in global_random_numbers:\n",
    "    fasttext_evaluation_results.append(run_fasttext_classifier())"
   ]
  },
  {
   "cell_type": "markdown",
   "metadata": {},
   "source": [
    "## <font color='red'>Fasttext results</font>"
   ]
  },
  {
   "cell_type": "code",
   "execution_count": null,
   "metadata": {
    "scrolled": false
   },
   "outputs": [],
   "source": [
    "print_evaluation_results(fasttext_evaluation_results)"
   ]
  },
  {
   "cell_type": "markdown",
   "metadata": {},
   "source": [
    "## MLP"
   ]
  },
  {
   "cell_type": "code",
   "execution_count": null,
   "metadata": {},
   "outputs": [],
   "source": [
    "device = torch.device('cuda' if torch.cuda.is_available() else 'cpu')\n",
    "print(device)\n",
    "\n",
    "x_train, x_test, y_train, y_test = train_test_split(df.body, df.label, test_size=0.33, random_state=42)\n",
    "x_train = [get_sentence_glove_embedding(s) for s in x_train.values]\n",
    "x_test = [get_sentence_glove_embedding(s) for s in x_test.values]\n",
    "\n",
    "x_train = torch.tensor(x_train).float()\n",
    "y_train = torch.tensor(y_train.values).float()\n",
    "\n",
    "x_test = torch.tensor(x_test).float()\n",
    "y_test = torch.tensor(y_test.values).float()\n",
    "\n",
    "x_train = x_train.to(device)\n",
    "y_train = y_train.to(device)\n",
    "x_test = x_test.to(device)\n",
    "y_test = y_test.to(device)\n",
    "\n",
    "BATCH_SIZE = 255\n",
    "\n",
    "# generate train dataset and train dataloader\n",
    "train_dataset = torch.utils.data.TensorDataset(x_train, y_train)\n",
    "train_dataloader = torch.utils.data.DataLoader(train_dataset, batch_size=BATCH_SIZE, shuffle=False)\n",
    "\n",
    "# generate test dataset\n",
    "test_dataset = torch.utils.data.TensorDataset(x_test, y_test)"
   ]
  },
  {
   "cell_type": "code",
   "execution_count": null,
   "metadata": {},
   "outputs": [],
   "source": [
    "class MLP(torch.nn.Module):\n",
    "    def __init__(self) : \n",
    "        super(MLP, self).__init__()\n",
    "        self.linear1 = torch.nn.Linear(100 , 250)\n",
    "        self.linear2 = torch.nn.Linear(250, 1)\n",
    "        self.sigmoid = torch.nn.Sigmoid()\n",
    "\n",
    "    def forward(self, x):\n",
    "        out = self.linear1(x)\n",
    "        out = F.relu(out)\n",
    "        out = F.dropout(out, p=0.5, training=self.training)\n",
    "        out = self.linear2(out)\n",
    "        out = self.sigmoid(out)\n",
    "        return out"
   ]
  },
  {
   "cell_type": "code",
   "execution_count": null,
   "metadata": {},
   "outputs": [],
   "source": [
    "def run_mlp_classifier():\n",
    "    # Initialize the MLP\n",
    "    mlp = MLP().to(device)\n",
    "\n",
    "    # Define the loss function and optimizer\n",
    "    loss_function = F.binary_cross_entropy\n",
    "    optimizer = torch.optim.Adam(mlp.parameters(), lr=1e-4)\n",
    "\n",
    "    mlp.train()\n",
    "    # Run the training loop\n",
    "    for epoch in range(0, 50):\n",
    "        # Iterate over the DataLoader for training data\n",
    "        for i, (inputs, targets) in enumerate(train_dataloader):\n",
    "            # Get inputs\n",
    "            targets = targets.squeeze()\n",
    "\n",
    "            # Perform forward pass\n",
    "            outputs = mlp(inputs)\n",
    "            outputs = outputs.squeeze()\n",
    "\n",
    "            # Compute loss\n",
    "            loss = loss_function(outputs, targets)\n",
    "\n",
    "\n",
    "            # Perform backward pass\n",
    "            loss.backward()\n",
    "            # Perform optimization\n",
    "            optimizer.step()\n",
    "            # Zero the gradients\n",
    "            optimizer.zero_grad()\n",
    "\n",
    "        print(f'Epoch: {epoch}, Epoch loss {loss.item()}')\n",
    "    # Process is complete.\n",
    "    print('Training process has finished.')\n",
    "    print('Final loss', loss.item())\n",
    "    \n",
    "    with torch.no_grad():\n",
    "        mlp.eval()\n",
    "        pred = mlp(test_dataset.tensors[0].to(device))\n",
    "        y_true = test_dataset.tensors[1].tolist()\n",
    "        y_pred = torch.round(torch.tensor(pred.tolist()).squeeze())\n",
    "        results = calculate_accuracy_precision_recall(y_true, y_pred)\n",
    "\n",
    "    print(results)\n",
    "    return results"
   ]
  },
  {
   "cell_type": "code",
   "execution_count": null,
   "metadata": {},
   "outputs": [],
   "source": [
    "mlp_evaluation_results = []\n",
    "for num in global_random_numbers:\n",
    "    torch.manual_seed(num)\n",
    "    mlp_evaluation_results.append(run_mlp_classifier())"
   ]
  },
  {
   "cell_type": "markdown",
   "metadata": {},
   "source": [
    "## <font color='red'>GloVe + MLP results</font>"
   ]
  },
  {
   "cell_type": "code",
   "execution_count": null,
   "metadata": {
    "scrolled": true
   },
   "outputs": [],
   "source": [
    "print_evaluation_results(mlp_evaluation_results)"
   ]
  },
  {
   "cell_type": "markdown",
   "metadata": {},
   "source": [
    "## Train our model"
   ]
  },
  {
   "cell_type": "code",
   "execution_count": 36,
   "metadata": {},
   "outputs": [],
   "source": [
    "\n",
    "device = torch.device('cuda' if torch.cuda.is_available() else 'cpu')\n",
    "def create_graph_of_words(text, window_size):\n",
    "    text = text.split()\n",
    "    G = nx.Graph()\n",
    "    for i, word in enumerate(text):\n",
    "        #embedding = fasttext_model.get_word_vector(word)\n",
    "        embedding = embeddings_lookup.get(word, np.zeros(100, dtype='float32'))\n",
    "        G.add_node(word, x=embedding)\n",
    "        for j in range(i + 1, i + window_size):\n",
    "            if j < len(text):\n",
    "                G.add_edge(word, text[j])\n",
    "    return G\n",
    "\n",
    "def create_graph_of_words_for_pytorch(text, window_size):\n",
    "    return from_networkx(create_graph_of_words(text, window_size))\n",
    "\n",
    "def generate_pytorch_geometric_graphs(window_size):\n",
    "    pyg_graphs = []\n",
    "    for s in tqdm(df['body'].values):\n",
    "        pyg_graphs.append(create_graph_of_words_for_pytorch(s, window_size))\n",
    "    print('finished...')\n",
    "    for i, label in enumerate(df['label'].values):\n",
    "        pyg_graphs[i].y = torch.tensor(label).float()\n",
    "    \n",
    "    pyg_graphs = [g for g in pyg_graphs if g.num_nodes != 0]\n",
    "    return pyg_graphs\n",
    "\n",
    "class GATClassifier(torch.nn.Module):\n",
    "    def __init__(self):\n",
    "        super().__init__()\n",
    "        #torch.manual_seed(12345)\n",
    "        \n",
    "        #self.conv1 = GATConv(100, 10, heads=3)\n",
    "        self.conv1 = SGConv(100, 50, K=1)\n",
    "        self.linear1 = torch.nn.Linear(10*5, 1)\n",
    "        \n",
    "        self.sigmoid = torch.nn.Sigmoid()\n",
    "\n",
    "    def forward(self, data, batch):\n",
    "        x, edge_index = data.x, data.edge_index\n",
    "        \n",
    "        x = F.elu(self.conv1(x, edge_index))\n",
    "        x = global_mean_pool(x, batch)\n",
    "        h = F.dropout(x, p=0.5, training=self.training)\n",
    "        x = self.linear1(h)\n",
    "        x = self.sigmoid(x)\n",
    "        \n",
    "        return h, x"
   ]
  },
  {
   "cell_type": "code",
   "execution_count": 30,
   "metadata": {},
   "outputs": [
    {
     "name": "stderr",
     "output_type": "stream",
     "text": [
      "100%|█████████████████████████████████████████████████| 407799/407799 [20:21<00:00, 333.71it/s]\n"
     ]
    },
    {
     "name": "stdout",
     "output_type": "stream",
     "text": [
      "finished...\n"
     ]
    }
   ],
   "source": [
    "pytorch_geometric_graphs = generate_pytorch_geometric_graphs(window_size=7)"
   ]
  },
  {
   "cell_type": "code",
   "execution_count": 31,
   "metadata": {},
   "outputs": [],
   "source": [
    "train_pyg_graphs, test_pyg_graphs = train_test_split(pytorch_geometric_graphs, test_size=0.33, random_state=42)"
   ]
  },
  {
   "cell_type": "code",
   "execution_count": 37,
   "metadata": {},
   "outputs": [],
   "source": [
    "def run_gat_classifier(train_pyg_graphs, test_pyg_graphs, train_batch_size=300, learning_rate=0.001, num_epoch=10):\n",
    "    train_loader = DataLoader(train_pyg_graphs, batch_size=train_batch_size, shuffle=False)\n",
    "    test_loader = DataLoader(test_pyg_graphs, batch_size=200, shuffle=False)\n",
    "    \n",
    "    gat_model = GATClassifier().to(device)\n",
    "    print(gat_model)\n",
    "    # Define the loss function and optimizer\n",
    "    loss_function = F.binary_cross_entropy\n",
    "    optimizer = torch.optim.Adam(gat_model.parameters(), lr=learning_rate)\n",
    "\n",
    "    gat_model.train()\n",
    "    for epoch in range(0, num_epoch):\n",
    "        for i, data in enumerate(train_loader):  # Iterate in batches over the training dataset.\n",
    "            data = data.to(device)\n",
    "            try:\n",
    "                _, out = gat_model(data, data.batch)  # Perform a single forward pass.\n",
    "            except Exception as e:\n",
    "                print(data)\n",
    "                print(data.x)\n",
    "                print(data.y)\n",
    "            out = out.squeeze()\n",
    "            y = data.y.squeeze()\n",
    "            loss = loss_function(out, y)  # Compute the loss.\n",
    "            loss.backward()  # Derive gradients.\n",
    "            optimizer.step()  # Update parameters based on gradients.\n",
    "            optimizer.zero_grad()  # Clear gradients.\n",
    "        print(f'Epoch: {epoch}, Epoch loss {loss.item()}')\n",
    "\n",
    "    print('Training process has finished.')\n",
    "    print('Final loss', loss.item())\n",
    "    \n",
    "    true_labels = []\n",
    "    pred_labels = []\n",
    "    with torch.no_grad():\n",
    "        gat_model.eval()\n",
    "        for i, data in enumerate(test_loader):\n",
    "            data = data.to(device)\n",
    "            _, out = gat_model(data, data.batch)\n",
    "            pred_labels.extend(torch.round(out.squeeze()).tolist())\n",
    "            true_labels.extend(data.y.tolist())\n",
    "            \n",
    "    #print('true labels ----')\n",
    "    #print(true_labels)\n",
    "    #print('pred labels ----')\n",
    "    #print(pred_labels)\n",
    "    \n",
    "    results = calculate_accuracy_precision_recall(true_labels, pred_labels)\n",
    "    \n",
    "    print(results)\n",
    "    return {\n",
    "        'model': gat_model,\n",
    "        'results': results\n",
    "    }"
   ]
  },
  {
   "cell_type": "code",
   "execution_count": 38,
   "metadata": {},
   "outputs": [
    {
     "name": "stderr",
     "output_type": "stream",
     "text": [
      "'data.DataLoader' is deprecated, use 'loader.DataLoader' instead\n"
     ]
    },
    {
     "name": "stdout",
     "output_type": "stream",
     "text": [
      "GATClassifier(\n",
      "  (conv1): SGConv(100, 50, K=1)\n",
      "  (linear1): Linear(in_features=50, out_features=1, bias=True)\n",
      "  (sigmoid): Sigmoid()\n",
      ")\n",
      "Epoch: 0, Epoch loss 0.3446064889431\n",
      "Epoch: 1, Epoch loss 0.3434496819972992\n",
      "Epoch: 2, Epoch loss 0.34211021661758423\n",
      "Epoch: 3, Epoch loss 0.35209256410598755\n",
      "Epoch: 4, Epoch loss 0.353280246257782\n",
      "Epoch: 5, Epoch loss 0.34084728360176086\n",
      "Epoch: 6, Epoch loss 0.35327771306037903\n",
      "Epoch: 7, Epoch loss 0.3437592685222626\n",
      "Epoch: 8, Epoch loss 0.34147462248802185\n",
      "Epoch: 9, Epoch loss 0.357673317193985\n",
      "Training process has finished.\n",
      "Final loss 0.357673317193985\n",
      "(0.8027776539301796, 0.8166833015757796, 0.7892667670227848)\n",
      "GATClassifier(\n",
      "  (conv1): SGConv(100, 50, K=1)\n",
      "  (linear1): Linear(in_features=50, out_features=1, bias=True)\n",
      "  (sigmoid): Sigmoid()\n",
      ")\n"
     ]
    },
    {
     "name": "stderr",
     "output_type": "stream",
     "text": [
      "'data.DataLoader' is deprecated, use 'loader.DataLoader' instead\n"
     ]
    },
    {
     "name": "stdout",
     "output_type": "stream",
     "text": [
      "Epoch: 0, Epoch loss 0.34338057041168213\n",
      "Epoch: 1, Epoch loss 0.35319092869758606\n",
      "Epoch: 2, Epoch loss 0.34215882420539856\n",
      "Epoch: 3, Epoch loss 0.34182316064834595\n",
      "Epoch: 4, Epoch loss 0.3524443209171295\n",
      "Epoch: 5, Epoch loss 0.35293805599212646\n",
      "Epoch: 6, Epoch loss 0.3540140390396118\n",
      "Epoch: 7, Epoch loss 0.353135883808136\n",
      "Epoch: 8, Epoch loss 0.34889352321624756\n",
      "Epoch: 9, Epoch loss 0.34355491399765015\n",
      "Training process has finished.\n",
      "Final loss 0.34355491399765015\n",
      "(0.802681052803662, 0.8155209573618292, 0.7908013387311285)\n",
      "GATClassifier(\n",
      "  (conv1): SGConv(100, 50, K=1)\n",
      "  (linear1): Linear(in_features=50, out_features=1, bias=True)\n",
      "  (sigmoid): Sigmoid()\n",
      ")\n"
     ]
    },
    {
     "name": "stderr",
     "output_type": "stream",
     "text": [
      "'data.DataLoader' is deprecated, use 'loader.DataLoader' instead\n"
     ]
    },
    {
     "name": "stdout",
     "output_type": "stream",
     "text": [
      "Epoch: 0, Epoch loss 0.3479885458946228\n",
      "Epoch: 1, Epoch loss 0.3509548008441925\n",
      "Epoch: 2, Epoch loss 0.3532697558403015\n",
      "Epoch: 3, Epoch loss 0.33759957551956177\n",
      "Epoch: 4, Epoch loss 0.35386544466018677\n",
      "Epoch: 5, Epoch loss 0.35054337978363037\n",
      "Epoch: 6, Epoch loss 0.3459223508834839\n",
      "Epoch: 7, Epoch loss 0.34807589650154114\n",
      "Epoch: 8, Epoch loss 0.3553924858570099\n",
      "Epoch: 9, Epoch loss 0.34869226813316345\n",
      "Training process has finished.\n",
      "Final loss 0.34869226813316345\n",
      "(0.8028593933449255, 0.8167137910700516, 0.7894275316779445)\n",
      "GATClassifier(\n",
      "  (conv1): SGConv(100, 50, K=1)\n",
      "  (linear1): Linear(in_features=50, out_features=1, bias=True)\n",
      "  (sigmoid): Sigmoid()\n",
      ")\n"
     ]
    },
    {
     "name": "stderr",
     "output_type": "stream",
     "text": [
      "'data.DataLoader' is deprecated, use 'loader.DataLoader' instead\n"
     ]
    },
    {
     "name": "stdout",
     "output_type": "stream",
     "text": [
      "Epoch: 0, Epoch loss 0.3446800112724304\n",
      "Epoch: 1, Epoch loss 0.35039666295051575\n",
      "Epoch: 2, Epoch loss 0.3528206944465637\n",
      "Epoch: 3, Epoch loss 0.3417188227176666\n",
      "Epoch: 4, Epoch loss 0.3507686257362366\n",
      "Epoch: 5, Epoch loss 0.34774115681648254\n",
      "Epoch: 6, Epoch loss 0.343904048204422\n",
      "Epoch: 7, Epoch loss 0.3552398979663849\n",
      "Epoch: 8, Epoch loss 0.36225634813308716\n",
      "Epoch: 9, Epoch loss 0.3561335504055023\n",
      "Training process has finished.\n",
      "Final loss 0.3561335504055023\n",
      "(0.8027553613625217, 0.8168091383614494, 0.7890183125557195)\n",
      "GATClassifier(\n",
      "  (conv1): SGConv(100, 50, K=1)\n",
      "  (linear1): Linear(in_features=50, out_features=1, bias=True)\n",
      "  (sigmoid): Sigmoid()\n",
      ")\n"
     ]
    },
    {
     "name": "stderr",
     "output_type": "stream",
     "text": [
      "'data.DataLoader' is deprecated, use 'loader.DataLoader' instead\n"
     ]
    },
    {
     "name": "stdout",
     "output_type": "stream",
     "text": [
      "Epoch: 0, Epoch loss 0.34802567958831787\n",
      "Epoch: 1, Epoch loss 0.3522244393825531\n",
      "Epoch: 2, Epoch loss 0.3576834797859192\n",
      "Epoch: 3, Epoch loss 0.3490036725997925\n",
      "Epoch: 4, Epoch loss 0.34919270873069763\n",
      "Epoch: 5, Epoch loss 0.34760960936546326\n",
      "Epoch: 6, Epoch loss 0.3494594693183899\n",
      "Epoch: 7, Epoch loss 0.3423284590244293\n",
      "Epoch: 8, Epoch loss 0.34679076075553894\n",
      "Epoch: 9, Epoch loss 0.34588634967803955\n",
      "Training process has finished.\n",
      "Final loss 0.34588634967803955\n",
      "(0.8027850847860657, 0.8163894302678693, 0.7897344460196133)\n",
      "GATClassifier(\n",
      "  (conv1): SGConv(100, 50, K=1)\n",
      "  (linear1): Linear(in_features=50, out_features=1, bias=True)\n",
      "  (sigmoid): Sigmoid()\n",
      ")\n"
     ]
    },
    {
     "name": "stderr",
     "output_type": "stream",
     "text": [
      "'data.DataLoader' is deprecated, use 'loader.DataLoader' instead\n"
     ]
    },
    {
     "name": "stdout",
     "output_type": "stream",
     "text": [
      "Epoch: 0, Epoch loss 0.3525170683860779\n",
      "Epoch: 1, Epoch loss 0.352100670337677\n",
      "Epoch: 2, Epoch loss 0.3556331992149353\n",
      "Epoch: 3, Epoch loss 0.351597398519516\n",
      "Epoch: 4, Epoch loss 0.3465810716152191\n",
      "Epoch: 5, Epoch loss 0.34838107228279114\n",
      "Epoch: 6, Epoch loss 0.3489486873149872\n",
      "Epoch: 7, Epoch loss 0.35474520921707153\n",
      "Epoch: 8, Epoch loss 0.3499526381492615\n",
      "Epoch: 9, Epoch loss 0.337254136800766\n",
      "Training process has finished.\n",
      "Final loss 0.337254136800766\n",
      "(0.8027404996507498, 0.8170050415587955, 0.7886821682767491)\n",
      "GATClassifier(\n",
      "  (conv1): SGConv(100, 50, K=1)\n",
      "  (linear1): Linear(in_features=50, out_features=1, bias=True)\n",
      "  (sigmoid): Sigmoid()\n",
      ")\n"
     ]
    },
    {
     "name": "stderr",
     "output_type": "stream",
     "text": [
      "'data.DataLoader' is deprecated, use 'loader.DataLoader' instead\n"
     ]
    },
    {
     "name": "stdout",
     "output_type": "stream",
     "text": [
      "Epoch: 0, Epoch loss 0.3440572917461395\n",
      "Epoch: 1, Epoch loss 0.3449517786502838\n",
      "Epoch: 2, Epoch loss 0.3518224358558655\n",
      "Epoch: 3, Epoch loss 0.3567434251308441\n",
      "Epoch: 4, Epoch loss 0.3499496579170227\n",
      "Epoch: 5, Epoch loss 0.35461464524269104\n",
      "Epoch: 6, Epoch loss 0.34980958700180054\n",
      "Epoch: 7, Epoch loss 0.3534184396266937\n",
      "Epoch: 8, Epoch loss 0.3512839078903198\n",
      "Epoch: 9, Epoch loss 0.34532132744789124\n",
      "Training process has finished.\n",
      "Final loss 0.34532132744789124\n",
      "(0.8028296699213815, 0.8162245406368427, 0.7900998202358855)\n",
      "GATClassifier(\n",
      "  (conv1): SGConv(100, 50, K=1)\n",
      "  (linear1): Linear(in_features=50, out_features=1, bias=True)\n",
      "  (sigmoid): Sigmoid()\n",
      ")\n"
     ]
    },
    {
     "name": "stderr",
     "output_type": "stream",
     "text": [
      "'data.DataLoader' is deprecated, use 'loader.DataLoader' instead\n"
     ]
    },
    {
     "name": "stdout",
     "output_type": "stream",
     "text": [
      "Epoch: 0, Epoch loss 0.35184386372566223\n",
      "Epoch: 1, Epoch loss 0.34090501070022583\n",
      "Epoch: 2, Epoch loss 0.34919074177742004\n",
      "Epoch: 3, Epoch loss 0.34839195013046265\n",
      "Epoch: 4, Epoch loss 0.35706403851509094\n",
      "Epoch: 5, Epoch loss 0.34120485186576843\n",
      "Epoch: 6, Epoch loss 0.34864678978919983\n",
      "Epoch: 7, Epoch loss 0.35276496410369873\n",
      "Epoch: 8, Epoch loss 0.3608187437057495\n",
      "Epoch: 9, Epoch loss 0.3539724051952362\n",
      "Training process has finished.\n",
      "Final loss 0.3539724051952362\n",
      "(0.8026959145154339, 0.8171036488390058, 0.788419098841033)\n",
      "GATClassifier(\n",
      "  (conv1): SGConv(100, 50, K=1)\n",
      "  (linear1): Linear(in_features=50, out_features=1, bias=True)\n",
      "  (sigmoid): Sigmoid()\n",
      ")\n"
     ]
    },
    {
     "name": "stderr",
     "output_type": "stream",
     "text": [
      "'data.DataLoader' is deprecated, use 'loader.DataLoader' instead\n"
     ]
    },
    {
     "name": "stdout",
     "output_type": "stream",
     "text": [
      "Epoch: 0, Epoch loss 0.34718793630599976\n",
      "Epoch: 1, Epoch loss 0.36111199855804443\n",
      "Epoch: 2, Epoch loss 0.34730273485183716\n",
      "Epoch: 3, Epoch loss 0.3537960648536682\n",
      "Epoch: 4, Epoch loss 0.3469322919845581\n",
      "Epoch: 5, Epoch loss 0.35828620195388794\n",
      "Epoch: 6, Epoch loss 0.3523618280887604\n",
      "Epoch: 7, Epoch loss 0.35021016001701355\n",
      "Epoch: 8, Epoch loss 0.3460008502006531\n",
      "Epoch: 9, Epoch loss 0.3540070354938507\n",
      "Training process has finished.\n",
      "Final loss 0.3540070354938507\n",
      "(0.8028073773537237, 0.81627352079495, 0.7899682855180276)\n",
      "GATClassifier(\n",
      "  (conv1): SGConv(100, 50, K=1)\n",
      "  (linear1): Linear(in_features=50, out_features=1, bias=True)\n",
      "  (sigmoid): Sigmoid()\n",
      ")\n"
     ]
    },
    {
     "name": "stderr",
     "output_type": "stream",
     "text": [
      "'data.DataLoader' is deprecated, use 'loader.DataLoader' instead\n"
     ]
    },
    {
     "name": "stdout",
     "output_type": "stream",
     "text": [
      "Epoch: 0, Epoch loss 0.34989869594573975\n",
      "Epoch: 1, Epoch loss 0.3558759391307831\n",
      "Epoch: 2, Epoch loss 0.3498704731464386\n",
      "Epoch: 3, Epoch loss 0.3509600758552551\n",
      "Epoch: 4, Epoch loss 0.34485843777656555\n",
      "Epoch: 5, Epoch loss 0.34759750962257385\n",
      "Epoch: 6, Epoch loss 0.3573731482028961\n",
      "Epoch: 7, Epoch loss 0.34890836477279663\n",
      "Epoch: 8, Epoch loss 0.3452059328556061\n",
      "Epoch: 9, Epoch loss 0.34611186385154724\n",
      "Training process has finished.\n",
      "Final loss 0.34611186385154724\n",
      "(0.8027776539301796, 0.8162910826486225, 0.7898659807374713)\n"
     ]
    }
   ],
   "source": [
    "gat_evaluation_results = []\n",
    "for num in global_random_numbers:\n",
    "    torch.manual_seed(num)\n",
    "    gat_evaluation_results.append(run_gat_classifier(train_pyg_graphs, test_pyg_graphs)['results'])"
   ]
  },
  {
   "cell_type": "markdown",
   "metadata": {},
   "source": [
    "## <font color='red'>Our approach results</font>"
   ]
  },
  {
   "cell_type": "code",
   "execution_count": 39,
   "metadata": {
    "scrolled": false
   },
   "outputs": [
    {
     "name": "stdout",
     "output_type": "stream",
     "text": [
      "Avg accuracy | Avg precision | Avg recall\n",
      "0.8028+-0.0001, 0.8165+-0.0004, 0.7895+-0.0007\n"
     ]
    }
   ],
   "source": [
    "print_evaluation_results(gat_evaluation_results)"
   ]
  },
  {
   "cell_type": "markdown",
   "metadata": {},
   "source": [
    "## Glove + GATConv"
   ]
  },
  {
   "cell_type": "code",
   "execution_count": null,
   "metadata": {},
   "outputs": [],
   "source": [
    "def create_graph_of_words_glove(text, window_size):\n",
    "    text = text.split()\n",
    "    G = nx.Graph()\n",
    "    for i, word in enumerate(text):\n",
    "        #embedding = fasttext_model.get_word_vector(word)\n",
    "        embedding = get_word_glove_embedding(word)\n",
    "        G.add_node(word, x=embedding)\n",
    "        for j in range(i + 1, i + window_size):\n",
    "            if j < len(text):\n",
    "                G.add_edge(word, text[j])\n",
    "    return G\n",
    "\n",
    "def create_graph_of_words_for_pytorch_glove(text, window_size):\n",
    "    return from_networkx(create_graph_of_words_glove(text, window_size))\n",
    "\n",
    "def generate_pytorch_geometric_graphs_glove(window_size):\n",
    "    pyg_graphs = []\n",
    "    for s in tqdm(df['body'].values):\n",
    "        pyg_graphs.append(create_graph_of_words_for_pytorch_glove(s, window_size))\n",
    "    print('finished...')\n",
    "    for i, label in enumerate(df['label'].values):\n",
    "        pyg_graphs[i].y = torch.tensor(label).float()\n",
    "    \n",
    "    pyg_graphs = [g for g in pyg_graphs if g.num_nodes != 0]\n",
    "    return pyg_graphs\n",
    "\n",
    "class GATGloveClassifier(torch.nn.Module):\n",
    "    def __init__(self):\n",
    "        super().__init__()\n",
    "        #torch.manual_seed(12345)\n",
    "        \n",
    "        self.conv1 = GATConv(100, 10, heads=3)\n",
    "        self.linear1 = torch.nn.Linear(10*3, 1)\n",
    "        \n",
    "        self.sigmoid = torch.nn.Sigmoid()\n",
    "\n",
    "    def forward(self, data, batch):\n",
    "        x, edge_index = data.x, data.edge_index\n",
    "        \n",
    "        x = F.elu(self.conv1(x, edge_index))\n",
    "        x = global_mean_pool(x, batch)\n",
    "        x = F.dropout(x, p=0.5, training=self.training)\n",
    "        x = self.linear1(x)\n",
    "        x = self.sigmoid(x)\n",
    "        \n",
    "        return x"
   ]
  },
  {
   "cell_type": "code",
   "execution_count": null,
   "metadata": {},
   "outputs": [],
   "source": [
    "pytorch_geometric_graphs_glove = generate_pytorch_geometric_graphs_glove(window_size=7)"
   ]
  },
  {
   "cell_type": "code",
   "execution_count": null,
   "metadata": {},
   "outputs": [],
   "source": [
    "train_pyg_graphs_glove, test_pyg_graphs_glove = train_test_split(pytorch_geometric_graphs_glove, test_size=0.33, random_state=42)"
   ]
  },
  {
   "cell_type": "code",
   "execution_count": null,
   "metadata": {},
   "outputs": [],
   "source": [
    "def run_gat_glove_classifier(train_batch_size=300, learning_rate=0.001, num_epoch=10):\n",
    "    train_loader = DataLoader(train_pyg_graphs_glove, batch_size=train_batch_size, shuffle=False)\n",
    "    test_loader = DataLoader(test_pyg_graphs_glove, batch_size=200, shuffle=False)\n",
    "    \n",
    "    gat_model = GATGloveClassifier().to(device)\n",
    "    print(gat_model)\n",
    "    # Define the loss function and optimizer\n",
    "    loss_function = F.binary_cross_entropy\n",
    "    optimizer = torch.optim.Adam(gat_model.parameters(), lr=learning_rate)\n",
    "\n",
    "    gat_model.train()\n",
    "    for epoch in range(0, num_epoch):\n",
    "        for i, data in enumerate(train_loader):  # Iterate in batches over the training dataset.\n",
    "            data = data.to(device)\n",
    "            try:\n",
    "                out = gat_model(data, data.batch)  # Perform a single forward pass.\n",
    "            except Exception as e:\n",
    "                print(data)\n",
    "                print(data.x)\n",
    "                print(data.y)\n",
    "            out = out.squeeze()\n",
    "            y = data.y.squeeze()\n",
    "            loss = loss_function(out, y)  # Compute the loss.\n",
    "            loss.backward()  # Derive gradients.\n",
    "            optimizer.step()  # Update parameters based on gradients.\n",
    "            optimizer.zero_grad()  # Clear gradients.\n",
    "        print(f'Epoch: {epoch}, Epoch loss {loss.item()}')\n",
    "\n",
    "    print('Training process has finished.')\n",
    "    print('Final loss', loss.item())\n",
    "    \n",
    "    true_labels = []\n",
    "    pred_labels = []\n",
    "    with torch.no_grad():\n",
    "        gat_model.eval()\n",
    "        for i, data in enumerate(test_loader):\n",
    "            data = data.to(device)\n",
    "            out = gat_model(data, data.batch)\n",
    "            pred_labels.extend(torch.round(out.squeeze()).tolist())\n",
    "            true_labels.extend(data.y.tolist())\n",
    "    \n",
    "    results = calculate_accuracy_precision_recall(true_labels, pred_labels)\n",
    "    \n",
    "    print(results)\n",
    "    return results"
   ]
  },
  {
   "cell_type": "code",
   "execution_count": null,
   "metadata": {},
   "outputs": [],
   "source": [
    "gat_glove_evaluation_results = []\n",
    "for num in global_random_numbers:\n",
    "    torch.manual_seed(num)\n",
    "    gat_glove_evaluation_results.append(run_gat_glove_classifier())"
   ]
  },
  {
   "cell_type": "markdown",
   "metadata": {},
   "source": [
    "## <font color='red'>GloVe + GATConv results</font>"
   ]
  },
  {
   "cell_type": "code",
   "execution_count": null,
   "metadata": {
    "scrolled": true
   },
   "outputs": [],
   "source": [
    "print_evaluation_results(gat_glove_evaluation_results)"
   ]
  },
  {
   "cell_type": "markdown",
   "metadata": {},
   "source": [
    "## Glove + GCNonv"
   ]
  },
  {
   "cell_type": "code",
   "execution_count": null,
   "metadata": {},
   "outputs": [],
   "source": [
    "class GCNGloveClassifier(torch.nn.Module):\n",
    "    def __init__(self):\n",
    "        super().__init__()\n",
    "        #torch.manual_seed(12345)\n",
    "        \n",
    "        self.conv1 = GCNConv(100, 10)\n",
    "        self.linear1 = torch.nn.Linear(10, 1)\n",
    "        \n",
    "        self.sigmoid = torch.nn.Sigmoid()\n",
    "\n",
    "    def forward(self, data, batch):\n",
    "        x, edge_index = data.x, data.edge_index\n",
    "        \n",
    "        x = F.elu(self.conv1(x, edge_index))\n",
    "        x = global_mean_pool(x, batch)\n",
    "        x = F.dropout(x, p=0.5, training=self.training)\n",
    "        x = self.linear1(x)\n",
    "        x = self.sigmoid(x)\n",
    "        \n",
    "        return x"
   ]
  },
  {
   "cell_type": "code",
   "execution_count": null,
   "metadata": {},
   "outputs": [],
   "source": [
    "def run_gcn_glove_classifier(train_batch_size=300, learning_rate=0.001, num_epoch=10):\n",
    "    train_loader = DataLoader(train_pyg_graphs_glove, batch_size=train_batch_size, shuffle=False)\n",
    "    test_loader = DataLoader(test_pyg_graphs_glove, batch_size=200, shuffle=False)\n",
    "    \n",
    "    model = GCNGloveClassifier().to(device)\n",
    "    print(model)\n",
    "    # Define the loss function and optimizer\n",
    "    loss_function = F.binary_cross_entropy\n",
    "    optimizer = torch.optim.Adam(model.parameters(), lr=learning_rate)\n",
    "\n",
    "    model.train()\n",
    "    for epoch in range(0, num_epoch):\n",
    "        for i, data in enumerate(train_loader):  # Iterate in batches over the training dataset.\n",
    "            data = data.to(device)\n",
    "            try:\n",
    "                out = model(data, data.batch)  # Perform a single forward pass.\n",
    "            except Exception as e:\n",
    "                print(data)\n",
    "                print(data.x)\n",
    "                print(data.y)\n",
    "            out = out.squeeze()\n",
    "            y = data.y.squeeze()\n",
    "            loss = loss_function(out, y)  # Compute the loss.\n",
    "            loss.backward()  # Derive gradients.\n",
    "            optimizer.step()  # Update parameters based on gradients.\n",
    "            optimizer.zero_grad()  # Clear gradients.\n",
    "        print(f'Epoch: {epoch}, Epoch loss {loss.item()}')\n",
    "\n",
    "    print('Training process has finished.')\n",
    "    print('Final loss', loss.item())\n",
    "    \n",
    "    true_labels = []\n",
    "    pred_labels = []\n",
    "    with torch.no_grad():\n",
    "        model.eval()\n",
    "        for i, data in enumerate(test_loader):\n",
    "            data = data.to(device)\n",
    "            out = model(data, data.batch)\n",
    "            pred_labels.extend(torch.round(out.squeeze()).tolist())\n",
    "            true_labels.extend(data.y.tolist())\n",
    "    \n",
    "    results = calculate_accuracy_precision_recall(true_labels, pred_labels)\n",
    "    \n",
    "    print(results)\n",
    "    return results"
   ]
  },
  {
   "cell_type": "code",
   "execution_count": null,
   "metadata": {},
   "outputs": [],
   "source": [
    "gcn_glove_evaluation_results = []\n",
    "for num in global_random_numbers:\n",
    "    torch.manual_seed(num)\n",
    "    gcn_glove_evaluation_results.append(run_gcn_glove_classifier())"
   ]
  },
  {
   "cell_type": "markdown",
   "metadata": {},
   "source": [
    "## <font color='red'>GloVe + GCNConv results</font>"
   ]
  },
  {
   "cell_type": "code",
   "execution_count": null,
   "metadata": {
    "scrolled": true
   },
   "outputs": [],
   "source": [
    "print_evaluation_results(gcn_glove_evaluation_results)"
   ]
  },
  {
   "cell_type": "markdown",
   "metadata": {},
   "source": [
    "## Glove + GraphConv"
   ]
  },
  {
   "cell_type": "code",
   "execution_count": null,
   "metadata": {},
   "outputs": [],
   "source": [
    "class GraphConvGloveClassifier(torch.nn.Module):\n",
    "    def __init__(self):\n",
    "        super().__init__()\n",
    "        #torch.manual_seed(12345)\n",
    "        \n",
    "        self.conv1 = GraphConv(100, 10, aggr='mean')\n",
    "        self.linear1 = torch.nn.Linear(10, 1)\n",
    "        \n",
    "        self.sigmoid = torch.nn.Sigmoid()\n",
    "\n",
    "    def forward(self, data, batch):\n",
    "        x, edge_index = data.x, data.edge_index\n",
    "        \n",
    "        x = F.elu(self.conv1(x, edge_index))\n",
    "        x = global_mean_pool(x, batch)\n",
    "        x = F.dropout(x, p=0.5, training=self.training)\n",
    "        x = self.linear1(x)\n",
    "        x = self.sigmoid(x)\n",
    "        \n",
    "        return x"
   ]
  },
  {
   "cell_type": "code",
   "execution_count": null,
   "metadata": {},
   "outputs": [],
   "source": [
    "def run_graphconv_glove_classifier(train_batch_size=300, learning_rate=0.001, num_epoch=10):\n",
    "    train_loader = DataLoader(train_pyg_graphs_glove, batch_size=train_batch_size, shuffle=False)\n",
    "    test_loader = DataLoader(test_pyg_graphs_glove, batch_size=200, shuffle=False)\n",
    "    \n",
    "    model = GraphConvGloveClassifier().to(device)\n",
    "    print(model)\n",
    "    # Define the loss function and optimizer\n",
    "    loss_function = F.binary_cross_entropy\n",
    "    optimizer = torch.optim.Adam(model.parameters(), lr=learning_rate)\n",
    "\n",
    "    model.train()\n",
    "    for epoch in range(0, num_epoch):\n",
    "        for i, data in enumerate(train_loader):  # Iterate in batches over the training dataset.\n",
    "            data = data.to(device)\n",
    "            try:\n",
    "                out = model(data, data.batch)  # Perform a single forward pass.\n",
    "            except Exception as e:\n",
    "                print(data)\n",
    "                print(data.x)\n",
    "                print(data.y)\n",
    "            out = out.squeeze()\n",
    "            y = data.y.squeeze()\n",
    "            loss = loss_function(out, y)  # Compute the loss.\n",
    "            loss.backward()  # Derive gradients.\n",
    "            optimizer.step()  # Update parameters based on gradients.\n",
    "            optimizer.zero_grad()  # Clear gradients.\n",
    "        print(f'Epoch: {epoch}, Epoch loss {loss.item()}')\n",
    "\n",
    "    print('Training process has finished.')\n",
    "    print('Final loss', loss.item())\n",
    "    \n",
    "    true_labels = []\n",
    "    pred_labels = []\n",
    "    with torch.no_grad():\n",
    "        model.eval()\n",
    "        for i, data in enumerate(test_loader):\n",
    "            data = data.to(device)\n",
    "            out = model(data, data.batch)\n",
    "            pred_labels.extend(torch.round(out.squeeze()).tolist())\n",
    "            true_labels.extend(data.y.tolist())\n",
    "    \n",
    "    results = calculate_accuracy_precision_recall(true_labels, pred_labels)\n",
    "    \n",
    "    print(results)\n",
    "    return results"
   ]
  },
  {
   "cell_type": "code",
   "execution_count": null,
   "metadata": {},
   "outputs": [],
   "source": [
    "graphconv_glove_evaluation_results = []\n",
    "for num in global_random_numbers:\n",
    "    torch.manual_seed(num)\n",
    "    graphconv_glove_evaluation_results.append(run_graphconv_glove_classifier())"
   ]
  },
  {
   "cell_type": "markdown",
   "metadata": {},
   "source": [
    "## <font color='red'>GloVe + GraphConv results</font>"
   ]
  },
  {
   "cell_type": "code",
   "execution_count": null,
   "metadata": {
    "scrolled": true
   },
   "outputs": [],
   "source": [
    "print_evaluation_results(graphconv_glove_evaluation_results)"
   ]
  },
  {
   "cell_type": "markdown",
   "metadata": {},
   "source": [
    "## Glove + SAGEConv"
   ]
  },
  {
   "cell_type": "code",
   "execution_count": null,
   "metadata": {},
   "outputs": [],
   "source": [
    "class SAGEConvGloveClassifier(torch.nn.Module):\n",
    "    def __init__(self):\n",
    "        super().__init__()\n",
    "        #torch.manual_seed(12345)\n",
    "        \n",
    "        self.conv1 = SAGEConv(100, 10)\n",
    "        self.linear1 = torch.nn.Linear(10, 1)\n",
    "        \n",
    "        self.sigmoid = torch.nn.Sigmoid()\n",
    "\n",
    "    def forward(self, data, batch):\n",
    "        x, edge_index = data.x, data.edge_index\n",
    "        \n",
    "        x = F.elu(self.conv1(x, edge_index))\n",
    "        x = global_mean_pool(x, batch)\n",
    "        x = F.dropout(x, p=0.5, training=self.training)\n",
    "        x = self.linear1(x)\n",
    "        x = self.sigmoid(x)\n",
    "        \n",
    "        return x"
   ]
  },
  {
   "cell_type": "code",
   "execution_count": null,
   "metadata": {},
   "outputs": [],
   "source": [
    "def run_sageconv_glove_classifier(train_batch_size=300, learning_rate=0.001, num_epoch=10):\n",
    "    train_loader = DataLoader(train_pyg_graphs_glove, batch_size=train_batch_size, shuffle=False)\n",
    "    test_loader = DataLoader(test_pyg_graphs_glove, batch_size=200, shuffle=False)\n",
    "    \n",
    "    model = SAGEConvGloveClassifier().to(device)\n",
    "    print(model)\n",
    "    # Define the loss function and optimizer\n",
    "    loss_function = F.binary_cross_entropy\n",
    "    optimizer = torch.optim.Adam(model.parameters(), lr=learning_rate)\n",
    "\n",
    "    model.train()\n",
    "    for epoch in range(0, num_epoch):\n",
    "        for i, data in enumerate(train_loader):  # Iterate in batches over the training dataset.\n",
    "            data = data.to(device)\n",
    "            try:\n",
    "                out = model(data, data.batch)  # Perform a single forward pass.\n",
    "            except Exception as e:\n",
    "                print(data)\n",
    "                print(data.x)\n",
    "                print(data.y)\n",
    "            out = out.squeeze()\n",
    "            y = data.y.squeeze()\n",
    "            loss = loss_function(out, y)  # Compute the loss.\n",
    "            loss.backward()  # Derive gradients.\n",
    "            optimizer.step()  # Update parameters based on gradients.\n",
    "            optimizer.zero_grad()  # Clear gradients.\n",
    "        print(f'Epoch: {epoch}, Epoch loss {loss.item()}')\n",
    "\n",
    "    print('Training process has finished.')\n",
    "    print('Final loss', loss.item())\n",
    "    \n",
    "    true_labels = []\n",
    "    pred_labels = []\n",
    "    with torch.no_grad():\n",
    "        model.eval()\n",
    "        for i, data in enumerate(test_loader):\n",
    "            data = data.to(device)\n",
    "            out = model(data, data.batch)\n",
    "            pred_labels.extend(torch.round(out.squeeze()).tolist())\n",
    "            true_labels.extend(data.y.tolist())\n",
    "    \n",
    "    results = calculate_accuracy_precision_recall(true_labels, pred_labels)\n",
    "    \n",
    "    print(results)\n",
    "    return results"
   ]
  },
  {
   "cell_type": "code",
   "execution_count": null,
   "metadata": {},
   "outputs": [],
   "source": [
    "sageconv_glove_evaluation_results = []\n",
    "for num in global_random_numbers:\n",
    "    torch.manual_seed(num)\n",
    "    sageconv_glove_evaluation_results.append(run_sageconv_glove_classifier())"
   ]
  },
  {
   "cell_type": "markdown",
   "metadata": {},
   "source": [
    "## <font color='red'>GloVe + SAGEConv results</font>"
   ]
  },
  {
   "cell_type": "code",
   "execution_count": null,
   "metadata": {
    "scrolled": true
   },
   "outputs": [],
   "source": [
    "print_evaluation_results(sageconv_glove_evaluation_results)"
   ]
  },
  {
   "cell_type": "code",
   "execution_count": null,
   "metadata": {},
   "outputs": [],
   "source": [
    "del pytorch_geometric_graphs_glove\n",
    "del train_pyg_graphs_glove\n",
    "del test_pyg_graphs_glove"
   ]
  },
  {
   "cell_type": "markdown",
   "metadata": {},
   "source": [
    "# Parameter Sensitivity"
   ]
  },
  {
   "cell_type": "code",
   "execution_count": null,
   "metadata": {},
   "outputs": [],
   "source": [
    "torch.manual_seed(12345)"
   ]
  },
  {
   "cell_type": "markdown",
   "metadata": {},
   "source": [
    "## Sliding window"
   ]
  },
  {
   "cell_type": "code",
   "execution_count": null,
   "metadata": {},
   "outputs": [],
   "source": [
    "def run_sliding_window_experiments():\n",
    "    sliding_windows = [2, 3, 4, 6, 7, 10]\n",
    "    \n",
    "    sliding_window_results = []\n",
    "    for sw in sliding_windows:\n",
    "        print('Window size:', sw)\n",
    "        pytorch_geometric_graphs = generate_pytorch_geometric_graphs(window_size=sw)\n",
    "        train_pyg_graphs, test_pyg_graphs = train_test_split(pytorch_geometric_graphs, test_size=0.33, random_state=42)\n",
    "        sliding_window_results.append((sw, run_gat_classifier(train_pyg_graphs, test_pyg_graphs)['results']))\n",
    "    return sliding_window_results"
   ]
  },
  {
   "cell_type": "code",
   "execution_count": null,
   "metadata": {
    "scrolled": false
   },
   "outputs": [],
   "source": [
    "sliding_window_results = run_sliding_window_experiments()\n",
    "sliding_window_results = [[sw, results[0]] for sw, results in sliding_window_results]"
   ]
  },
  {
   "cell_type": "markdown",
   "metadata": {},
   "source": [
    "## <font color='red'>Sliding window results</font>"
   ]
  },
  {
   "cell_type": "code",
   "execution_count": null,
   "metadata": {},
   "outputs": [],
   "source": [
    "plot_x = [res[0] for res in sliding_window_results]\n",
    "plot_y = [res[1] for res in sliding_window_results]\n",
    "sliding_window_results"
   ]
  },
  {
   "cell_type": "code",
   "execution_count": null,
   "metadata": {},
   "outputs": [],
   "source": [
    "fig = sns.lineplot(x=plot_x, y=plot_y)\n",
    "fig.set_xlabel('window size')\n",
    "fig.set_ylabel('accuracy')\n",
    "fig.get_figure().savefig('figures/plot_window_size.pdf', dpi=500)"
   ]
  },
  {
   "cell_type": "markdown",
   "metadata": {},
   "source": [
    "## Learning rate"
   ]
  },
  {
   "cell_type": "code",
   "execution_count": null,
   "metadata": {},
   "outputs": [],
   "source": [
    "def run_learning_rate_experiments():\n",
    "    learning_rates = [0.0001, 0.001, 0.005, 0.01, 0.05, 0.1, 0.5]\n",
    "    \n",
    "    learning_rate_results = []\n",
    "    for lr in learning_rates:\n",
    "        print('Learning rate:', lr)\n",
    "        #pytorch_geometric_graphs = generate_pytorch_geometric_graphs(window_size=2)\n",
    "        #train_pyg_graphs, test_pyg_graphs = train_test_split(pytorch_geometric_graphs, test_size=0.33, random_state=42)\n",
    "        learning_rate_results.append((lr, run_gat_classifier(train_pyg_graphs, test_pyg_graphs, learning_rate=lr)['results']))\n",
    "    return learning_rate_results"
   ]
  },
  {
   "cell_type": "code",
   "execution_count": null,
   "metadata": {
    "scrolled": false
   },
   "outputs": [],
   "source": [
    "learning_rate_results = run_learning_rate_experiments()\n",
    "learning_rate_results = [[lr, results[0]] for lr, results in learning_rate_results]"
   ]
  },
  {
   "cell_type": "markdown",
   "metadata": {},
   "source": [
    "## <font color='red'>Learning rate results</font>"
   ]
  },
  {
   "cell_type": "code",
   "execution_count": null,
   "metadata": {},
   "outputs": [],
   "source": [
    "plot_x = [res[0] for res in learning_rate_results]\n",
    "plot_y = [res[1] for res in learning_rate_results]\n",
    "learning_rate_results"
   ]
  },
  {
   "cell_type": "code",
   "execution_count": null,
   "metadata": {},
   "outputs": [],
   "source": [
    "fig = sns.lineplot(x=plot_x, y=plot_y)\n",
    "fig.set_xlabel('learning rate')\n",
    "fig.set_ylabel('accuracy')\n",
    "fig.get_figure().savefig('figures/plot_learning_rate.pdf', dpi=500)"
   ]
  },
  {
   "cell_type": "markdown",
   "metadata": {},
   "source": [
    "## Dataset size"
   ]
  },
  {
   "cell_type": "code",
   "execution_count": null,
   "metadata": {},
   "outputs": [],
   "source": [
    "len(pytorch_geometric_graphs)"
   ]
  },
  {
   "cell_type": "code",
   "execution_count": null,
   "metadata": {},
   "outputs": [],
   "source": [
    "def run_training_size_experiments():\n",
    "    training_sizes = [0.1, 0.2, 0.3, 0.4, 0.5, 0.6, 0.7, 0.8, 0.9, 1]\n",
    "    \n",
    "    training_size_results = []\n",
    "    for ts in training_sizes:\n",
    "        print('Training size:', ts)\n",
    "        if ts == 1:\n",
    "            print('All samples')\n",
    "            tmp_graphs = pytorch_geometric_graphs\n",
    "        else:\n",
    "            tmp_graphs, _ = train_test_split(pytorch_geometric_graphs, train_size=ts, random_state=42)\n",
    "        \n",
    "        print('Number of samples:', len(tmp_graphs))\n",
    "        train_pyg_graphs, test_pyg_graphs = train_test_split(tmp_graphs, test_size=0.33, random_state=42)\n",
    "        training_size_results.append((ts, run_gat_classifier(train_pyg_graphs, test_pyg_graphs)['results']))\n",
    "    return training_size_results"
   ]
  },
  {
   "cell_type": "code",
   "execution_count": null,
   "metadata": {
    "scrolled": false
   },
   "outputs": [],
   "source": [
    "training_size_results = run_training_size_experiments()\n",
    "training_size_results = [[ts, results[0]] for ts, results in training_size_results]"
   ]
  },
  {
   "cell_type": "markdown",
   "metadata": {},
   "source": [
    "## <font color='red'>Dataset size results</font>"
   ]
  },
  {
   "cell_type": "code",
   "execution_count": null,
   "metadata": {},
   "outputs": [],
   "source": [
    "plot_x = [res[0] for res in training_size_results]\n",
    "plot_y = [res[1] for res in training_size_results]\n",
    "training_size_results"
   ]
  },
  {
   "cell_type": "code",
   "execution_count": null,
   "metadata": {},
   "outputs": [],
   "source": [
    "fig = sns.lineplot(x=plot_x, y=plot_y)\n",
    "fig.set_xlabel('dataset size')\n",
    "fig.set_ylabel('accuracy')\n",
    "fig.get_figure().savefig('figures/training_size_rate.pdf', dpi=500)"
   ]
  },
  {
   "cell_type": "markdown",
   "metadata": {},
   "source": [
    "## Draw an exemplar graph-of-words graph with 15 nodes and 3 window size"
   ]
  },
  {
   "cell_type": "code",
   "execution_count": null,
   "metadata": {},
   "outputs": [],
   "source": [
    "text = df['body'][df['number_of_words_of_body'] == 15].values[6]\n",
    "text = text.replace(',', '')\n",
    "text = text.replace('.', '')\n",
    "g = create_graph_of_words(text, 3)\n",
    "nx.draw_kamada_kawai(g, with_labels=True, node_color='white', node_size=1300)\n",
    "plt.savefig(\"Graph1.pdf\")\n",
    "plt.show()"
   ]
  },
  {
   "cell_type": "markdown",
   "metadata": {},
   "source": [
    "## Documents visualization"
   ]
  },
  {
   "cell_type": "code",
   "execution_count": null,
   "metadata": {},
   "outputs": [],
   "source": [
    "from sklearn.manifold import TSNE\n",
    "def run_document_visualization_experiment():\n",
    "    sw = 7\n",
    "    print('Window size:', sw)\n",
    "    pytorch_geometric_graphs = generate_pytorch_geometric_graphs(window_size=sw)\n",
    "    train_pyg_graphs, test_pyg_graphs = train_test_split(pytorch_geometric_graphs, test_size=0.33, random_state=42)\n",
    "    model = run_gat_classifier(train_pyg_graphs, test_pyg_graphs)['model']\n",
    "    \n",
    "    loader = DataLoader(pytorch_geometric_graphs, batch_size=100, shuffle=False)\n",
    "    documents_embeddings = []\n",
    "    \n",
    "    pred_labels = []\n",
    "    with torch.no_grad():\n",
    "        model.eval()\n",
    "        for i, data in enumerate(loader):\n",
    "            data = data.to(device)\n",
    "            embeddings, out = model(data, data.batch)\n",
    "            documents_embeddings.extend(embeddings.tolist())\n",
    "            pred_labels.extend(torch.round(out.squeeze()).tolist())\n",
    "    \n",
    "    print('Number of documents:', len(documents_embeddings))\n",
    "    print('Number of dimensions per document:', len(documents_embeddings[0]))\n",
    "    return documents_embeddings, pred_labels"
   ]
  },
  {
   "cell_type": "code",
   "execution_count": null,
   "metadata": {},
   "outputs": [],
   "source": [
    "documents_embeddings, pred_labels = run_document_visualization_experiment()\n",
    "documents_embeddings = np.array(documents_embeddings)\n",
    "visualization_x_y = TSNE(n_components=2, learning_rate='auto', init='pca', random_state=42).fit_transform(np.array(documents_embeddings))"
   ]
  },
  {
   "cell_type": "code",
   "execution_count": null,
   "metadata": {},
   "outputs": [],
   "source": [
    "fig = sns.scatterplot(x=visualization_x_y[:, 0], y=visualization_x_y[:, 1], hue=pred_labels)\n",
    "fig.set_xlabel('')\n",
    "fig.set_ylabel('')\n",
    "fig.get_figure().savefig('figures/documents_visualization.jpg', dpi=500)"
   ]
  },
  {
   "cell_type": "markdown",
   "metadata": {},
   "source": [
    "## Documents visualization fastText"
   ]
  },
  {
   "cell_type": "code",
   "execution_count": null,
   "metadata": {},
   "outputs": [],
   "source": [
    "predicted_labels = [int(res[0].split('__label__')[1]) for res in fasttext_model.predict(df['body'].values.tolist())[0]]\n",
    "fasttext_document_embeddings = [fasttext_model.get_sentence_vector(doc) for doc in df['body'].values.tolist()]\n",
    "visualization_x_y_fasttext = TSNE(n_components=2, learning_rate='auto', init='pca', random_state=42).fit_transform(np.array(fasttext_document_embeddings))"
   ]
  },
  {
   "cell_type": "code",
   "execution_count": null,
   "metadata": {},
   "outputs": [],
   "source": [
    "fig = sns.scatterplot(x=visualization_x_y_fasttext[:, 0], y=visualization_x_y_fasttext[:, 1], hue=df['label'])\n",
    "fig.set_xlabel('')\n",
    "fig.set_ylabel('')\n",
    "fig.get_figure().savefig('figures/fasttext_real_labels_documents_visualization.jpg', dpi=500)"
   ]
  },
  {
   "cell_type": "markdown",
   "metadata": {},
   "source": [
    "## Explainability"
   ]
  },
  {
   "cell_type": "code",
   "execution_count": null,
   "metadata": {},
   "outputs": [],
   "source": [
    "num = global_random_numbers[0]\n",
    "torch.manual_seed(num)\n",
    "result = run_gat_classifier(train_pyg_graphs, test_pyg_graphs)"
   ]
  },
  {
   "cell_type": "code",
   "execution_count": null,
   "metadata": {},
   "outputs": [],
   "source": [
    "fast_gat_conv_model = result['model']"
   ]
  },
  {
   "cell_type": "code",
   "execution_count": null,
   "metadata": {},
   "outputs": [],
   "source": [
    "type(fast_gat_conv_model)"
   ]
  },
  {
   "cell_type": "code",
   "execution_count": null,
   "metadata": {},
   "outputs": [],
   "source": [
    "def run_gat_glove_classifier(train_batch_size=300, learning_rate=0.001, num_epoch=10):\n",
    "    train_loader = DataLoader(train_pyg_graphs_glove, batch_size=train_batch_size, shuffle=False)\n",
    "    test_loader = DataLoader(test_pyg_graphs_glove, batch_size=200, shuffle=False)\n",
    "    \n",
    "    gat_model = GATGloveClassifier().to(device)\n",
    "    print(gat_model)\n",
    "    # Define the loss function and optimizer\n",
    "    loss_function = F.binary_cross_entropy\n",
    "    optimizer = torch.optim.Adam(gat_model.parameters(), lr=learning_rate)\n",
    "\n",
    "    gat_model.train()\n",
    "    for epoch in range(0, num_epoch):\n",
    "        for i, data in enumerate(train_loader):  # Iterate in batches over the training dataset.\n",
    "            data = data.to(device)\n",
    "            try:\n",
    "                out = gat_model(data, data.batch)  # Perform a single forward pass.\n",
    "            except Exception as e:\n",
    "                print(data)\n",
    "                print(data.x)\n",
    "                print(data.y)\n",
    "            out = out.squeeze()\n",
    "            y = data.y.squeeze()\n",
    "            loss = loss_function(out, y)  # Compute the loss.\n",
    "            loss.backward()  # Derive gradients.\n",
    "            optimizer.step()  # Update parameters based on gradients.\n",
    "            optimizer.zero_grad()  # Clear gradients.\n",
    "        print(f'Epoch: {epoch}, Epoch loss {loss.item()}')\n",
    "\n",
    "    print('Training process has finished.')\n",
    "    print('Final loss', loss.item())\n",
    "    \n",
    "    true_labels = []\n",
    "    pred_labels = []\n",
    "    with torch.no_grad():\n",
    "        gat_model.eval()\n",
    "        for i, data in enumerate(test_loader):\n",
    "            data = data.to(device)\n",
    "            out = gat_model(data, data.batch)\n",
    "            pred_labels.extend(torch.round(out.squeeze()).tolist())\n",
    "            true_labels.extend(data.y.tolist())\n",
    "    \n",
    "    results = calculate_accuracy_precision_recall(true_labels, pred_labels)\n",
    "    \n",
    "    print(results)\n",
    "    return results"
   ]
  },
  {
   "cell_type": "code",
   "execution_count": null,
   "metadata": {},
   "outputs": [],
   "source": []
  },
  {
   "cell_type": "code",
   "execution_count": null,
   "metadata": {},
   "outputs": [],
   "source": []
  },
  {
   "cell_type": "code",
   "execution_count": null,
   "metadata": {},
   "outputs": [],
   "source": []
  },
  {
   "cell_type": "code",
   "execution_count": null,
   "metadata": {},
   "outputs": [],
   "source": []
  },
  {
   "cell_type": "code",
   "execution_count": null,
   "metadata": {},
   "outputs": [],
   "source": [
    "fast_gat_conv_model('jfdkslj ')"
   ]
  },
  {
   "cell_type": "code",
   "execution_count": null,
   "metadata": {},
   "outputs": [],
   "source": [
    "# explain th model on two sample inputs\n",
    "explainer = shap.Explainer(fasttext_model)\n",
    "shap_values = explainer([\"What a great movie! ...if you have no taste.\"])\n",
    "\n",
    "# visualize the first prediction's explanation for the POSITIVE output class\n",
    "shap.plots.text(shap_values[0, :, \"POSITIVE\"])"
   ]
  },
  {
   "cell_type": "code",
   "execution_count": null,
   "metadata": {},
   "outputs": [],
   "source": [
    "# ...include code from https://github.com/keras-team/keras/blob/master/examples/mnist_cnn.py\n",
    "\n",
    "import shap\n",
    "import numpy as np\n",
    "\n",
    "# select a set of background examples to take an expectation over\n",
    "background = x_train[np.random.choice(x_train.shape[0], 100, replace=False)]\n",
    "\n",
    "# explain predictions of the model on four images\n",
    "e = shap.DeepExplainer(model, background)\n",
    "# ...or pass tensors directly\n",
    "# e = shap.DeepExplainer((model.layers[0].input, model.layers[-1].output), background)\n",
    "shap_values = e.shap_values(x_test[1:5])\n",
    "\n",
    "# plot the feature attributions\n",
    "shap.image_plot(shap_values, -x_test[1:5])"
   ]
  }
 ],
 "metadata": {
  "kernelspec": {
   "display_name": "Python 3 (ipykernel)",
   "language": "python",
   "name": "python3"
  },
  "language_info": {
   "codemirror_mode": {
    "name": "ipython",
    "version": 3
   },
   "file_extension": ".py",
   "mimetype": "text/x-python",
   "name": "python",
   "nbconvert_exporter": "python",
   "pygments_lexer": "ipython3",
   "version": "3.9.12"
  }
 },
 "nbformat": 4,
 "nbformat_minor": 4
}
