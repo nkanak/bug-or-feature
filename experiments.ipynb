{
 "cells": [
  {
   "cell_type": "code",
   "execution_count": 1,
   "metadata": {},
   "outputs": [
    {
     "name": "stderr",
     "output_type": "stream",
     "text": [
      "d:\\Development\\bug-or-feature\\.venv\\lib\\site-packages\\tqdm\\auto.py:21: TqdmWarning: IProgress not found. Please update jupyter and ipywidgets. See https://ipywidgets.readthedocs.io/en/stable/user_install.html\n",
      "  from .autonotebook import tqdm as notebook_tqdm\n"
     ]
    }
   ],
   "source": [
    "# Importing necessary libraries for data manipulation and preprocessing\n",
    "import pandas as pd\n",
    "import numpy as np\n",
    "\n",
    "# Import json for storing results\n",
    "import json\n",
    "\n",
    "# Importing libraries for data visualization\n",
    "import seaborn as sns\n",
    "import matplotlib.pyplot as plt\n",
    "\n",
    "# Setting seaborn theme for plots\n",
    "sns.set_theme()\n",
    "\n",
    "# Ensure inline plotting in Jupyter notebooks\n",
    "%matplotlib inline\n",
    "\n",
    "# Importing text processing libraries\n",
    "from gensim.parsing.preprocessing import remove_stopwords\n",
    "import contractions\n",
    "\n",
    "# Importing libraries for machine learning and evaluation\n",
    "from sklearn.linear_model import LogisticRegression\n",
    "from sklearn.neighbors import KNeighborsClassifier\n",
    "from sklearn.model_selection import train_test_split\n",
    "from sklearn.feature_extraction.text import TfidfVectorizer\n",
    "from sklearn.preprocessing import MaxAbsScaler\n",
    "from sklearn.metrics import accuracy_score, recall_score, precision_score\n",
    "from sklearn.manifold import TSNE\n",
    "\n",
    "\n",
    "# Importing libraries for fastText embeddings\n",
    "import fasttext\n",
    "\n",
    "# Importing PyTorch and PyTorch Geometric for Graph Neural Networks (GNN)\n",
    "import torch\n",
    "import torch.nn.functional as F\n",
    "from torch_geometric.nn import GCNConv, GraphConv, GATConv, SAGEConv\n",
    "from torch_geometric.utils.convert import from_networkx\n",
    "from torch_geometric.data import Data, DataLoader\n",
    "from torch_geometric.nn import global_mean_pool\n",
    "\n",
    "# Importing networkx for graph manipulation\n",
    "import networkx as nx\n",
    "\n",
    "# Importing Gensim for word embeddings\n",
    "from gensim.models import KeyedVectors\n",
    "from gensim.scripts.glove2word2vec import glove2word2vec\n",
    "\n",
    "# For progress visualization in loops\n",
    "from tqdm import tqdm\n",
    "\n",
    "# For reproducibility\n",
    "import random"
   ]
  },
  {
   "cell_type": "code",
   "execution_count": 2,
   "metadata": {},
   "outputs": [],
   "source": [
    "def calculate_accuracy_precision_recall(true_labels, predicted_labels):\n",
    "    \"\"\"\n",
    "    Calculate and return the accuracy, precision, and recall scores.\n",
    "    \n",
    "    Parameters:\n",
    "    true_labels (array-like): True labels of the dataset.\n",
    "    predicted_labels (array-like): Predicted labels from the model.\n",
    "    \n",
    "    Returns:\n",
    "    tuple: Accuracy, precision, and recall scores.\n",
    "    \"\"\"\n",
    "    return (accuracy_score(true_labels, predicted_labels),\n",
    "            precision_score(true_labels, predicted_labels),\n",
    "            recall_score(true_labels, predicted_labels))\n",
    "\n",
    "def print_evaluation_results(results):\n",
    "    \"\"\"\n",
    "    Print the average and standard deviation of accuracy, precision, and recall scores.\n",
    "    \n",
    "    Parameters:\n",
    "    results (array-like): A list of tuples containing accuracy, precision, and recall scores.\n",
    "    \"\"\"\n",
    "    print('Avg accuracy | Avg precision | Avg recall')\n",
    "    avg_accuracy, avg_precision, avg_recall = np.mean(results, axis=0)\n",
    "    std_accuracy, std_precision, std_recall = np.std(results, axis=0)\n",
    "    print(f'{avg_accuracy:.4f}+-{std_accuracy:.4f}, {avg_precision:.4f}+-{std_precision:.4f}, {avg_recall:.4f}+-{std_recall:.4f}')\n",
    "\n",
    "def get_random_number():\n",
    "    \"\"\"\n",
    "    Generate a random integer between 0 and 10000.\n",
    "    \n",
    "    Returns:\n",
    "    int: A random integer.\n",
    "    \"\"\"\n",
    "    return random.randint(0, 10000)\n",
    "\n",
    "# Generating a global random number and a list of 10 random numbers\n",
    "global_random_number = get_random_number()\n",
    "global_random_numbers = [get_random_number() for _ in range(10)]"
   ]
  },
  {
   "cell_type": "markdown",
   "metadata": {},
   "source": [
    "## Load dataset"
   ]
  },
  {
   "cell_type": "code",
   "execution_count": 23,
   "metadata": {},
   "outputs": [
    {
     "data": {
      "text/plain": [
       "814322"
      ]
     },
     "execution_count": 23,
     "metadata": {},
     "output_type": "execute_result"
    }
   ],
   "source": [
    "# Specify the dataset file name\n",
    "dataset = 'jira_samples_2.csv'\n",
    "\n",
    "# Load the dataset into a DataFrame\n",
    "df = pd.read_csv(dataset)\n",
    "\n",
    "# Filter the DataFrame to include only rows where 'label' is 0 (bug) or 1 (feature)\n",
    "df = df[(df['label'] == 0) | (df['label'] == 1)]\n",
    "\n",
    "# Print the number of rows in the filtered DataFrame\n",
    "len(df)"
   ]
  },
  {
   "cell_type": "markdown",
   "metadata": {},
   "source": [
    "## Preprocess dataset"
   ]
  },
  {
   "cell_type": "code",
   "execution_count": 24,
   "metadata": {},
   "outputs": [],
   "source": [
    "# Adding a custom contraction replacement\n",
    "# The function 'add' adds a new contraction and its expanded form to the contractions library\n",
    "# '__label__' is the contraction to be added\n",
    "# 'REMOVED_TOKEN' is the expanded form that will replace '__label__'\n",
    "contractions.add('__label__', 'REMOVED_TOKEN')"
   ]
  },
  {
   "cell_type": "code",
   "execution_count": 25,
   "metadata": {},
   "outputs": [],
   "source": [
    "# Fixing contractions in the 'title' and 'body' columns of the DataFrame\n",
    "# Convert the 'title' column to string type and apply the contractions.fix function to expand contractions\n",
    "df['title'] = df['title'].astype('str').apply(contractions.fix)\n",
    "\n",
    "# Convert the 'body' column to string type and apply the contractions.fix function to expand contractions\n",
    "df['body'] = df['body'].astype('str').apply(contractions.fix)"
   ]
  },
  {
   "cell_type": "code",
   "execution_count": 26,
   "metadata": {},
   "outputs": [],
   "source": [
    "# Removal of stopwords in the 'title' and 'body' columns of the DataFrame\n",
    "# Apply the remove_stopwords function to the 'title' column\n",
    "df['title'] = df['title'].apply(remove_stopwords)\n",
    "\n",
    "# Apply the remove_stopwords function to the 'body' column\n",
    "df['body'] = df['body'].apply(remove_stopwords)"
   ]
  },
  {
   "cell_type": "markdown",
   "metadata": {},
   "source": [
    "## Generate statistics"
   ]
  },
  {
   "cell_type": "code",
   "execution_count": null,
   "metadata": {},
   "outputs": [],
   "source": [
    "# Adding new columns to the DataFrame to count the number of words in the 'title' and 'body' columns\n",
    "\n",
    "# Count the number of words in the 'title' column\n",
    "df['number_of_words_of_title'] = df['title'].str.split().str.len()\n",
    "\n",
    "# Count the number of words in the 'body' column\n",
    "# The same process is applied to the 'body' column\n",
    "df['number_of_words_of_body'] = df['body'].str.split().str.len()"
   ]
  },
  {
   "cell_type": "code",
   "execution_count": 8,
   "metadata": {},
   "outputs": [
    {
     "data": {
      "text/plain": [
       "Text(0.5, 0, 'Number of words of title')"
      ]
     },
     "execution_count": 8,
     "metadata": {},
     "output_type": "execute_result"
    },
    {
     "data": {
      "image/png": "[encoded data removed]",
      "text/plain": [
       "<Figure size 640x480 with 1 Axes>"
      ]
     },
     "metadata": {},
     "output_type": "display_data"
    }
   ],
   "source": [
    "\"\"\"\n",
    "Plotting a histogram of the number of words in the title\n",
    "    data=df specifies the DataFrame to use\n",
    "\n",
    "    x='number_of_words_of_title' specifies the column to plot\n",
    "\n",
    "    kde=False disables the kernel density estimate\n",
    "\n",
    "    stat='count' specifies that the y-axis should show the count of observations in each bin\n",
    "        \n",
    "    binwidth=1 sets the width of each bin to 1\n",
    "\"\"\"\n",
    "\n",
    "fig = sns.histplot(data=df, x='number_of_words_of_title', kde=False, stat='count', binwidth=1)\n",
    "\n",
    "# Setting the x-axis label\n",
    "fig.set_xlabel('Number of words of title')\n",
    "\n",
    "# Optionally saving the figure to a file (commented out)\n",
    "# fig.get_figure().savefig('figures/price_kde_histogram.jpg', dpi=500)"
   ]
  },
  {
   "cell_type": "code",
   "execution_count": 9,
   "metadata": {},
   "outputs": [
    {
     "data": {
      "text/plain": [
       "Text(0.5, 0, 'Number of words of body')"
      ]
     },
     "execution_count": 9,
     "metadata": {},
     "output_type": "execute_result"
    },
    {
     "data": {
      "image/png": "[encoded data removed]",
      "text/plain": [
       "<Figure size 640x480 with 1 Axes>"
      ]
     },
     "metadata": {},
     "output_type": "display_data"
    }
   ],
   "source": [
    "# Plotting a histogram of the number of words in the body\n",
    "\n",
    "fig = sns.histplot(data=df, x='number_of_words_of_body', kde=False, stat='count', binwidth=1)\n",
    "\n",
    "# Setting the x-axis label\n",
    "fig.set_xlabel('Number of words of body')\n",
    "\n",
    "# Optionally saving the figure to a file (commented out)\n",
    "# fig.get_figure().savefig('figures/price_kde_histogram.jpg', dpi=500)"
   ]
  },
  {
   "cell_type": "code",
   "execution_count": 32,
   "metadata": {},
   "outputs": [
    {
     "data": {
      "text/plain": [
       "count    814322.000000\n",
       "mean          5.305227\n",
       "std           2.715007\n",
       "min           0.000000\n",
       "25%           4.000000\n",
       "50%           5.000000\n",
       "75%           7.000000\n",
       "max          48.000000\n",
       "Name: number_of_words_of_title, dtype: float64"
      ]
     },
     "execution_count": 32,
     "metadata": {},
     "output_type": "execute_result"
    }
   ],
   "source": [
    "# Generate descriptive statistics for the 'number_of_words_of_title' column\n",
    "df['number_of_words_of_title'].describe()"
   ]
  },
  {
   "cell_type": "code",
   "execution_count": 33,
   "metadata": {},
   "outputs": [
    {
     "data": {
      "text/plain": [
       "count    814322.000000\n",
       "mean         35.422719\n",
       "std          33.761475\n",
       "min           0.000000\n",
       "25%          13.000000\n",
       "50%          25.000000\n",
       "75%          45.000000\n",
       "max         298.000000\n",
       "Name: number_of_words_of_body, dtype: float64"
      ]
     },
     "execution_count": 33,
     "metadata": {},
     "output_type": "execute_result"
    }
   ],
   "source": [
    "# Generate descriptive statistics for the 'number_of_words_of_body' column\n",
    "df['number_of_words_of_body'].describe()"
   ]
  },
  {
   "cell_type": "code",
   "execution_count": 30,
   "metadata": {},
   "outputs": [
    {
     "data": {
      "text/plain": [
       "label\n",
       "0    464279\n",
       "1    350043\n",
       "Name: count, dtype: int64"
      ]
     },
     "execution_count": 30,
     "metadata": {},
     "output_type": "execute_result"
    }
   ],
   "source": [
    "# Counting the occurrences of each unique value in the 'label' column\n",
    "# bugs == 0 and feature == 1\n",
    "df['label'].value_counts()"
   ]
  },
  {
   "cell_type": "code",
   "execution_count": 31,
   "metadata": {},
   "outputs": [
    {
     "name": "stdout",
     "output_type": "stream",
     "text": [
      "Train size 545595\n",
      "Test size 268727\n"
     ]
    }
   ],
   "source": [
    "# Splitting the 'body' column into training and testing sets\n",
    "# test_size=0.33 specifies that 33% of the data should be used as the test set\n",
    "# random_state=42 ensures reproducibility of the split\n",
    "x_train, x_test = train_test_split(df['body'], test_size=0.33, random_state=42)\n",
    "\n",
    "# Print the size of the training and testing sets\n",
    "print('Train size', len(x_train))\n",
    "print('Test size', len(x_test))"
   ]
  },
  {
   "cell_type": "code",
   "execution_count": 14,
   "metadata": {},
   "outputs": [
    {
     "data": {
      "image/png": "[encoded data removed]",
      "text/plain": [
       "<Figure size 640x480 with 1 Axes>"
      ]
     },
     "metadata": {},
     "output_type": "display_data"
    }
   ],
   "source": [
    "# Set the threshold for the number of words in the title\n",
    "threshold_title = 15\n",
    "\n",
    "# Construct a name for the dataset based on parts of the dataset file name\n",
    "dt_name = ''.join([dataset.split('_')[0], dataset.split('_')[2].split('.')[0]])\n",
    "\n",
    "# Plotting a histogram for titles with a number of words less than the threshold\n",
    "fig = sns.histplot(data=df[df['number_of_words_of_title'] < threshold_title], x='number_of_words_of_title', kde=False, stat='count', binwidth=1)\n",
    "\n",
    "# Setting the x-axis label\n",
    "fig.set_xlabel('number of words of title')\n",
    "\n",
    "# Setting the x-axis limits\n",
    "fig.set_xlim(0,16)\n",
    "\n",
    "# Saving the figure to a PDF file with the constructed name and specified dpi\n",
    "fig.get_figure().savefig(f'figures/{dt_name}_number_of_words_of_title_less_than_{threshold_title}.pdf', dpi=500)"
   ]
  },
  {
   "cell_type": "code",
   "execution_count": 70,
   "metadata": {},
   "outputs": [
    {
     "data": {
      "image/png": "[encoded data removed]",
      "text/plain": [
       "<Figure size 640x480 with 1 Axes>"
      ]
     },
     "metadata": {},
     "output_type": "display_data"
    }
   ],
   "source": [
    "# Set the threshold for the number of words in the body\n",
    "threshold_body = 200\n",
    "\n",
    "# Plotting a histogram for bodies with a number of words less than the threshold\n",
    "fig = sns.histplot(data=df[df['number_of_words_of_body'] < 200], x='number_of_words_of_body', kde=False, stat='count', binwidth=4)\n",
    "\n",
    "# Setting the x-axis label\n",
    "fig.set_xlabel('number of words of body')\n",
    "\n",
    "# Saving the figure to a PDF file with the constructed name and specified dpi\n",
    "fig.get_figure().savefig(f'figures/{dt_name}_number_of_words_of_body_less_than_{threshold_body}.pdf', dpi=500)"
   ]
  },
  {
   "cell_type": "code",
   "execution_count": 16,
   "metadata": {},
   "outputs": [
    {
     "data": {
      "image/png": "[encoded data removed]",
      "text/plain": [
       "<Figure size 1200x480 with 2 Axes>"
      ]
     },
     "metadata": {},
     "output_type": "display_data"
    }
   ],
   "source": [
    "# Plot histograms for the number of words in titles and bodies, and save them as a single PDF file\n",
    "\n",
    "# Create subplots with 1 row and 2 columns\n",
    "fig, ax = plt.subplots(1,2)\n",
    "\n",
    "# Set the figure width to 12 inches\n",
    "fig.set_figwidth(12)\n",
    "\n",
    "# Plot histogram for the number of words in the title\n",
    "sns.histplot(\n",
    "    data=df[df['number_of_words_of_title'] < threshold_title],\n",
    "    x='number_of_words_of_title',\n",
    "    kde=False,\n",
    "    stat='count',\n",
    "    binwidth=1,\n",
    "    ax=ax[0]\n",
    "    )\n",
    "\n",
    "# Set the x-axis label and limits for the first subplot\n",
    "ax[0].set_xlabel('number of words of title')\n",
    "ax[0].set_xlim(0,16)\n",
    "\n",
    "# Plot histogram for the number of words in the body\n",
    "sns.histplot(\n",
    "    data=df[df['number_of_words_of_body'] < threshold_body],\n",
    "    x='number_of_words_of_body',\n",
    "    kde=False,\n",
    "    stat='count',\n",
    "    binwidth=4,\n",
    "    ax=ax[1]\n",
    ")\n",
    "\n",
    "# Set the x-axis label for the second subplot\n",
    "ax[1].set_xlabel('number of words of body')\n",
    "\n",
    "# Save the figure to a PDF file with the constructed name and specified dpi\n",
    "fig.savefig(f'figures/{dt_name}_title_words_less_than_{threshold_title}_body_words_less_than_{threshold_body}.pdf', dpi=500)"
   ]
  },
  {
   "cell_type": "markdown",
   "metadata": {},
   "source": [
    "## Load glove embeddings 100"
   ]
  },
  {
   "cell_type": "code",
   "execution_count": 17,
   "metadata": {},
   "outputs": [
    {
     "name": "stderr",
     "output_type": "stream",
     "text": [
      "C:\\Users\\hlias\\AppData\\Local\\Temp\\ipykernel_26756\\3801126342.py:1: DeprecationWarning: Call to deprecated `glove2word2vec` (KeyedVectors.load_word2vec_format(.., binary=False, no_header=True) loads GLoVE text vectors.).\n",
      "  glove2word2vec('glove.6B/glove.6B.100d.txt', 'tmpfile_glove')\n"
     ]
    }
   ],
   "source": [
    "# Convert GloVe embeddings to word2vec format and load them into a KeyedVectors model\n",
    "\n",
    "# Convert GloVe format to word2vec format\n",
    "glove2word2vec('glove.6B/glove.6B.100d.txt', 'tmpfile_glove')\n",
    "\n",
    "# Load the converted GloVe embeddings in word2vec format\n",
    "glove_embeddings_model = KeyedVectors.load_word2vec_format('tmpfile_glove')"
   ]
  },
  {
   "cell_type": "code",
   "execution_count": 18,
   "metadata": {},
   "outputs": [],
   "source": [
    "def get_word_glove_embedding(word):\n",
    "    \"\"\"\n",
    "    Get the GloVe embedding for a given word.\n",
    "    \n",
    "    Parameters:\n",
    "    word (str): The word for which to get the embedding.\n",
    "    \n",
    "    Returns:\n",
    "    numpy.ndarray: The GloVe embedding vector for the word, or a zero vector if the word is not in the model.\n",
    "    \"\"\"\n",
    "\n",
    "    if word not in glove_embeddings_model:\n",
    "\n",
    "        # Return a zero vector of size 100 if the word is not in the GloVe model\n",
    "        return np.zeros(100, dtype='float32')\n",
    "    \n",
    "    # Return the GloVe embedding vector for the word\n",
    "    return glove_embeddings_model.get_vector(word)"
   ]
  },
  {
   "cell_type": "code",
   "execution_count": 19,
   "metadata": {},
   "outputs": [],
   "source": [
    "def get_sentence_glove_embedding(sentence):\n",
    "    \"\"\"\n",
    "    Get the GloVe embedding for a given sentence by averaging the embeddings of the words in the sentence.\n",
    "    \n",
    "    Parameters:\n",
    "    sentence (str): The sentence for which to get the embedding.\n",
    "    \n",
    "    Returns:\n",
    "    numpy.ndarray: The GloVe embedding vector for the sentence, or a zero vector if the sentence is empty or has no known words.\n",
    "    \"\"\"\n",
    "    # Split the sentence into words and get their embeddings\n",
    "    word_embeddings = [glove_embeddings_model.get_vector(word) if word in glove_embeddings_model else np.zeros(100, dtype='float32') for word in sentence.split()]\n",
    "\n",
    "    # Check if the sentence has any words\n",
    "    if len(word_embeddings) == 0:\n",
    "\n",
    "        # Return a zero vector of size 100 if the sentence is empty or has no known words\n",
    "        return np.zeros(100, dtype='float32')\n",
    "    \n",
    "    # Calculate the mean of the word embeddings to get the sentence embedding\n",
    "    return np.mean(word_embeddings, axis=0)"
   ]
  },
  {
   "cell_type": "markdown",
   "metadata": {},
   "source": [
    "## Train fasttext embeddings"
   ]
  },
  {
   "cell_type": "code",
   "execution_count": 20,
   "metadata": {},
   "outputs": [],
   "source": [
    "# Prepare data for fastText model training and testing, train the model, and generate word embeddings\n",
    "\n",
    "# Create a new column 'fasttext_input' formatted for fastText supervised learning\n",
    "df['fasttext_input'] = '__label__' + df['label'].map(str) + ' ' + df['title'] + ' ' + df['body']\n",
    "\n",
    "# Split the 'fasttext_input' column into training and testing sets\n",
    "train_input, test_input = train_test_split(df.fasttext_input.values, test_size=0.33, random_state=42)\n",
    "\n",
    "# Save the training and testing data to text files\n",
    "np.savetxt(f'{dt_name}_train.txt', train_input, fmt='%s')\n",
    "np.savetxt(f'{dt_name}_test.txt', test_input, fmt='%s')\n",
    "\n",
    "# Train a fastText supervised model on the training data\n",
    "# dim=100 specifies the dimension of the word vectors\n",
    "# epoch=5 specifies the number of training epochs\n",
    "fasttext_model = fasttext.train_supervised(f'{dt_name}_train.txt', dim=100, epoch=5)\n",
    "\n",
    "# Test the fastText model on the testing data\n",
    "fasttext_model.test(f'{dt_name}_test.txt')\n",
    "\n",
    "# Drop the 'fasttext_input' column from the DataFrame as it is no longer needed\n",
    "df.drop('fasttext_input', axis=1, inplace=True)\n",
    "\n",
    "# Generate a dictionary to look up word embeddings using the trained fastText model\n",
    "embeddings_lookup = {word: fasttext_model.get_word_vector(word) for word in fasttext_model.get_words()}"
   ]
  },
  {
   "cell_type": "markdown",
   "metadata": {},
   "source": [
    "## Train baseline models"
   ]
  },
  {
   "cell_type": "markdown",
   "metadata": {},
   "source": [
    "## GloVe + logistic regression classification"
   ]
  },
  {
   "cell_type": "code",
   "execution_count": 22,
   "metadata": {},
   "outputs": [],
   "source": [
    "# Split the dataset into training and testing sets, and convert sentences to GloVe embeddings\n",
    "\n",
    "# Split the 'body' column and 'label' column into training and testing sets\n",
    "X_train, X_test, y_train, y_test = train_test_split(df.body, df.label, test_size=0.33, random_state=42)\n",
    "\n",
    "# Convert training sentences to GloVe embeddings\n",
    "X_train = [get_sentence_glove_embedding(s) for s in X_train.values]\n",
    "\n",
    "# Use the get_sentence_glove_embedding function to convert each sentence in X_train to its GloVe embedding\n",
    "X_test = [get_sentence_glove_embedding(s) for s in X_test.values]"
   ]
  },
  {
   "cell_type": "code",
   "execution_count": 23,
   "metadata": {},
   "outputs": [],
   "source": [
    "def run_logistic_regression_classifier(use_global_random_number=True):\n",
    "    \"\"\"\n",
    "    Run a logistic regression classifier on the training data and evaluate its performance on the test data.\n",
    "    \n",
    "    Parameters:\n",
    "    use_global_random_number (bool): Whether to use the global random number for the random state.\n",
    "    \n",
    "    Returns:\n",
    "    tuple: Accuracy, precision, and recall scores.\n",
    "    \"\"\"\n",
    "    \n",
    "    # Determine the random state to use for the classifier\n",
    "    if use_global_random_number:\n",
    "        random_state = global_random_number\n",
    "    else:\n",
    "        random_state = get_random_number()\n",
    "    \n",
    "    # Initialize and fit the logistic regression classifier\n",
    "    logit_clf = LogisticRegression(random_state=random_state, solver='liblinear').fit(X_train, y_train)\n",
    "\n",
    "    # Predict labels for the test data\n",
    "    predicted_labels = logit_clf.predict(X_test)\n",
    "\n",
    "    # Get the true labels for the test data\n",
    "    true_labels = y_test\n",
    "\n",
    "    # Calculate accuracy, precision, and recall\n",
    "    results = calculate_accuracy_precision_recall(true_labels, predicted_labels)\n",
    "\n",
    "    # Print and return results\n",
    "    print(results)\n",
    "    return results"
   ]
  },
  {
   "cell_type": "code",
   "execution_count": 24,
   "metadata": {},
   "outputs": [
    {
     "name": "stdout",
     "output_type": "stream",
     "text": [
      "(0.8674640062219279, 0.8419591767016825, 0.8521037892407689)\n"
     ]
    }
   ],
   "source": [
    "# Run the logistic regression classifier and store the results in a list\n",
    "logit_evaluation_results = [run_logistic_regression_classifier()]"
   ]
  },
  {
   "cell_type": "markdown",
   "metadata": {},
   "source": [
    "## <font color='red'>GloVe + logistic regression results</font>"
   ]
  },
  {
   "cell_type": "code",
   "execution_count": 25,
   "metadata": {},
   "outputs": [
    {
     "name": "stdout",
     "output_type": "stream",
     "text": [
      "Avg accuracy | Avg precision | Avg recall\n",
      "0.8675+-0.0000, 0.8420+-0.0000, 0.8521+-0.0000\n"
     ]
    }
   ],
   "source": [
    "# Print the evaluation results of the logistic regression classifier\n",
    "print_evaluation_results(logit_evaluation_results)"
   ]
  },
  {
   "cell_type": "markdown",
   "metadata": {},
   "source": [
    "## GloVe + knn"
   ]
  },
  {
   "cell_type": "code",
   "execution_count": 27,
   "metadata": {},
   "outputs": [],
   "source": [
    "# Define a function to run a K-Nearest Neighbors classifier and evaluate its performance\n",
    "\n",
    "def run_knn_regression_classifier():\n",
    "    \"\"\"\n",
    "    Run a K-Nearest Neighbors classifier on the training data and evaluate its performance on the test data.\n",
    "    \n",
    "    Returns:\n",
    "    tuple: Accuracy, precision, and recall scores.\n",
    "    \"\"\"\n",
    "\n",
    "    # Initialize and fit the K-Nearest Neighbors classifier\n",
    "    knn_clf = KNeighborsClassifier(n_neighbors=10).fit(X_train, y_train)\n",
    "\n",
    "    # Predict labels for the test data\n",
    "    predicted_labels = knn_clf.predict(X_test)\n",
    "\n",
    "    # Get the true labels for the test data\n",
    "    true_labels = y_test\n",
    "    \n",
    "    # Calculate accuracy, precision, and recall\n",
    "    results = calculate_accuracy_precision_recall(true_labels, predicted_labels)\n",
    "\n",
    "    # Print and return results    \n",
    "    print(results)\n",
    "    return results"
   ]
  },
  {
   "cell_type": "code",
   "execution_count": 28,
   "metadata": {
    "scrolled": true
   },
   "outputs": [
    {
     "name": "stdout",
     "output_type": "stream",
     "text": [
      "(0.8894119310675891, 0.8563766289750306, 0.8928830728806527)\n"
     ]
    }
   ],
   "source": [
    "# Run the K-Nearest Neighbors classifier and store the evaluation results\n",
    "knn_evaluation_results = [run_knn_regression_classifier()]"
   ]
  },
  {
   "cell_type": "markdown",
   "metadata": {},
   "source": [
    "## <font color='red'>GloVe + knn results</font>"
   ]
  },
  {
   "cell_type": "code",
   "execution_count": 29,
   "metadata": {
    "scrolled": true
   },
   "outputs": [
    {
     "name": "stdout",
     "output_type": "stream",
     "text": [
      "Avg accuracy | Avg precision | Avg recall\n",
      "0.8894+-0.0000, 0.8564+-0.0000, 0.8929+-0.0000\n"
     ]
    }
   ],
   "source": [
    "# Print the evaluation results for K-Nearest Neighbors\n",
    "print_evaluation_results(knn_evaluation_results)"
   ]
  },
  {
   "cell_type": "markdown",
   "metadata": {},
   "source": [
    "## Fasttext classification"
   ]
  },
  {
   "cell_type": "code",
   "execution_count": 30,
   "metadata": {},
   "outputs": [],
   "source": [
    "# Define a function to run a fastText classifier and evaluate its performance\n",
    "\n",
    "def run_fasttext_classifier():\n",
    "    \"\"\"\n",
    "    Run a fastText classifier on the training data and evaluate its performance on the test data.\n",
    "    \n",
    "    Returns:\n",
    "    tuple: Accuracy, precision, and recall scores.\n",
    "    \"\"\"\n",
    "    \n",
    "    # Prepare the input data for fastText\n",
    "    df['fasttext_input'] = '__label__' + df['label'].map(str) + ' ' + df['title'] + ' ' + df['body']\n",
    "\n",
    "    # Split the input data into training and testing sets\n",
    "    train_input, test_input = train_test_split(df.fasttext_input.values, test_size=0.33, random_state=42)\n",
    "\n",
    "    # Save the training and testing data to text files\n",
    "    np.savetxt(f'{dt_name}_train.txt', train_input, fmt='%s')\n",
    "    np.savetxt(f'{dt_name}_test.txt', test_input, fmt='%s')\n",
    "\n",
    "    # Train a fastText supervised model on the training data\n",
    "    fasttext_model = fasttext.train_supervised(f'{dt_name}_train.txt', dim=100, epoch=5)\n",
    "\n",
    "    # Test the fastText model on the testing data (this line can be expanded to capture and report test metrics)\n",
    "    fasttext_model.test(f'{dt_name}_test.txt')\n",
    "\n",
    "    # Remove the 'fasttext_input' column from the DataFrame as it is no longer needed\n",
    "    df.drop('fasttext_input', axis=1, inplace=True)\n",
    "\n",
    "    # Create a dictionary to look up word embeddings using the trained fastText model\n",
    "    embeddings_lookup = {word: fasttext_model.get_word_vector(word) for word in fasttext_model.get_words()}\n",
    "\n",
    "    # Split the original DataFrame into training and testing sets\n",
    "    _, test_df = train_test_split(df, test_size=0.33, random_state=42)\n",
    "\n",
    "    # Predict labels for the test data using the fastText model\n",
    "    predicted_labels = [int(res[0].split('__label__')[1]) for res in fasttext_model.predict(test_df['body'].values.tolist())[0]]\n",
    "\n",
    "    # Get the true labels for the test data\n",
    "    true_labels = test_df['label'].values\n",
    "    \n",
    "    # Calculate accuracy, precision, and recall\n",
    "    results = calculate_accuracy_precision_recall(true_labels, predicted_labels)\n",
    "\n",
    "    # Print and return results\n",
    "    print(results)\n",
    "    return results"
   ]
  },
  {
   "cell_type": "code",
   "execution_count": 31,
   "metadata": {},
   "outputs": [
    {
     "name": "stdout",
     "output_type": "stream",
     "text": [
      "(0.9499864174422369, 0.9489480524042008, 0.9340858802378648)\n",
      "(0.9501538736338365, 0.9482678538564681, 0.9352440879546398)\n",
      "(0.9502096923643698, 0.9479606311623264, 0.9357194717189877)\n",
      "(0.9502096923643698, 0.9484318297365053, 0.9352008712487899)\n",
      "(0.9503138873280318, 0.947652040030793, 0.9363158622597151)\n",
      "(0.9502171348617742, 0.947687137931638, 0.9360392753422763)\n",
      "(0.9498710587324682, 0.9488316546509892, 0.9339303000968054)\n",
      "(0.9500720061623878, 0.9477633502902523, 0.9355984649426082)\n",
      "(0.9501910861208587, 0.9472846662994343, 0.9364195823537547)\n",
      "(0.9501538736338365, 0.9481421775203918, 0.9353823814133592)\n"
     ]
    }
   ],
   "source": [
    "# Initialize an empty list to store the evaluation results of the fastText classifier\n",
    "fasttext_evaluation_results = []\n",
    "\n",
    "# Run the fastText classifier multiple times using different random numbers from global_random_numbers\n",
    "for num in global_random_numbers:\n",
    "    fasttext_evaluation_results.append(run_fasttext_classifier())"
   ]
  },
  {
   "cell_type": "markdown",
   "metadata": {},
   "source": [
    "## <font color='red'>Fasttext results</font>"
   ]
  },
  {
   "cell_type": "code",
   "execution_count": 32,
   "metadata": {
    "scrolled": false
   },
   "outputs": [
    {
     "name": "stdout",
     "output_type": "stream",
     "text": [
      "Avg accuracy | Avg precision | Avg recall\n",
      "0.9501+-0.0001, 0.9481+-0.0005, 0.9354+-0.0008\n"
     ]
    }
   ],
   "source": [
    "# Print the evaluation results for the fastText classifier\n",
    "print_evaluation_results(fasttext_evaluation_results)"
   ]
  },
  {
   "cell_type": "markdown",
   "metadata": {},
   "source": [
    "## MLP"
   ]
  },
  {
   "cell_type": "code",
   "execution_count": 33,
   "metadata": {},
   "outputs": [
    {
     "name": "stdout",
     "output_type": "stream",
     "text": [
      "cuda\n"
     ]
    },
    {
     "name": "stderr",
     "output_type": "stream",
     "text": [
      "C:\\Users\\hlias\\AppData\\Local\\Temp\\ipykernel_26756\\3901747008.py:8: UserWarning: Creating a tensor from a list of numpy.ndarrays is extremely slow. Please consider converting the list to a single numpy.ndarray with numpy.array() before converting to a tensor. (Triggered internally at C:\\actions-runner\\_work\\pytorch\\pytorch\\builder\\windows\\pytorch\\torch\\csrc\\utils\\tensor_new.cpp:277.)\n",
      "  x_train = torch.tensor(x_train).float()\n"
     ]
    }
   ],
   "source": [
    "# Set the device to GPU if available, otherwise use CPU\n",
    "device = torch.device('cuda' if torch.cuda.is_available() else 'cpu')\n",
    "\n",
    "# Split the 'body' and 'label' columns into training and testing sets\n",
    "x_train, x_test, y_train, y_test = train_test_split(df.body, df.label, test_size=0.33, random_state=42)\n",
    "\n",
    "# Convert sentences to GloVe embeddings\n",
    "x_train = [get_sentence_glove_embedding(s) for s in x_train.values]\n",
    "x_test = [get_sentence_glove_embedding(s) for s in x_test.values]\n",
    "\n",
    "# Convert data to PyTorch tensors and set data types to float\n",
    "x_train = torch.tensor(x_train).float()\n",
    "y_train = torch.tensor(y_train.values).float()\n",
    "\n",
    "\n",
    "x_test = torch.tensor(x_test).float()\n",
    "y_test = torch.tensor(y_test.values).float()\n",
    "\n",
    "# Move tensors to the selected device (GPU or CPU)\n",
    "x_train = x_train.to(device)\n",
    "y_train = y_train.to(device)\n",
    "x_test = x_test.to(device)\n",
    "y_test = y_test.to(device)\n",
    "\n",
    "# Set the batch size for the DataLoader\n",
    "BATCH_SIZE = 255\n",
    "\n",
    "# Create a TensorDataset and DataLoader for the training data\n",
    "train_dataset = torch.utils.data.TensorDataset(x_train, y_train)\n",
    "\n",
    "# Create a TensorDataset for the test data\n",
    "train_dataloader = torch.utils.data.DataLoader(train_dataset, batch_size=BATCH_SIZE, shuffle=False)\n",
    "\n",
    "# generate test dataset\n",
    "test_dataset = torch.utils.data.TensorDataset(x_test, y_test)"
   ]
  },
  {
   "cell_type": "code",
   "execution_count": 34,
   "metadata": {},
   "outputs": [],
   "source": [
    "# Define the Multi-Layer Perceptron (MLP) model\n",
    "class MLP(torch.nn.Module):\n",
    "    def __init__(self) : \n",
    "        \"\"\"\n",
    "        Initialize the MLP model.\n",
    "        \"\"\"\n",
    "        super(MLP, self).__init__()\n",
    "        # Define the first linear layer with 100 input features and 250 output features\n",
    "        self.linear1 = torch.nn.Linear(100 , 250)\n",
    "\n",
    "        # Define the second linear layer with 250 input features and 1 output feature\n",
    "        self.linear2 = torch.nn.Linear(250, 1)\n",
    "\n",
    "        # Define the sigmoid activation function\n",
    "        self.sigmoid = torch.nn.Sigmoid()\n",
    "\n",
    "    def forward(self, x):\n",
    "        \"\"\"\n",
    "        Define the forward pass of the MLP model.\n",
    "        \n",
    "        Parameters:\n",
    "        x (torch.Tensor): Input tensor.\n",
    "        \n",
    "        Returns:\n",
    "        torch.Tensor: Output tensor after applying the linear layers, ReLU activation, dropout, and sigmoid activation.\n",
    "        \"\"\"\n",
    "        # Pass the input through the first linear layer\n",
    "        out = self.linear1(x)\n",
    "\n",
    "        # Apply ReLU activation function\n",
    "        out = F.relu(out)\n",
    "\n",
    "        # Apply dropout with a probability of 0.5 (only during training)\n",
    "        out = F.dropout(out, p=0.5, training=self.training)\n",
    "        \n",
    "        # Pass the output through the second linear layer\n",
    "        out = self.linear2(out)\n",
    "\n",
    "        # Apply sigmoid activation function\n",
    "\n",
    "        out = self.sigmoid(out)\n",
    "        return out"
   ]
  },
  {
   "cell_type": "code",
   "execution_count": 35,
   "metadata": {},
   "outputs": [],
   "source": [
    "def run_mlp_classifier():\n",
    "    \"\"\"\n",
    "    Train and evaluate the Multi-Layer Perceptron (MLP) model on the dataset.\n",
    "\n",
    "    Returns:\n",
    "    tuple: Accuracy, precision, and recall scores.\n",
    "    \"\"\"\n",
    "    # Initialize the MLP model and move it to the selected device\n",
    "    mlp = MLP().to(device)\n",
    "\n",
    "    # Define the loss function and optimizer\n",
    "    loss_function = F.binary_cross_entropy\n",
    "    optimizer = torch.optim.Adam(mlp.parameters(), lr=1e-4)\n",
    "\n",
    "    # Set the model to training mode\n",
    "    mlp.train()\n",
    "\n",
    "    # Run the training loop for 50 epochs\n",
    "    for epoch in range(0, 50):\n",
    "        # Iterate over the DataLoader for training data\n",
    "        for i, (inputs, targets) in enumerate(train_dataloader):\n",
    "\n",
    "            # Get inputs and targets, and move them to the selected device\n",
    "            targets = targets.squeeze()\n",
    "\n",
    "            # Perform forward pass\n",
    "            outputs = mlp(inputs)\n",
    "            outputs = outputs.squeeze()\n",
    "            # Compute loss\n",
    "            loss = loss_function(outputs, targets)\n",
    "            # Perform backward pass\n",
    "            loss.backward()\n",
    "            # Perform optimization\n",
    "            optimizer.step()\n",
    "            # Zero the gradients\n",
    "            optimizer.zero_grad()\n",
    "        \n",
    "        # Print the loss for each epoch\n",
    "        print(f'Epoch: {epoch}, Epoch loss {loss.item()}')\n",
    "    \n",
    "    # Training process is complete\n",
    "    print('Training process has finished.')\n",
    "    print('Final loss', loss.item())\n",
    "    \n",
    "    # Evaluate the model on the test data\n",
    "    with torch.no_grad():\n",
    "        mlp.eval()\n",
    "        \n",
    "        # Get predictions for the test data\n",
    "        pred = mlp(test_dataset.tensors[0].to(device))\n",
    "        y_true = test_dataset.tensors[1].tolist()\n",
    "        y_pred = torch.round(torch.tensor(pred.tolist()).squeeze())\n",
    "\n",
    "        # Calculate accuracy, precision, and recall\n",
    "        results = calculate_accuracy_precision_recall(y_true, y_pred)\n",
    "    \n",
    "    # Print and return the evaluation results\n",
    "    print(results)\n",
    "    return results"
   ]
  },
  {
   "cell_type": "code",
   "execution_count": 36,
   "metadata": {},
   "outputs": [
    {
     "name": "stdout",
     "output_type": "stream",
     "text": [
      "Epoch: 0, Epoch loss 0.34649139642715454\n",
      "Epoch: 1, Epoch loss 0.31532150506973267\n",
      "Epoch: 2, Epoch loss 0.31881749629974365\n",
      "Epoch: 3, Epoch loss 0.3198372423648834\n",
      "Epoch: 4, Epoch loss 0.31870171427726746\n",
      "Epoch: 5, Epoch loss 0.3078313171863556\n",
      "Epoch: 6, Epoch loss 0.3018990159034729\n",
      "Epoch: 7, Epoch loss 0.2999004125595093\n",
      "Epoch: 8, Epoch loss 0.3099447190761566\n",
      "Epoch: 9, Epoch loss 0.30315351486206055\n",
      "Epoch: 10, Epoch loss 0.32896357774734497\n",
      "Epoch: 11, Epoch loss 0.2972140312194824\n",
      "Epoch: 12, Epoch loss 0.33046087622642517\n",
      "Epoch: 13, Epoch loss 0.28164687752723694\n",
      "Epoch: 14, Epoch loss 0.3177281618118286\n",
      "Epoch: 15, Epoch loss 0.28657639026641846\n",
      "Epoch: 16, Epoch loss 0.3038586974143982\n",
      "Epoch: 17, Epoch loss 0.2801733613014221\n",
      "Epoch: 18, Epoch loss 0.29372742772102356\n",
      "Epoch: 19, Epoch loss 0.2975265681743622\n",
      "Epoch: 20, Epoch loss 0.30658096075057983\n",
      "Epoch: 21, Epoch loss 0.29344433546066284\n",
      "Epoch: 22, Epoch loss 0.30912426114082336\n",
      "Epoch: 23, Epoch loss 0.289203405380249\n",
      "Epoch: 24, Epoch loss 0.27482184767723083\n",
      "Epoch: 25, Epoch loss 0.27128496766090393\n",
      "Epoch: 26, Epoch loss 0.2827923595905304\n",
      "Epoch: 27, Epoch loss 0.28418928384780884\n",
      "Epoch: 28, Epoch loss 0.2843228578567505\n",
      "Epoch: 29, Epoch loss 0.3055649995803833\n",
      "Epoch: 30, Epoch loss 0.2837144434452057\n",
      "Epoch: 31, Epoch loss 0.2715107798576355\n",
      "Epoch: 32, Epoch loss 0.28413015604019165\n",
      "Epoch: 33, Epoch loss 0.2863370180130005\n",
      "Epoch: 34, Epoch loss 0.26492026448249817\n",
      "Epoch: 35, Epoch loss 0.26993897557258606\n",
      "Epoch: 36, Epoch loss 0.26809945702552795\n",
      "Epoch: 37, Epoch loss 0.27912938594818115\n",
      "Epoch: 38, Epoch loss 0.2917526960372925\n",
      "Epoch: 39, Epoch loss 0.27815791964530945\n",
      "Epoch: 40, Epoch loss 0.27312150597572327\n",
      "Epoch: 41, Epoch loss 0.27095139026641846\n",
      "Epoch: 42, Epoch loss 0.2956761121749878\n",
      "Epoch: 43, Epoch loss 0.25397297739982605\n",
      "Epoch: 44, Epoch loss 0.261678010225296\n",
      "Epoch: 45, Epoch loss 0.2690476179122925\n",
      "Epoch: 46, Epoch loss 0.2692601978778839\n",
      "Epoch: 47, Epoch loss 0.2691340446472168\n",
      "Epoch: 48, Epoch loss 0.290395587682724\n",
      "Epoch: 49, Epoch loss 0.27109384536743164\n",
      "Training process has finished.\n",
      "Final loss 0.27109384536743164\n",
      "(0.8978480018755094, 0.8660190631040176, 0.9023302447794219)\n",
      "Epoch: 0, Epoch loss 0.3276086449623108\n",
      "Epoch: 1, Epoch loss 0.327051043510437\n",
      "Epoch: 2, Epoch loss 0.3168778121471405\n",
      "Epoch: 3, Epoch loss 0.33741313219070435\n",
      "Epoch: 4, Epoch loss 0.309328556060791\n",
      "Epoch: 5, Epoch loss 0.3086252510547638\n",
      "Epoch: 6, Epoch loss 0.3120611608028412\n",
      "Epoch: 7, Epoch loss 0.30032992362976074\n",
      "Epoch: 8, Epoch loss 0.31443578004837036\n",
      "Epoch: 9, Epoch loss 0.3180488049983978\n",
      "Epoch: 10, Epoch loss 0.3065951466560364\n",
      "Epoch: 11, Epoch loss 0.29420286417007446\n",
      "Epoch: 12, Epoch loss 0.30144569277763367\n",
      "Epoch: 13, Epoch loss 0.3045201301574707\n",
      "Epoch: 14, Epoch loss 0.3099355697631836\n",
      "Epoch: 15, Epoch loss 0.29225921630859375\n",
      "Epoch: 16, Epoch loss 0.28257614374160767\n",
      "Epoch: 17, Epoch loss 0.2892221212387085\n",
      "Epoch: 18, Epoch loss 0.3107259273529053\n",
      "Epoch: 19, Epoch loss 0.3007460832595825\n",
      "Epoch: 20, Epoch loss 0.2944469153881073\n",
      "Epoch: 21, Epoch loss 0.27550607919692993\n",
      "Epoch: 22, Epoch loss 0.29954344034194946\n",
      "Epoch: 23, Epoch loss 0.28175491094589233\n",
      "Epoch: 24, Epoch loss 0.31727272272109985\n",
      "Epoch: 25, Epoch loss 0.295559287071228\n",
      "Epoch: 26, Epoch loss 0.28184792399406433\n",
      "Epoch: 27, Epoch loss 0.274325966835022\n",
      "Epoch: 28, Epoch loss 0.28677624464035034\n",
      "Epoch: 29, Epoch loss 0.28264379501342773\n",
      "Epoch: 30, Epoch loss 0.2824057340621948\n",
      "Epoch: 31, Epoch loss 0.2763271629810333\n",
      "Epoch: 32, Epoch loss 0.2935738265514374\n",
      "Epoch: 33, Epoch loss 0.2975010573863983\n",
      "Epoch: 34, Epoch loss 0.28703686594963074\n",
      "Epoch: 35, Epoch loss 0.3050968050956726\n",
      "Epoch: 36, Epoch loss 0.2855736315250397\n",
      "Epoch: 37, Epoch loss 0.2742604613304138\n",
      "Epoch: 38, Epoch loss 0.2644338011741638\n",
      "Epoch: 39, Epoch loss 0.2958103120326996\n",
      "Epoch: 40, Epoch loss 0.27769994735717773\n",
      "Epoch: 41, Epoch loss 0.27837422490119934\n",
      "Epoch: 42, Epoch loss 0.2541412115097046\n",
      "Epoch: 43, Epoch loss 0.29324647784233093\n",
      "Epoch: 44, Epoch loss 0.28504613041877747\n",
      "Epoch: 45, Epoch loss 0.2443603277206421\n",
      "Epoch: 46, Epoch loss 0.27747833728790283\n",
      "Epoch: 47, Epoch loss 0.2592254877090454\n",
      "Epoch: 48, Epoch loss 0.26739370822906494\n",
      "Epoch: 49, Epoch loss 0.2811766266822815\n",
      "Training process has finished.\n",
      "Final loss 0.2811766266822815\n",
      "(0.8977289219170385, 0.8649478309076015, 0.9035316692020467)\n",
      "Epoch: 0, Epoch loss 0.33423468470573425\n",
      "Epoch: 1, Epoch loss 0.3253520727157593\n",
      "Epoch: 2, Epoch loss 0.32240915298461914\n",
      "Epoch: 3, Epoch loss 0.3243541717529297\n",
      "Epoch: 4, Epoch loss 0.31929028034210205\n",
      "Epoch: 5, Epoch loss 0.3073822855949402\n",
      "Epoch: 6, Epoch loss 0.3189367353916168\n",
      "Epoch: 7, Epoch loss 0.3130204975605011\n",
      "Epoch: 8, Epoch loss 0.30604198575019836\n",
      "Epoch: 9, Epoch loss 0.2899894714355469\n",
      "Epoch: 10, Epoch loss 0.30794426798820496\n",
      "Epoch: 11, Epoch loss 0.30224844813346863\n",
      "Epoch: 12, Epoch loss 0.29779815673828125\n",
      "Epoch: 13, Epoch loss 0.2996775805950165\n",
      "Epoch: 14, Epoch loss 0.28968024253845215\n",
      "Epoch: 15, Epoch loss 0.28997161984443665\n",
      "Epoch: 16, Epoch loss 0.3059201240539551\n",
      "Epoch: 17, Epoch loss 0.3091648817062378\n",
      "Epoch: 18, Epoch loss 0.2752833366394043\n",
      "Epoch: 19, Epoch loss 0.29633021354675293\n",
      "Epoch: 20, Epoch loss 0.2924410402774811\n",
      "Epoch: 21, Epoch loss 0.2806321978569031\n",
      "Epoch: 22, Epoch loss 0.28415778279304504\n",
      "Epoch: 23, Epoch loss 0.273246169090271\n",
      "Epoch: 24, Epoch loss 0.3035247325897217\n",
      "Epoch: 25, Epoch loss 0.30101877450942993\n",
      "Epoch: 26, Epoch loss 0.2929273545742035\n",
      "Epoch: 27, Epoch loss 0.290554940700531\n",
      "Epoch: 28, Epoch loss 0.2547532021999359\n",
      "Epoch: 29, Epoch loss 0.28334444761276245\n",
      "Epoch: 30, Epoch loss 0.28589123487472534\n",
      "Epoch: 31, Epoch loss 0.29227444529533386\n",
      "Epoch: 32, Epoch loss 0.28666922450065613\n",
      "Epoch: 33, Epoch loss 0.26790690422058105\n",
      "Epoch: 34, Epoch loss 0.2757124900817871\n",
      "Epoch: 35, Epoch loss 0.26871591806411743\n",
      "Epoch: 36, Epoch loss 0.26564764976501465\n",
      "Epoch: 37, Epoch loss 0.29136180877685547\n",
      "Epoch: 38, Epoch loss 0.26484760642051697\n",
      "Epoch: 39, Epoch loss 0.27405399084091187\n",
      "Epoch: 40, Epoch loss 0.2941436767578125\n",
      "Epoch: 41, Epoch loss 0.2956521809101105\n",
      "Epoch: 42, Epoch loss 0.2674804925918579\n",
      "Epoch: 43, Epoch loss 0.2658967971801758\n",
      "Epoch: 44, Epoch loss 0.2635436952114105\n",
      "Epoch: 45, Epoch loss 0.24959516525268555\n",
      "Epoch: 46, Epoch loss 0.2627016305923462\n",
      "Epoch: 47, Epoch loss 0.27252358198165894\n",
      "Epoch: 48, Epoch loss 0.26010650396347046\n",
      "Epoch: 49, Epoch loss 0.26991909742355347\n",
      "Training process has finished.\n",
      "Final loss 0.26991909742355347\n",
      "(0.897963360585278, 0.8660474373859678, 0.9026068316968607)\n",
      "Epoch: 0, Epoch loss 0.33875006437301636\n",
      "Epoch: 1, Epoch loss 0.3263397514820099\n",
      "Epoch: 2, Epoch loss 0.3259717524051666\n",
      "Epoch: 3, Epoch loss 0.3234589099884033\n",
      "Epoch: 4, Epoch loss 0.300123393535614\n",
      "Epoch: 5, Epoch loss 0.3165467381477356\n",
      "Epoch: 6, Epoch loss 0.3098212778568268\n",
      "Epoch: 7, Epoch loss 0.30432119965553284\n",
      "Epoch: 8, Epoch loss 0.3036139905452728\n",
      "Epoch: 9, Epoch loss 0.3040527403354645\n",
      "Epoch: 10, Epoch loss 0.3020251989364624\n",
      "Epoch: 11, Epoch loss 0.30775853991508484\n",
      "Epoch: 12, Epoch loss 0.3070470094680786\n",
      "Epoch: 13, Epoch loss 0.302924245595932\n",
      "Epoch: 14, Epoch loss 0.299020379781723\n",
      "Epoch: 15, Epoch loss 0.2960570454597473\n",
      "Epoch: 16, Epoch loss 0.29711130261421204\n",
      "Epoch: 17, Epoch loss 0.30483922362327576\n",
      "Epoch: 18, Epoch loss 0.2880799472332001\n",
      "Epoch: 19, Epoch loss 0.3049578368663788\n",
      "Epoch: 20, Epoch loss 0.328254759311676\n",
      "Epoch: 21, Epoch loss 0.29542258381843567\n",
      "Epoch: 22, Epoch loss 0.2953464090824127\n",
      "Epoch: 23, Epoch loss 0.2747354209423065\n",
      "Epoch: 24, Epoch loss 0.30743831396102905\n",
      "Epoch: 25, Epoch loss 0.2626647651195526\n",
      "Epoch: 26, Epoch loss 0.2769004702568054\n",
      "Epoch: 27, Epoch loss 0.27839064598083496\n",
      "Epoch: 28, Epoch loss 0.2917397618293762\n",
      "Epoch: 29, Epoch loss 0.28276297450065613\n",
      "Epoch: 30, Epoch loss 0.2845522463321686\n",
      "Epoch: 31, Epoch loss 0.29859036207199097\n",
      "Epoch: 32, Epoch loss 0.31518030166625977\n",
      "Epoch: 33, Epoch loss 0.3025580644607544\n",
      "Epoch: 34, Epoch loss 0.31952691078186035\n",
      "Epoch: 35, Epoch loss 0.27920085191726685\n",
      "Epoch: 36, Epoch loss 0.2941332459449768\n",
      "Epoch: 37, Epoch loss 0.27550208568573\n",
      "Epoch: 38, Epoch loss 0.28254929184913635\n",
      "Epoch: 39, Epoch loss 0.27539703249931335\n",
      "Epoch: 40, Epoch loss 0.3045780658721924\n",
      "Epoch: 41, Epoch loss 0.2830795347690582\n",
      "Epoch: 42, Epoch loss 0.26426538825035095\n",
      "Epoch: 43, Epoch loss 0.29804378747940063\n",
      "Epoch: 44, Epoch loss 0.28913751244544983\n",
      "Epoch: 45, Epoch loss 0.2766656279563904\n",
      "Epoch: 46, Epoch loss 0.2976076602935791\n",
      "Epoch: 47, Epoch loss 0.28292587399482727\n",
      "Epoch: 48, Epoch loss 0.2666701674461365\n",
      "Epoch: 49, Epoch loss 0.27231365442276\n",
      "Training process has finished.\n",
      "Final loss 0.27231365442276\n",
      "(0.8978740506164249, 0.8651544992635011, 0.9036353892960863)\n",
      "Epoch: 0, Epoch loss 0.3336285352706909\n",
      "Epoch: 1, Epoch loss 0.3298649191856384\n",
      "Epoch: 2, Epoch loss 0.31460145115852356\n",
      "Epoch: 3, Epoch loss 0.3218587338924408\n",
      "Epoch: 4, Epoch loss 0.30924826860427856\n",
      "Epoch: 5, Epoch loss 0.30120649933815\n",
      "Epoch: 6, Epoch loss 0.31358832120895386\n",
      "Epoch: 7, Epoch loss 0.3046600818634033\n",
      "Epoch: 8, Epoch loss 0.3248320519924164\n",
      "Epoch: 9, Epoch loss 0.2999517321586609\n",
      "Epoch: 10, Epoch loss 0.3177323341369629\n",
      "Epoch: 11, Epoch loss 0.31358078122138977\n",
      "Epoch: 12, Epoch loss 0.31136420369148254\n",
      "Epoch: 13, Epoch loss 0.29971393942832947\n",
      "Epoch: 14, Epoch loss 0.3242027759552002\n",
      "Epoch: 15, Epoch loss 0.28815144300460815\n",
      "Epoch: 16, Epoch loss 0.31345295906066895\n",
      "Epoch: 17, Epoch loss 0.2930026352405548\n",
      "Epoch: 18, Epoch loss 0.2991413176059723\n",
      "Epoch: 19, Epoch loss 0.29324138164520264\n",
      "Epoch: 20, Epoch loss 0.29161277413368225\n",
      "Epoch: 21, Epoch loss 0.3106127381324768\n",
      "Epoch: 22, Epoch loss 0.3172358572483063\n",
      "Epoch: 23, Epoch loss 0.2830168604850769\n",
      "Epoch: 24, Epoch loss 0.2886078357696533\n",
      "Epoch: 25, Epoch loss 0.3038974106311798\n",
      "Epoch: 26, Epoch loss 0.3094589412212372\n",
      "Epoch: 27, Epoch loss 0.28961503505706787\n",
      "Epoch: 28, Epoch loss 0.29260337352752686\n",
      "Epoch: 29, Epoch loss 0.29141780734062195\n",
      "Epoch: 30, Epoch loss 0.26330411434173584\n",
      "Epoch: 31, Epoch loss 0.2825574278831482\n",
      "Epoch: 32, Epoch loss 0.3087066113948822\n",
      "Epoch: 33, Epoch loss 0.3073897659778595\n",
      "Epoch: 34, Epoch loss 0.273185133934021\n",
      "Epoch: 35, Epoch loss 0.2738801836967468\n",
      "Epoch: 36, Epoch loss 0.2846725583076477\n",
      "Epoch: 37, Epoch loss 0.2755967378616333\n",
      "Epoch: 38, Epoch loss 0.27440178394317627\n",
      "Epoch: 39, Epoch loss 0.27658382058143616\n",
      "Epoch: 40, Epoch loss 0.2628634572029114\n",
      "Epoch: 41, Epoch loss 0.30066630244255066\n",
      "Epoch: 42, Epoch loss 0.26627010107040405\n",
      "Epoch: 43, Epoch loss 0.25740888714790344\n",
      "Epoch: 44, Epoch loss 0.2792399823665619\n",
      "Epoch: 45, Epoch loss 0.3068208396434784\n",
      "Epoch: 46, Epoch loss 0.27996569871902466\n",
      "Epoch: 47, Epoch loss 0.2759777307510376\n",
      "Epoch: 48, Epoch loss 0.2624278962612152\n",
      "Epoch: 49, Epoch loss 0.2746610641479492\n",
      "Training process has finished.\n",
      "Final loss 0.2746610641479492\n",
      "(0.8977475281605496, 0.8655583365102518, 0.9027105517909003)\n",
      "Epoch: 0, Epoch loss 0.35303762555122375\n",
      "Epoch: 1, Epoch loss 0.327835351228714\n",
      "Epoch: 2, Epoch loss 0.32040369510650635\n",
      "Epoch: 3, Epoch loss 0.3170255720615387\n",
      "Epoch: 4, Epoch loss 0.3064287304878235\n",
      "Epoch: 5, Epoch loss 0.30832207202911377\n",
      "Epoch: 6, Epoch loss 0.2976163923740387\n",
      "Epoch: 7, Epoch loss 0.3044882118701935\n",
      "Epoch: 8, Epoch loss 0.30238452553749084\n",
      "Epoch: 9, Epoch loss 0.29607075452804565\n",
      "Epoch: 10, Epoch loss 0.30185195803642273\n",
      "Epoch: 11, Epoch loss 0.2999083399772644\n",
      "Epoch: 12, Epoch loss 0.30661657452583313\n",
      "Epoch: 13, Epoch loss 0.29554468393325806\n",
      "Epoch: 14, Epoch loss 0.3114721179008484\n",
      "Epoch: 15, Epoch loss 0.2994268238544464\n",
      "Epoch: 16, Epoch loss 0.30161628127098083\n",
      "Epoch: 17, Epoch loss 0.31158193945884705\n",
      "Epoch: 18, Epoch loss 0.284808874130249\n",
      "Epoch: 19, Epoch loss 0.2966289818286896\n",
      "Epoch: 20, Epoch loss 0.3043458163738251\n",
      "Epoch: 21, Epoch loss 0.3019452393054962\n",
      "Epoch: 22, Epoch loss 0.30619320273399353\n",
      "Epoch: 23, Epoch loss 0.28083980083465576\n",
      "Epoch: 24, Epoch loss 0.29194286465644836\n",
      "Epoch: 25, Epoch loss 0.32234230637550354\n",
      "Epoch: 26, Epoch loss 0.3014823794364929\n",
      "Epoch: 27, Epoch loss 0.27957671880722046\n",
      "Epoch: 28, Epoch loss 0.2753119468688965\n",
      "Epoch: 29, Epoch loss 0.25983312726020813\n",
      "Epoch: 30, Epoch loss 0.2819668650627136\n",
      "Epoch: 31, Epoch loss 0.2607034742832184\n",
      "Epoch: 32, Epoch loss 0.3057171404361725\n",
      "Epoch: 33, Epoch loss 0.2752980589866638\n",
      "Epoch: 34, Epoch loss 0.26566052436828613\n",
      "Epoch: 35, Epoch loss 0.25447356700897217\n",
      "Epoch: 36, Epoch loss 0.283371239900589\n",
      "Epoch: 37, Epoch loss 0.26581114530563354\n",
      "Epoch: 38, Epoch loss 0.2987918257713318\n",
      "Epoch: 39, Epoch loss 0.27013927698135376\n",
      "Epoch: 40, Epoch loss 0.2647663950920105\n",
      "Epoch: 41, Epoch loss 0.31157055497169495\n",
      "Epoch: 42, Epoch loss 0.27325204014778137\n",
      "Epoch: 43, Epoch loss 0.2607165575027466\n",
      "Epoch: 44, Epoch loss 0.26428279280662537\n",
      "Epoch: 45, Epoch loss 0.27917084097862244\n",
      "Epoch: 46, Epoch loss 0.2607742249965668\n",
      "Epoch: 47, Epoch loss 0.2771998643875122\n",
      "Epoch: 48, Epoch loss 0.2767693102359772\n",
      "Epoch: 49, Epoch loss 0.28267595171928406\n",
      "Training process has finished.\n",
      "Final loss 0.28267595171928406\n",
      "(0.8977735769014651, 0.8654389409415878, 0.9029525653436592)\n",
      "Epoch: 0, Epoch loss 0.3440101742744446\n",
      "Epoch: 1, Epoch loss 0.3307558298110962\n",
      "Epoch: 2, Epoch loss 0.3153746724128723\n",
      "Epoch: 3, Epoch loss 0.31342414021492004\n",
      "Epoch: 4, Epoch loss 0.30899789929389954\n",
      "Epoch: 5, Epoch loss 0.3060763478279114\n",
      "Epoch: 6, Epoch loss 0.31480568647384644\n",
      "Epoch: 7, Epoch loss 0.31291496753692627\n",
      "Epoch: 8, Epoch loss 0.2964443862438202\n",
      "Epoch: 9, Epoch loss 0.30432718992233276\n",
      "Epoch: 10, Epoch loss 0.3032630383968353\n",
      "Epoch: 11, Epoch loss 0.2938249409198761\n",
      "Epoch: 12, Epoch loss 0.3096258044242859\n",
      "Epoch: 13, Epoch loss 0.3158850073814392\n",
      "Epoch: 14, Epoch loss 0.3040575683116913\n",
      "Epoch: 15, Epoch loss 0.3066747486591339\n",
      "Epoch: 16, Epoch loss 0.282262921333313\n",
      "Epoch: 17, Epoch loss 0.29965299367904663\n",
      "Epoch: 18, Epoch loss 0.2986809313297272\n",
      "Epoch: 19, Epoch loss 0.3028353452682495\n",
      "Epoch: 20, Epoch loss 0.29715776443481445\n",
      "Epoch: 21, Epoch loss 0.28578630089759827\n",
      "Epoch: 22, Epoch loss 0.2689865231513977\n",
      "Epoch: 23, Epoch loss 0.28497031331062317\n",
      "Epoch: 24, Epoch loss 0.2930120527744293\n",
      "Epoch: 25, Epoch loss 0.2637631893157959\n",
      "Epoch: 26, Epoch loss 0.2762279212474823\n",
      "Epoch: 27, Epoch loss 0.27357208728790283\n",
      "Epoch: 28, Epoch loss 0.2872854769229889\n",
      "Epoch: 29, Epoch loss 0.2893744111061096\n",
      "Epoch: 30, Epoch loss 0.29763612151145935\n",
      "Epoch: 31, Epoch loss 0.27501195669174194\n",
      "Epoch: 32, Epoch loss 0.2698171138763428\n",
      "Epoch: 33, Epoch loss 0.30592605471611023\n",
      "Epoch: 34, Epoch loss 0.3036484718322754\n",
      "Epoch: 35, Epoch loss 0.2947406470775604\n",
      "Epoch: 36, Epoch loss 0.29977893829345703\n",
      "Epoch: 37, Epoch loss 0.28818365931510925\n",
      "Epoch: 38, Epoch loss 0.2746584117412567\n",
      "Epoch: 39, Epoch loss 0.25653737783432007\n",
      "Epoch: 40, Epoch loss 0.2735581398010254\n",
      "Epoch: 41, Epoch loss 0.28456705808639526\n",
      "Epoch: 42, Epoch loss 0.26607605814933777\n",
      "Epoch: 43, Epoch loss 0.28373366594314575\n",
      "Epoch: 44, Epoch loss 0.2686266005039215\n",
      "Epoch: 45, Epoch loss 0.2743625044822693\n",
      "Epoch: 46, Epoch loss 0.29536423087120056\n",
      "Epoch: 47, Epoch loss 0.27797892689704895\n",
      "Epoch: 48, Epoch loss 0.28028371930122375\n",
      "Epoch: 49, Epoch loss 0.2640390992164612\n",
      "Training process has finished.\n",
      "Final loss 0.2640390992164612\n",
      "(0.8979261480982559, 0.8666627895384001, 0.901630134144655)\n",
      "Epoch: 0, Epoch loss 0.3389621675014496\n",
      "Epoch: 1, Epoch loss 0.341440886259079\n",
      "Epoch: 2, Epoch loss 0.31927740573883057\n",
      "Epoch: 3, Epoch loss 0.31494346261024475\n",
      "Epoch: 4, Epoch loss 0.3157164454460144\n",
      "Epoch: 5, Epoch loss 0.31311118602752686\n",
      "Epoch: 6, Epoch loss 0.3174428641796112\n",
      "Epoch: 7, Epoch loss 0.3074321448802948\n",
      "Epoch: 8, Epoch loss 0.30889472365379333\n",
      "Epoch: 9, Epoch loss 0.3198985755443573\n",
      "Epoch: 10, Epoch loss 0.2997177243232727\n",
      "Epoch: 11, Epoch loss 0.3020397126674652\n",
      "Epoch: 12, Epoch loss 0.2975315451622009\n",
      "Epoch: 13, Epoch loss 0.3169846534729004\n",
      "Epoch: 14, Epoch loss 0.30333399772644043\n",
      "Epoch: 15, Epoch loss 0.2926804721355438\n",
      "Epoch: 16, Epoch loss 0.30289992690086365\n",
      "Epoch: 17, Epoch loss 0.29182836413383484\n",
      "Epoch: 18, Epoch loss 0.2998714745044708\n",
      "Epoch: 19, Epoch loss 0.3056817054748535\n",
      "Epoch: 20, Epoch loss 0.29024940729141235\n",
      "Epoch: 21, Epoch loss 0.30582404136657715\n",
      "Epoch: 22, Epoch loss 0.29720354080200195\n",
      "Epoch: 23, Epoch loss 0.2866254448890686\n",
      "Epoch: 24, Epoch loss 0.28634288907051086\n",
      "Epoch: 25, Epoch loss 0.289678156375885\n",
      "Epoch: 26, Epoch loss 0.28672948479652405\n",
      "Epoch: 27, Epoch loss 0.2763327658176422\n",
      "Epoch: 28, Epoch loss 0.2927738428115845\n",
      "Epoch: 29, Epoch loss 0.30554458498954773\n",
      "Epoch: 30, Epoch loss 0.31905752420425415\n",
      "Epoch: 31, Epoch loss 0.27009284496307373\n",
      "Epoch: 32, Epoch loss 0.315606951713562\n",
      "Epoch: 33, Epoch loss 0.30246710777282715\n",
      "Epoch: 34, Epoch loss 0.27474313974380493\n",
      "Epoch: 35, Epoch loss 0.3032173812389374\n",
      "Epoch: 36, Epoch loss 0.27508997917175293\n",
      "Epoch: 37, Epoch loss 0.29485127329826355\n",
      "Epoch: 38, Epoch loss 0.28247523307800293\n",
      "Epoch: 39, Epoch loss 0.299997478723526\n",
      "Epoch: 40, Epoch loss 0.27817007899284363\n",
      "Epoch: 41, Epoch loss 0.2906348705291748\n",
      "Epoch: 42, Epoch loss 0.2817672789096832\n",
      "Epoch: 43, Epoch loss 0.26195240020751953\n",
      "Epoch: 44, Epoch loss 0.25725993514060974\n",
      "Epoch: 45, Epoch loss 0.27254921197891235\n",
      "Epoch: 46, Epoch loss 0.281541645526886\n",
      "Epoch: 47, Epoch loss 0.2663024365901947\n",
      "Epoch: 48, Epoch loss 0.28248485922813416\n",
      "Epoch: 49, Epoch loss 0.25310593843460083\n",
      "Training process has finished.\n",
      "Final loss 0.25310593843460083\n",
      "(0.8978107893884872, 0.8638946856157773, 0.9052689807772092)\n",
      "Epoch: 0, Epoch loss 0.3496549427509308\n",
      "Epoch: 1, Epoch loss 0.3245381712913513\n",
      "Epoch: 2, Epoch loss 0.325051486492157\n",
      "Epoch: 3, Epoch loss 0.3285810947418213\n",
      "Epoch: 4, Epoch loss 0.31152093410491943\n",
      "Epoch: 5, Epoch loss 0.3086931109428406\n",
      "Epoch: 6, Epoch loss 0.30774515867233276\n",
      "Epoch: 7, Epoch loss 0.31391072273254395\n",
      "Epoch: 8, Epoch loss 0.3068495988845825\n",
      "Epoch: 9, Epoch loss 0.29768383502960205\n",
      "Epoch: 10, Epoch loss 0.31408292055130005\n",
      "Epoch: 11, Epoch loss 0.2971912622451782\n",
      "Epoch: 12, Epoch loss 0.3173486292362213\n",
      "Epoch: 13, Epoch loss 0.30175670981407166\n",
      "Epoch: 14, Epoch loss 0.31103506684303284\n",
      "Epoch: 15, Epoch loss 0.29612112045288086\n",
      "Epoch: 16, Epoch loss 0.28484824299812317\n",
      "Epoch: 17, Epoch loss 0.2889118492603302\n",
      "Epoch: 18, Epoch loss 0.28605690598487854\n",
      "Epoch: 19, Epoch loss 0.3023594617843628\n",
      "Epoch: 20, Epoch loss 0.27962055802345276\n",
      "Epoch: 21, Epoch loss 0.3070579171180725\n",
      "Epoch: 22, Epoch loss 0.27576500177383423\n",
      "Epoch: 23, Epoch loss 0.29015880823135376\n",
      "Epoch: 24, Epoch loss 0.28335699439048767\n",
      "Epoch: 25, Epoch loss 0.2768505811691284\n",
      "Epoch: 26, Epoch loss 0.2908862233161926\n",
      "Epoch: 27, Epoch loss 0.28414708375930786\n",
      "Epoch: 28, Epoch loss 0.2860914468765259\n",
      "Epoch: 29, Epoch loss 0.28056642413139343\n",
      "Epoch: 30, Epoch loss 0.2826443910598755\n",
      "Epoch: 31, Epoch loss 0.28689658641815186\n",
      "Epoch: 32, Epoch loss 0.30859601497650146\n",
      "Epoch: 33, Epoch loss 0.2700865566730499\n",
      "Epoch: 34, Epoch loss 0.28337568044662476\n",
      "Epoch: 35, Epoch loss 0.29112327098846436\n",
      "Epoch: 36, Epoch loss 0.28026342391967773\n",
      "Epoch: 37, Epoch loss 0.2778620421886444\n",
      "Epoch: 38, Epoch loss 0.2982240319252014\n",
      "Epoch: 39, Epoch loss 0.28383681178092957\n",
      "Epoch: 40, Epoch loss 0.2849295735359192\n",
      "Epoch: 41, Epoch loss 0.3103039562702179\n",
      "Epoch: 42, Epoch loss 0.2798132300376892\n",
      "Epoch: 43, Epoch loss 0.27921998500823975\n",
      "Epoch: 44, Epoch loss 0.31242698431015015\n",
      "Epoch: 45, Epoch loss 0.26464301347732544\n",
      "Epoch: 46, Epoch loss 0.2696978449821472\n",
      "Epoch: 47, Epoch loss 0.2886902987957001\n",
      "Epoch: 48, Epoch loss 0.2598833441734314\n",
      "Epoch: 49, Epoch loss 0.2869857847690582\n",
      "Training process has finished.\n",
      "Final loss 0.2869857847690582\n",
      "(0.8978107893884872, 0.8658501189992454, 0.9024685382381413)\n",
      "Epoch: 0, Epoch loss 0.34227845072746277\n",
      "Epoch: 1, Epoch loss 0.3218756914138794\n",
      "Epoch: 2, Epoch loss 0.31500494480133057\n",
      "Epoch: 3, Epoch loss 0.3133683502674103\n",
      "Epoch: 4, Epoch loss 0.31054025888442993\n",
      "Epoch: 5, Epoch loss 0.32124844193458557\n",
      "Epoch: 6, Epoch loss 0.31238308548927307\n",
      "Epoch: 7, Epoch loss 0.31421178579330444\n",
      "Epoch: 8, Epoch loss 0.31072890758514404\n",
      "Epoch: 9, Epoch loss 0.3163601756095886\n",
      "Epoch: 10, Epoch loss 0.30502644181251526\n",
      "Epoch: 11, Epoch loss 0.31263840198516846\n",
      "Epoch: 12, Epoch loss 0.319227397441864\n",
      "Epoch: 13, Epoch loss 0.30106115341186523\n",
      "Epoch: 14, Epoch loss 0.3085772693157196\n",
      "Epoch: 15, Epoch loss 0.2880569100379944\n",
      "Epoch: 16, Epoch loss 0.308584600687027\n",
      "Epoch: 17, Epoch loss 0.28906601667404175\n",
      "Epoch: 18, Epoch loss 0.3105083405971527\n",
      "Epoch: 19, Epoch loss 0.2928544580936432\n",
      "Epoch: 20, Epoch loss 0.3123713433742523\n",
      "Epoch: 21, Epoch loss 0.29721593856811523\n",
      "Epoch: 22, Epoch loss 0.2917240858078003\n",
      "Epoch: 23, Epoch loss 0.2851615846157074\n",
      "Epoch: 24, Epoch loss 0.2909489572048187\n",
      "Epoch: 25, Epoch loss 0.29515066742897034\n",
      "Epoch: 26, Epoch loss 0.2881850600242615\n",
      "Epoch: 27, Epoch loss 0.2742367386817932\n",
      "Epoch: 28, Epoch loss 0.3097391724586487\n",
      "Epoch: 29, Epoch loss 0.28412705659866333\n",
      "Epoch: 30, Epoch loss 0.2807283401489258\n",
      "Epoch: 31, Epoch loss 0.2811417281627655\n",
      "Epoch: 32, Epoch loss 0.28694820404052734\n",
      "Epoch: 33, Epoch loss 0.2873038351535797\n",
      "Epoch: 34, Epoch loss 0.2795528173446655\n",
      "Epoch: 35, Epoch loss 0.2871539294719696\n",
      "Epoch: 36, Epoch loss 0.2880104184150696\n",
      "Epoch: 37, Epoch loss 0.2817037105560303\n",
      "Epoch: 38, Epoch loss 0.28021469712257385\n",
      "Epoch: 39, Epoch loss 0.30421632528305054\n",
      "Epoch: 40, Epoch loss 0.25717878341674805\n",
      "Epoch: 41, Epoch loss 0.2802702486515045\n",
      "Epoch: 42, Epoch loss 0.25905629992485046\n",
      "Epoch: 43, Epoch loss 0.26680701971054077\n",
      "Epoch: 44, Epoch loss 0.26291361451148987\n",
      "Epoch: 45, Epoch loss 0.2563890516757965\n",
      "Epoch: 46, Epoch loss 0.25909170508384705\n",
      "Epoch: 47, Epoch loss 0.2750122547149658\n",
      "Epoch: 48, Epoch loss 0.2640800178050995\n",
      "Epoch: 49, Epoch loss 0.28350570797920227\n",
      "Training process has finished.\n",
      "Final loss 0.28350570797920227\n",
      "(0.8983131579632861, 0.8664068330707355, 0.9030562854376988)\n"
     ]
    }
   ],
   "source": [
    "# Initialize an empty list to store the evaluation results of the MLP classifier\n",
    "mlp_evaluation_results = []\n",
    "\n",
    "# Run the MLP classifier multiple times using different random numbers from global_random_numbers\n",
    "for num in global_random_numbers:\n",
    "    # Set the random seed for reproducibility\n",
    "    torch.manual_seed(num)\n",
    "\n",
    "    # Run the MLP classifier and append the results to the list\n",
    "    mlp_evaluation_results.append(run_mlp_classifier())"
   ]
  },
  {
   "cell_type": "markdown",
   "metadata": {},
   "source": [
    "## <font color='red'>GloVe + MLP results</font>"
   ]
  },
  {
   "cell_type": "code",
   "execution_count": 37,
   "metadata": {
    "scrolled": true
   },
   "outputs": [
    {
     "name": "stdout",
     "output_type": "stream",
     "text": [
      "Avg accuracy | Avg precision | Avg recall\n",
      "0.8979+-0.0002, 0.8656+-0.0008, 0.9030+-0.0009\n"
     ]
    }
   ],
   "source": [
    "# Print the evaluation results for the MLP classifier\n",
    "print_evaluation_results(mlp_evaluation_results)"
   ]
  },
  {
   "cell_type": "markdown",
   "metadata": {},
   "source": [
    "## Train our model"
   ]
  },
  {
   "cell_type": "code",
   "execution_count": 38,
   "metadata": {},
   "outputs": [],
   "source": [
    "# Set the device to GPU if available, otherwise use CPU\n",
    "device = torch.device('cuda' if torch.cuda.is_available() else 'cpu')\n",
    "\n",
    "def create_graph_of_words(text, window_size):\n",
    "    \"\"\"\n",
    "    Create a graph of words from the given text using a sliding window approach.\n",
    "    \n",
    "    Parameters:\n",
    "    text (str): The input text.\n",
    "    window_size (int): The size of the sliding window.\n",
    "    \n",
    "    Returns:\n",
    "    networkx.Graph: The graph of words.\n",
    "    \"\"\"\n",
    "\n",
    "    # Split the text into words\n",
    "    text = text.split()\n",
    "    # Initialize an empty graph\n",
    "    G = nx.Graph()\n",
    "\n",
    "\n",
    "    for i, word in enumerate(text):\n",
    "        \n",
    "        # Get the word embedding or use a zero vector if the word is not found\n",
    "        embedding = embeddings_lookup.get(word, np.zeros(100, dtype='float32'))\n",
    "        \n",
    "        # Add the word as a node with its embedding as an attribute\n",
    "        G.add_node(word, x=embedding)\n",
    "\n",
    "        # Connect the word to the next words in the window\n",
    "        for j in range(i + 1, i + window_size):\n",
    "            if j < len(text):\n",
    "                G.add_edge(word, text[j])\n",
    "    return G\n",
    "\n",
    "def create_graph_of_words_for_pytorch(text, window_size):\n",
    "    \"\"\"\n",
    "    Convert the graph of words to a PyTorch Geometric graph.\n",
    "    \n",
    "    Parameters:\n",
    "    text (str): The input text.\n",
    "    window_size (int): The size of the sliding window.\n",
    "    \n",
    "    Returns:\n",
    "    torch_geometric.data.Data: The PyTorch Geometric graph.\n",
    "    \"\"\"\n",
    "    return from_networkx(create_graph_of_words(text, window_size))\n",
    "\n",
    "def generate_pytorch_geometric_graphs(window_size):\n",
    "    \"\"\"\n",
    "    Generate PyTorch Geometric graphs for all texts in the DataFrame.\n",
    "    \n",
    "    Parameters:\n",
    "    window_size (int): The size of the sliding window.\n",
    "    \n",
    "    Returns:\n",
    "    list: A list of PyTorch Geometric graphs with labels.\n",
    "    \"\"\"\n",
    "\n",
    "    # Initialize an empty list to store the graphs\n",
    "    pyg_graphs = []\n",
    "\n",
    "    for s in tqdm(df['body'].values):\n",
    "        \n",
    "        # Convert each text to a PyTorch Geometric graph and append to the list\n",
    "        pyg_graphs.append(create_graph_of_words_for_pytorch(s, window_size))\n",
    "    \n",
    "    print('Finished generating graphs...')\n",
    "\n",
    "    # Add labels to the graphs\n",
    "    for i, label in enumerate(df['label'].values):\n",
    "        pyg_graphs[i].y = torch.tensor(label).float()\n",
    "    \n",
    "    # Filter out graphs with no nodes\n",
    "    pyg_graphs = [g for g in pyg_graphs if g.num_nodes != 0]\n",
    "    \n",
    "    return pyg_graphs\n",
    "\n",
    "class GATClassifier(torch.nn.Module):\n",
    "    def __init__(self):\n",
    "        \"\"\"\n",
    "        Initialize the GATClassifier model.\n",
    "        \"\"\"\n",
    "\n",
    "        super().__init__()\n",
    "\n",
    "        # Define the first GAT layer with 100 input features, 10 output features, and 3 heads        \n",
    "        self.conv1 = GATConv(100, 10, heads=3)\n",
    "        # Define a linear layer to reduce the output to 1 feature\n",
    "        self.linear1 = torch.nn.Linear(10*3, 1)\n",
    "        # Define the sigmoid activation function\n",
    "        self.sigmoid = torch.nn.Sigmoid()\n",
    "\n",
    "    def forward(self, data, batch):\n",
    "        \"\"\"\n",
    "        Define the forward pass of the GATClassifier model.\n",
    "        \n",
    "        Parameters:\n",
    "        data (torch_geometric.data.Data): The input data.\n",
    "        batch (torch.Tensor): The batch tensor.\n",
    "        \n",
    "        Returns:\n",
    "        tuple: Hidden representations and output predictions.\n",
    "        \"\"\"\n",
    "        # Get the node features and edge indices from the data\n",
    "        x, edge_index = data.x, data.edge_index\n",
    "\n",
    "        # Apply the first GAT layer with ELU activation\n",
    "        x = F.elu(self.conv1(x, edge_index))\n",
    "        # Perform global mean pooling to get a graph-level representation\n",
    "        x = global_mean_pool(x, batch)\n",
    "        # Apply dropout with a probability of 0.5 during training\n",
    "        h = F.dropout(x, p=0.5, training=self.training)\n",
    "        # Pass the pooled representation through the linear layer\n",
    "        x = self.linear1(h)\n",
    "        # Apply the sigmoid activation function\n",
    "        x = self.sigmoid(x)\n",
    "               \n",
    "        return h, x"
   ]
  },
  {
   "cell_type": "code",
   "execution_count": 39,
   "metadata": {},
   "outputs": [
    {
     "name": "stderr",
     "output_type": "stream",
     "text": [
      "100%|██████████| 814322/814322 [50:20<00:00, 269.59it/s]  \n"
     ]
    },
    {
     "name": "stdout",
     "output_type": "stream",
     "text": [
      "finished...\n"
     ]
    }
   ],
   "source": [
    "# Generate PyTorch Geometric graphs with a specified window size\n",
    "pytorch_geometric_graphs = generate_pytorch_geometric_graphs(window_size=7)"
   ]
  },
  {
   "cell_type": "code",
   "execution_count": 40,
   "metadata": {},
   "outputs": [],
   "source": [
    "# Split the PyTorch Geometric graphs into training and testing sets\n",
    "train_pyg_graphs, test_pyg_graphs = train_test_split(pytorch_geometric_graphs, test_size=0.33, random_state=42)"
   ]
  },
  {
   "cell_type": "code",
   "execution_count": 42,
   "metadata": {},
   "outputs": [],
   "source": [
    "def run_gat_classifier(train_pyg_graphs, test_pyg_graphs, train_batch_size=300, learning_rate=0.001, num_epoch=10):\n",
    "    \"\"\"\n",
    "    Train and evaluate the GATClassifier model on the dataset.\n",
    "    \n",
    "    Parameters:\n",
    "    train_pyg_graphs (list): List of PyTorch Geometric graphs for training.\n",
    "    test_pyg_graphs (list): List of PyTorch Geometric graphs for testing.\n",
    "    train_batch_size (int): Batch size for training.\n",
    "    learning_rate (float): Learning rate for the optimizer.\n",
    "    num_epoch (int): Number of epochs for training.\n",
    "    \n",
    "    Returns:\n",
    "    dict: A dictionary containing the trained model and evaluation results.\n",
    "    \"\"\"\n",
    "\n",
    "    # Create DataLoader for training and testing datasets\n",
    "    train_loader = DataLoader(train_pyg_graphs, batch_size=train_batch_size, shuffle=False)\n",
    "    test_loader = DataLoader(test_pyg_graphs, batch_size=200, shuffle=False)\n",
    "    \n",
    "    # Initialize the GATClassifier model and move it to the selected device\n",
    "    gat_model = GATClassifier().to(device)\n",
    "    print(gat_model)\n",
    "\n",
    "    # Define the loss function and optimizer\n",
    "    loss_function = F.binary_cross_entropy\n",
    "    optimizer = torch.optim.Adam(gat_model.parameters(), lr=learning_rate)\n",
    "    \n",
    "    # Set the model to training mode\n",
    "    gat_model.train()\n",
    "    for epoch in range(0, num_epoch):\n",
    "\n",
    "        # Iterate in batches over the training dataset\n",
    "        for i, data in enumerate(train_loader):\n",
    "            data = data.to(device)\n",
    "            try:\n",
    "                # Perform a single forward pass\n",
    "                _, out = gat_model(data, data.batch)\n",
    "            except Exception as e:\n",
    "                print(f\"Error during forward pass: {e}\")\n",
    "                print(data)\n",
    "                print(data.x)\n",
    "                print(data.y)\n",
    "            \n",
    "            out = out.squeeze()\n",
    "            y = data.y.squeeze()\n",
    "            \n",
    "            # Compute the loss            \n",
    "            loss = loss_function(out, y)\n",
    "            # Perform backward pass            \n",
    "            loss.backward()\n",
    "            # Update parameters based on gradients\n",
    "            optimizer.step()\n",
    "            # Clear gradients\n",
    "            optimizer.zero_grad()  # Clear gradients.\n",
    "        \n",
    "        # Print the loss for each epoch\n",
    "        print(f'Epoch: {epoch}, Epoch loss {loss.item()}')\n",
    "\n",
    "    # Training process is complete\n",
    "    print('Training process has finished.')\n",
    "    print('Final loss', loss.item())\n",
    "    \n",
    "    # Initialize lists to store true and predicted labels\n",
    "    true_labels = []\n",
    "    pred_labels = []\n",
    "\n",
    "    # Set the model to evaluation mode\n",
    "    with torch.no_grad():\n",
    "        gat_model.eval()\n",
    "\n",
    "        # Iterate in batches over the testing dataset\n",
    "        for i, data in enumerate(test_loader):\n",
    "            data = data.to(device)\n",
    "            # Perform a forward pass\n",
    "            _, out = gat_model(data, data.batch)\n",
    "            # Store the predicted and true labels\n",
    "            pred_labels.extend(torch.round(out.squeeze()).tolist())\n",
    "            true_labels.extend(data.y.tolist())\n",
    "\n",
    "    # Calculate accuracy, precision, and recall\n",
    "    results = calculate_accuracy_precision_recall(true_labels, pred_labels)\n",
    "\n",
    "    # Print and return the evaluation results    \n",
    "    print(results)\n",
    "    return {\n",
    "        'model': gat_model,\n",
    "        'results': results\n",
    "    }"
   ]
  },
  {
   "cell_type": "code",
   "execution_count": 43,
   "metadata": {},
   "outputs": [
    {
     "name": "stderr",
     "output_type": "stream",
     "text": [
      "d:\\Development\\bug-or-feature\\.venv\\lib\\site-packages\\torch_geometric\\deprecation.py:26: UserWarning: 'data.DataLoader' is deprecated, use 'loader.DataLoader' instead\n",
      "  warnings.warn(out)\n"
     ]
    },
    {
     "name": "stdout",
     "output_type": "stream",
     "text": [
      "GATClassifier(\n",
      "  (conv1): SGConv(100, 50, K=1)\n",
      "  (linear1): Linear(in_features=50, out_features=1, bias=True)\n",
      "  (sigmoid): Sigmoid()\n",
      ")\n",
      "Epoch: 0, Epoch loss 0.1309354156255722\n",
      "Epoch: 1, Epoch loss 0.12907011806964874\n",
      "Epoch: 2, Epoch loss 0.1299525648355484\n",
      "Epoch: 3, Epoch loss 0.13657023012638092\n",
      "Epoch: 4, Epoch loss 0.12903249263763428\n",
      "Epoch: 5, Epoch loss 0.13796553015708923\n",
      "Epoch: 6, Epoch loss 0.13074252009391785\n",
      "Epoch: 7, Epoch loss 0.11916991323232651\n",
      "Epoch: 8, Epoch loss 0.1449357569217682\n",
      "Epoch: 9, Epoch loss 0.12775111198425293\n",
      "Training process has finished.\n",
      "Final loss 0.12775111198425293\n",
      "(0.9562874496791757, 0.9362477384608912, 0.9639407040313288)\n",
      "GATClassifier(\n",
      "  (conv1): SGConv(100, 50, K=1)\n",
      "  (linear1): Linear(in_features=50, out_features=1, bias=True)\n",
      "  (sigmoid): Sigmoid()\n",
      ")\n"
     ]
    },
    {
     "name": "stderr",
     "output_type": "stream",
     "text": [
      "d:\\Development\\bug-or-feature\\.venv\\lib\\site-packages\\torch_geometric\\deprecation.py:26: UserWarning: 'data.DataLoader' is deprecated, use 'loader.DataLoader' instead\n",
      "  warnings.warn(out)\n"
     ]
    },
    {
     "name": "stdout",
     "output_type": "stream",
     "text": [
      "Epoch: 0, Epoch loss 0.13800501823425293\n",
      "Epoch: 1, Epoch loss 0.13694794476032257\n",
      "Epoch: 2, Epoch loss 0.13454577326774597\n",
      "Epoch: 3, Epoch loss 0.13353629410266876\n",
      "Epoch: 4, Epoch loss 0.13932548463344574\n",
      "Epoch: 5, Epoch loss 0.12905916571617126\n",
      "Epoch: 6, Epoch loss 0.13956786692142487\n",
      "Epoch: 7, Epoch loss 0.1405162811279297\n",
      "Epoch: 8, Epoch loss 0.13477346301078796\n",
      "Epoch: 9, Epoch loss 0.1285066306591034\n",
      "Training process has finished.\n",
      "Final loss 0.1285066306591034\n",
      "(0.9562539334964454, 0.9362135415790094, 0.9638973843581324)\n",
      "GATClassifier(\n",
      "  (conv1): SGConv(100, 50, K=1)\n",
      "  (linear1): Linear(in_features=50, out_features=1, bias=True)\n",
      "  (sigmoid): Sigmoid()\n",
      ")\n"
     ]
    },
    {
     "name": "stderr",
     "output_type": "stream",
     "text": [
      "d:\\Development\\bug-or-feature\\.venv\\lib\\site-packages\\torch_geometric\\deprecation.py:26: UserWarning: 'data.DataLoader' is deprecated, use 'loader.DataLoader' instead\n",
      "  warnings.warn(out)\n"
     ]
    },
    {
     "name": "stdout",
     "output_type": "stream",
     "text": [
      "Epoch: 0, Epoch loss 0.13689370453357697\n",
      "Epoch: 1, Epoch loss 0.14150631427764893\n",
      "Epoch: 2, Epoch loss 0.13093245029449463\n",
      "Epoch: 3, Epoch loss 0.1322852224111557\n",
      "Epoch: 4, Epoch loss 0.1302155703306198\n",
      "Epoch: 5, Epoch loss 0.12874458730220795\n",
      "Epoch: 6, Epoch loss 0.13717646896839142\n",
      "Epoch: 7, Epoch loss 0.1176430955529213\n",
      "Epoch: 8, Epoch loss 0.15418104827404022\n",
      "Epoch: 9, Epoch loss 0.12711165845394135\n",
      "Training process has finished.\n",
      "Final loss 0.12711165845394135\n",
      "(0.956280001638569, 0.9361218841225908, 0.9640706630509179)\n",
      "GATClassifier(\n",
      "  (conv1): SGConv(100, 50, K=1)\n",
      "  (linear1): Linear(in_features=50, out_features=1, bias=True)\n",
      "  (sigmoid): Sigmoid()\n",
      ")\n"
     ]
    },
    {
     "name": "stderr",
     "output_type": "stream",
     "text": [
      "d:\\Development\\bug-or-feature\\.venv\\lib\\site-packages\\torch_geometric\\deprecation.py:26: UserWarning: 'data.DataLoader' is deprecated, use 'loader.DataLoader' instead\n",
      "  warnings.warn(out)\n"
     ]
    },
    {
     "name": "stdout",
     "output_type": "stream",
     "text": [
      "Epoch: 0, Epoch loss 0.13301853835582733\n",
      "Epoch: 1, Epoch loss 0.12681537866592407\n",
      "Epoch: 2, Epoch loss 0.13188275694847107\n",
      "Epoch: 3, Epoch loss 0.13365085422992706\n",
      "Epoch: 4, Epoch loss 0.1384844034910202\n",
      "Epoch: 5, Epoch loss 0.13886311650276184\n",
      "Epoch: 6, Epoch loss 0.12696956098079681\n",
      "Epoch: 7, Epoch loss 0.13233178853988647\n",
      "Epoch: 8, Epoch loss 0.1390506476163864\n",
      "Epoch: 9, Epoch loss 0.13322824239730835\n",
      "Training process has finished.\n",
      "Final loss 0.13322824239730835\n",
      "(0.9562576575167487, 0.9360306178239475, 0.9641226466587536)\n",
      "GATClassifier(\n",
      "  (conv1): SGConv(100, 50, K=1)\n",
      "  (linear1): Linear(in_features=50, out_features=1, bias=True)\n",
      "  (sigmoid): Sigmoid()\n",
      ")\n"
     ]
    },
    {
     "name": "stderr",
     "output_type": "stream",
     "text": [
      "d:\\Development\\bug-or-feature\\.venv\\lib\\site-packages\\torch_geometric\\deprecation.py:26: UserWarning: 'data.DataLoader' is deprecated, use 'loader.DataLoader' instead\n",
      "  warnings.warn(out)\n"
     ]
    },
    {
     "name": "stdout",
     "output_type": "stream",
     "text": [
      "Epoch: 0, Epoch loss 0.12950605154037476\n",
      "Epoch: 1, Epoch loss 0.1369953155517578\n",
      "Epoch: 2, Epoch loss 0.1275673657655716\n",
      "Epoch: 3, Epoch loss 0.12399923801422119\n",
      "Epoch: 4, Epoch loss 0.1298011690378189\n",
      "Epoch: 5, Epoch loss 0.14094536006450653\n",
      "Epoch: 6, Epoch loss 0.13681644201278687\n",
      "Epoch: 7, Epoch loss 0.14063645899295807\n",
      "Epoch: 8, Epoch loss 0.1330345869064331\n",
      "Epoch: 9, Epoch loss 0.13404004275798798\n",
      "Training process has finished.\n",
      "Final loss 0.13404004275798798\n",
      "(0.956239037415232, 0.9364905603179683, 0.9635334991032828)\n",
      "GATClassifier(\n",
      "  (conv1): SGConv(100, 50, K=1)\n",
      "  (linear1): Linear(in_features=50, out_features=1, bias=True)\n",
      "  (sigmoid): Sigmoid()\n",
      ")\n"
     ]
    },
    {
     "name": "stderr",
     "output_type": "stream",
     "text": [
      "d:\\Development\\bug-or-feature\\.venv\\lib\\site-packages\\torch_geometric\\deprecation.py:26: UserWarning: 'data.DataLoader' is deprecated, use 'loader.DataLoader' instead\n",
      "  warnings.warn(out)\n"
     ]
    },
    {
     "name": "stdout",
     "output_type": "stream",
     "text": [
      "Epoch: 0, Epoch loss 0.1340053528547287\n",
      "Epoch: 1, Epoch loss 0.13960668444633484\n",
      "Epoch: 2, Epoch loss 0.1288483738899231\n",
      "Epoch: 3, Epoch loss 0.1374773234128952\n",
      "Epoch: 4, Epoch loss 0.1284351348876953\n",
      "Epoch: 5, Epoch loss 0.14428888261318207\n",
      "Epoch: 6, Epoch loss 0.13718512654304504\n",
      "Epoch: 7, Epoch loss 0.14853395521640778\n",
      "Epoch: 8, Epoch loss 0.13090720772743225\n",
      "Epoch: 9, Epoch loss 0.12927238643169403\n",
      "Training process has finished.\n",
      "Final loss 0.12927238643169403\n",
      "(0.9562464854558387, 0.9359996635545462, 0.9641313105933929)\n",
      "GATClassifier(\n",
      "  (conv1): SGConv(100, 50, K=1)\n",
      "  (linear1): Linear(in_features=50, out_features=1, bias=True)\n",
      "  (sigmoid): Sigmoid()\n",
      ")\n"
     ]
    },
    {
     "name": "stderr",
     "output_type": "stream",
     "text": [
      "d:\\Development\\bug-or-feature\\.venv\\lib\\site-packages\\torch_geometric\\deprecation.py:26: UserWarning: 'data.DataLoader' is deprecated, use 'loader.DataLoader' instead\n",
      "  warnings.warn(out)\n"
     ]
    },
    {
     "name": "stdout",
     "output_type": "stream",
     "text": [
      "Epoch: 0, Epoch loss 0.14049987494945526\n",
      "Epoch: 1, Epoch loss 0.1333644539117813\n",
      "Epoch: 2, Epoch loss 0.13647465407848358\n",
      "Epoch: 3, Epoch loss 0.1275818794965744\n",
      "Epoch: 4, Epoch loss 0.12623155117034912\n",
      "Epoch: 5, Epoch loss 0.13757550716400146\n",
      "Epoch: 6, Epoch loss 0.123783178627491\n",
      "Epoch: 7, Epoch loss 0.13476958870887756\n",
      "Epoch: 8, Epoch loss 0.1346001923084259\n",
      "Epoch: 9, Epoch loss 0.12975387275218964\n",
      "Training process has finished.\n",
      "Final loss 0.12975387275218964\n",
      "(0.9562539334964454, 0.9361548169962137, 0.9639666958352466)\n",
      "GATClassifier(\n",
      "  (conv1): SGConv(100, 50, K=1)\n",
      "  (linear1): Linear(in_features=50, out_features=1, bias=True)\n",
      "  (sigmoid): Sigmoid()\n",
      ")\n"
     ]
    },
    {
     "name": "stderr",
     "output_type": "stream",
     "text": [
      "d:\\Development\\bug-or-feature\\.venv\\lib\\site-packages\\torch_geometric\\deprecation.py:26: UserWarning: 'data.DataLoader' is deprecated, use 'loader.DataLoader' instead\n",
      "  warnings.warn(out)\n"
     ]
    },
    {
     "name": "stdout",
     "output_type": "stream",
     "text": [
      "Epoch: 0, Epoch loss 0.13097445666790009\n",
      "Epoch: 1, Epoch loss 0.13893306255340576\n",
      "Epoch: 2, Epoch loss 0.14186033606529236\n",
      "Epoch: 3, Epoch loss 0.1349816620349884\n",
      "Epoch: 4, Epoch loss 0.13339672982692719\n",
      "Epoch: 5, Epoch loss 0.1327415108680725\n",
      "Epoch: 6, Epoch loss 0.1264263540506363\n",
      "Epoch: 7, Epoch loss 0.13309277594089508\n",
      "Epoch: 8, Epoch loss 0.12427650392055511\n",
      "Epoch: 9, Epoch loss 0.13126379251480103\n",
      "Training process has finished.\n",
      "Final loss 0.13126379251480103\n",
      "(0.9562651055573554, 0.936039029314043, 0.9641313105933929)\n",
      "GATClassifier(\n",
      "  (conv1): SGConv(100, 50, K=1)\n",
      "  (linear1): Linear(in_features=50, out_features=1, bias=True)\n",
      "  (sigmoid): Sigmoid()\n",
      ")\n"
     ]
    },
    {
     "name": "stderr",
     "output_type": "stream",
     "text": [
      "d:\\Development\\bug-or-feature\\.venv\\lib\\site-packages\\torch_geometric\\deprecation.py:26: UserWarning: 'data.DataLoader' is deprecated, use 'loader.DataLoader' instead\n",
      "  warnings.warn(out)\n"
     ]
    },
    {
     "name": "stdout",
     "output_type": "stream",
     "text": [
      "Epoch: 0, Epoch loss 0.12464720010757446\n",
      "Epoch: 1, Epoch loss 0.131797194480896\n",
      "Epoch: 2, Epoch loss 0.12713372707366943\n",
      "Epoch: 3, Epoch loss 0.12900011241436005\n",
      "Epoch: 4, Epoch loss 0.12324773520231247\n",
      "Epoch: 5, Epoch loss 0.13517051935195923\n",
      "Epoch: 6, Epoch loss 0.12875567376613617\n",
      "Epoch: 7, Epoch loss 0.13756795227527618\n",
      "Epoch: 8, Epoch loss 0.12873288989067078\n",
      "Epoch: 9, Epoch loss 0.1311935931444168\n",
      "Training process has finished.\n",
      "Final loss 0.1311935931444168\n",
      "(0.956291173699479, 0.9363217075141395, 0.9638627286195753)\n",
      "GATClassifier(\n",
      "  (conv1): SGConv(100, 50, K=1)\n",
      "  (linear1): Linear(in_features=50, out_features=1, bias=True)\n",
      "  (sigmoid): Sigmoid()\n",
      ")\n"
     ]
    },
    {
     "name": "stderr",
     "output_type": "stream",
     "text": [
      "d:\\Development\\bug-or-feature\\.venv\\lib\\site-packages\\torch_geometric\\deprecation.py:26: UserWarning: 'data.DataLoader' is deprecated, use 'loader.DataLoader' instead\n",
      "  warnings.warn(out)\n"
     ]
    },
    {
     "name": "stdout",
     "output_type": "stream",
     "text": [
      "Epoch: 0, Epoch loss 0.13325348496437073\n",
      "Epoch: 1, Epoch loss 0.13575594127178192\n",
      "Epoch: 2, Epoch loss 0.12955448031425476\n",
      "Epoch: 3, Epoch loss 0.1290789246559143\n",
      "Epoch: 4, Epoch loss 0.13780882954597473\n",
      "Epoch: 5, Epoch loss 0.13763636350631714\n",
      "Epoch: 6, Epoch loss 0.11957187205553055\n",
      "Epoch: 7, Epoch loss 0.13225266337394714\n",
      "Epoch: 8, Epoch loss 0.13150662183761597\n",
      "Epoch: 9, Epoch loss 0.14058923721313477\n",
      "Training process has finished.\n",
      "Final loss 0.14058923721313477\n",
      "(0.9562613815370521, 0.9363100749095195, 0.9638020810771003)\n"
     ]
    }
   ],
   "source": [
    "# Initialize an empty list to store the evaluation results of the GAT classifier\n",
    "gat_evaluation_results = []\n",
    "\n",
    "# Run the GAT classifier multiple times using different random numbers from global_random_numbers\n",
    "for num in global_random_numbers:\n",
    "    # Set the random seed for reproducibility\n",
    "    torch.manual_seed(num)\n",
    "\n",
    "    # Run the GAT classifier and append the results to the list\n",
    "    gat_evaluation_results.append(run_gat_classifier(train_pyg_graphs, test_pyg_graphs)['results'])"
   ]
  },
  {
   "cell_type": "markdown",
   "metadata": {},
   "source": [
    "## <font color='red'>Our approach results</font>"
   ]
  },
  {
   "cell_type": "code",
   "execution_count": 44,
   "metadata": {
    "scrolled": false
   },
   "outputs": [
    {
     "name": "stdout",
     "output_type": "stream",
     "text": [
      "Avg accuracy | Avg precision | Avg recall\n",
      "0.9563+-0.0000, 0.9362+-0.0001, 0.9639+-0.0002\n"
     ]
    }
   ],
   "source": [
    "# Print the evaluation results for the GAT classifier\n",
    "print_evaluation_results(gat_evaluation_results)"
   ]
  },
  {
   "cell_type": "code",
   "execution_count": 45,
   "metadata": {},
   "outputs": [],
   "source": [
    "# Clean up the memory by deleting the variables\n",
    "del pytorch_geometric_graphs\n",
    "del train_pyg_graphs\n",
    "del test_pyg_graphs"
   ]
  },
  {
   "cell_type": "markdown",
   "metadata": {},
   "source": [
    "## Glove + GATConv"
   ]
  },
  {
   "cell_type": "code",
   "execution_count": 46,
   "metadata": {},
   "outputs": [],
   "source": [
    "def create_graph_of_words_glove(text, window_size):\n",
    "    \"\"\"\n",
    "    Create a graph of words from the given text using a sliding window approach and GloVe embeddings.\n",
    "    \n",
    "    Parameters:\n",
    "    text (str): The input text.\n",
    "    window_size (int): The size of the sliding window.\n",
    "    \n",
    "    Returns:\n",
    "    networkx.Graph: The graph of words.\n",
    "    \"\"\"\n",
    "\n",
    "    # Split the text into words\n",
    "    text = text.split()\n",
    "\n",
    "    # Initialize an empty graph\n",
    "    G = nx.Graph()\n",
    "    for i, word in enumerate(text):\n",
    "\n",
    "        # Get the GloVe embedding for the word\n",
    "        embedding = get_word_glove_embedding(word)\n",
    "\n",
    "        # Add the word as a node with its embedding as an attribute\n",
    "        G.add_node(word, x=embedding)\n",
    "\n",
    "        # Connect the word to the next words in the window\n",
    "        for j in range(i + 1, i + window_size):\n",
    "            if j < len(text):\n",
    "                G.add_edge(word, text[j])\n",
    "    \n",
    "    return G\n",
    "\n",
    "def create_graph_of_words_for_pytorch_glove(text, window_size):\n",
    "    \"\"\"\n",
    "    Convert the GloVe graph of words to a PyTorch Geometric graph.\n",
    "    \n",
    "    Parameters:\n",
    "    text (str): The input text.\n",
    "    window_size (int): The size of the sliding window.\n",
    "    \n",
    "    Returns:\n",
    "    torch_geometric.data.Data: The PyTorch Geometric graph.\n",
    "    \"\"\"\n",
    "    return from_networkx(create_graph_of_words_glove(text, window_size))\n",
    "\n",
    "def generate_pytorch_geometric_graphs_glove(window_size):\n",
    "    \"\"\"\n",
    "    Generate PyTorch Geometric graphs for all texts in the DataFrame using GloVe embeddings.\n",
    "    \n",
    "    Parameters:\n",
    "    window_size (int): The size of the sliding window.\n",
    "    \n",
    "    Returns:\n",
    "    list: A list of PyTorch Geometric graphs with labels.\n",
    "    \"\"\"\n",
    "\n",
    "    # Initialize an empty list to store the graphs\n",
    "    pyg_graphs = []\n",
    "    for s in tqdm(df['body'].values):\n",
    "        # Convert each text to a PyTorch Geometric graph and append to the list\n",
    "        pyg_graphs.append(create_graph_of_words_for_pytorch_glove(s, window_size))\n",
    "    \n",
    "    print('Finished generating graphs...')\n",
    "\n",
    "    # Add labels to the graphs\n",
    "    for i, label in enumerate(df['label'].values):\n",
    "        pyg_graphs[i].y = torch.tensor(label).float()\n",
    "    \n",
    "    # Filter out graphs with no nodes\n",
    "    pyg_graphs = [g for g in pyg_graphs if g.num_nodes != 0]\n",
    "\n",
    "    return pyg_graphs\n",
    "\n",
    "class GATGloveClassifier(torch.nn.Module):\n",
    "    def __init__(self):\n",
    "        \"\"\"\n",
    "        Initialize the GATGloveClassifier model.\n",
    "        \"\"\"\n",
    "\n",
    "        super().__init__()\n",
    "\n",
    "        # Define the first GAT layer with 100 input features, 10 output features, and 3 heads\n",
    "        self.conv1 = GATConv(100, 10, heads=3)\n",
    "        # Define a linear layer to reduce the output to 1 feature\n",
    "        self.linear1 = torch.nn.Linear(10*3, 1)\n",
    "        # Define the sigmoid activation function\n",
    "        self.sigmoid = torch.nn.Sigmoid()\n",
    "\n",
    "    def forward(self, data, batch):\n",
    "        \"\"\"\n",
    "        Define the forward pass of the GATGloveClassifier model.\n",
    "        \n",
    "        Parameters:\n",
    "        data (torch_geometric.data.Data): The input data.\n",
    "        batch (torch.Tensor): The batch tensor.\n",
    "        \n",
    "        Returns:\n",
    "        torch.Tensor: Output predictions.\n",
    "        \"\"\"\n",
    "\n",
    "        # Get the node features and edge indices from the data\n",
    "        x, edge_index = data.x, data.edge_index\n",
    "        \n",
    "        # Apply the first GAT layer with ELU activation\n",
    "        x = F.elu(self.conv1(x, edge_index))\n",
    "        # Perform global mean pooling to get a graph-level representation\n",
    "        x = global_mean_pool(x, batch)\n",
    "        # Apply dropout with a probability of 0.5 during training\n",
    "        x = F.dropout(x, p=0.5, training=self.training)\n",
    "        # Pass the pooled representation through the linear layer\n",
    "        x = self.linear1(x)\n",
    "        # Apply the sigmoid activation function\n",
    "        x = self.sigmoid(x)\n",
    "                \n",
    "        return x"
   ]
  },
  {
   "cell_type": "code",
   "execution_count": 47,
   "metadata": {},
   "outputs": [
    {
     "name": "stderr",
     "output_type": "stream",
     "text": [
      "  0%|          | 0/814322 [00:00<?, ?it/s]"
     ]
    },
    {
     "name": "stderr",
     "output_type": "stream",
     "text": [
      "100%|██████████| 814322/814322 [49:52<00:00, 272.08it/s]  \n"
     ]
    },
    {
     "name": "stdout",
     "output_type": "stream",
     "text": [
      "finished...\n"
     ]
    }
   ],
   "source": [
    "# Generate PyTorch Geometric graphs using GloVe embeddings with a specified window size\n",
    "pytorch_geometric_graphs_glove = generate_pytorch_geometric_graphs_glove(window_size=7)"
   ]
  },
  {
   "cell_type": "code",
   "execution_count": 48,
   "metadata": {},
   "outputs": [],
   "source": [
    "# Split the PyTorch Geometric graphs into training and testing sets\n",
    "train_pyg_graphs_glove, test_pyg_graphs_glove = train_test_split(pytorch_geometric_graphs_glove, test_size=0.33, random_state=42)"
   ]
  },
  {
   "cell_type": "code",
   "execution_count": 50,
   "metadata": {},
   "outputs": [],
   "source": [
    "def run_gat_glove_classifier(train_batch_size=300, learning_rate=0.001, num_epoch=10):\n",
    "    \"\"\"\n",
    "    Train and evaluate the GATGloveClassifier model on the dataset.\n",
    "    \n",
    "    Parameters:\n",
    "    train_batch_size (int): Batch size for training.\n",
    "    learning_rate (float): Learning rate for the optimizer.\n",
    "    num_epoch (int): Number of epochs for training.\n",
    "    \n",
    "    Returns:\n",
    "    dict: A dictionary containing the trained model and evaluation results.\n",
    "    \"\"\"\n",
    "\n",
    "    # Create DataLoader for training and testing datasets\n",
    "    train_loader = DataLoader(train_pyg_graphs_glove, batch_size=train_batch_size, shuffle=False)\n",
    "    test_loader = DataLoader(test_pyg_graphs_glove, batch_size=200, shuffle=False)\n",
    "    \n",
    "    # Initialize the GATGloveClassifier model and move it to the selected device\n",
    "    gat_model = GATGloveClassifier().to(device)\n",
    "    print(gat_model)\n",
    "\n",
    "    # Define the loss function and optimizer\n",
    "    loss_function = F.binary_cross_entropy\n",
    "    optimizer = torch.optim.Adam(gat_model.parameters(), lr=learning_rate)\n",
    "\n",
    "    # Set the model to training mode\n",
    "    gat_model.train()\n",
    "    for epoch in range(0, num_epoch):\n",
    "\n",
    "        # Iterate in batches over the training dataset\n",
    "        for i, data in enumerate(train_loader):\n",
    "\n",
    "            data = data.to(device)\n",
    "            try:\n",
    "                # Perform a single forward pass\n",
    "                out = gat_model(data, data.batch)  # Perform a single forward pass.\n",
    "            except Exception as e:\n",
    "                print(f\"Error during forward pass: {e}\")\n",
    "                print(data)\n",
    "                print(data.x)\n",
    "                print(data.y)\n",
    "            \n",
    "            out = out.squeeze()\n",
    "            y = data.y.squeeze()\n",
    "\n",
    "            # Compute the loss\n",
    "            loss = loss_function(out, y)\n",
    "            # Perform backward pass\n",
    "            loss.backward()\n",
    "            # Update parameters based on gradients\n",
    "            optimizer.step()\n",
    "            # Clear gradients\n",
    "            optimizer.zero_grad()\n",
    "        \n",
    "        # Print the loss for each epoch\n",
    "        print(f'Epoch: {epoch}, Epoch loss {loss.item()}')\n",
    "\n",
    "    # Training process is complete\n",
    "    print('Training process has finished.')\n",
    "    print('Final loss', loss.item())\n",
    "    \n",
    "    # Initialize lists to store true and predicted labels\n",
    "    true_labels = []\n",
    "    pred_labels = []\n",
    "\n",
    "    # Set the model to evaluation mode\n",
    "    with torch.no_grad():\n",
    "        gat_model.eval()\n",
    "\n",
    "        # Iterate in batches over the testing dataset\n",
    "        for i, data in enumerate(test_loader):\n",
    "            data = data.to(device)\n",
    "\n",
    "            # Perform a forward pass\n",
    "            out = gat_model(data, data.batch)\n",
    "            # Store the predicted and true labels\n",
    "            pred_labels.extend(torch.round(out.squeeze()).tolist())\n",
    "            true_labels.extend(data.y.tolist())\n",
    "    \n",
    "    # Calculate accuracy, precision, and recall\n",
    "    results = calculate_accuracy_precision_recall(true_labels, pred_labels)\n",
    "\n",
    "    # Print and return the evaluation results\n",
    "    print(results)\n",
    "    \n",
    "    return results"
   ]
  },
  {
   "cell_type": "code",
   "execution_count": 51,
   "metadata": {},
   "outputs": [
    {
     "name": "stderr",
     "output_type": "stream",
     "text": [
      "d:\\Development\\bug-or-feature\\.venv\\lib\\site-packages\\torch_geometric\\deprecation.py:26: UserWarning: 'data.DataLoader' is deprecated, use 'loader.DataLoader' instead\n",
      "  warnings.warn(out)\n"
     ]
    },
    {
     "name": "stdout",
     "output_type": "stream",
     "text": [
      "GATGloveClassifier(\n",
      "  (conv1): GATConv(100, 10, heads=3)\n",
      "  (linear1): Linear(in_features=30, out_features=1, bias=True)\n",
      "  (sigmoid): Sigmoid()\n",
      ")\n",
      "Epoch: 0, Epoch loss 0.35227927565574646\n",
      "Epoch: 1, Epoch loss 0.31315115094184875\n",
      "Epoch: 2, Epoch loss 0.2646562457084656\n",
      "Epoch: 3, Epoch loss 0.2439373880624771\n",
      "Epoch: 4, Epoch loss 0.24959613382816315\n",
      "Epoch: 5, Epoch loss 0.25913360714912415\n",
      "Epoch: 6, Epoch loss 0.21713615953922272\n",
      "Epoch: 7, Epoch loss 0.21979926526546478\n",
      "Epoch: 8, Epoch loss 0.213609516620636\n",
      "Epoch: 9, Epoch loss 0.22013787925243378\n",
      "Training process has finished.\n",
      "Final loss 0.22013787925243378\n",
      "(0.9025125964986761, 0.8706812763235502, 0.9080669895426309)\n",
      "GATGloveClassifier(\n",
      "  (conv1): GATConv(100, 10, heads=3)\n",
      "  (linear1): Linear(in_features=30, out_features=1, bias=True)\n",
      "  (sigmoid): Sigmoid()\n",
      ")\n"
     ]
    },
    {
     "name": "stderr",
     "output_type": "stream",
     "text": [
      "d:\\Development\\bug-or-feature\\.venv\\lib\\site-packages\\torch_geometric\\deprecation.py:26: UserWarning: 'data.DataLoader' is deprecated, use 'loader.DataLoader' instead\n",
      "  warnings.warn(out)\n"
     ]
    },
    {
     "name": "stdout",
     "output_type": "stream",
     "text": [
      "Epoch: 0, Epoch loss 0.29174745082855225\n",
      "Epoch: 1, Epoch loss 0.21594645082950592\n",
      "Epoch: 2, Epoch loss 0.22814933955669403\n",
      "Epoch: 3, Epoch loss 0.26995325088500977\n",
      "Epoch: 4, Epoch loss 0.25209030508995056\n",
      "Epoch: 5, Epoch loss 0.20063059031963348\n",
      "Epoch: 6, Epoch loss 0.22835570573806763\n",
      "Epoch: 7, Epoch loss 0.2409788817167282\n",
      "Epoch: 8, Epoch loss 0.2512624263763428\n",
      "Epoch: 9, Epoch loss 0.21829092502593994\n",
      "Training process has finished.\n",
      "Final loss 0.21829092502593994\n",
      "(0.9021215743668235, 0.8702543738681111, 0.9075991370721099)\n",
      "GATGloveClassifier(\n",
      "  (conv1): GATConv(100, 10, heads=3)\n",
      "  (linear1): Linear(in_features=30, out_features=1, bias=True)\n",
      "  (sigmoid): Sigmoid()\n",
      ")\n"
     ]
    },
    {
     "name": "stderr",
     "output_type": "stream",
     "text": [
      "d:\\Development\\bug-or-feature\\.venv\\lib\\site-packages\\torch_geometric\\deprecation.py:26: UserWarning: 'data.DataLoader' is deprecated, use 'loader.DataLoader' instead\n",
      "  warnings.warn(out)\n"
     ]
    },
    {
     "name": "stdout",
     "output_type": "stream",
     "text": [
      "Epoch: 0, Epoch loss 0.2500040531158447\n",
      "Epoch: 1, Epoch loss 0.23244565725326538\n",
      "Epoch: 2, Epoch loss 0.23040299117565155\n",
      "Epoch: 3, Epoch loss 0.23840582370758057\n",
      "Epoch: 4, Epoch loss 0.2726360261440277\n",
      "Epoch: 5, Epoch loss 0.2239445149898529\n",
      "Epoch: 6, Epoch loss 0.272415429353714\n",
      "Epoch: 7, Epoch loss 0.29982897639274597\n",
      "Epoch: 8, Epoch loss 0.28170663118362427\n",
      "Epoch: 9, Epoch loss 0.25492122769355774\n",
      "Training process has finished.\n",
      "Final loss 0.25492122769355774\n",
      "(0.9025870769047433, 0.8723418455454796, 0.905944325556008)\n",
      "GATGloveClassifier(\n",
      "  (conv1): GATConv(100, 10, heads=3)\n",
      "  (linear1): Linear(in_features=30, out_features=1, bias=True)\n",
      "  (sigmoid): Sigmoid()\n",
      ")\n"
     ]
    },
    {
     "name": "stderr",
     "output_type": "stream",
     "text": [
      "d:\\Development\\bug-or-feature\\.venv\\lib\\site-packages\\torch_geometric\\deprecation.py:26: UserWarning: 'data.DataLoader' is deprecated, use 'loader.DataLoader' instead\n",
      "  warnings.warn(out)\n"
     ]
    },
    {
     "name": "stdout",
     "output_type": "stream",
     "text": [
      "Epoch: 0, Epoch loss 0.2335517555475235\n",
      "Epoch: 1, Epoch loss 0.2871447503566742\n",
      "Epoch: 2, Epoch loss 0.2438572347164154\n",
      "Epoch: 3, Epoch loss 0.30298471450805664\n",
      "Epoch: 4, Epoch loss 0.2397795468568802\n",
      "Epoch: 5, Epoch loss 0.22993656992912292\n",
      "Epoch: 6, Epoch loss 0.24506451189517975\n",
      "Epoch: 7, Epoch loss 0.277348130941391\n",
      "Epoch: 8, Epoch loss 0.22615455090999603\n",
      "Epoch: 9, Epoch loss 0.20262083411216736\n",
      "Training process has finished.\n",
      "Final loss 0.20262083411216736\n",
      "(0.8998685420832915, 0.8677322079799297, 0.9049912927456876)\n",
      "GATGloveClassifier(\n",
      "  (conv1): GATConv(100, 10, heads=3)\n",
      "  (linear1): Linear(in_features=30, out_features=1, bias=True)\n",
      "  (sigmoid): Sigmoid()\n",
      ")\n"
     ]
    },
    {
     "name": "stderr",
     "output_type": "stream",
     "text": [
      "d:\\Development\\bug-or-feature\\.venv\\lib\\site-packages\\torch_geometric\\deprecation.py:26: UserWarning: 'data.DataLoader' is deprecated, use 'loader.DataLoader' instead\n",
      "  warnings.warn(out)\n"
     ]
    },
    {
     "name": "stdout",
     "output_type": "stream",
     "text": [
      "Epoch: 0, Epoch loss 0.24773946404457092\n",
      "Epoch: 1, Epoch loss 0.3030746877193451\n",
      "Epoch: 2, Epoch loss 0.28835412859916687\n",
      "Epoch: 3, Epoch loss 0.2587588131427765\n",
      "Epoch: 4, Epoch loss 0.24187447130680084\n",
      "Epoch: 5, Epoch loss 0.26838719844818115\n",
      "Epoch: 6, Epoch loss 0.27713239192962646\n",
      "Epoch: 7, Epoch loss 0.27770423889160156\n",
      "Epoch: 8, Epoch loss 0.264424592256546\n",
      "Epoch: 9, Epoch loss 0.29180580377578735\n",
      "Training process has finished.\n",
      "Final loss 0.29180580377578735\n",
      "(0.90210667828561, 0.8721421533425742, 0.904913317333934)\n",
      "GATGloveClassifier(\n",
      "  (conv1): GATConv(100, 10, heads=3)\n",
      "  (linear1): Linear(in_features=30, out_features=1, bias=True)\n",
      "  (sigmoid): Sigmoid()\n",
      ")\n"
     ]
    },
    {
     "name": "stderr",
     "output_type": "stream",
     "text": [
      "d:\\Development\\bug-or-feature\\.venv\\lib\\site-packages\\torch_geometric\\deprecation.py:26: UserWarning: 'data.DataLoader' is deprecated, use 'loader.DataLoader' instead\n",
      "  warnings.warn(out)\n"
     ]
    },
    {
     "name": "stdout",
     "output_type": "stream",
     "text": [
      "Epoch: 0, Epoch loss 0.2616770267486572\n",
      "Epoch: 1, Epoch loss 0.2756071090698242\n",
      "Epoch: 2, Epoch loss 0.2688077986240387\n",
      "Epoch: 3, Epoch loss 0.304704874753952\n",
      "Epoch: 4, Epoch loss 0.2557269334793091\n",
      "Epoch: 5, Epoch loss 0.26556825637817383\n",
      "Epoch: 6, Epoch loss 0.26250070333480835\n",
      "Epoch: 7, Epoch loss 0.2696766257286072\n",
      "Epoch: 8, Epoch loss 0.2596307694911957\n",
      "Epoch: 9, Epoch loss 0.30906713008880615\n",
      "Training process has finished.\n",
      "Final loss 0.30906713008880615\n",
      "(0.9028477583259784, 0.8740756249738285, 0.9042461943667097)\n",
      "GATGloveClassifier(\n",
      "  (conv1): GATConv(100, 10, heads=3)\n",
      "  (linear1): Linear(in_features=30, out_features=1, bias=True)\n",
      "  (sigmoid): Sigmoid()\n",
      ")\n"
     ]
    },
    {
     "name": "stderr",
     "output_type": "stream",
     "text": [
      "d:\\Development\\bug-or-feature\\.venv\\lib\\site-packages\\torch_geometric\\deprecation.py:26: UserWarning: 'data.DataLoader' is deprecated, use 'loader.DataLoader' instead\n",
      "  warnings.warn(out)\n"
     ]
    },
    {
     "name": "stdout",
     "output_type": "stream",
     "text": [
      "Epoch: 0, Epoch loss 0.24998345971107483\n",
      "Epoch: 1, Epoch loss 0.32814231514930725\n",
      "Epoch: 2, Epoch loss 0.276746541261673\n",
      "Epoch: 3, Epoch loss 0.26513126492500305\n",
      "Epoch: 4, Epoch loss 0.2730291783809662\n",
      "Epoch: 5, Epoch loss 0.3003321886062622\n",
      "Epoch: 6, Epoch loss 0.31255248188972473\n",
      "Epoch: 7, Epoch loss 0.2717522978782654\n",
      "Epoch: 8, Epoch loss 0.23230460286140442\n",
      "Epoch: 9, Epoch loss 0.28817060589790344\n",
      "Training process has finished.\n",
      "Final loss 0.28817060589790344\n",
      "(0.9039724124575927, 0.873918520928758, 0.9075211616603565)\n",
      "GATGloveClassifier(\n",
      "  (conv1): GATConv(100, 10, heads=3)\n",
      "  (linear1): Linear(in_features=30, out_features=1, bias=True)\n",
      "  (sigmoid): Sigmoid()\n",
      ")\n"
     ]
    },
    {
     "name": "stderr",
     "output_type": "stream",
     "text": [
      "d:\\Development\\bug-or-feature\\.venv\\lib\\site-packages\\torch_geometric\\deprecation.py:26: UserWarning: 'data.DataLoader' is deprecated, use 'loader.DataLoader' instead\n",
      "  warnings.warn(out)\n"
     ]
    },
    {
     "name": "stdout",
     "output_type": "stream",
     "text": [
      "Epoch: 0, Epoch loss 0.3087293803691864\n",
      "Epoch: 1, Epoch loss 0.3333565592765808\n",
      "Epoch: 2, Epoch loss 0.2869607210159302\n",
      "Epoch: 3, Epoch loss 0.24840418994426727\n",
      "Epoch: 4, Epoch loss 0.28674519062042236\n",
      "Epoch: 5, Epoch loss 0.2652907073497772\n",
      "Epoch: 6, Epoch loss 0.26156264543533325\n",
      "Epoch: 7, Epoch loss 0.3052360713481903\n",
      "Epoch: 8, Epoch loss 0.2780141830444336\n",
      "Epoch: 9, Epoch loss 0.2739991247653961\n",
      "Training process has finished.\n",
      "Final loss 0.2739991247653961\n",
      "(0.9020731621028798, 0.8690812413553202, 0.9091239895686227)\n",
      "GATGloveClassifier(\n",
      "  (conv1): GATConv(100, 10, heads=3)\n",
      "  (linear1): Linear(in_features=30, out_features=1, bias=True)\n",
      "  (sigmoid): Sigmoid()\n",
      ")\n"
     ]
    },
    {
     "name": "stderr",
     "output_type": "stream",
     "text": [
      "d:\\Development\\bug-or-feature\\.venv\\lib\\site-packages\\torch_geometric\\deprecation.py:26: UserWarning: 'data.DataLoader' is deprecated, use 'loader.DataLoader' instead\n",
      "  warnings.warn(out)\n"
     ]
    },
    {
     "name": "stdout",
     "output_type": "stream",
     "text": [
      "Epoch: 0, Epoch loss 0.29576021432876587\n",
      "Epoch: 1, Epoch loss 0.29608529806137085\n",
      "Epoch: 2, Epoch loss 0.2896295189857483\n",
      "Epoch: 3, Epoch loss 0.29751548171043396\n",
      "Epoch: 4, Epoch loss 0.2498352974653244\n",
      "Epoch: 5, Epoch loss 0.28264304995536804\n",
      "Epoch: 6, Epoch loss 0.2853836417198181\n",
      "Epoch: 7, Epoch loss 0.27772796154022217\n",
      "Epoch: 8, Epoch loss 0.2585822343826294\n",
      "Epoch: 9, Epoch loss 0.30311354994773865\n",
      "Training process has finished.\n",
      "Final loss 0.30311354994773865\n",
      "(0.9021774346713738, 0.8694358574850201, 0.9089073912026407)\n",
      "GATGloveClassifier(\n",
      "  (conv1): GATConv(100, 10, heads=3)\n",
      "  (linear1): Linear(in_features=30, out_features=1, bias=True)\n",
      "  (sigmoid): Sigmoid()\n",
      ")\n"
     ]
    },
    {
     "name": "stderr",
     "output_type": "stream",
     "text": [
      "d:\\Development\\bug-or-feature\\.venv\\lib\\site-packages\\torch_geometric\\deprecation.py:26: UserWarning: 'data.DataLoader' is deprecated, use 'loader.DataLoader' instead\n",
      "  warnings.warn(out)\n"
     ]
    },
    {
     "name": "stdout",
     "output_type": "stream",
     "text": [
      "Epoch: 0, Epoch loss 0.23962394893169403\n",
      "Epoch: 1, Epoch loss 0.1936521828174591\n",
      "Epoch: 2, Epoch loss 0.21231508255004883\n",
      "Epoch: 3, Epoch loss 0.19383782148361206\n",
      "Epoch: 4, Epoch loss 0.23405997455120087\n",
      "Epoch: 5, Epoch loss 0.21464839577674866\n",
      "Epoch: 6, Epoch loss 0.21160274744033813\n",
      "Epoch: 7, Epoch loss 0.24407966434955597\n",
      "Epoch: 8, Epoch loss 0.23700521886348724\n",
      "Epoch: 9, Epoch loss 0.23519086837768555\n",
      "Training process has finished.\n",
      "Final loss 0.23519086837768555\n",
      "(0.9027285896762709, 0.8727304600435751, 0.9057883747325011)\n"
     ]
    }
   ],
   "source": [
    "# Set the device to GPU if available, otherwise use CPU\n",
    "device = torch.device('cuda' if torch.cuda.is_available() else 'cpu')\n",
    "\n",
    "# Initialize an empty list to store the evaluation results of the GATGlove classifier\n",
    "gat_glove_evaluation_results = []\n",
    "\n",
    "# Run the GATGlove classifier multiple times using different random numbers from global_random_numbers\n",
    "for num in global_random_numbers:\n",
    "\n",
    "    # Set the random seed for reproducibility\n",
    "    torch.manual_seed(num)\n",
    "    # Run the GATGlove classifier and append the results to the list\n",
    "    gat_glove_evaluation_results.append(run_gat_glove_classifier())"
   ]
  },
  {
   "cell_type": "markdown",
   "metadata": {},
   "source": [
    "## <font color='red'>GloVe + GATConv results</font>"
   ]
  },
  {
   "cell_type": "code",
   "execution_count": 52,
   "metadata": {
    "scrolled": true
   },
   "outputs": [
    {
     "name": "stdout",
     "output_type": "stream",
     "text": [
      "Avg accuracy | Avg precision | Avg recall\n",
      "0.9023+-0.0010, 0.8712+-0.0020, 0.9067+-0.0017\n"
     ]
    }
   ],
   "source": [
    "# Print the evaluation results for the GATGlove classifier\n",
    "print_evaluation_results(gat_glove_evaluation_results)"
   ]
  },
  {
   "cell_type": "markdown",
   "metadata": {},
   "source": [
    "## Glove + GCNonv"
   ]
  },
  {
   "cell_type": "code",
   "execution_count": 53,
   "metadata": {},
   "outputs": [],
   "source": [
    "class GCNGloveClassifier(torch.nn.Module):\n",
    "    def __init__(self):\n",
    "        \"\"\"\n",
    "        Initialize the GCNGloveClassifier model.\n",
    "        \"\"\"\n",
    "\n",
    "        super().__init__()\n",
    "        \n",
    "        # Define the first GCN layer with 100 input features and 10 output features\n",
    "        self.conv1 = GCNConv(100, 10)\n",
    "        # Define a linear layer to reduce the output to 1 feature\n",
    "        self.linear1 = torch.nn.Linear(10, 1)\n",
    "        # Define the sigmoid activation function\n",
    "        self.sigmoid = torch.nn.Sigmoid()\n",
    "\n",
    "    def forward(self, data, batch):\n",
    "        \"\"\"\n",
    "        Define the forward pass of the GCNGloveClassifier model.\n",
    "        \n",
    "        Parameters:\n",
    "        data (torch_geometric.data.Data): The input data.\n",
    "        batch (torch.Tensor): The batch tensor.\n",
    "        \n",
    "        Returns:\n",
    "        torch.Tensor: Output predictions.\n",
    "        \"\"\"\n",
    "        # Get the node features and edge indices from the data\n",
    "        x, edge_index = data.x, data.edge_index\n",
    "        \n",
    "        # Apply the first GCN layer with ELU activation\n",
    "        x = F.elu(self.conv1(x, edge_index))\n",
    "        # Perform global mean pooling to get a graph-level representation\n",
    "        x = global_mean_pool(x, batch)\n",
    "        # Apply dropout with a probability of 0.5 during training\n",
    "        x = F.dropout(x, p=0.5, training=self.training)\n",
    "        # Pass the pooled representation through the linear layer\n",
    "        x = self.linear1(x)\n",
    "        # Apply the sigmoid activation function\n",
    "        x = self.sigmoid(x)\n",
    "        \n",
    "        return x"
   ]
  },
  {
   "cell_type": "code",
   "execution_count": 54,
   "metadata": {},
   "outputs": [],
   "source": [
    "def run_gcn_glove_classifier(train_batch_size=300, learning_rate=0.001, num_epoch=10):\n",
    "    \"\"\"\n",
    "    Train and evaluate the GCNGloveClassifier model on the dataset.\n",
    "    \n",
    "    Parameters:\n",
    "    train_batch_size (int): Batch size for training.\n",
    "    learning_rate (float): Learning rate for the optimizer.\n",
    "    num_epoch (int): Number of epochs for training.\n",
    "    \n",
    "    Returns:\n",
    "    dict: A dictionary containing the trained model and evaluation results.\n",
    "    \"\"\"\n",
    "\n",
    "    # Create DataLoader for training and testing datasets\n",
    "    train_loader = DataLoader(train_pyg_graphs_glove, batch_size=train_batch_size, shuffle=False)\n",
    "    test_loader = DataLoader(test_pyg_graphs_glove, batch_size=200, shuffle=False)\n",
    "    \n",
    "    # Initialize the GCNGloveClassifier model and move it to the selected device\n",
    "    model = GCNGloveClassifier().to(device)\n",
    "    print(model)\n",
    "\n",
    "    # Define the loss function and optimizer\n",
    "    loss_function = F.binary_cross_entropy\n",
    "    optimizer = torch.optim.Adam(model.parameters(), lr=learning_rate)\n",
    "\n",
    "    # Set the model to training mode\n",
    "    model.train()\n",
    "    for epoch in range(0, num_epoch):\n",
    "\n",
    "        # Iterate in batches over the training dataset\n",
    "        for i, data in enumerate(train_loader):\n",
    "            data = data.to(device)\n",
    "            try:\n",
    "                # Perform a single forward pass\n",
    "                out = model(data, data.batch)\n",
    "            except Exception as e:\n",
    "                print(f\"Error during forward pass: {e}\")\n",
    "                print(data)\n",
    "                print(data.x)\n",
    "                print(data.y)\n",
    "            \n",
    "\n",
    "            out = out.squeeze()\n",
    "            y = data.y.squeeze()\n",
    "\n",
    "            # Compute the loss\n",
    "            loss = loss_function(out, y)\n",
    "            # Perform backward pass\n",
    "            loss.backward()\n",
    "            # Update parameters based on gradients\n",
    "            optimizer.step()\n",
    "            # Clear gradients\n",
    "            optimizer.zero_grad()\n",
    "        \n",
    "        # Print the loss for each epoch\n",
    "        print(f'Epoch: {epoch}, Epoch loss {loss.item()}')\n",
    "\n",
    "    # Training process is complete\n",
    "    print('Training process has finished.')\n",
    "    print('Final loss', loss.item())\n",
    "    \n",
    "    # Initialize lists to store true and predicted labels\n",
    "    true_labels = []\n",
    "    pred_labels = []\n",
    "\n",
    "    # Set the model to evaluation mode\n",
    "    with torch.no_grad():\n",
    "        model.eval()\n",
    "\n",
    "        # Iterate in batches over the testing dataset\n",
    "        for i, data in enumerate(test_loader):\n",
    "            data = data.to(device)\n",
    "\n",
    "            # Perform a forward pass\n",
    "            out = model(data, data.batch)\n",
    "            # Store the predicted and true labels\n",
    "            pred_labels.extend(torch.round(out.squeeze()).tolist())\n",
    "            true_labels.extend(data.y.tolist())\n",
    "    \n",
    "    # Calculate accuracy, precision, and recall\n",
    "    results = calculate_accuracy_precision_recall(true_labels, pred_labels)\n",
    "    \n",
    "    # Print and return the evaluation results\n",
    "    print(results)\n",
    "    \n",
    "    return results"
   ]
  },
  {
   "cell_type": "code",
   "execution_count": 55,
   "metadata": {},
   "outputs": [
    {
     "name": "stdout",
     "output_type": "stream",
     "text": [
      "GCNGloveClassifier(\n",
      "  (conv1): GCNConv(100, 10)\n",
      "  (linear1): Linear(in_features=10, out_features=1, bias=True)\n",
      "  (sigmoid): Sigmoid()\n",
      ")\n"
     ]
    },
    {
     "name": "stderr",
     "output_type": "stream",
     "text": [
      "d:\\Development\\bug-or-feature\\.venv\\lib\\site-packages\\torch_geometric\\deprecation.py:26: UserWarning: 'data.DataLoader' is deprecated, use 'loader.DataLoader' instead\n",
      "  warnings.warn(out)\n"
     ]
    },
    {
     "name": "stdout",
     "output_type": "stream",
     "text": [
      "Epoch: 0, Epoch loss 0.3589356541633606\n",
      "Epoch: 1, Epoch loss 0.3863030970096588\n",
      "Epoch: 2, Epoch loss 0.3678418695926666\n",
      "Epoch: 3, Epoch loss 0.2862997055053711\n",
      "Epoch: 4, Epoch loss 0.3405810594558716\n",
      "Epoch: 5, Epoch loss 0.3283419609069824\n",
      "Epoch: 6, Epoch loss 0.32735422253608704\n",
      "Epoch: 7, Epoch loss 0.3750915229320526\n",
      "Epoch: 8, Epoch loss 0.3285547196865082\n",
      "Epoch: 9, Epoch loss 0.3145905137062073\n",
      "Training process has finished.\n",
      "Final loss 0.3145905137062073\n",
      "(0.8693650917784804, 0.8364518074307347, 0.8652584884899628)\n",
      "GCNGloveClassifier(\n",
      "  (conv1): GCNConv(100, 10)\n",
      "  (linear1): Linear(in_features=10, out_features=1, bias=True)\n",
      "  (sigmoid): Sigmoid()\n",
      ")\n"
     ]
    },
    {
     "name": "stderr",
     "output_type": "stream",
     "text": [
      "d:\\Development\\bug-or-feature\\.venv\\lib\\site-packages\\torch_geometric\\deprecation.py:26: UserWarning: 'data.DataLoader' is deprecated, use 'loader.DataLoader' instead\n",
      "  warnings.warn(out)\n"
     ]
    },
    {
     "name": "stdout",
     "output_type": "stream",
     "text": [
      "Epoch: 0, Epoch loss 0.28413230180740356\n",
      "Epoch: 1, Epoch loss 0.363935261964798\n",
      "Epoch: 2, Epoch loss 0.3455824553966522\n",
      "Epoch: 3, Epoch loss 0.32411542534828186\n",
      "Epoch: 4, Epoch loss 0.36809438467025757\n",
      "Epoch: 5, Epoch loss 0.30379095673561096\n",
      "Epoch: 6, Epoch loss 0.3353199362754822\n",
      "Epoch: 7, Epoch loss 0.31713271141052246\n",
      "Epoch: 8, Epoch loss 0.2981986105442047\n",
      "Epoch: 9, Epoch loss 0.34556907415390015\n",
      "Training process has finished.\n",
      "Final loss 0.34556907415390015\n",
      "(0.8704227135446343, 0.833606421714664, 0.8727441280182983)\n",
      "GCNGloveClassifier(\n",
      "  (conv1): GCNConv(100, 10)\n",
      "  (linear1): Linear(in_features=10, out_features=1, bias=True)\n",
      "  (sigmoid): Sigmoid()\n",
      ")\n"
     ]
    },
    {
     "name": "stderr",
     "output_type": "stream",
     "text": [
      "d:\\Development\\bug-or-feature\\.venv\\lib\\site-packages\\torch_geometric\\deprecation.py:26: UserWarning: 'data.DataLoader' is deprecated, use 'loader.DataLoader' instead\n",
      "  warnings.warn(out)\n"
     ]
    },
    {
     "name": "stdout",
     "output_type": "stream",
     "text": [
      "Epoch: 0, Epoch loss 0.31601977348327637\n",
      "Epoch: 1, Epoch loss 0.3371032476425171\n",
      "Epoch: 2, Epoch loss 0.32729649543762207\n",
      "Epoch: 3, Epoch loss 0.3275023400783539\n",
      "Epoch: 4, Epoch loss 0.3180147409439087\n",
      "Epoch: 5, Epoch loss 0.3319082260131836\n",
      "Epoch: 6, Epoch loss 0.3485787510871887\n",
      "Epoch: 7, Epoch loss 0.3081396818161011\n",
      "Epoch: 8, Epoch loss 0.34996795654296875\n",
      "Epoch: 9, Epoch loss 0.371731162071228\n",
      "Training process has finished.\n",
      "Final loss 0.371731162071228\n",
      "(0.8694879844484912, 0.83622110485497, 0.8659689311303835)\n",
      "GCNGloveClassifier(\n",
      "  (conv1): GCNConv(100, 10)\n",
      "  (linear1): Linear(in_features=10, out_features=1, bias=True)\n",
      "  (sigmoid): Sigmoid()\n",
      ")\n"
     ]
    },
    {
     "name": "stderr",
     "output_type": "stream",
     "text": [
      "d:\\Development\\bug-or-feature\\.venv\\lib\\site-packages\\torch_geometric\\deprecation.py:26: UserWarning: 'data.DataLoader' is deprecated, use 'loader.DataLoader' instead\n",
      "  warnings.warn(out)\n"
     ]
    },
    {
     "name": "stdout",
     "output_type": "stream",
     "text": [
      "Epoch: 0, Epoch loss 0.3895280361175537\n",
      "Epoch: 1, Epoch loss 0.359671950340271\n",
      "Epoch: 2, Epoch loss 0.3533032536506653\n",
      "Epoch: 3, Epoch loss 0.36619728803634644\n",
      "Epoch: 4, Epoch loss 0.33061400055885315\n",
      "Epoch: 5, Epoch loss 0.3411228656768799\n",
      "Epoch: 6, Epoch loss 0.34635046124458313\n",
      "Epoch: 7, Epoch loss 0.3381805419921875\n",
      "Epoch: 8, Epoch loss 0.29396969079971313\n",
      "Epoch: 9, Epoch loss 0.3485795855522156\n",
      "Training process has finished.\n",
      "Final loss 0.3485795855522156\n",
      "(0.8701806522249159, 0.834031296386901, 0.8713752263452924)\n",
      "GCNGloveClassifier(\n",
      "  (conv1): GCNConv(100, 10)\n",
      "  (linear1): Linear(in_features=10, out_features=1, bias=True)\n",
      "  (sigmoid): Sigmoid()\n",
      ")\n"
     ]
    },
    {
     "name": "stderr",
     "output_type": "stream",
     "text": [
      "d:\\Development\\bug-or-feature\\.venv\\lib\\site-packages\\torch_geometric\\deprecation.py:26: UserWarning: 'data.DataLoader' is deprecated, use 'loader.DataLoader' instead\n",
      "  warnings.warn(out)\n"
     ]
    },
    {
     "name": "stdout",
     "output_type": "stream",
     "text": [
      "Epoch: 0, Epoch loss 0.3394639790058136\n",
      "Epoch: 1, Epoch loss 0.32156482338905334\n",
      "Epoch: 2, Epoch loss 0.3225545585155487\n",
      "Epoch: 3, Epoch loss 0.3611326813697815\n",
      "Epoch: 4, Epoch loss 0.3531118333339691\n",
      "Epoch: 5, Epoch loss 0.3122679591178894\n",
      "Epoch: 6, Epoch loss 0.3427259027957916\n",
      "Epoch: 7, Epoch loss 0.3446439206600189\n",
      "Epoch: 8, Epoch loss 0.29060986638069153\n",
      "Epoch: 9, Epoch loss 0.29894325137138367\n",
      "Training process has finished.\n",
      "Final loss 0.29894325137138367\n",
      "(0.8702476845903764, 0.8340339095469055, 0.8715658329073566)\n",
      "GCNGloveClassifier(\n",
      "  (conv1): GCNConv(100, 10)\n",
      "  (linear1): Linear(in_features=10, out_features=1, bias=True)\n",
      "  (sigmoid): Sigmoid()\n",
      ")\n"
     ]
    },
    {
     "name": "stderr",
     "output_type": "stream",
     "text": [
      "d:\\Development\\bug-or-feature\\.venv\\lib\\site-packages\\torch_geometric\\deprecation.py:26: UserWarning: 'data.DataLoader' is deprecated, use 'loader.DataLoader' instead\n",
      "  warnings.warn(out)\n"
     ]
    },
    {
     "name": "stdout",
     "output_type": "stream",
     "text": [
      "Epoch: 0, Epoch loss 0.3561432957649231\n",
      "Epoch: 1, Epoch loss 0.3442133963108063\n",
      "Epoch: 2, Epoch loss 0.3457798659801483\n",
      "Epoch: 3, Epoch loss 0.320742666721344\n",
      "Epoch: 4, Epoch loss 0.298397958278656\n",
      "Epoch: 5, Epoch loss 0.30253124237060547\n",
      "Epoch: 6, Epoch loss 0.36876967549324036\n",
      "Epoch: 7, Epoch loss 0.3164588212966919\n",
      "Epoch: 8, Epoch loss 0.33649274706840515\n",
      "Epoch: 9, Epoch loss 0.3166925013065338\n",
      "Training process has finished.\n",
      "Final loss 0.3166925013065338\n",
      "(0.8699572110067144, 0.8338766538094645, 0.8709680214172464)\n",
      "GCNGloveClassifier(\n",
      "  (conv1): GCNConv(100, 10)\n",
      "  (linear1): Linear(in_features=10, out_features=1, bias=True)\n",
      "  (sigmoid): Sigmoid()\n",
      ")\n"
     ]
    },
    {
     "name": "stderr",
     "output_type": "stream",
     "text": [
      "d:\\Development\\bug-or-feature\\.venv\\lib\\site-packages\\torch_geometric\\deprecation.py:26: UserWarning: 'data.DataLoader' is deprecated, use 'loader.DataLoader' instead\n",
      "  warnings.warn(out)\n"
     ]
    },
    {
     "name": "stdout",
     "output_type": "stream",
     "text": [
      "Epoch: 0, Epoch loss 0.3120622932910919\n",
      "Epoch: 1, Epoch loss 0.3377474248409271\n",
      "Epoch: 2, Epoch loss 0.3335561752319336\n",
      "Epoch: 3, Epoch loss 0.3747056722640991\n",
      "Epoch: 4, Epoch loss 0.34378865361213684\n",
      "Epoch: 5, Epoch loss 0.36561840772628784\n",
      "Epoch: 6, Epoch loss 0.310109943151474\n",
      "Epoch: 7, Epoch loss 0.309733510017395\n",
      "Epoch: 8, Epoch loss 0.33592063188552856\n",
      "Epoch: 9, Epoch loss 0.3323802947998047\n",
      "Training process has finished.\n",
      "Final loss 0.3323802947998047\n",
      "(0.8695252246515248, 0.8359032217625674, 0.8665667426204937)\n",
      "GCNGloveClassifier(\n",
      "  (conv1): GCNConv(100, 10)\n",
      "  (linear1): Linear(in_features=10, out_features=1, bias=True)\n",
      "  (sigmoid): Sigmoid()\n",
      ")\n"
     ]
    },
    {
     "name": "stderr",
     "output_type": "stream",
     "text": [
      "d:\\Development\\bug-or-feature\\.venv\\lib\\site-packages\\torch_geometric\\deprecation.py:26: UserWarning: 'data.DataLoader' is deprecated, use 'loader.DataLoader' instead\n",
      "  warnings.warn(out)\n"
     ]
    },
    {
     "name": "stdout",
     "output_type": "stream",
     "text": [
      "Epoch: 0, Epoch loss 0.3606937825679779\n",
      "Epoch: 1, Epoch loss 0.3293420970439911\n",
      "Epoch: 2, Epoch loss 0.3142077922821045\n",
      "Epoch: 3, Epoch loss 0.34218302369117737\n",
      "Epoch: 4, Epoch loss 0.31417447328567505\n",
      "Epoch: 5, Epoch loss 0.336719274520874\n",
      "Epoch: 6, Epoch loss 0.3596979081630707\n",
      "Epoch: 7, Epoch loss 0.3649207353591919\n",
      "Epoch: 8, Epoch loss 0.3285011649131775\n",
      "Epoch: 9, Epoch loss 0.37002691626548767\n",
      "Training process has finished.\n",
      "Final loss 0.37002691626548767\n",
      "(0.8701285159406689, 0.8340729803488922, 0.8711586279793105)\n",
      "GCNGloveClassifier(\n",
      "  (conv1): GCNConv(100, 10)\n",
      "  (linear1): Linear(in_features=10, out_features=1, bias=True)\n",
      "  (sigmoid): Sigmoid()\n",
      ")\n"
     ]
    },
    {
     "name": "stderr",
     "output_type": "stream",
     "text": [
      "d:\\Development\\bug-or-feature\\.venv\\lib\\site-packages\\torch_geometric\\deprecation.py:26: UserWarning: 'data.DataLoader' is deprecated, use 'loader.DataLoader' instead\n",
      "  warnings.warn(out)\n"
     ]
    },
    {
     "name": "stdout",
     "output_type": "stream",
     "text": [
      "Epoch: 0, Epoch loss 0.3249402344226837\n",
      "Epoch: 1, Epoch loss 0.35044336318969727\n",
      "Epoch: 2, Epoch loss 0.3545190989971161\n",
      "Epoch: 3, Epoch loss 0.3272184133529663\n",
      "Epoch: 4, Epoch loss 0.39767521619796753\n",
      "Epoch: 5, Epoch loss 0.3449556529521942\n",
      "Epoch: 6, Epoch loss 0.34682783484458923\n",
      "Epoch: 7, Epoch loss 0.34759554266929626\n",
      "Epoch: 8, Epoch loss 0.26585251092910767\n",
      "Epoch: 9, Epoch loss 0.32907500863075256\n",
      "Training process has finished.\n",
      "Final loss 0.32907500863075256\n",
      "(0.870232788509163, 0.8342722965740978, 0.8711499640446713)\n",
      "GCNGloveClassifier(\n",
      "  (conv1): GCNConv(100, 10)\n",
      "  (linear1): Linear(in_features=10, out_features=1, bias=True)\n",
      "  (sigmoid): Sigmoid()\n",
      ")\n"
     ]
    },
    {
     "name": "stderr",
     "output_type": "stream",
     "text": [
      "d:\\Development\\bug-or-feature\\.venv\\lib\\site-packages\\torch_geometric\\deprecation.py:26: UserWarning: 'data.DataLoader' is deprecated, use 'loader.DataLoader' instead\n",
      "  warnings.warn(out)\n"
     ]
    },
    {
     "name": "stdout",
     "output_type": "stream",
     "text": [
      "Epoch: 0, Epoch loss 0.3092505931854248\n",
      "Epoch: 1, Epoch loss 0.3215392827987671\n",
      "Epoch: 2, Epoch loss 0.31502795219421387\n",
      "Epoch: 3, Epoch loss 0.3298693895339966\n",
      "Epoch: 4, Epoch loss 0.29834842681884766\n",
      "Epoch: 5, Epoch loss 0.3375053107738495\n",
      "Epoch: 6, Epoch loss 0.3189999461174011\n",
      "Epoch: 7, Epoch loss 0.3265329599380493\n",
      "Epoch: 8, Epoch loss 0.3130887746810913\n",
      "Epoch: 9, Epoch loss 0.3602704405784607\n",
      "Training process has finished.\n",
      "Final loss 0.3602704405784607\n",
      "(0.8702960968543201, 0.833305761881917, 0.8728480952339696)\n"
     ]
    }
   ],
   "source": [
    "# Initialize an empty list to store the evaluation results of the GCNGlove classifier\n",
    "gcn_glove_evaluation_results = []\n",
    "\n",
    "# Run the GCNGlove classifier multiple times using different random numbers from global_random_numbers\n",
    "for num in global_random_numbers:\n",
    "    # Set the random seed for reproducibility\n",
    "    torch.manual_seed(num)\n",
    "\n",
    "    # Run the GCNGlove classifier and append the results to the list\n",
    "    gcn_glove_evaluation_results.append(run_gcn_glove_classifier())"
   ]
  },
  {
   "cell_type": "markdown",
   "metadata": {},
   "source": [
    "## <font color='red'>GloVe + GCNConv results</font>"
   ]
  },
  {
   "cell_type": "code",
   "execution_count": 56,
   "metadata": {
    "scrolled": true
   },
   "outputs": [
    {
     "name": "stdout",
     "output_type": "stream",
     "text": [
      "Avg accuracy | Avg precision | Avg recall\n",
      "0.8700+-0.0004, 0.8346+-0.0011, 0.8700+-0.0027\n"
     ]
    }
   ],
   "source": [
    "# Print the evaluation results for the GCNGlove classifier\n",
    "print_evaluation_results(gcn_glove_evaluation_results)"
   ]
  },
  {
   "cell_type": "markdown",
   "metadata": {},
   "source": [
    "## Glove + GraphConv"
   ]
  },
  {
   "cell_type": "code",
   "execution_count": 57,
   "metadata": {},
   "outputs": [],
   "source": [
    "class GraphConvGloveClassifier(torch.nn.Module):\n",
    "    def __init__(self):\n",
    "        \"\"\"\n",
    "        Initialize the GraphConvGloveClassifier model.\n",
    "        \"\"\"\n",
    "\n",
    "        super().__init__()\n",
    "        \n",
    "        # Define the first GraphConv layer with 100 input features and 10 output features\n",
    "        self.conv1 = GraphConv(100, 10, aggr='mean')\n",
    "        # Define a linear layer to reduce the output to 1 feature\n",
    "        self.linear1 = torch.nn.Linear(10, 1)\n",
    "        # Define the sigmoid activation function\n",
    "        self.sigmoid = torch.nn.Sigmoid()\n",
    "\n",
    "    def forward(self, data, batch):\n",
    "        \"\"\"\n",
    "        Define the forward pass of the GraphConvGloveClassifier model.\n",
    "        \n",
    "        Parameters:\n",
    "        data (torch_geometric.data.Data): The input data.\n",
    "        batch (torch.Tensor): The batch tensor.\n",
    "        \n",
    "        Returns:\n",
    "        torch.Tensor: Output predictions.\n",
    "        \"\"\"\n",
    "\n",
    "        # Get the node features and edge indices from the data\n",
    "        x, edge_index = data.x, data.edge_index\n",
    "        \n",
    "        # Apply the first GraphConv layer with ELU activation\n",
    "        x = F.elu(self.conv1(x, edge_index))\n",
    "        # Perform global mean pooling to get a graph-level representation\n",
    "        x = global_mean_pool(x, batch)\n",
    "         # Apply dropout with a probability of 0.5 during training\n",
    "        x = F.dropout(x, p=0.5, training=self.training)\n",
    "        # Pass the pooled representation through the linear layer\n",
    "        x = self.linear1(x)\n",
    "        # Apply the sigmoid activation function\n",
    "        x = self.sigmoid(x)\n",
    "        \n",
    "        return x"
   ]
  },
  {
   "cell_type": "code",
   "execution_count": 58,
   "metadata": {},
   "outputs": [],
   "source": [
    "def run_graphconv_glove_classifier(train_batch_size=300, learning_rate=0.001, num_epoch=10):\n",
    "    \"\"\"\n",
    "    Train and evaluate the GraphConvGloveClassifier model on the dataset.\n",
    "    \n",
    "    Parameters:\n",
    "    train_batch_size (int): Batch size for training.\n",
    "    learning_rate (float): Learning rate for the optimizer.\n",
    "    num_epoch (int): Number of epochs for training.\n",
    "    \n",
    "    Returns:\n",
    "    dict: A dictionary containing the trained model and evaluation results.\n",
    "    \"\"\"\n",
    "\n",
    "    # Create DataLoader for training and testing datasets\n",
    "    train_loader = DataLoader(train_pyg_graphs_glove, batch_size=train_batch_size, shuffle=False)\n",
    "    test_loader = DataLoader(test_pyg_graphs_glove, batch_size=200, shuffle=False)\n",
    "\n",
    "    # Initialize the GraphConvGloveClassifier model and move it to the selected device\n",
    "    model = GraphConvGloveClassifier().to(device)\n",
    "    print(model)\n",
    "\n",
    "    # Define the loss function and optimizer\n",
    "    loss_function = F.binary_cross_entropy\n",
    "    optimizer = torch.optim.Adam(model.parameters(), lr=learning_rate)\n",
    "\n",
    "    # Set the model to training mode\n",
    "    model.train()\n",
    "    for epoch in range(0, num_epoch):\n",
    "\n",
    "        # Iterate in batches over the training dataset\n",
    "        for i, data in enumerate(train_loader):  # Iterate in batches over the training dataset.\n",
    "            data = data.to(device)\n",
    "            try:\n",
    "                # Perform a single forward pass\n",
    "                out = model(data, data.batch)  # Perform a single forward pass.\n",
    "            except Exception as e:\n",
    "                print(f\"Error during forward pass: {e}\")\n",
    "                print(data)\n",
    "                print(data.x)\n",
    "                print(data.y)\n",
    "            \n",
    "            out = out.squeeze()\n",
    "            y = data.y.squeeze()\n",
    "\n",
    "            # Compute the loss\n",
    "            loss = loss_function(out, y)\n",
    "            # Perform backward pass\n",
    "            loss.backward()\n",
    "            # Update parameters based on gradients\n",
    "            optimizer.step()\n",
    "            # Clear gradients\n",
    "            optimizer.zero_grad()\n",
    "        \n",
    "        # Print the loss for each epoch\n",
    "        print(f'Epoch: {epoch}, Epoch loss {loss.item()}')\n",
    "\n",
    "    # Training process is complete\n",
    "    print('Training process has finished.')\n",
    "    print('Final loss', loss.item())\n",
    "    \n",
    "    # Initialize lists to store true and predicted labels\n",
    "    true_labels = []\n",
    "    pred_labels = []\n",
    "\n",
    "    # Set the model to evaluation mode\n",
    "    with torch.no_grad():\n",
    "        model.eval()\n",
    "\n",
    "        # Iterate in batches over the testing dataset\n",
    "        for i, data in enumerate(test_loader):\n",
    "            data = data.to(device)\n",
    "\n",
    "            # Perform a forward pass\n",
    "            out = model(data, data.batch)\n",
    "            # Store the predicted and true labels\n",
    "            pred_labels.extend(torch.round(out.squeeze()).tolist())\n",
    "            true_labels.extend(data.y.tolist())\n",
    "    \n",
    "    # Calculate accuracy, precision, and recall\n",
    "    results = calculate_accuracy_precision_recall(true_labels, pred_labels)\n",
    "\n",
    "    # Print and return the evaluation results\n",
    "    print(results)\n",
    "    \n",
    "    return results"
   ]
  },
  {
   "cell_type": "code",
   "execution_count": 59,
   "metadata": {},
   "outputs": [
    {
     "name": "stdout",
     "output_type": "stream",
     "text": [
      "GraphConvGloveClassifier(\n",
      "  (conv1): GraphConv(100, 10)\n",
      "  (linear1): Linear(in_features=10, out_features=1, bias=True)\n",
      "  (sigmoid): Sigmoid()\n",
      ")\n"
     ]
    },
    {
     "name": "stderr",
     "output_type": "stream",
     "text": [
      "d:\\Development\\bug-or-feature\\.venv\\lib\\site-packages\\torch_geometric\\deprecation.py:26: UserWarning: 'data.DataLoader' is deprecated, use 'loader.DataLoader' instead\n",
      "  warnings.warn(out)\n"
     ]
    },
    {
     "name": "stdout",
     "output_type": "stream",
     "text": [
      "Epoch: 0, Epoch loss 0.34583187103271484\n",
      "Epoch: 1, Epoch loss 0.38582849502563477\n",
      "Epoch: 2, Epoch loss 0.3712547719478607\n",
      "Epoch: 3, Epoch loss 0.2853983938694\n",
      "Epoch: 4, Epoch loss 0.3316771686077118\n",
      "Epoch: 5, Epoch loss 0.32763347029685974\n",
      "Epoch: 6, Epoch loss 0.30653226375579834\n",
      "Epoch: 7, Epoch loss 0.3305608928203583\n",
      "Epoch: 8, Epoch loss 0.2896248996257782\n",
      "Epoch: 9, Epoch loss 0.2932763993740082\n",
      "Training process has finished.\n",
      "Final loss 0.2932763993740082\n",
      "(0.8965839561757291, 0.8645835933015548, 0.9004340631254277)\n",
      "GraphConvGloveClassifier(\n",
      "  (conv1): GraphConv(100, 10)\n",
      "  (linear1): Linear(in_features=10, out_features=1, bias=True)\n",
      "  (sigmoid): Sigmoid()\n",
      ")\n"
     ]
    },
    {
     "name": "stderr",
     "output_type": "stream",
     "text": [
      "d:\\Development\\bug-or-feature\\.venv\\lib\\site-packages\\torch_geometric\\deprecation.py:26: UserWarning: 'data.DataLoader' is deprecated, use 'loader.DataLoader' instead\n",
      "  warnings.warn(out)\n"
     ]
    },
    {
     "name": "stdout",
     "output_type": "stream",
     "text": [
      "Epoch: 0, Epoch loss 0.2698754370212555\n",
      "Epoch: 1, Epoch loss 0.36869943141937256\n",
      "Epoch: 2, Epoch loss 0.3455663025379181\n",
      "Epoch: 3, Epoch loss 0.3182150721549988\n",
      "Epoch: 4, Epoch loss 0.3462524116039276\n",
      "Epoch: 5, Epoch loss 0.26225075125694275\n",
      "Epoch: 6, Epoch loss 0.3212631642818451\n",
      "Epoch: 7, Epoch loss 0.2599586844444275\n",
      "Epoch: 8, Epoch loss 0.25410017371177673\n",
      "Epoch: 9, Epoch loss 0.31891950964927673\n",
      "Training process has finished.\n",
      "Final loss 0.31891950964927673\n",
      "(0.8950906240340822, 0.8594143914053618, 0.9037696779615495)\n",
      "GraphConvGloveClassifier(\n",
      "  (conv1): GraphConv(100, 10)\n",
      "  (linear1): Linear(in_features=10, out_features=1, bias=True)\n",
      "  (sigmoid): Sigmoid()\n",
      ")\n"
     ]
    },
    {
     "name": "stderr",
     "output_type": "stream",
     "text": [
      "d:\\Development\\bug-or-feature\\.venv\\lib\\site-packages\\torch_geometric\\deprecation.py:26: UserWarning: 'data.DataLoader' is deprecated, use 'loader.DataLoader' instead\n",
      "  warnings.warn(out)\n"
     ]
    },
    {
     "name": "stdout",
     "output_type": "stream",
     "text": [
      "Epoch: 0, Epoch loss 0.3199544847011566\n",
      "Epoch: 1, Epoch loss 0.3490891456604004\n",
      "Epoch: 2, Epoch loss 0.33173882961273193\n",
      "Epoch: 3, Epoch loss 0.3459712564945221\n",
      "Epoch: 4, Epoch loss 0.3094628155231476\n",
      "Epoch: 5, Epoch loss 0.3360065817832947\n",
      "Epoch: 6, Epoch loss 0.3085222840309143\n",
      "Epoch: 7, Epoch loss 0.3090551495552063\n",
      "Epoch: 8, Epoch loss 0.35507795214653015\n",
      "Epoch: 9, Epoch loss 0.3473779261112213\n",
      "Training process has finished.\n",
      "Final loss 0.3473779261112213\n",
      "(0.8969191180030314, 0.865834438245816, 0.8995763335961393)\n",
      "GraphConvGloveClassifier(\n",
      "  (conv1): GraphConv(100, 10)\n",
      "  (linear1): Linear(in_features=10, out_features=1, bias=True)\n",
      "  (sigmoid): Sigmoid()\n",
      ")\n"
     ]
    },
    {
     "name": "stderr",
     "output_type": "stream",
     "text": [
      "d:\\Development\\bug-or-feature\\.venv\\lib\\site-packages\\torch_geometric\\deprecation.py:26: UserWarning: 'data.DataLoader' is deprecated, use 'loader.DataLoader' instead\n",
      "  warnings.warn(out)\n"
     ]
    },
    {
     "name": "stdout",
     "output_type": "stream",
     "text": [
      "Epoch: 0, Epoch loss 0.39031657576560974\n",
      "Epoch: 1, Epoch loss 0.37478315830230713\n",
      "Epoch: 2, Epoch loss 0.37693506479263306\n",
      "Epoch: 3, Epoch loss 0.36168256402015686\n",
      "Epoch: 4, Epoch loss 0.3304784297943115\n",
      "Epoch: 5, Epoch loss 0.34099945425987244\n",
      "Epoch: 6, Epoch loss 0.3404448330402374\n",
      "Epoch: 7, Epoch loss 0.30464714765548706\n",
      "Epoch: 8, Epoch loss 0.28124359250068665\n",
      "Epoch: 9, Epoch loss 0.30392977595329285\n",
      "Training process has finished.\n",
      "Final loss 0.30392977595329285\n",
      "(0.8967552611096836, 0.8632940338202275, 0.902755997608754)\n",
      "GraphConvGloveClassifier(\n",
      "  (conv1): GraphConv(100, 10)\n",
      "  (linear1): Linear(in_features=10, out_features=1, bias=True)\n",
      "  (sigmoid): Sigmoid()\n",
      ")\n"
     ]
    },
    {
     "name": "stderr",
     "output_type": "stream",
     "text": [
      "d:\\Development\\bug-or-feature\\.venv\\lib\\site-packages\\torch_geometric\\deprecation.py:26: UserWarning: 'data.DataLoader' is deprecated, use 'loader.DataLoader' instead\n",
      "  warnings.warn(out)\n"
     ]
    },
    {
     "name": "stdout",
     "output_type": "stream",
     "text": [
      "Epoch: 0, Epoch loss 0.317775696516037\n",
      "Epoch: 1, Epoch loss 0.32138410210609436\n",
      "Epoch: 2, Epoch loss 0.3415150046348572\n",
      "Epoch: 3, Epoch loss 0.3599475622177124\n",
      "Epoch: 4, Epoch loss 0.3824840188026428\n",
      "Epoch: 5, Epoch loss 0.3101208209991455\n",
      "Epoch: 6, Epoch loss 0.31035614013671875\n",
      "Epoch: 7, Epoch loss 0.3524891138076782\n",
      "Epoch: 8, Epoch loss 0.2884294092655182\n",
      "Epoch: 9, Epoch loss 0.25743475556373596\n",
      "Training process has finished.\n",
      "Final loss 0.25743475556373596\n",
      "(0.8960179050896185, 0.8649836902567012, 0.8983027352041656)\n",
      "GraphConvGloveClassifier(\n",
      "  (conv1): GraphConv(100, 10)\n",
      "  (linear1): Linear(in_features=10, out_features=1, bias=True)\n",
      "  (sigmoid): Sigmoid()\n",
      ")\n"
     ]
    },
    {
     "name": "stderr",
     "output_type": "stream",
     "text": [
      "d:\\Development\\bug-or-feature\\.venv\\lib\\site-packages\\torch_geometric\\deprecation.py:26: UserWarning: 'data.DataLoader' is deprecated, use 'loader.DataLoader' instead\n",
      "  warnings.warn(out)\n"
     ]
    },
    {
     "name": "stdout",
     "output_type": "stream",
     "text": [
      "Epoch: 0, Epoch loss 0.36461514234542847\n",
      "Epoch: 1, Epoch loss 0.37653839588165283\n",
      "Epoch: 2, Epoch loss 0.36817440390586853\n",
      "Epoch: 3, Epoch loss 0.3408699631690979\n",
      "Epoch: 4, Epoch loss 0.28441235423088074\n",
      "Epoch: 5, Epoch loss 0.3145332634449005\n",
      "Epoch: 6, Epoch loss 0.36330780386924744\n",
      "Epoch: 7, Epoch loss 0.36037907004356384\n",
      "Epoch: 8, Epoch loss 0.3400175869464874\n",
      "Epoch: 9, Epoch loss 0.31274786591529846\n",
      "Training process has finished.\n",
      "Final loss 0.31274786591529846\n",
      "(0.896624920399066, 0.8641355819556368, 0.9011878254390449)\n",
      "GraphConvGloveClassifier(\n",
      "  (conv1): GraphConv(100, 10)\n",
      "  (linear1): Linear(in_features=10, out_features=1, bias=True)\n",
      "  (sigmoid): Sigmoid()\n",
      ")\n"
     ]
    },
    {
     "name": "stderr",
     "output_type": "stream",
     "text": [
      "d:\\Development\\bug-or-feature\\.venv\\lib\\site-packages\\torch_geometric\\deprecation.py:26: UserWarning: 'data.DataLoader' is deprecated, use 'loader.DataLoader' instead\n",
      "  warnings.warn(out)\n"
     ]
    },
    {
     "name": "stdout",
     "output_type": "stream",
     "text": [
      "Epoch: 0, Epoch loss 0.29670873284339905\n",
      "Epoch: 1, Epoch loss 0.31712156534194946\n",
      "Epoch: 2, Epoch loss 0.3268141448497772\n",
      "Epoch: 3, Epoch loss 0.393007755279541\n",
      "Epoch: 4, Epoch loss 0.3074609339237213\n",
      "Epoch: 5, Epoch loss 0.36599600315093994\n",
      "Epoch: 6, Epoch loss 0.2758771479129791\n",
      "Epoch: 7, Epoch loss 0.25282156467437744\n",
      "Epoch: 8, Epoch loss 0.2954574525356293\n",
      "Epoch: 9, Epoch loss 0.29528388381004333\n",
      "Training process has finished.\n",
      "Final loss 0.29528388381004333\n",
      "(0.8960514212723488, 0.8632484309102381, 0.900875923792031)\n",
      "GraphConvGloveClassifier(\n",
      "  (conv1): GraphConv(100, 10)\n",
      "  (linear1): Linear(in_features=10, out_features=1, bias=True)\n",
      "  (sigmoid): Sigmoid()\n",
      ")\n"
     ]
    },
    {
     "name": "stderr",
     "output_type": "stream",
     "text": [
      "d:\\Development\\bug-or-feature\\.venv\\lib\\site-packages\\torch_geometric\\deprecation.py:26: UserWarning: 'data.DataLoader' is deprecated, use 'loader.DataLoader' instead\n",
      "  warnings.warn(out)\n"
     ]
    },
    {
     "name": "stdout",
     "output_type": "stream",
     "text": [
      "Epoch: 0, Epoch loss 0.3339235186576843\n",
      "Epoch: 1, Epoch loss 0.3132684528827667\n",
      "Epoch: 2, Epoch loss 0.31112030148506165\n",
      "Epoch: 3, Epoch loss 0.3760725259780884\n",
      "Epoch: 4, Epoch loss 0.311789333820343\n",
      "Epoch: 5, Epoch loss 0.3183078467845917\n",
      "Epoch: 6, Epoch loss 0.3544090688228607\n",
      "Epoch: 7, Epoch loss 0.3605400621891022\n",
      "Epoch: 8, Epoch loss 0.3151685297489166\n",
      "Epoch: 9, Epoch loss 0.38760697841644287\n",
      "Training process has finished.\n",
      "Final loss 0.38760697841644287\n",
      "(0.8963791350590443, 0.8660020390085739, 0.8978522106029232)\n",
      "GraphConvGloveClassifier(\n",
      "  (conv1): GraphConv(100, 10)\n",
      "  (linear1): Linear(in_features=10, out_features=1, bias=True)\n",
      "  (sigmoid): Sigmoid()\n",
      ")\n"
     ]
    },
    {
     "name": "stderr",
     "output_type": "stream",
     "text": [
      "d:\\Development\\bug-or-feature\\.venv\\lib\\site-packages\\torch_geometric\\deprecation.py:26: UserWarning: 'data.DataLoader' is deprecated, use 'loader.DataLoader' instead\n",
      "  warnings.warn(out)\n"
     ]
    },
    {
     "name": "stdout",
     "output_type": "stream",
     "text": [
      "Epoch: 0, Epoch loss 0.30762773752212524\n",
      "Epoch: 1, Epoch loss 0.3506236672401428\n",
      "Epoch: 2, Epoch loss 0.35901930928230286\n",
      "Epoch: 3, Epoch loss 0.32299551367759705\n",
      "Epoch: 4, Epoch loss 0.4037542939186096\n",
      "Epoch: 5, Epoch loss 0.3434319496154785\n",
      "Epoch: 6, Epoch loss 0.3701242208480835\n",
      "Epoch: 7, Epoch loss 0.328785240650177\n",
      "Epoch: 8, Epoch loss 0.26913297176361084\n",
      "Epoch: 9, Epoch loss 0.341808944940567\n",
      "Training process has finished.\n",
      "Final loss 0.341808944940567\n",
      "(0.896043973231742, 0.8650707562913024, 0.8982507515963299)\n",
      "GraphConvGloveClassifier(\n",
      "  (conv1): GraphConv(100, 10)\n",
      "  (linear1): Linear(in_features=10, out_features=1, bias=True)\n",
      "  (sigmoid): Sigmoid()\n",
      ")\n"
     ]
    },
    {
     "name": "stderr",
     "output_type": "stream",
     "text": [
      "d:\\Development\\bug-or-feature\\.venv\\lib\\site-packages\\torch_geometric\\deprecation.py:26: UserWarning: 'data.DataLoader' is deprecated, use 'loader.DataLoader' instead\n",
      "  warnings.warn(out)\n"
     ]
    },
    {
     "name": "stdout",
     "output_type": "stream",
     "text": [
      "Epoch: 0, Epoch loss 0.299258291721344\n",
      "Epoch: 1, Epoch loss 0.3226686120033264\n",
      "Epoch: 2, Epoch loss 0.30756595730781555\n",
      "Epoch: 3, Epoch loss 0.3268621265888214\n",
      "Epoch: 4, Epoch loss 0.29837098717689514\n",
      "Epoch: 5, Epoch loss 0.3340603709220886\n",
      "Epoch: 6, Epoch loss 0.3010823130607605\n",
      "Epoch: 7, Epoch loss 0.33884695172309875\n",
      "Epoch: 8, Epoch loss 0.28382277488708496\n",
      "Epoch: 9, Epoch loss 0.3482878804206848\n",
      "Training process has finished.\n",
      "Final loss 0.3482878804206848\n",
      "(0.8944091283185676, 0.8596828964001554, 0.9014823992167803)\n"
     ]
    }
   ],
   "source": [
    "# Initialize an empty list to store the evaluation results of the GraphConvGlove classifier\n",
    "graphconv_glove_evaluation_results = []\n",
    "\n",
    "# Run the GraphConvGlove classifier multiple times using different random numbers from global_random_numbers\n",
    "for num in global_random_numbers:\n",
    "\n",
    "    # Set the random seed for reproducibility\n",
    "    torch.manual_seed(num)\n",
    "\n",
    "    # Run the GraphConvGlove classifier and append the results to the list\n",
    "    graphconv_glove_evaluation_results.append(run_graphconv_glove_classifier())"
   ]
  },
  {
   "cell_type": "markdown",
   "metadata": {},
   "source": [
    "## <font color='red'>GloVe + GraphConv results</font>"
   ]
  },
  {
   "cell_type": "code",
   "execution_count": 60,
   "metadata": {
    "scrolled": true
   },
   "outputs": [
    {
     "name": "stdout",
     "output_type": "stream",
     "text": [
      "Avg accuracy | Avg precision | Avg recall\n",
      "0.8961+-0.0007, 0.8636+-0.0022, 0.9004+-0.0019\n"
     ]
    }
   ],
   "source": [
    "# Print the evaluation results for the GraphConvGlove classifier\n",
    "print_evaluation_results(graphconv_glove_evaluation_results)"
   ]
  },
  {
   "cell_type": "markdown",
   "metadata": {},
   "source": [
    "## Glove + SAGEConv"
   ]
  },
  {
   "cell_type": "code",
   "execution_count": 61,
   "metadata": {},
   "outputs": [],
   "source": [
    "class SAGEConvGloveClassifier(torch.nn.Module):\n",
    "    def __init__(self):\n",
    "        \"\"\"\n",
    "        Initialize the SAGEConvGloveClassifier model.\n",
    "        \"\"\"\n",
    "\n",
    "        super().__init__()\n",
    "\n",
    "        # Define the first SAGEConv layer with 100 input features and 10 output features\n",
    "        self.conv1 = SAGEConv(100, 10)\n",
    "        # Define a linear layer to reduce the output to 1 feature\n",
    "        self.linear1 = torch.nn.Linear(10, 1)\n",
    "        # Define the sigmoid activation function\n",
    "        self.sigmoid = torch.nn.Sigmoid()\n",
    "\n",
    "    def forward(self, data, batch):\n",
    "        \"\"\"\n",
    "        Define the forward pass of the SAGEConvGloveClassifier model.\n",
    "        \n",
    "        Parameters:\n",
    "        data (torch_geometric.data.Data): The input data.\n",
    "        batch (torch.Tensor): The batch tensor.\n",
    "        \n",
    "        Returns:\n",
    "        torch.Tensor: Output predictions.\n",
    "        \"\"\"\n",
    "\n",
    "        # Get the node features and edge indices from the data\n",
    "        x, edge_index = data.x, data.edge_index\n",
    "        \n",
    "        # Apply the first SAGEConv layer with ELU activation\n",
    "        x = F.elu(self.conv1(x, edge_index))\n",
    "        # Perform global mean pooling to get a graph-level representation\n",
    "        x = global_mean_pool(x, batch)\n",
    "        # Apply dropout with a probability of 0.5 during training\n",
    "        x = F.dropout(x, p=0.5, training=self.training)\n",
    "        # Pass the pooled representation through the linear layer\n",
    "        x = self.linear1(x)\n",
    "        # Apply the sigmoid activation function\n",
    "        x = self.sigmoid(x)\n",
    "        \n",
    "        return x"
   ]
  },
  {
   "cell_type": "code",
   "execution_count": 62,
   "metadata": {},
   "outputs": [],
   "source": [
    "def run_sageconv_glove_classifier(train_batch_size=300, learning_rate=0.001, num_epoch=10):\n",
    "    \"\"\"\n",
    "    Train and evaluate the SAGEConvGloveClassifier model on the dataset.\n",
    "    \n",
    "    Parameters:\n",
    "    train_batch_size (int): Batch size for training.\n",
    "    learning_rate (float): Learning rate for the optimizer.\n",
    "    num_epoch (int): Number of epochs for training.\n",
    "    \n",
    "    Returns:\n",
    "    dict: A dictionary containing the trained model and evaluation results.\n",
    "    \"\"\"\n",
    "\n",
    "    # Create DataLoader for training and testing datasets\n",
    "    train_loader = DataLoader(train_pyg_graphs_glove, batch_size=train_batch_size, shuffle=False)\n",
    "    test_loader = DataLoader(test_pyg_graphs_glove, batch_size=200, shuffle=False)\n",
    "    \n",
    "    # Initialize the SAGEConvGloveClassifier model and move it to the selected device\n",
    "    model = SAGEConvGloveClassifier().to(device)\n",
    "    print(model)\n",
    "\n",
    "    # Define the loss function and optimizer\n",
    "    loss_function = F.binary_cross_entropy\n",
    "    optimizer = torch.optim.Adam(model.parameters(), lr=learning_rate)\n",
    "    \n",
    "    # Set the model to training mode\n",
    "    model.train()\n",
    "    for epoch in range(0, num_epoch):\n",
    "\n",
    "        # Iterate in batches over the training dataset\n",
    "        for i, data in enumerate(train_loader):\n",
    "            data = data.to(device)\n",
    "            try:\n",
    "                # Perform a single forward pass\n",
    "                out = model(data, data.batch)  # Perform a single forward pass.\n",
    "            except Exception as e:\n",
    "                print(f\"Error during forward pass: {e}\")\n",
    "                print(data)\n",
    "                print(data.x)\n",
    "                print(data.y)\n",
    "            \n",
    "            out = out.squeeze()\n",
    "            y = data.y.squeeze()\n",
    "\n",
    "            # Compute the loss\n",
    "            loss = loss_function(out, y)\n",
    "            # Perform backward pass\n",
    "            loss.backward()\n",
    "            # Update parameters based on gradients\n",
    "            optimizer.step()\n",
    "            # Clear gradients\n",
    "            optimizer.zero_grad()\n",
    "        \n",
    "        # Print the loss for each epoch\n",
    "        print(f'Epoch: {epoch}, Epoch loss {loss.item()}')\n",
    "\n",
    "    # Training process is complete\n",
    "    print('Training process has finished.')\n",
    "    print('Final loss', loss.item())\n",
    "    \n",
    "    # Initialize lists to store true and predicted labels\n",
    "    true_labels = []\n",
    "    pred_labels = []\n",
    "\n",
    "    # Set the model to evaluation mode\n",
    "    with torch.no_grad():\n",
    "        model.eval()\n",
    "\n",
    "        # Iterate in batches over the testing dataset\n",
    "        for i, data in enumerate(test_loader):\n",
    "            data = data.to(device)\n",
    "\n",
    "            # Perform a forward pass\n",
    "            out = model(data, data.batch)\n",
    "            # Store the predicted and true labels\n",
    "            pred_labels.extend(torch.round(out.squeeze()).tolist())\n",
    "            true_labels.extend(data.y.tolist())\n",
    "    \n",
    "    # Calculate accuracy, precision, and recall\n",
    "    results = calculate_accuracy_precision_recall(true_labels, pred_labels)\n",
    "    \n",
    "    # Print and return the evaluation results\n",
    "    print(results)\n",
    "    \n",
    "    return results"
   ]
  },
  {
   "cell_type": "code",
   "execution_count": 63,
   "metadata": {},
   "outputs": [
    {
     "name": "stdout",
     "output_type": "stream",
     "text": [
      "SAGEConvGloveClassifier(\n",
      "  (conv1): SAGEConv(100, 10, aggr=mean)\n",
      "  (linear1): Linear(in_features=10, out_features=1, bias=True)\n",
      "  (sigmoid): Sigmoid()\n",
      ")\n"
     ]
    },
    {
     "name": "stderr",
     "output_type": "stream",
     "text": [
      "d:\\Development\\bug-or-feature\\.venv\\lib\\site-packages\\torch_geometric\\deprecation.py:26: UserWarning: 'data.DataLoader' is deprecated, use 'loader.DataLoader' instead\n",
      "  warnings.warn(out)\n"
     ]
    },
    {
     "name": "stdout",
     "output_type": "stream",
     "text": [
      "Epoch: 0, Epoch loss 0.34583187103271484\n",
      "Epoch: 1, Epoch loss 0.38582849502563477\n",
      "Epoch: 2, Epoch loss 0.3712548315525055\n",
      "Epoch: 3, Epoch loss 0.2853983938694\n",
      "Epoch: 4, Epoch loss 0.3316771388053894\n",
      "Epoch: 5, Epoch loss 0.32763341069221497\n",
      "Epoch: 6, Epoch loss 0.3065322935581207\n",
      "Epoch: 7, Epoch loss 0.3305608332157135\n",
      "Epoch: 8, Epoch loss 0.2896248698234558\n",
      "Epoch: 9, Epoch loss 0.29327651858329773\n",
      "Training process has finished.\n",
      "Final loss 0.29327651858329773\n",
      "(0.8965839561757291, 0.8645835933015548, 0.9004340631254277)\n",
      "SAGEConvGloveClassifier(\n",
      "  (conv1): SAGEConv(100, 10, aggr=mean)\n",
      "  (linear1): Linear(in_features=10, out_features=1, bias=True)\n",
      "  (sigmoid): Sigmoid()\n",
      ")\n"
     ]
    },
    {
     "name": "stderr",
     "output_type": "stream",
     "text": [
      "d:\\Development\\bug-or-feature\\.venv\\lib\\site-packages\\torch_geometric\\deprecation.py:26: UserWarning: 'data.DataLoader' is deprecated, use 'loader.DataLoader' instead\n",
      "  warnings.warn(out)\n"
     ]
    },
    {
     "name": "stdout",
     "output_type": "stream",
     "text": [
      "Epoch: 0, Epoch loss 0.2698754370212555\n",
      "Epoch: 1, Epoch loss 0.36869943141937256\n",
      "Epoch: 2, Epoch loss 0.3455663323402405\n",
      "Epoch: 3, Epoch loss 0.3182150423526764\n",
      "Epoch: 4, Epoch loss 0.3462523818016052\n",
      "Epoch: 5, Epoch loss 0.26225075125694275\n",
      "Epoch: 6, Epoch loss 0.3212631642818451\n",
      "Epoch: 7, Epoch loss 0.2599586844444275\n",
      "Epoch: 8, Epoch loss 0.25410017371177673\n",
      "Epoch: 9, Epoch loss 0.31891950964927673\n",
      "Training process has finished.\n",
      "Final loss 0.31891950964927673\n",
      "(0.8950906240340822, 0.8594143914053618, 0.9037696779615495)\n",
      "SAGEConvGloveClassifier(\n",
      "  (conv1): SAGEConv(100, 10, aggr=mean)\n",
      "  (linear1): Linear(in_features=10, out_features=1, bias=True)\n",
      "  (sigmoid): Sigmoid()\n",
      ")\n"
     ]
    },
    {
     "name": "stderr",
     "output_type": "stream",
     "text": [
      "d:\\Development\\bug-or-feature\\.venv\\lib\\site-packages\\torch_geometric\\deprecation.py:26: UserWarning: 'data.DataLoader' is deprecated, use 'loader.DataLoader' instead\n",
      "  warnings.warn(out)\n"
     ]
    },
    {
     "name": "stdout",
     "output_type": "stream",
     "text": [
      "Epoch: 0, Epoch loss 0.31995442509651184\n",
      "Epoch: 1, Epoch loss 0.349089115858078\n",
      "Epoch: 2, Epoch loss 0.3317388892173767\n",
      "Epoch: 3, Epoch loss 0.3459712564945221\n",
      "Epoch: 4, Epoch loss 0.3094627857208252\n",
      "Epoch: 5, Epoch loss 0.33600661158561707\n",
      "Epoch: 6, Epoch loss 0.3085222840309143\n",
      "Epoch: 7, Epoch loss 0.3090551197528839\n",
      "Epoch: 8, Epoch loss 0.35507792234420776\n",
      "Epoch: 9, Epoch loss 0.34737783670425415\n",
      "Training process has finished.\n",
      "Final loss 0.34737783670425415\n",
      "(0.8969191180030314, 0.865834438245816, 0.8995763335961393)\n",
      "SAGEConvGloveClassifier(\n",
      "  (conv1): SAGEConv(100, 10, aggr=mean)\n",
      "  (linear1): Linear(in_features=10, out_features=1, bias=True)\n",
      "  (sigmoid): Sigmoid()\n",
      ")\n"
     ]
    },
    {
     "name": "stderr",
     "output_type": "stream",
     "text": [
      "d:\\Development\\bug-or-feature\\.venv\\lib\\site-packages\\torch_geometric\\deprecation.py:26: UserWarning: 'data.DataLoader' is deprecated, use 'loader.DataLoader' instead\n",
      "  warnings.warn(out)\n"
     ]
    },
    {
     "name": "stdout",
     "output_type": "stream",
     "text": [
      "Epoch: 0, Epoch loss 0.39031657576560974\n",
      "Epoch: 1, Epoch loss 0.37478315830230713\n",
      "Epoch: 2, Epoch loss 0.37693506479263306\n",
      "Epoch: 3, Epoch loss 0.36168259382247925\n",
      "Epoch: 4, Epoch loss 0.3304784595966339\n",
      "Epoch: 5, Epoch loss 0.34099942445755005\n",
      "Epoch: 6, Epoch loss 0.3404448628425598\n",
      "Epoch: 7, Epoch loss 0.30464714765548706\n",
      "Epoch: 8, Epoch loss 0.28124359250068665\n",
      "Epoch: 9, Epoch loss 0.30392974615097046\n",
      "Training process has finished.\n",
      "Final loss 0.30392974615097046\n",
      "(0.8967552611096836, 0.8632940338202275, 0.902755997608754)\n",
      "SAGEConvGloveClassifier(\n",
      "  (conv1): SAGEConv(100, 10, aggr=mean)\n",
      "  (linear1): Linear(in_features=10, out_features=1, bias=True)\n",
      "  (sigmoid): Sigmoid()\n",
      ")\n"
     ]
    },
    {
     "name": "stderr",
     "output_type": "stream",
     "text": [
      "d:\\Development\\bug-or-feature\\.venv\\lib\\site-packages\\torch_geometric\\deprecation.py:26: UserWarning: 'data.DataLoader' is deprecated, use 'loader.DataLoader' instead\n",
      "  warnings.warn(out)\n"
     ]
    },
    {
     "name": "stdout",
     "output_type": "stream",
     "text": [
      "Epoch: 0, Epoch loss 0.317775696516037\n",
      "Epoch: 1, Epoch loss 0.32138410210609436\n",
      "Epoch: 2, Epoch loss 0.3415150046348572\n",
      "Epoch: 3, Epoch loss 0.3599475920200348\n",
      "Epoch: 4, Epoch loss 0.3824840188026428\n",
      "Epoch: 5, Epoch loss 0.3101207911968231\n",
      "Epoch: 6, Epoch loss 0.31035614013671875\n",
      "Epoch: 7, Epoch loss 0.35248908400535583\n",
      "Epoch: 8, Epoch loss 0.2884294092655182\n",
      "Epoch: 9, Epoch loss 0.25743475556373596\n",
      "Training process has finished.\n",
      "Final loss 0.25743475556373596\n",
      "(0.8960179050896185, 0.8649836902567012, 0.8983027352041656)\n",
      "SAGEConvGloveClassifier(\n",
      "  (conv1): SAGEConv(100, 10, aggr=mean)\n",
      "  (linear1): Linear(in_features=10, out_features=1, bias=True)\n",
      "  (sigmoid): Sigmoid()\n",
      ")\n"
     ]
    },
    {
     "name": "stderr",
     "output_type": "stream",
     "text": [
      "d:\\Development\\bug-or-feature\\.venv\\lib\\site-packages\\torch_geometric\\deprecation.py:26: UserWarning: 'data.DataLoader' is deprecated, use 'loader.DataLoader' instead\n",
      "  warnings.warn(out)\n"
     ]
    },
    {
     "name": "stdout",
     "output_type": "stream",
     "text": [
      "Epoch: 0, Epoch loss 0.3646150827407837\n",
      "Epoch: 1, Epoch loss 0.37653839588165283\n",
      "Epoch: 2, Epoch loss 0.3681744635105133\n",
      "Epoch: 3, Epoch loss 0.3408699333667755\n",
      "Epoch: 4, Epoch loss 0.28441235423088074\n",
      "Epoch: 5, Epoch loss 0.3145332932472229\n",
      "Epoch: 6, Epoch loss 0.36330780386924744\n",
      "Epoch: 7, Epoch loss 0.36037907004356384\n",
      "Epoch: 8, Epoch loss 0.3400175869464874\n",
      "Epoch: 9, Epoch loss 0.31274786591529846\n",
      "Training process has finished.\n",
      "Final loss 0.31274786591529846\n",
      "(0.896624920399066, 0.8641355819556368, 0.9011878254390449)\n",
      "SAGEConvGloveClassifier(\n",
      "  (conv1): SAGEConv(100, 10, aggr=mean)\n",
      "  (linear1): Linear(in_features=10, out_features=1, bias=True)\n",
      "  (sigmoid): Sigmoid()\n",
      ")\n"
     ]
    },
    {
     "name": "stderr",
     "output_type": "stream",
     "text": [
      "d:\\Development\\bug-or-feature\\.venv\\lib\\site-packages\\torch_geometric\\deprecation.py:26: UserWarning: 'data.DataLoader' is deprecated, use 'loader.DataLoader' instead\n",
      "  warnings.warn(out)\n"
     ]
    },
    {
     "name": "stdout",
     "output_type": "stream",
     "text": [
      "Epoch: 0, Epoch loss 0.29670873284339905\n",
      "Epoch: 1, Epoch loss 0.31712156534194946\n",
      "Epoch: 2, Epoch loss 0.32681411504745483\n",
      "Epoch: 3, Epoch loss 0.393007755279541\n",
      "Epoch: 4, Epoch loss 0.3074609339237213\n",
      "Epoch: 5, Epoch loss 0.36599597334861755\n",
      "Epoch: 6, Epoch loss 0.27587711811065674\n",
      "Epoch: 7, Epoch loss 0.25282156467437744\n",
      "Epoch: 8, Epoch loss 0.2954574227333069\n",
      "Epoch: 9, Epoch loss 0.29528388381004333\n",
      "Training process has finished.\n",
      "Final loss 0.29528388381004333\n",
      "(0.8960514212723488, 0.8632484309102381, 0.900875923792031)\n",
      "SAGEConvGloveClassifier(\n",
      "  (conv1): SAGEConv(100, 10, aggr=mean)\n",
      "  (linear1): Linear(in_features=10, out_features=1, bias=True)\n",
      "  (sigmoid): Sigmoid()\n",
      ")\n"
     ]
    },
    {
     "name": "stderr",
     "output_type": "stream",
     "text": [
      "d:\\Development\\bug-or-feature\\.venv\\lib\\site-packages\\torch_geometric\\deprecation.py:26: UserWarning: 'data.DataLoader' is deprecated, use 'loader.DataLoader' instead\n",
      "  warnings.warn(out)\n"
     ]
    },
    {
     "name": "stdout",
     "output_type": "stream",
     "text": [
      "Epoch: 0, Epoch loss 0.3339235186576843\n",
      "Epoch: 1, Epoch loss 0.3132685124874115\n",
      "Epoch: 2, Epoch loss 0.31112030148506165\n",
      "Epoch: 3, Epoch loss 0.3760725259780884\n",
      "Epoch: 4, Epoch loss 0.31178930401802063\n",
      "Epoch: 5, Epoch loss 0.3183078467845917\n",
      "Epoch: 6, Epoch loss 0.3544090688228607\n",
      "Epoch: 7, Epoch loss 0.3605400025844574\n",
      "Epoch: 8, Epoch loss 0.3151685893535614\n",
      "Epoch: 9, Epoch loss 0.38760697841644287\n",
      "Training process has finished.\n",
      "Final loss 0.38760697841644287\n",
      "(0.8963791350590443, 0.8660020390085739, 0.8978522106029232)\n",
      "SAGEConvGloveClassifier(\n",
      "  (conv1): SAGEConv(100, 10, aggr=mean)\n",
      "  (linear1): Linear(in_features=10, out_features=1, bias=True)\n",
      "  (sigmoid): Sigmoid()\n",
      ")\n"
     ]
    },
    {
     "name": "stderr",
     "output_type": "stream",
     "text": [
      "d:\\Development\\bug-or-feature\\.venv\\lib\\site-packages\\torch_geometric\\deprecation.py:26: UserWarning: 'data.DataLoader' is deprecated, use 'loader.DataLoader' instead\n",
      "  warnings.warn(out)\n"
     ]
    },
    {
     "name": "stdout",
     "output_type": "stream",
     "text": [
      "Epoch: 0, Epoch loss 0.30762770771980286\n",
      "Epoch: 1, Epoch loss 0.3506236672401428\n",
      "Epoch: 2, Epoch loss 0.3590182960033417\n",
      "Epoch: 3, Epoch loss 0.32299548387527466\n",
      "Epoch: 4, Epoch loss 0.40375426411628723\n",
      "Epoch: 5, Epoch loss 0.3434319496154785\n",
      "Epoch: 6, Epoch loss 0.3701242208480835\n",
      "Epoch: 7, Epoch loss 0.328785240650177\n",
      "Epoch: 8, Epoch loss 0.26913297176361084\n",
      "Epoch: 9, Epoch loss 0.3418089747428894\n",
      "Training process has finished.\n",
      "Final loss 0.3418089747428894\n",
      "(0.896043973231742, 0.8650707562913024, 0.8982507515963299)\n",
      "SAGEConvGloveClassifier(\n",
      "  (conv1): SAGEConv(100, 10, aggr=mean)\n",
      "  (linear1): Linear(in_features=10, out_features=1, bias=True)\n",
      "  (sigmoid): Sigmoid()\n",
      ")\n"
     ]
    },
    {
     "name": "stderr",
     "output_type": "stream",
     "text": [
      "d:\\Development\\bug-or-feature\\.venv\\lib\\site-packages\\torch_geometric\\deprecation.py:26: UserWarning: 'data.DataLoader' is deprecated, use 'loader.DataLoader' instead\n",
      "  warnings.warn(out)\n"
     ]
    },
    {
     "name": "stdout",
     "output_type": "stream",
     "text": [
      "Epoch: 0, Epoch loss 0.299258291721344\n",
      "Epoch: 1, Epoch loss 0.32266858220100403\n",
      "Epoch: 2, Epoch loss 0.30756595730781555\n",
      "Epoch: 3, Epoch loss 0.326862096786499\n",
      "Epoch: 4, Epoch loss 0.29837098717689514\n",
      "Epoch: 5, Epoch loss 0.3340603709220886\n",
      "Epoch: 6, Epoch loss 0.3010822832584381\n",
      "Epoch: 7, Epoch loss 0.33884698152542114\n",
      "Epoch: 8, Epoch loss 0.28382283449172974\n",
      "Epoch: 9, Epoch loss 0.3482878506183624\n",
      "Training process has finished.\n",
      "Final loss 0.3482878506183624\n",
      "(0.8944091283185676, 0.8596828964001554, 0.9014823992167803)\n"
     ]
    }
   ],
   "source": [
    "# Initialize an empty list to store the evaluation results of the SAGEConvGlove classifier\n",
    "sageconv_glove_evaluation_results = []\n",
    "\n",
    "# Run the SAGEConvGlove classifier multiple times using different random numbers from global_random_numbers\n",
    "for num in global_random_numbers:\n",
    "    # Set the random seed for reproducibility\n",
    "    torch.manual_seed(num)\n",
    "\n",
    "    # Run the SAGEConvGlove classifier and append the results to the list\n",
    "    sageconv_glove_evaluation_results.append(run_sageconv_glove_classifier())"
   ]
  },
  {
   "cell_type": "markdown",
   "metadata": {},
   "source": [
    "## <font color='red'>GloVe + SAGEConv results</font>"
   ]
  },
  {
   "cell_type": "code",
   "execution_count": 64,
   "metadata": {
    "scrolled": true
   },
   "outputs": [
    {
     "name": "stdout",
     "output_type": "stream",
     "text": [
      "Avg accuracy | Avg precision | Avg recall\n",
      "0.8961+-0.0007, 0.8636+-0.0022, 0.9004+-0.0019\n"
     ]
    }
   ],
   "source": [
    "# Print the evaluation results for the SAGEConvGlove classifier\n",
    "print_evaluation_results(sageconv_glove_evaluation_results)"
   ]
  },
  {
   "cell_type": "markdown",
   "metadata": {},
   "source": [
    "## Store Results"
   ]
  },
  {
   "cell_type": "code",
   "execution_count": 65,
   "metadata": {},
   "outputs": [
    {
     "name": "stdout",
     "output_type": "stream",
     "text": [
      "{'LR': {'Accuracy': [0.8674640062219279], 'Precision': [0.8419591767016825], 'Recall': [0.8521037892407689]}, 'KNN': {'Accuracy': [0.8894119310675891], 'Precision': [0.8563766289750306], 'Recall': [0.8928830728806527]}, 'FastText': {'Accuracy': [0.9499864174422369, 0.9501538736338365, 0.9502096923643698, 0.9502096923643698, 0.9503138873280318, 0.9502171348617742, 0.9498710587324682, 0.9500720061623878, 0.9501910861208587, 0.9501538736338365], 'Precision': [0.9489480524042008, 0.9482678538564681, 0.9479606311623264, 0.9484318297365053, 0.947652040030793, 0.947687137931638, 0.9488316546509892, 0.9477633502902523, 0.9472846662994343, 0.9481421775203918], 'Recall': [0.9340858802378648, 0.9352440879546398, 0.9357194717189877, 0.9352008712487899, 0.9363158622597151, 0.9360392753422763, 0.9339303000968054, 0.9355984649426082, 0.9364195823537547, 0.9353823814133592]}, 'MLP': {'Accuracy': [0.8978480018755094, 0.8977289219170385, 0.897963360585278, 0.8978740506164249, 0.8977475281605496, 0.8977735769014651, 0.8979261480982559, 0.8978107893884872, 0.8978107893884872, 0.8983131579632861], 'Precision': [0.8660190631040176, 0.8649478309076015, 0.8660474373859678, 0.8651544992635011, 0.8655583365102518, 0.8654389409415878, 0.8666627895384001, 0.8638946856157773, 0.8658501189992454, 0.8664068330707355], 'Recall': [0.9023302447794219, 0.9035316692020467, 0.9026068316968607, 0.9036353892960863, 0.9027105517909003, 0.9029525653436592, 0.901630134144655, 0.9052689807772092, 0.9024685382381413, 0.9030562854376988]}, 'GAT': {'Accuracy': [0.9562874496791757, 0.9562539334964454, 0.956280001638569, 0.9562576575167487, 0.956239037415232, 0.9562464854558387, 0.9562539334964454, 0.9562651055573554, 0.956291173699479, 0.9562613815370521], 'Precision': [0.9362477384608912, 0.9362135415790094, 0.9361218841225908, 0.9360306178239475, 0.9364905603179683, 0.9359996635545462, 0.9361548169962137, 0.936039029314043, 0.9363217075141395, 0.9363100749095195], 'Recall': [0.9639407040313288, 0.9638973843581324, 0.9640706630509179, 0.9641226466587536, 0.9635334991032828, 0.9641313105933929, 0.9639666958352466, 0.9641313105933929, 0.9638627286195753, 0.9638020810771003]}, 'GAT_GloVe': {'Accuracy': [0.9025125964986761, 0.9021215743668235, 0.9025870769047433, 0.8998685420832915, 0.90210667828561, 0.9028477583259784, 0.9039724124575927, 0.9020731621028798, 0.9021774346713738, 0.9027285896762709], 'Precision': [0.8706812763235502, 0.8702543738681111, 0.8723418455454796, 0.8677322079799297, 0.8721421533425742, 0.8740756249738285, 0.873918520928758, 0.8690812413553202, 0.8694358574850201, 0.8727304600435751], 'Recall': [0.9080669895426309, 0.9075991370721099, 0.905944325556008, 0.9049912927456876, 0.904913317333934, 0.9042461943667097, 0.9075211616603565, 0.9091239895686227, 0.9089073912026407, 0.9057883747325011]}, 'GCN_GloVe': {'Accuracy': [0.8693650917784804, 0.8704227135446343, 0.8694879844484912, 0.8701806522249159, 0.8702476845903764, 0.8699572110067144, 0.8695252246515248, 0.8701285159406689, 0.870232788509163, 0.8702960968543201], 'Precision': [0.8364518074307347, 0.833606421714664, 0.83622110485497, 0.834031296386901, 0.8340339095469055, 0.8338766538094645, 0.8359032217625674, 0.8340729803488922, 0.8342722965740978, 0.833305761881917], 'Recall': [0.8652584884899628, 0.8727441280182983, 0.8659689311303835, 0.8713752263452924, 0.8715658329073566, 0.8709680214172464, 0.8665667426204937, 0.8711586279793105, 0.8711499640446713, 0.8728480952339696]}, 'Graph_Conv': {'Accuracy': [0.8965839561757291, 0.8950906240340822, 0.8969191180030314, 0.8967552611096836, 0.8960179050896185, 0.896624920399066, 0.8960514212723488, 0.8963791350590443, 0.896043973231742, 0.8944091283185676], 'Precision': [0.8645835933015548, 0.8594143914053618, 0.865834438245816, 0.8632940338202275, 0.8649836902567012, 0.8641355819556368, 0.8632484309102381, 0.8660020390085739, 0.8650707562913024, 0.8596828964001554], 'Recall': [0.9004340631254277, 0.9037696779615495, 0.8995763335961393, 0.902755997608754, 0.8983027352041656, 0.9011878254390449, 0.900875923792031, 0.8978522106029232, 0.8982507515963299, 0.9014823992167803]}, 'Sage_Conv': {'Accuracy': [0.8965839561757291, 0.8950906240340822, 0.8969191180030314, 0.8967552611096836, 0.8960179050896185, 0.896624920399066, 0.8960514212723488, 0.8963791350590443, 0.896043973231742, 0.8944091283185676], 'Precision': [0.8645835933015548, 0.8594143914053618, 0.865834438245816, 0.8632940338202275, 0.8649836902567012, 0.8641355819556368, 0.8632484309102381, 0.8660020390085739, 0.8650707562913024, 0.8596828964001554], 'Recall': [0.9004340631254277, 0.9037696779615495, 0.8995763335961393, 0.902755997608754, 0.8983027352041656, 0.9011878254390449, 0.900875923792031, 0.8978522106029232, 0.8982507515963299, 0.9014823992167803]}}\n"
     ]
    }
   ],
   "source": [
    "# Summarize results from different models\n",
    "overall_results = {}\n",
    "for model in [('LR', logit_evaluation_results),\n",
    "              ('KNN', knn_evaluation_results),\n",
    "              ('FastText', fasttext_evaluation_results),\n",
    "              ('MLP', mlp_evaluation_results),\n",
    "              ('GAT', gat_evaluation_results),\n",
    "              ('GAT_GloVe', gat_glove_evaluation_results),\n",
    "              ('GCN_GloVe', gcn_glove_evaluation_results),\n",
    "              ('Graph_Conv', graphconv_glove_evaluation_results),\n",
    "              ('Sage_Conv', sageconv_glove_evaluation_results)]:\n",
    "    \n",
    "    # Extract accuracy, precision, and recall results for each model\n",
    "    accuracy_results = [result[0] for result in model[1]]\n",
    "    precision_results = [result[1] for result in model[1]]\n",
    "    recall_results = [result[2] for result in model[1]]\n",
    "    \n",
    "    # Store results in a dictionary\n",
    "    overall_results[model[0]] = {'Accuracy': accuracy_results,\n",
    "                                 'Precision': precision_results,\n",
    "                                 'Recall': recall_results}\n",
    "\n",
    "# Store results for all models and all metrics to json file in the folder \"results\"\n",
    "with open(f\"results/results_{dt_name}.json\", \"w\") as outfile:\n",
    "    json.dump(overall_results, outfile) "
   ]
  },
  {
   "cell_type": "code",
   "execution_count": 66,
   "metadata": {},
   "outputs": [],
   "source": [
    "# Delete the variables to free up memory\n",
    "del pytorch_geometric_graphs_glove\n",
    "del train_pyg_graphs_glove\n",
    "del test_pyg_graphs_glove"
   ]
  },
  {
   "cell_type": "markdown",
   "metadata": {},
   "source": [
    "# Parameter Sensitivity"
   ]
  },
  {
   "cell_type": "code",
   "execution_count": 67,
   "metadata": {},
   "outputs": [
    {
     "data": {
      "text/plain": [
       "<torch._C.Generator at 0x1f0d4c7b0d0>"
      ]
     },
     "execution_count": 67,
     "metadata": {},
     "output_type": "execute_result"
    }
   ],
   "source": [
    "# Parameter Sensitivity Analysis\n",
    "# This section performs a sensitivity analysis to evaluate the impact of different sliding window sizes \n",
    "# on the performance of the GAT classifier. The experiments will help determine the optimal sliding window size \n",
    "# for generating PyTorch Geometric graphs from the text data using GloVe embeddings.\n",
    "\n",
    "# Set a manual seed for reproducibility\n",
    "torch.manual_seed(12345)"
   ]
  },
  {
   "cell_type": "markdown",
   "metadata": {},
   "source": [
    "## Sliding window"
   ]
  },
  {
   "cell_type": "code",
   "execution_count": 68,
   "metadata": {},
   "outputs": [],
   "source": [
    "def run_sliding_window_experiments():\n",
    "    \"\"\"\n",
    "    Run experiments with different sliding window sizes and evaluate the performance of the GAT classifier.\n",
    "    \n",
    "    Returns:\n",
    "    list: A list of tuples containing the sliding window size and the corresponding accuracy.\n",
    "    \"\"\"\n",
    "\n",
    "    # Define a list of different sliding window sizes to experiment with\n",
    "    sliding_windows = [2, 3, 4, 6, 7, 10]\n",
    "\n",
    "    # Initialize an empty list to store the results for each sliding window size\n",
    "    sliding_window_results = []\n",
    "\n",
    "    # Iterate over the different sliding window sizes\n",
    "    for sw in sliding_windows:\n",
    "\n",
    "        print('Window size:', sw)\n",
    "\n",
    "        # Generate PyTorch Geometric graphs for the current sliding window size\n",
    "        pytorch_geometric_graphs = generate_pytorch_geometric_graphs(window_size=sw)\n",
    "        # Split the generated graphs into training and testing sets\n",
    "        train_pyg_graphs, test_pyg_graphs = train_test_split(pytorch_geometric_graphs, test_size=0.33, random_state=42)\n",
    "        # Run the GAT classifier and append the results to the list\n",
    "        sliding_window_results.append((sw, run_gat_classifier(train_pyg_graphs, test_pyg_graphs)['results']))\n",
    "    \n",
    "    return sliding_window_results"
   ]
  },
  {
   "cell_type": "code",
   "execution_count": null,
   "metadata": {
    "scrolled": false
   },
   "outputs": [],
   "source": [
    "# Run the sliding window experiments and store the results\n",
    "sliding_window_results = run_sliding_window_experiments()\n",
    "\n",
    "# Extract the window size and accuracy results from the experiment results\n",
    "sliding_window_results = [[sw, results[0]] for sw, results in sliding_window_results]"
   ]
  },
  {
   "cell_type": "markdown",
   "metadata": {},
   "source": [
    "## <font color='red'>Sliding window results</font>"
   ]
  },
  {
   "cell_type": "code",
   "execution_count": null,
   "metadata": {},
   "outputs": [],
   "source": [
    "# Prepare data for plotting\n",
    "plot_x = [res[0] for res in sliding_window_results]\n",
    "plot_y = [res[1] for res in sliding_window_results]\n",
    "\n",
    "# Print the sliding window results\n",
    "sliding_window_results"
   ]
  },
  {
   "cell_type": "code",
   "execution_count": null,
   "metadata": {},
   "outputs": [],
   "source": [
    "# Plot the results\n",
    "fig = sns.lineplot(x=plot_x, y=plot_y)\n",
    "\n",
    "# Set the label for the x-axis\n",
    "fig.set_xlabel('window size')\n",
    "# Set the label for the y-axis\n",
    "fig.set_ylabel('accuracy')\n",
    "\n",
    "# Save the plot as a PDF file\n",
    "fig.get_figure().savefig('figures/plot_window_size.pdf', dpi=500)"
   ]
  },
  {
   "cell_type": "markdown",
   "metadata": {},
   "source": [
    "## Learning rate"
   ]
  },
  {
   "cell_type": "code",
   "execution_count": null,
   "metadata": {},
   "outputs": [],
   "source": [
    "# Parameter Sensitivity Analysis for Learning Rate\n",
    "# This section performs a sensitivity analysis to evaluate the impact of different learning rates \n",
    "# on the performance of the GAT classifier. The experiments will help determine the optimal learning rate \n",
    "# for training the GAT model.\n",
    "\n",
    "\n",
    "def run_learning_rate_experiments():\n",
    "    \"\"\"\n",
    "    Run experiments with different learning rates and evaluate the performance of the GAT classifier.\n",
    "    \n",
    "    Returns:\n",
    "    list: A list of tuples containing the learning rate and the corresponding accuracy.\n",
    "    \"\"\"\n",
    "\n",
    "    # Define a list of different learning rates to experiment with\n",
    "    learning_rates = [0.0001, 0.001, 0.005, 0.01, 0.05, 0.1, 0.5]\n",
    "    \n",
    "    # Initialize an empty list to store the results for each learning rate\n",
    "    learning_rate_results = []\n",
    "\n",
    "    # Iterate over the different learning rates\n",
    "    for lr in learning_rates:\n",
    "        print('Learning rate:', lr)\n",
    "\n",
    "        # Evaluate the GAT classifier with the current learning rate\n",
    "        learning_rate_results.append((lr, run_gat_classifier(train_pyg_graphs, test_pyg_graphs, learning_rate=lr)['results']))\n",
    "    \n",
    "    return learning_rate_results"
   ]
  },
  {
   "cell_type": "code",
   "execution_count": null,
   "metadata": {
    "scrolled": false
   },
   "outputs": [],
   "source": [
    "# Run the learning rate experiments and store the results\n",
    "learning_rate_results = run_learning_rate_experiments()\n",
    "\n",
    "# Extract the learning rate and accuracy results from the experiment results\n",
    "learning_rate_results = [[lr, results[0]] for lr, results in learning_rate_results]"
   ]
  },
  {
   "cell_type": "markdown",
   "metadata": {},
   "source": [
    "## <font color='red'>Learning rate results</font>"
   ]
  },
  {
   "cell_type": "code",
   "execution_count": null,
   "metadata": {},
   "outputs": [],
   "source": [
    "# Prepare data for plotting\n",
    "plot_x = [res[0] for res in learning_rate_results]\n",
    "plot_y = [res[1] for res in learning_rate_results]\n",
    "\n",
    "# Print the learning rate results\n",
    "learning_rate_results"
   ]
  },
  {
   "cell_type": "code",
   "execution_count": null,
   "metadata": {},
   "outputs": [],
   "source": [
    "# Plot the results\n",
    "fig = sns.lineplot(x=plot_x, y=plot_y)\n",
    "\n",
    "# Set the label for the x-axis\n",
    "fig.set_xlabel('learning rate')\n",
    "# Set the label for the y-axis\n",
    "fig.set_ylabel('accuracy')\n",
    "\n",
    "# Save the plot as a PDF file\n",
    "fig.get_figure().savefig('figures/plot_learning_rate.pdf', dpi=500)"
   ]
  },
  {
   "cell_type": "markdown",
   "metadata": {},
   "source": [
    "## Dataset size"
   ]
  },
  {
   "cell_type": "code",
   "execution_count": null,
   "metadata": {},
   "outputs": [],
   "source": [
    "# Parameter Sensitivity Analysis for Training Size\n",
    "# This section performs a sensitivity analysis to evaluate the impact of different training sizes \n",
    "# on the performance of the GAT classifier. The experiments will help determine the optimal training size \n",
    "# for training the GAT model.\n",
    "\n",
    "# Print the total number of PyTorch Geometric graphs\n",
    "len(pytorch_geometric_graphs)"
   ]
  },
  {
   "cell_type": "code",
   "execution_count": null,
   "metadata": {},
   "outputs": [],
   "source": [
    "def run_training_size_experiments():\n",
    "    \"\"\"\n",
    "    Run experiments with different training sizes and evaluate the performance of the GAT classifier.\n",
    "    \n",
    "    Returns:\n",
    "    list: A list of tuples containing the training size and the corresponding accuracy.\n",
    "    \"\"\"\n",
    "\n",
    "    # Define a list of different training sizes to experiment with\n",
    "    training_sizes = [0.1, 0.2, 0.3, 0.4, 0.5, 0.6, 0.7, 0.8, 0.9, 1]\n",
    "\n",
    "    # Initialize an empty list to store the results for each training size    \n",
    "    training_size_results = []\n",
    "\n",
    "    # Iterate over the different training sizes\n",
    "    for ts in training_sizes:\n",
    "        print('Training size:', ts)\n",
    "        if ts == 1:\n",
    "            print('All samples')\n",
    "            # Use all samples if the training size is 1\n",
    "            tmp_graphs = pytorch_geometric_graphs\n",
    "        else:\n",
    "            # Split the graphs according to the training size\n",
    "            tmp_graphs, _ = train_test_split(pytorch_geometric_graphs, train_size=ts, random_state=42)\n",
    "        \n",
    "        print('Number of samples:', len(tmp_graphs))\n",
    "\n",
    "        # Further split the selected training size into training and testing sets\n",
    "        train_pyg_graphs, test_pyg_graphs = train_test_split(tmp_graphs, test_size=0.33, random_state=42)\n",
    "\n",
    "        # Run the GAT classifier and append the results to the list\n",
    "        training_size_results.append((ts, run_gat_classifier(train_pyg_graphs, test_pyg_graphs)['results']))\n",
    "    \n",
    "    return training_size_results"
   ]
  },
  {
   "cell_type": "code",
   "execution_count": null,
   "metadata": {
    "scrolled": false
   },
   "outputs": [],
   "source": [
    "# Run the training size experiments and store the results\n",
    "training_size_results = run_training_size_experiments()\n",
    "\n",
    "# Extract the training size and accuracy results from the experiment results\n",
    "training_size_results = [[ts, results[0]] for ts, results in training_size_results]"
   ]
  },
  {
   "cell_type": "markdown",
   "metadata": {},
   "source": [
    "## <font color='red'>Dataset size results</font>"
   ]
  },
  {
   "cell_type": "code",
   "execution_count": null,
   "metadata": {},
   "outputs": [],
   "source": [
    "# Prepare data for plotting\n",
    "plot_x = [res[0] for res in training_size_results]\n",
    "plot_y = [res[1] for res in training_size_results]\n",
    "\n",
    "# Print the training size results\n",
    "training_size_results"
   ]
  },
  {
   "cell_type": "code",
   "execution_count": null,
   "metadata": {},
   "outputs": [],
   "source": [
    "# Plot the results\n",
    "fig = sns.lineplot(x=plot_x, y=plot_y)\n",
    "\n",
    "# Set the label for the x-axis\n",
    "fig.set_xlabel('dataset size')\n",
    "# Set the label for the y-axis\n",
    "fig.set_ylabel('accuracy')\n",
    "\n",
    "# Save the plot as a PDF file\n",
    "fig.get_figure().savefig('figures/training_size_rate.pdf', dpi=500)"
   ]
  },
  {
   "cell_type": "markdown",
   "metadata": {},
   "source": [
    "## Draw an exemplar graph-of-words graph with 15 nodes and 3 window size"
   ]
  },
  {
   "cell_type": "code",
   "execution_count": null,
   "metadata": {},
   "outputs": [],
   "source": [
    "# Draw an exemplar graph-of-words graph with 15 nodes and a window size of 3\n",
    "# This section visualizes a graph-of-words generated from a text with exactly 15 words\n",
    "# using a sliding window size of 3.\n",
    "\n",
    "# Select a text from the DataFrame that has exactly 15 words in the body\n",
    "text = df['body'][df['number_of_words_of_body'] == 15].values[6]\n",
    "\n",
    "# Remove commas and periods from the text\n",
    "text = text.replace(',', '')\n",
    "text = text.replace('.', '')\n",
    "\n",
    "# Create a graph-of-words from the text using a sliding window size of 3\n",
    "g = create_graph_of_words(text, 3)\n",
    "\n",
    "# Draw the graph using the Kamada-Kawai layout\n",
    "nx.draw_kamada_kawai(g, with_labels=True, node_color='white', node_size=1300)\n",
    "\n",
    "# Save the graph visualization to a PDF file\n",
    "plt.savefig(\"Graph1.pdf\")\n",
    "\n",
    "# Show the graph visualization\n",
    "plt.show()"
   ]
  },
  {
   "cell_type": "markdown",
   "metadata": {},
   "source": [
    "## Documents visualization"
   ]
  },
  {
   "cell_type": "code",
   "execution_count": null,
   "metadata": {},
   "outputs": [],
   "source": [
    "# Documents Visualization\n",
    "# This section visualizes the embeddings of documents using t-SNE, \n",
    "# which reduces the dimensionality of document embeddings to 2D for visualization purposes.\n",
    "\n",
    "\n",
    "def run_document_visualization_experiment():\n",
    "    \"\"\"\n",
    "    Run an experiment to visualize document embeddings using t-SNE.\n",
    "    \n",
    "    Returns:\n",
    "    tuple: A tuple containing the document embeddings and predicted labels.\n",
    "    \"\"\"\n",
    "\n",
    "    # Set the sliding window size\n",
    "    sw = 7\n",
    "    print('Window size:', sw)\n",
    "\n",
    "    # Generate PyTorch Geometric graphs with the specified window size\n",
    "    pytorch_geometric_graphs = generate_pytorch_geometric_graphs(window_size=sw)\n",
    "\n",
    "    # Split the generated graphs into training and testing sets\n",
    "    train_pyg_graphs, test_pyg_graphs = train_test_split(pytorch_geometric_graphs, test_size=0.33, random_state=42)\n",
    "\n",
    "    # Train the GAT classifier and obtain the trained model\n",
    "    model = run_gat_classifier(train_pyg_graphs, test_pyg_graphs)['model']\n",
    "\n",
    "    # Create a DataLoader for the PyTorch Geometric graphs\n",
    "    loader = DataLoader(pytorch_geometric_graphs, batch_size=100, shuffle=False)\n",
    "    documents_embeddings = []\n",
    "    pred_labels = []\n",
    "\n",
    "    # Generate document embeddings and predictions using the trained model\n",
    "    with torch.no_grad():\n",
    "        model.eval()\n",
    "        for i, data in enumerate(loader):\n",
    "            data = data.to(device)\n",
    "            embeddings, out = model(data, data.batch)\n",
    "            documents_embeddings.extend(embeddings.tolist())\n",
    "            pred_labels.extend(torch.round(out.squeeze()).tolist())\n",
    "    \n",
    "    print('Number of documents:', len(documents_embeddings))\n",
    "    print('Number of dimensions per document:', len(documents_embeddings[0]))\n",
    "    \n",
    "    return documents_embeddings, pred_labels"
   ]
  },
  {
   "cell_type": "code",
   "execution_count": null,
   "metadata": {},
   "outputs": [],
   "source": [
    "# Run the document visualization experiment and obtain embeddings and labels\n",
    "documents_embeddings, pred_labels = run_document_visualization_experiment()\n",
    "\n",
    "# Convert embeddings to a NumPy array for t-SNE\n",
    "documents_embeddings = np.array(documents_embeddings)\n",
    "\n",
    "# Reduce the dimensionality of document embeddings to 2D using t-SNE\n",
    "visualization_x_y = TSNE(n_components=2, learning_rate='auto', init='pca', random_state=42).fit_transform(np.array(documents_embeddings))"
   ]
  },
  {
   "cell_type": "code",
   "execution_count": null,
   "metadata": {},
   "outputs": [],
   "source": [
    "# Plot the 2D visualization of document embeddings\n",
    "fig = sns.scatterplot(x=visualization_x_y[:, 0], y=visualization_x_y[:, 1], hue=pred_labels)\n",
    "\n",
    "# Clear x-axis label\n",
    "fig.set_xlabel('')\n",
    "# Clear y-axis label\n",
    "fig.set_ylabel('')\n",
    "\n",
    "# Save the plot as a JPG file\n",
    "fig.get_figure().savefig('figures/documents_visualization.jpg', dpi=500)"
   ]
  },
  {
   "cell_type": "markdown",
   "metadata": {},
   "source": [
    "## Documents visualization fastText"
   ]
  },
  {
   "cell_type": "code",
   "execution_count": null,
   "metadata": {},
   "outputs": [],
   "source": [
    "# Documents Visualization using fastText\n",
    "# This section visualizes the embeddings of documents generated by the fastText model using t-SNE, \n",
    "# which reduces the dimensionality of document embeddings to 2D for visualization purposes.\n",
    "\n",
    "# Predict the labels using the fastText model\n",
    "predicted_labels = [int(res[0].split('__label__')[1]) for res in fasttext_model.predict(df['body'].values.tolist())[0]]\n",
    "\n",
    "# Generate document embeddings using the fastText model\n",
    "fasttext_document_embeddings = [fasttext_model.get_sentence_vector(doc) for doc in df['body'].values.tolist()]\n",
    "\n",
    "# Reduce the dimensionality of document embeddings to 2D using t-SNE\n",
    "visualization_x_y_fasttext = TSNE(n_components=2, learning_rate='auto', init='pca', random_state=42).fit_transform(np.array(fasttext_document_embeddings))"
   ]
  },
  {
   "cell_type": "code",
   "execution_count": null,
   "metadata": {},
   "outputs": [],
   "source": [
    "# Plot the 2D visualization of document embeddings\n",
    "fig = sns.scatterplot(x=visualization_x_y_fasttext[:, 0], y=visualization_x_y_fasttext[:, 1], hue=df['label'])\n",
    "\n",
    "# Clear x-axis label\n",
    "fig.set_xlabel('')\n",
    "# Clear y-axis label\n",
    "fig.set_ylabel('')\n",
    "\n",
    "# Save the plot as a JPG file\n",
    "fig.get_figure().savefig('figures/fasttext_real_labels_documents_visualization.jpg', dpi=500)"
   ]
  }
 ],
 "metadata": {
  "kernelspec": {
   "display_name": "Python 3 (ipykernel)",
   "language": "python",
   "name": "python3"
  },
  "language_info": {
   "codemirror_mode": {
    "name": "ipython",
    "version": 3
   },
   "file_extension": ".py",
   "mimetype": "text/x-python",
   "name": "python",
   "nbconvert_exporter": "python",
   "pygments_lexer": "ipython3",
   "version": "3.9.13"
  }
 },
 "nbformat": 4,
 "nbformat_minor": 4
}
